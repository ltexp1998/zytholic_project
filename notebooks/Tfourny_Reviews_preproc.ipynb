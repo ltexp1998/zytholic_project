{
 "cells": [
  {
   "cell_type": "code",
   "execution_count": 1,
   "id": "2d208c03",
   "metadata": {},
   "outputs": [],
   "source": [
    "import numpy as np\n",
    "import pandas as pd \n",
    "from zytholic_project.reviews_data import BaseModelRev\n"
   ]
  },
  {
   "cell_type": "code",
   "execution_count": null,
   "id": "0c32db25",
   "metadata": {},
   "outputs": [],
   "source": [
    "\n",
    "dfbeer = pd.read_csv(\"../raw_data/beers_style_renamed.csv\")\n",
    "\n",
    "dftop = pd.read_csv(\"../raw_data/top_beer_info_style_renamed.csv\")\n",
    "\n",
    "dfrev = pd.read_csv(\"../raw_data/reviews_top_beer.csv\")\n"
   ]
  },
  {
   "cell_type": "code",
   "execution_count": null,
   "id": "16d52f52",
   "metadata": {},
   "outputs": [],
   "source": [
    "#dfrev.where(dfrev['text'] != '')\n",
    "\n",
    "dfrev.drop_duplicates(inplace = True)\n",
    "dfrevclean = dfrev.drop(columns=['username', 'date','Unnamed: 0'])\n",
    "\n",
    "dfrev['text'] = dfrev['text'].astype(str)\n",
    "#dfrev['text'] = dfrev['text'].replace('\\xa0\\xa0',np.nan)\n",
    "#dfrev['text'].dropna(inplace=True)\n",
    "\n",
    "#dfrev = dfrev[dfrev['text'] != '\\xa0\\xa0']\n",
    "\n",
    "#dfrev.sort_values(by=['beer_id'])\n"
   ]
  },
  {
   "cell_type": "code",
   "execution_count": null,
   "id": "93eb5100",
   "metadata": {},
   "outputs": [],
   "source": [
    "#dfrev['look'] = dfrev['look'].replace(np.nan,'')\n",
    "#dfrev2 = dfrev.groupby(['beer_id']).mean()\n",
    "#dfrev['score'] = dfrev.groupby(['beer_id'])['score'].nanmean()\n",
    "#dfrev['score'] = dfrev['score'].mean()\n",
    "#dfrev2.sort_values(by=['beer_id'])\n",
    "#dfrev['score'].unique()\n",
    "#dfrev\n",
    "#dfrevclean\n",
    "\n",
    "dfrevtext=dfrevclean[['beer_id','text']].copy()\n",
    "\n",
    "\n",
    "dfrevtext = dfrevtext[dfrev['text'] != '\\xa0\\xa0']\n",
    "\n",
    "\n",
    "dfrevtext\n",
    "\n",
    "\n",
    "\n"
   ]
  },
  {
   "cell_type": "code",
   "execution_count": null,
   "id": "51210693",
   "metadata": {},
   "outputs": [],
   "source": [
    "#Regroup and join review by beer_id\n",
    "#dfrev['score'] = dfrev.groupby(['beer_id'])['score'].transform(lambda x : np.mean(x))\n",
    "#dfrev['look'] = dfrev.groupby(['beer_id'])['look'].transform(lambda x : np.mean(x))\n",
    "#dfrev['smell'] = dfrev.groupby(['beer_id'])['smell'].transform(lambda x : np.mean(x))\n",
    "#dfrev['taste'] = dfrev.groupby(['beer_id'])['taste'].transform(lambda x : np.mean(x))\n",
    "#dfrev['feel'] = dfrev.groupby(['beer_id'])['feel'].transform(lambda x : np.mean(x))\n",
    "#dfrev['overall'] = dfrev.groupby(['beer_id'])['overall'].transform(lambda x : np.mean(x))\n",
    "#dfrev['text'] = dfrev.groupby(['beer_id'])['text'].transform(lambda x : ' '.join(x))"
   ]
  },
  {
   "cell_type": "code",
   "execution_count": null,
   "id": "f8e7d8f0",
   "metadata": {},
   "outputs": [],
   "source": [
    "#dfrev['score','look','smell','taste','feel','overall'] = dfrev.groupby(['beer_id'])['score','look','smell','taste','feel','overall'].transform(lambda x : np.mean(x))\n",
    "#dfrev['text'] = dfrev.groupby(['beer_id'])['text'].transform(lambda x : ' '.join(x))\n"
   ]
  },
  {
   "cell_type": "code",
   "execution_count": null,
   "id": "5c7f68aa",
   "metadata": {},
   "outputs": [],
   "source": [
    "dfrevtext['text'] = dfrev.groupby(['beer_id'])['text'].transform(lambda x : ' '.join(x))\n",
    "dfrevtext\n"
   ]
  },
  {
   "cell_type": "code",
   "execution_count": null,
   "id": "90b25d20",
   "metadata": {},
   "outputs": [],
   "source": [
    "#dfrevclean = dfrev.drop(columns=['username', 'date'])\n",
    "#dfrevclean = dfrevclean[dfrev['text'] != '\\xa0\\xa0']\n",
    "#dfrevtext.drop_duplicates(inplace = True)\n",
    "\n",
    "dfrevtext2 = dfrevtext['text'].unique()\n",
    "\n",
    "\n",
    "\n",
    "dfrevtext2\n"
   ]
  },
  {
   "cell_type": "code",
   "execution_count": null,
   "id": "d0edf4f3",
   "metadata": {},
   "outputs": [],
   "source": [
    "dfrevtext2.head()"
   ]
  },
  {
   "cell_type": "code",
   "execution_count": null,
   "id": "0624519b",
   "metadata": {},
   "outputs": [],
   "source": [
    "#dfrev = dfrev.groupby(['beer_id']).mean()\n",
    "#dfrev.drop_duplicates(subset='text',inplace = True)\n",
    "#dfrev.sort_values(by=['beer_id'])\n",
    "#dfrevclean = dfrevclean[dfrev['text'] != '\\xa0\\xa0']\n",
    "\n",
    "#Cleaning of the reviews Text\n",
    "\n",
    "dfrevclean['text'] = dfrevclean['text'].str.replace('\\xa0','')\n",
    "import string\n",
    "\n",
    "def preprocessing(text):\n",
    "    for punctuation in string.punctuation: \n",
    "        text = text.replace(punctuation, ' ') \n",
    "    lowercased = text.lower()\n",
    "    clean = ''.join([i for i in lowercased if not i.isdigit()])\n",
    "    return clean\n",
    "\n",
    "dfrevclean['text'] = dfrevclean['text'].apply(preprocessing)\n"
   ]
  },
  {
   "cell_type": "code",
   "execution_count": null,
   "id": "af1ba8c0",
   "metadata": {},
   "outputs": [],
   "source": [
    "dfrevclean['text'][0]"
   ]
  },
  {
   "cell_type": "code",
   "execution_count": null,
   "id": "2fb5e141",
   "metadata": {},
   "outputs": [],
   "source": [
    "#Import TfIdfVectorizer from scikit-learn\n",
    "from sklearn.feature_extraction.text import TfidfVectorizer\n",
    "\n",
    "#Define a TF-IDF Vectorizer Object. Remove all english stop words such as 'the', 'a'\n",
    "tfidf = TfidfVectorizer(stop_words='english',min_df=200)\n",
    "\n",
    "token_pattern = '[a-z]+\\w*'\n",
    "\n",
    "\n",
    "#Construct the required TF-IDF matrix by fitting and transforming the data\n",
    "tfidf_matrix = tfidf.fit_transform(dfrevclean['text'])\n",
    "\n",
    "#Output the shape of tfidf_matrix\n",
    "\n",
    "tfidf_matrix.shape"
   ]
  },
  {
   "cell_type": "code",
   "execution_count": null,
   "id": "08dd4782",
   "metadata": {},
   "outputs": [],
   "source": [
    "tfidf.get_feature_names()"
   ]
  },
  {
   "cell_type": "code",
   "execution_count": null,
   "id": "007df069",
   "metadata": {},
   "outputs": [],
   "source": [
    "from zytholic_project.reviews_data import BaseModelRev\n"
   ]
  },
  {
   "cell_type": "code",
   "execution_count": null,
   "id": "586d2900",
   "metadata": {},
   "outputs": [],
   "source": [
    "model = BaseModelRev()\n",
    "model.get_data()\n",
    "model.working_df"
   ]
  }
 ],
 "metadata": {
  "kernelspec": {
   "display_name": "Python 3 (ipykernel)",
   "language": "python",
   "name": "python3"
  },
  "language_info": {
   "codemirror_mode": {
    "name": "ipython",
    "version": 3
   },
   "file_extension": ".py",
   "mimetype": "text/x-python",
   "name": "python",
   "nbconvert_exporter": "python",
   "pygments_lexer": "ipython3",
   "version": "3.8.6"
  },
  "toc": {
   "base_numbering": 1,
   "nav_menu": {},
   "number_sections": true,
   "sideBar": true,
   "skip_h1_title": false,
   "title_cell": "Table of Contents",
   "title_sidebar": "Contents",
   "toc_cell": false,
   "toc_position": {},
   "toc_section_display": true,
   "toc_window_display": false
  }
 },
 "nbformat": 4,
 "nbformat_minor": 5
}
