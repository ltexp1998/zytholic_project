{
 "cells": [
  {
   "cell_type": "code",
   "execution_count": 2,
   "id": "8957a702",
   "metadata": {},
   "outputs": [],
   "source": [
    "%load_ext autoreload\n",
    "%autoreload 2\n",
    "\n",
    "import numpy as np\n",
    "import pandas as pd \n",
    "from zytholic_project.base_model import BaseModel\n",
    "from sklearn.feature_extraction.text import TfidfVectorizer\n",
    "from sklearn.metrics.pairwise import sigmoid_kernel\n",
    "\n",
    "\n"
   ]
  },
  {
   "cell_type": "code",
   "execution_count": 81,
   "id": "b9ee1819",
   "metadata": {},
   "outputs": [
    {
     "name": "stderr",
     "output_type": "stream",
     "text": [
      "/root/.pyenv/versions/lewagon/envs/zytholic_project/lib/python3.8/site-packages/openpyxl/worksheet/_reader.py:312: UserWarning: Unknown extension is not supported and will be removed\n",
      "  warn(msg)\n"
     ]
    },
    {
     "data": {
      "text/plain": [
       "<zytholic_project.base_model.BaseModel at 0x7f8dd9353250>"
      ]
     },
     "execution_count": 81,
     "metadata": {},
     "output_type": "execute_result"
    }
   ],
   "source": [
    "model.get_data()\n",
    "model.set_preprocess_pipeline()\n",
    "model.process_data()\n",
    "\n",
    "\n"
   ]
  },
  {
   "cell_type": "code",
   "execution_count": 52,
   "id": "ff0235ec",
   "metadata": {},
   "outputs": [],
   "source": [
    "bdf = model.working_df\n"
   ]
  },
  {
   "cell_type": "code",
   "execution_count": 85,
   "id": "c9f10329",
   "metadata": {},
   "outputs": [],
   "source": [
    "# Import linear_kernel\n",
    "from sklearn.metrics.pairwise import cosine_similarity\n",
    "\n",
    "# Compute the cosine similarity matrix\n",
    "cosine_sim = cosine_similarity(model.X_train_proc,\n",
    "                               \n",
    "    model.X_train_proc)\n",
    "\n",
    "\n",
    "\n"
   ]
  },
  {
   "cell_type": "code",
   "execution_count": 86,
   "id": "88bd8612",
   "metadata": {},
   "outputs": [],
   "source": [
    "# Dataframe to get index of beers\n",
    "df = model.X_train.copy()\n",
    "df.reset_index(drop=True, inplace=True)\n",
    "df.reset_index(inplace=True)\n",
    "index = df.iloc[:,:4]\n",
    "\n",
    "#index\n",
    "\n",
    "\n",
    "\n"
   ]
  },
  {
   "cell_type": "code",
   "execution_count": 77,
   "id": "6ec20c21",
   "metadata": {},
   "outputs": [
    {
     "data": {
      "text/plain": [
       "(3243, 3243)"
      ]
     },
     "execution_count": 77,
     "metadata": {},
     "output_type": "execute_result"
    }
   ],
   "source": [
    "cosine_sim.shape\n"
   ]
  },
  {
   "cell_type": "code",
   "execution_count": 87,
   "id": "cc8b08fe",
   "metadata": {},
   "outputs": [],
   "source": [
    "# Get the 10 closest beers\n",
    "def content(name,cosine_sim=cosine_sim):\n",
    "    \n",
    "        position = df[df.name == name]['index']\n",
    "        score = sorted(\n",
    "            list(enumerate(cosine_sim[position][0])),\n",
    "            key=lambda x:x[1],reverse=True)\n",
    "        indices = score[0:11]\n",
    "        \n",
    "        beers_indices = [i[0] for i in indices]\n",
    "        # Top 10 most similar beers\n",
    "        \n",
    "        \n",
    "        \n",
    "        return df.iloc[beers_indices]\n",
    "    \n",
    "    "
   ]
  },
  {
   "cell_type": "code",
   "execution_count": 110,
   "id": "90692dbb",
   "metadata": {},
   "outputs": [
    {
     "data": {
      "text/html": [
       "<div>\n",
       "<style scoped>\n",
       "    .dataframe tbody tr th:only-of-type {\n",
       "        vertical-align: middle;\n",
       "    }\n",
       "\n",
       "    .dataframe tbody tr th {\n",
       "        vertical-align: top;\n",
       "    }\n",
       "\n",
       "    .dataframe thead th {\n",
       "        text-align: right;\n",
       "    }\n",
       "</style>\n",
       "<table border=\"1\" class=\"dataframe\">\n",
       "  <thead>\n",
       "    <tr style=\"text-align: right;\">\n",
       "      <th></th>\n",
       "      <th>name</th>\n",
       "      <th>style</th>\n",
       "      <th>brewery</th>\n",
       "      <th>abv</th>\n",
       "      <th>ave rating</th>\n",
       "      <th>min ibu</th>\n",
       "      <th>max ibu</th>\n",
       "      <th>astringency</th>\n",
       "      <th>body</th>\n",
       "      <th>alcohol</th>\n",
       "      <th>...</th>\n",
       "      <th>sweet</th>\n",
       "      <th>sour</th>\n",
       "      <th>salty</th>\n",
       "      <th>fruits</th>\n",
       "      <th>hoppy</th>\n",
       "      <th>spices</th>\n",
       "      <th>malty</th>\n",
       "      <th>state</th>\n",
       "      <th>country</th>\n",
       "      <th>retired</th>\n",
       "    </tr>\n",
       "  </thead>\n",
       "  <tbody>\n",
       "    <tr>\n",
       "      <th>450</th>\n",
       "      <td>Chouffe-Bok 6666</td>\n",
       "      <td>Bock</td>\n",
       "      <td>Brasserie d'Achouffe</td>\n",
       "      <td>6.66</td>\n",
       "      <td>3.79</td>\n",
       "      <td>20</td>\n",
       "      <td>30</td>\n",
       "      <td>15</td>\n",
       "      <td>50</td>\n",
       "      <td>18</td>\n",
       "      <td>...</td>\n",
       "      <td>103</td>\n",
       "      <td>55</td>\n",
       "      <td>0</td>\n",
       "      <td>56</td>\n",
       "      <td>38</td>\n",
       "      <td>33</td>\n",
       "      <td>101</td>\n",
       "      <td>NaN</td>\n",
       "      <td>BE</td>\n",
       "      <td>f</td>\n",
       "    </tr>\n",
       "    <tr>\n",
       "      <th>1207</th>\n",
       "      <td>Houblon Chouffe Dobbelen IPA Tripel</td>\n",
       "      <td>IPA</td>\n",
       "      <td>Brasserie d'Achouffe</td>\n",
       "      <td>9.00</td>\n",
       "      <td>4.23</td>\n",
       "      <td>50</td>\n",
       "      <td>80</td>\n",
       "      <td>38</td>\n",
       "      <td>51</td>\n",
       "      <td>22</td>\n",
       "      <td>...</td>\n",
       "      <td>79</td>\n",
       "      <td>69</td>\n",
       "      <td>1</td>\n",
       "      <td>93</td>\n",
       "      <td>135</td>\n",
       "      <td>36</td>\n",
       "      <td>46</td>\n",
       "      <td>NaN</td>\n",
       "      <td>BE</td>\n",
       "      <td>f</td>\n",
       "    </tr>\n",
       "    <tr>\n",
       "      <th>3889</th>\n",
       "      <td>N'Ice Chouffe</td>\n",
       "      <td>Ale Strong Dark</td>\n",
       "      <td>Brasserie d'Achouffe</td>\n",
       "      <td>10.00</td>\n",
       "      <td>4.10</td>\n",
       "      <td>25</td>\n",
       "      <td>50</td>\n",
       "      <td>20</td>\n",
       "      <td>43</td>\n",
       "      <td>49</td>\n",
       "      <td>...</td>\n",
       "      <td>89</td>\n",
       "      <td>41</td>\n",
       "      <td>0</td>\n",
       "      <td>64</td>\n",
       "      <td>47</td>\n",
       "      <td>44</td>\n",
       "      <td>86</td>\n",
       "      <td>NaN</td>\n",
       "      <td>BE</td>\n",
       "      <td>f</td>\n",
       "    </tr>\n",
       "    <tr>\n",
       "      <th>3892</th>\n",
       "      <td>McChouffe</td>\n",
       "      <td>Ale Strong Dark</td>\n",
       "      <td>Brasserie d'Achouffe</td>\n",
       "      <td>8.00</td>\n",
       "      <td>3.99</td>\n",
       "      <td>25</td>\n",
       "      <td>50</td>\n",
       "      <td>13</td>\n",
       "      <td>52</td>\n",
       "      <td>25</td>\n",
       "      <td>...</td>\n",
       "      <td>100</td>\n",
       "      <td>33</td>\n",
       "      <td>0</td>\n",
       "      <td>58</td>\n",
       "      <td>31</td>\n",
       "      <td>45</td>\n",
       "      <td>88</td>\n",
       "      <td>NaN</td>\n",
       "      <td>BE</td>\n",
       "      <td>f</td>\n",
       "    </tr>\n",
       "  </tbody>\n",
       "</table>\n",
       "<p>4 rows × 21 columns</p>\n",
       "</div>"
      ],
      "text/plain": [
       "                                     name            style  \\\n",
       "450                      Chouffe-Bok 6666             Bock   \n",
       "1207  Houblon Chouffe Dobbelen IPA Tripel              IPA   \n",
       "3889                        N'Ice Chouffe  Ale Strong Dark   \n",
       "3892                            McChouffe  Ale Strong Dark   \n",
       "\n",
       "                   brewery    abv  ave rating  min ibu  max ibu  astringency  \\\n",
       "450   Brasserie d'Achouffe   6.66        3.79       20       30           15   \n",
       "1207  Brasserie d'Achouffe   9.00        4.23       50       80           38   \n",
       "3889  Brasserie d'Achouffe  10.00        4.10       25       50           20   \n",
       "3892  Brasserie d'Achouffe   8.00        3.99       25       50           13   \n",
       "\n",
       "      body  alcohol  ...  sweet  sour  salty  fruits  hoppy  spices  malty  \\\n",
       "450     50       18  ...    103    55      0      56     38      33    101   \n",
       "1207    51       22  ...     79    69      1      93    135      36     46   \n",
       "3889    43       49  ...     89    41      0      64     47      44     86   \n",
       "3892    52       25  ...    100    33      0      58     31      45     88   \n",
       "\n",
       "      state country retired  \n",
       "450     NaN      BE       f  \n",
       "1207    NaN      BE       f  \n",
       "3889    NaN      BE       f  \n",
       "3892    NaN      BE       f  \n",
       "\n",
       "[4 rows x 21 columns]"
      ]
     },
     "execution_count": 110,
     "metadata": {},
     "output_type": "execute_result"
    }
   ],
   "source": [
    "model.working_df[pd.Series(model.working_df['name']).str.contains('Chouffe')]"
   ]
  },
  {
   "cell_type": "code",
   "execution_count": 107,
   "id": "1b60cc14",
   "metadata": {},
   "outputs": [
    {
     "ename": "IndexError",
     "evalue": "index 0 is out of bounds for axis 0 with size 0",
     "output_type": "error",
     "traceback": [
      "\u001b[0;31m---------------------------------------------------------------------------\u001b[0m",
      "\u001b[0;31mIndexError\u001b[0m                                Traceback (most recent call last)",
      "\u001b[0;32m/tmp/ipykernel_7059/1820894159.py\u001b[0m in \u001b[0;36m<module>\u001b[0;34m\u001b[0m\n\u001b[0;32m----> 1\u001b[0;31m \u001b[0mcontent\u001b[0m\u001b[0;34m(\u001b[0m\u001b[0;34m'Grimbergen Double-Ambree'\u001b[0m\u001b[0;34m)\u001b[0m\u001b[0;34m\u001b[0m\u001b[0;34m\u001b[0m\u001b[0m\n\u001b[0m\u001b[1;32m      2\u001b[0m \u001b[0;34m\u001b[0m\u001b[0m\n\u001b[1;32m      3\u001b[0m \u001b[0;34m\u001b[0m\u001b[0m\n\u001b[1;32m      4\u001b[0m \u001b[0;34m\u001b[0m\u001b[0m\n",
      "\u001b[0;32m/tmp/ipykernel_7059/2492903068.py\u001b[0m in \u001b[0;36mcontent\u001b[0;34m(name, cosine_sim)\u001b[0m\n\u001b[1;32m      4\u001b[0m         \u001b[0mposition\u001b[0m \u001b[0;34m=\u001b[0m \u001b[0mdf\u001b[0m\u001b[0;34m[\u001b[0m\u001b[0mdf\u001b[0m\u001b[0;34m.\u001b[0m\u001b[0mname\u001b[0m \u001b[0;34m==\u001b[0m \u001b[0mname\u001b[0m\u001b[0;34m]\u001b[0m\u001b[0;34m[\u001b[0m\u001b[0;34m'index'\u001b[0m\u001b[0;34m]\u001b[0m\u001b[0;34m\u001b[0m\u001b[0;34m\u001b[0m\u001b[0m\n\u001b[1;32m      5\u001b[0m         score = sorted(\n\u001b[0;32m----> 6\u001b[0;31m             \u001b[0mlist\u001b[0m\u001b[0;34m(\u001b[0m\u001b[0menumerate\u001b[0m\u001b[0;34m(\u001b[0m\u001b[0mcosine_sim\u001b[0m\u001b[0;34m[\u001b[0m\u001b[0mposition\u001b[0m\u001b[0;34m]\u001b[0m\u001b[0;34m[\u001b[0m\u001b[0;36m0\u001b[0m\u001b[0;34m]\u001b[0m\u001b[0;34m)\u001b[0m\u001b[0;34m)\u001b[0m\u001b[0;34m,\u001b[0m\u001b[0;34m\u001b[0m\u001b[0;34m\u001b[0m\u001b[0m\n\u001b[0m\u001b[1;32m      7\u001b[0m             key=lambda x:x[1],reverse=True)\n\u001b[1;32m      8\u001b[0m         \u001b[0mindices\u001b[0m \u001b[0;34m=\u001b[0m \u001b[0mscore\u001b[0m\u001b[0;34m[\u001b[0m\u001b[0;36m0\u001b[0m\u001b[0;34m:\u001b[0m\u001b[0;36m11\u001b[0m\u001b[0;34m]\u001b[0m\u001b[0;34m\u001b[0m\u001b[0;34m\u001b[0m\u001b[0m\n",
      "\u001b[0;31mIndexError\u001b[0m: index 0 is out of bounds for axis 0 with size 0"
     ]
    }
   ],
   "source": [
    "content('Grimbergen Double-Ambree')"
   ]
  },
  {
   "cell_type": "code",
   "execution_count": null,
   "id": "ecee1808",
   "metadata": {},
   "outputs": [],
   "source": [
    "\n"
   ]
  },
  {
   "cell_type": "code",
   "execution_count": null,
   "id": "a193431e",
   "metadata": {},
   "outputs": [],
   "source": []
  }
 ],
 "metadata": {
  "kernelspec": {
   "display_name": "Python 3 (ipykernel)",
   "language": "python",
   "name": "python3"
  },
  "language_info": {
   "codemirror_mode": {
    "name": "ipython",
    "version": 3
   },
   "file_extension": ".py",
   "mimetype": "text/x-python",
   "name": "python",
   "nbconvert_exporter": "python",
   "pygments_lexer": "ipython3",
   "version": "3.8.6"
  },
  "toc": {
   "base_numbering": 1,
   "nav_menu": {},
   "number_sections": true,
   "sideBar": true,
   "skip_h1_title": false,
   "title_cell": "Table of Contents",
   "title_sidebar": "Contents",
   "toc_cell": false,
   "toc_position": {},
   "toc_section_display": true,
   "toc_window_display": true
  }
 },
 "nbformat": 4,
 "nbformat_minor": 5
}
