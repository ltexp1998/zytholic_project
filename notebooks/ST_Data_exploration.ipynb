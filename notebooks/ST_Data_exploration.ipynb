{
 "cells": [
  {
   "cell_type": "code",
   "execution_count": 39,
   "id": "eaed4071",
   "metadata": {},
   "outputs": [],
   "source": [
    "import pandas as pd\n",
    "import matplotlib.pyplot as plt"
   ]
  },
  {
   "cell_type": "code",
   "execution_count": 2,
   "id": "75d7e372",
   "metadata": {},
   "outputs": [],
   "source": [
    "top_beer_info = pd.read_csv('/Users/ltexp1998/code/ltexp1998/zytholic_project/raw_data/top-beer-information/top_beer_information.csv')"
   ]
  },
  {
   "cell_type": "code",
   "execution_count": 69,
   "id": "27b957da",
   "metadata": {},
   "outputs": [
    {
     "data": {
      "text/html": [
       "<div>\n",
       "<style scoped>\n",
       "    .dataframe tbody tr th:only-of-type {\n",
       "        vertical-align: middle;\n",
       "    }\n",
       "\n",
       "    .dataframe tbody tr th {\n",
       "        vertical-align: top;\n",
       "    }\n",
       "\n",
       "    .dataframe thead th {\n",
       "        text-align: right;\n",
       "    }\n",
       "</style>\n",
       "<table border=\"1\" class=\"dataframe\">\n",
       "  <thead>\n",
       "    <tr style=\"text-align: right;\">\n",
       "      <th></th>\n",
       "      <th>name</th>\n",
       "      <th>key</th>\n",
       "      <th>style</th>\n",
       "      <th>style key</th>\n",
       "      <th>brewery</th>\n",
       "      <th>description</th>\n",
       "      <th>abv</th>\n",
       "      <th>ave rating</th>\n",
       "      <th>min ibu</th>\n",
       "      <th>max ibu</th>\n",
       "      <th>...</th>\n",
       "      <th>body</th>\n",
       "      <th>alcohol</th>\n",
       "      <th>bitter</th>\n",
       "      <th>sweet</th>\n",
       "      <th>sour</th>\n",
       "      <th>salty</th>\n",
       "      <th>fruits</th>\n",
       "      <th>hoppy</th>\n",
       "      <th>spices</th>\n",
       "      <th>malty</th>\n",
       "    </tr>\n",
       "  </thead>\n",
       "  <tbody>\n",
       "    <tr>\n",
       "      <th>0</th>\n",
       "      <td>Amber</td>\n",
       "      <td>251</td>\n",
       "      <td>Altbier</td>\n",
       "      <td>8</td>\n",
       "      <td>Alaskan Brewing Co.</td>\n",
       "      <td>Notes:Richly malty and long on the palate, wit...</td>\n",
       "      <td>5.3</td>\n",
       "      <td>3.65</td>\n",
       "      <td>25</td>\n",
       "      <td>50</td>\n",
       "      <td>...</td>\n",
       "      <td>32</td>\n",
       "      <td>9</td>\n",
       "      <td>47</td>\n",
       "      <td>74</td>\n",
       "      <td>33</td>\n",
       "      <td>0</td>\n",
       "      <td>33</td>\n",
       "      <td>57</td>\n",
       "      <td>8</td>\n",
       "      <td>111</td>\n",
       "    </tr>\n",
       "    <tr>\n",
       "      <th>1</th>\n",
       "      <td>Double Bag</td>\n",
       "      <td>252</td>\n",
       "      <td>Altbier</td>\n",
       "      <td>8</td>\n",
       "      <td>Long Trail Brewing Co.</td>\n",
       "      <td>Notes:This malty, full-bodied double alt is al...</td>\n",
       "      <td>7.2</td>\n",
       "      <td>3.90</td>\n",
       "      <td>25</td>\n",
       "      <td>50</td>\n",
       "      <td>...</td>\n",
       "      <td>57</td>\n",
       "      <td>18</td>\n",
       "      <td>33</td>\n",
       "      <td>55</td>\n",
       "      <td>16</td>\n",
       "      <td>0</td>\n",
       "      <td>24</td>\n",
       "      <td>35</td>\n",
       "      <td>12</td>\n",
       "      <td>84</td>\n",
       "    </tr>\n",
       "    <tr>\n",
       "      <th>2</th>\n",
       "      <td>Long Trail Ale</td>\n",
       "      <td>253</td>\n",
       "      <td>Altbier</td>\n",
       "      <td>8</td>\n",
       "      <td>Long Trail Brewing Co.</td>\n",
       "      <td>Notes:Long Trail Ale is a full-bodied amber al...</td>\n",
       "      <td>5.0</td>\n",
       "      <td>3.58</td>\n",
       "      <td>25</td>\n",
       "      <td>50</td>\n",
       "      <td>...</td>\n",
       "      <td>37</td>\n",
       "      <td>6</td>\n",
       "      <td>42</td>\n",
       "      <td>43</td>\n",
       "      <td>11</td>\n",
       "      <td>0</td>\n",
       "      <td>10</td>\n",
       "      <td>54</td>\n",
       "      <td>4</td>\n",
       "      <td>62</td>\n",
       "    </tr>\n",
       "    <tr>\n",
       "      <th>3</th>\n",
       "      <td>Doppelsticke</td>\n",
       "      <td>254</td>\n",
       "      <td>Altbier</td>\n",
       "      <td>8</td>\n",
       "      <td>Uerige Obergärige Hausbrauerei</td>\n",
       "      <td>Notes:</td>\n",
       "      <td>8.5</td>\n",
       "      <td>4.15</td>\n",
       "      <td>25</td>\n",
       "      <td>50</td>\n",
       "      <td>...</td>\n",
       "      <td>55</td>\n",
       "      <td>31</td>\n",
       "      <td>47</td>\n",
       "      <td>101</td>\n",
       "      <td>18</td>\n",
       "      <td>1</td>\n",
       "      <td>49</td>\n",
       "      <td>40</td>\n",
       "      <td>16</td>\n",
       "      <td>119</td>\n",
       "    </tr>\n",
       "    <tr>\n",
       "      <th>4</th>\n",
       "      <td>Scurry</td>\n",
       "      <td>255</td>\n",
       "      <td>Altbier</td>\n",
       "      <td>8</td>\n",
       "      <td>Off Color Brewing</td>\n",
       "      <td>Notes:Just cause it's dark and German doesn't ...</td>\n",
       "      <td>5.3</td>\n",
       "      <td>3.67</td>\n",
       "      <td>25</td>\n",
       "      <td>50</td>\n",
       "      <td>...</td>\n",
       "      <td>69</td>\n",
       "      <td>10</td>\n",
       "      <td>63</td>\n",
       "      <td>120</td>\n",
       "      <td>14</td>\n",
       "      <td>0</td>\n",
       "      <td>19</td>\n",
       "      <td>36</td>\n",
       "      <td>15</td>\n",
       "      <td>218</td>\n",
       "    </tr>\n",
       "  </tbody>\n",
       "</table>\n",
       "<p>5 rows × 21 columns</p>\n",
       "</div>"
      ],
      "text/plain": [
       "             name  key    style  style key                         brewery  \\\n",
       "0           Amber  251  Altbier          8             Alaskan Brewing Co.   \n",
       "1      Double Bag  252  Altbier          8          Long Trail Brewing Co.   \n",
       "2  Long Trail Ale  253  Altbier          8          Long Trail Brewing Co.   \n",
       "3    Doppelsticke  254  Altbier          8  Uerige Obergärige Hausbrauerei   \n",
       "4          Scurry  255  Altbier          8               Off Color Brewing   \n",
       "\n",
       "                                         description  abv  ave rating  \\\n",
       "0  Notes:Richly malty and long on the palate, wit...  5.3        3.65   \n",
       "1  Notes:This malty, full-bodied double alt is al...  7.2        3.90   \n",
       "2  Notes:Long Trail Ale is a full-bodied amber al...  5.0        3.58   \n",
       "3                                             Notes:  8.5        4.15   \n",
       "4  Notes:Just cause it's dark and German doesn't ...  5.3        3.67   \n",
       "\n",
       "   min ibu  max ibu  ...  body  alcohol  bitter  sweet  sour  salty  fruits  \\\n",
       "0       25       50  ...    32        9      47     74    33      0      33   \n",
       "1       25       50  ...    57       18      33     55    16      0      24   \n",
       "2       25       50  ...    37        6      42     43    11      0      10   \n",
       "3       25       50  ...    55       31      47    101    18      1      49   \n",
       "4       25       50  ...    69       10      63    120    14      0      19   \n",
       "\n",
       "   hoppy  spices  malty  \n",
       "0     57       8    111  \n",
       "1     35      12     84  \n",
       "2     54       4     62  \n",
       "3     40      16    119  \n",
       "4     36      15    218  \n",
       "\n",
       "[5 rows x 21 columns]"
      ]
     },
     "execution_count": 69,
     "metadata": {},
     "output_type": "execute_result"
    }
   ],
   "source": [
    "top_beer_info.head(5)"
   ]
  },
  {
   "cell_type": "code",
   "execution_count": 8,
   "id": "71cd8ac7",
   "metadata": {},
   "outputs": [],
   "source": [
    "beers = pd.read_csv('/Users/ltexp1998/code/ltexp1998/zytholic_project/raw_data/Beers_Breweries_and_Beer Reviews/beers.csv')"
   ]
  },
  {
   "cell_type": "code",
   "execution_count": 9,
   "id": "bd28c958",
   "metadata": {},
   "outputs": [],
   "source": [
    "reviews = pd.read_csv('/Users/ltexp1998/code/ltexp1998/zytholic_project/raw_data/Beers_Breweries_and_Beer Reviews/reviews.csv')"
   ]
  },
  {
   "cell_type": "code",
   "execution_count": 96,
   "id": "31da967c",
   "metadata": {},
   "outputs": [
    {
     "data": {
      "text/html": [
       "<div>\n",
       "<style scoped>\n",
       "    .dataframe tbody tr th:only-of-type {\n",
       "        vertical-align: middle;\n",
       "    }\n",
       "\n",
       "    .dataframe tbody tr th {\n",
       "        vertical-align: top;\n",
       "    }\n",
       "\n",
       "    .dataframe thead th {\n",
       "        text-align: right;\n",
       "    }\n",
       "</style>\n",
       "<table border=\"1\" class=\"dataframe\">\n",
       "  <thead>\n",
       "    <tr style=\"text-align: right;\">\n",
       "      <th></th>\n",
       "      <th>beer_id</th>\n",
       "      <th>username</th>\n",
       "      <th>date</th>\n",
       "      <th>text</th>\n",
       "      <th>look</th>\n",
       "      <th>smell</th>\n",
       "      <th>taste</th>\n",
       "      <th>feel</th>\n",
       "      <th>overall</th>\n",
       "      <th>score</th>\n",
       "    </tr>\n",
       "  </thead>\n",
       "  <tbody>\n",
       "    <tr>\n",
       "      <th>0</th>\n",
       "      <td>271781</td>\n",
       "      <td>bluejacket74</td>\n",
       "      <td>2017-03-17</td>\n",
       "      <td>750 ml bottle, 2016 vintage, bottle #304 of...</td>\n",
       "      <td>4.00</td>\n",
       "      <td>4.00</td>\n",
       "      <td>4.00</td>\n",
       "      <td>4.25</td>\n",
       "      <td>4.00</td>\n",
       "      <td>4.03</td>\n",
       "    </tr>\n",
       "    <tr>\n",
       "      <th>1</th>\n",
       "      <td>125646</td>\n",
       "      <td>_dirty_</td>\n",
       "      <td>2017-12-21</td>\n",
       "      <td></td>\n",
       "      <td>4.50</td>\n",
       "      <td>4.50</td>\n",
       "      <td>4.50</td>\n",
       "      <td>4.50</td>\n",
       "      <td>4.50</td>\n",
       "      <td>4.50</td>\n",
       "    </tr>\n",
       "    <tr>\n",
       "      <th>2</th>\n",
       "      <td>125646</td>\n",
       "      <td>CJDUBYA</td>\n",
       "      <td>2017-12-21</td>\n",
       "      <td></td>\n",
       "      <td>4.75</td>\n",
       "      <td>4.75</td>\n",
       "      <td>4.75</td>\n",
       "      <td>4.75</td>\n",
       "      <td>4.75</td>\n",
       "      <td>4.75</td>\n",
       "    </tr>\n",
       "    <tr>\n",
       "      <th>3</th>\n",
       "      <td>125646</td>\n",
       "      <td>GratefulBeerGuy</td>\n",
       "      <td>2017-12-20</td>\n",
       "      <td>0% 16 oz can. Funny story: As I finally wal...</td>\n",
       "      <td>4.75</td>\n",
       "      <td>4.75</td>\n",
       "      <td>4.50</td>\n",
       "      <td>4.50</td>\n",
       "      <td>4.50</td>\n",
       "      <td>4.58</td>\n",
       "    </tr>\n",
       "    <tr>\n",
       "      <th>4</th>\n",
       "      <td>125646</td>\n",
       "      <td>LukeGude</td>\n",
       "      <td>2017-12-20</td>\n",
       "      <td>Classic TH NEIPA. Overflowing head and bouq...</td>\n",
       "      <td>4.25</td>\n",
       "      <td>4.50</td>\n",
       "      <td>4.25</td>\n",
       "      <td>4.25</td>\n",
       "      <td>4.25</td>\n",
       "      <td>4.31</td>\n",
       "    </tr>\n",
       "  </tbody>\n",
       "</table>\n",
       "</div>"
      ],
      "text/plain": [
       "   beer_id         username        date  \\\n",
       "0   271781     bluejacket74  2017-03-17   \n",
       "1   125646          _dirty_  2017-12-21   \n",
       "2   125646          CJDUBYA  2017-12-21   \n",
       "3   125646  GratefulBeerGuy  2017-12-20   \n",
       "4   125646         LukeGude  2017-12-20   \n",
       "\n",
       "                                                text  look  smell  taste  \\\n",
       "0     750 ml bottle, 2016 vintage, bottle #304 of...  4.00   4.00   4.00   \n",
       "1                                                     4.50   4.50   4.50   \n",
       "2                                                     4.75   4.75   4.75   \n",
       "3     0% 16 oz can. Funny story: As I finally wal...  4.75   4.75   4.50   \n",
       "4     Classic TH NEIPA. Overflowing head and bouq...  4.25   4.50   4.25   \n",
       "\n",
       "   feel  overall  score  \n",
       "0  4.25     4.00   4.03  \n",
       "1  4.50     4.50   4.50  \n",
       "2  4.75     4.75   4.75  \n",
       "3  4.50     4.50   4.58  \n",
       "4  4.25     4.25   4.31  "
      ]
     },
     "execution_count": 96,
     "metadata": {},
     "output_type": "execute_result"
    }
   ],
   "source": [
    "reviews.head()"
   ]
  },
  {
   "cell_type": "code",
   "execution_count": 18,
   "id": "56ee36d1",
   "metadata": {},
   "outputs": [],
   "source": [
    "top_beer_info_style = top_beer_info['Style']"
   ]
  },
  {
   "cell_type": "code",
   "execution_count": 99,
   "id": "7a6679b1",
   "metadata": {},
   "outputs": [
    {
     "ename": "AttributeError",
     "evalue": "'int' object has no attribute 'to_csv'",
     "output_type": "error",
     "traceback": [
      "\u001b[0;31m---------------------------------------------------------------------------\u001b[0m",
      "\u001b[0;31mAttributeError\u001b[0m                            Traceback (most recent call last)",
      "\u001b[0;32m/var/folders/07/zjwdx2397n1gh6yj__wpmd980000gn/T/ipykernel_9884/300822147.py\u001b[0m in \u001b[0;36m<module>\u001b[0;34m\u001b[0m\n\u001b[0;32m----> 1\u001b[0;31m \u001b[0mtop_beer_info_style\u001b[0m\u001b[0;34m.\u001b[0m\u001b[0mnunique\u001b[0m\u001b[0;34m(\u001b[0m\u001b[0;34m)\u001b[0m\u001b[0;34m.\u001b[0m\u001b[0mto_csv\u001b[0m\u001b[0;34m(\u001b[0m\u001b[0;34m\"top_beer_info_style.csv\"\u001b[0m\u001b[0;34m)\u001b[0m\u001b[0;34m\u001b[0m\u001b[0;34m\u001b[0m\u001b[0m\n\u001b[0m",
      "\u001b[0;31mAttributeError\u001b[0m: 'int' object has no attribute 'to_csv'"
     ]
    }
   ],
   "source": [
    "top_beer_info_style.to_csv(\"top_beer_info_style.csv\")"
   ]
  },
  {
   "cell_type": "code",
   "execution_count": 20,
   "id": "a0bcc419",
   "metadata": {},
   "outputs": [],
   "source": [
    "beers_style = beers['style']"
   ]
  },
  {
   "cell_type": "code",
   "execution_count": 98,
   "id": "d7d01714",
   "metadata": {},
   "outputs": [],
   "source": [
    "beers_style.to_csv(\"beers_style.csv\")"
   ]
  },
  {
   "cell_type": "code",
   "execution_count": 105,
   "id": "c483d9a8",
   "metadata": {},
   "outputs": [],
   "source": [
    "test = top_beer_info_style.unique()\n",
    "pd.DataFrame(test).to_csv(\"top_beer_info_style.csv\")\n",
    "\n",
    "test2 = beers_style.unique()\n",
    "pd.DataFrame(test2).to_csv(\"beers_style.csv\")"
   ]
  },
  {
   "cell_type": "code",
   "execution_count": 32,
   "id": "cb916c1f",
   "metadata": {},
   "outputs": [
    {
     "data": {
      "text/plain": [
       "array(['English Oatmeal Stout', 'Russian Imperial Stout', 'Scottish Ale',\n",
       "       'American Imperial Stout', 'American Cream Ale',\n",
       "       'Japanese Rice Lager', 'American Lager', 'American IPA',\n",
       "       'German Bock', 'English Stout', 'English Bitter',\n",
       "       'Belgian Witbier', 'American Strong Ale',\n",
       "       'American Pale Wheat Ale', 'Berliner Weisse',\n",
       "       'American Pale Ale (APA)', 'British Barleywine',\n",
       "       'American Black Ale', 'Baltic Porter', 'American Adjunct Lager',\n",
       "       'European Pale Lager', 'American Porter', 'Fruit and Field Beer',\n",
       "       'American Imperial IPA', 'American Wild Ale', 'Irish Red Ale',\n",
       "       'English Pale Ale', 'American Amber / Red Lager', 'Belgian Saison',\n",
       "       'Belgian IPA', 'Rye Beer', 'Belgian Quadrupel (Quad)',\n",
       "       'German Hefeweizen', 'American Stout', 'Smoke Beer',\n",
       "       'Belgian Tripel', 'American Amber / Red Ale', 'Pumpkin Beer',\n",
       "       'German Maibock', 'German Dunkelweizen', 'Belgian Dark Ale',\n",
       "       'Vienna Lager', 'English Extra Special / Strong Bitter (ESB)',\n",
       "       'English Sweet / Milk Stout', 'Scotch Ale / Wee Heavy',\n",
       "       'Leipzig Gose', 'German Pilsner', 'German Kristalweizen',\n",
       "       'German Märzen / Oktoberfest', 'American Brown Ale',\n",
       "       'American Blonde Ale', 'Bohemian Pilsener', 'American Barleywine',\n",
       "       'Foreign / Export Stout', 'Belgian Strong Pale Ale',\n",
       "       'European Export / Dortmunder', 'French Bière de Garde',\n",
       "       'California Common / Steam Beer', 'English India Pale Ale (IPA)',\n",
       "       'Winter Warmer', 'German Helles', 'American Imperial Red Ale',\n",
       "       'European Strong Lager', 'Belgian Dubbel', 'English Porter',\n",
       "       'Belgian Gueuze', 'German Rauchbier', 'German Altbier',\n",
       "       'English Brown Ale', 'American Light Lager', 'European Dark Lager',\n",
       "       'Belgian Strong Dark Ale', 'Belgian Pale Ale', 'German Doppelbock',\n",
       "       'German Kölsch', 'German Schwarzbier', 'Herb and Spice Beer',\n",
       "       'English Old Ale', 'German Kellerbier / Zwickelbier',\n",
       "       'Munich Dunkel Lager', 'Chile Beer', 'English Pale Mild Ale',\n",
       "       'Irish Dry Stout', 'German Weizenbock', 'American Brett',\n",
       "       'Belgian Fruit Lambic', 'Wild/Sour Beers', 'Robust Porter',\n",
       "       'Smoke Porter', 'American Wheatwine Ale',\n",
       "       'American Dark Wheat Ale', 'Flanders Oud Bruin',\n",
       "       'German Roggenbier', 'Finnish Sahti', 'American Malt Liquor',\n",
       "       'American Imperial Pilsner', 'Belgian Blonde Ale',\n",
       "       'American Imperial Porter', 'Scottish Gruit / Ancient Herbed Ale',\n",
       "       'American Brut IPA', 'Flanders Red Ale', 'Low Alcohol Beer',\n",
       "       'English Dark Mild Ale', 'New England IPA', 'English Strong Ale',\n",
       "       'Japanese Happoshu', 'Russian Kvass', 'Braggot', 'Belgian Lambic',\n",
       "       'Bière de Champagne / Bière Brut', 'German Eisbock',\n",
       "       'Belgian Faro', nan], dtype=object)"
      ]
     },
     "execution_count": 32,
     "metadata": {},
     "output_type": "execute_result"
    }
   ],
   "source": [
    "beers_style.unique()"
   ]
  },
  {
   "cell_type": "code",
   "execution_count": 33,
   "id": "cb7955cb",
   "metadata": {},
   "outputs": [
    {
     "data": {
      "text/plain": [
       "Altbier                           50\n",
       "Lager - Märzen / Oktoberfest      50\n",
       "Red Ale - Imperial                50\n",
       "Red Ale - American Amber / Red    50\n",
       "Quadrupel (Quad)                  50\n",
       "                                  ..\n",
       "Lambic - Traditional              49\n",
       "Sour - Flanders Oud Bruin         49\n",
       "Sour - Flanders Red Ale           49\n",
       "Sour - Gose                       49\n",
       "Lambic - Faro                     16\n",
       "Name: Style, Length: 112, dtype: int64"
      ]
     },
     "execution_count": 33,
     "metadata": {},
     "output_type": "execute_result"
    }
   ],
   "source": [
    "top_beer_info_style.value_counts()"
   ]
  },
  {
   "cell_type": "code",
   "execution_count": 35,
   "id": "ef2b62cc",
   "metadata": {},
   "outputs": [
    {
     "data": {
      "text/plain": [
       "American IPA                       44719\n",
       "American Pale Ale (APA)            22159\n",
       "American Imperial IPA              18338\n",
       "Belgian Saison                     18167\n",
       "American Wild Ale                  12972\n",
       "                                   ...  \n",
       "Japanese Happoshu                    123\n",
       "Finnish Sahti                        123\n",
       "Bière de Champagne / Bière Brut      116\n",
       "Belgian Faro                          32\n",
       "Wild/Sour Beers                        4\n",
       "Name: style, Length: 112, dtype: int64"
      ]
     },
     "execution_count": 35,
     "metadata": {},
     "output_type": "execute_result"
    }
   ],
   "source": [
    "beers_style.value_counts()"
   ]
  },
  {
   "cell_type": "code",
   "execution_count": 45,
   "id": "f60d218d",
   "metadata": {},
   "outputs": [
    {
     "data": {
      "text/plain": [
       "<AxesSubplot:>"
      ]
     },
     "execution_count": 45,
     "metadata": {},
     "output_type": "execute_result"
    },
    {
     "data": {
      "image/png": "[encoded data removed]",
      "text/plain": [
       "<Figure size 432x288 with 1 Axes>"
      ]
     },
     "metadata": {
      "needs_background": "light"
     },
     "output_type": "display_data"
    }
   ],
   "source": [
    "(beer_reviews_style.value_counts()).plot(kind=\"bar\")"
   ]
  },
  {
   "cell_type": "code",
   "execution_count": null,
   "id": "14a1cb29",
   "metadata": {},
   "outputs": [],
   "source": []
  },
  {
   "cell_type": "code",
   "execution_count": 85,
   "id": "eb2b3a9b",
   "metadata": {},
   "outputs": [],
   "source": [
    "df1 = pd.DataFrame(top_beer_info['style'])\n",
    "df2 = pd.DataFrame(beers['style'])\n"
   ]
  },
  {
   "cell_type": "code",
   "execution_count": 89,
   "id": "cf08f71b",
   "metadata": {},
   "outputs": [],
   "source": [
    "df1 = df1.sort_values(by=['style'])\n",
    "df2 = df2.sort_values(by=['style'])"
   ]
  },
  {
   "cell_type": "code",
   "execution_count": 95,
   "id": "91c22bd2",
   "metadata": {},
   "outputs": [
    {
     "name": "stdout",
     "output_type": "stream",
     "text": [
      "(5558, 1) (358873, 1)\n"
     ]
    }
   ],
   "source": [
    "print(df1.shape,df2.shape)"
   ]
  },
  {
   "cell_type": "code",
   "execution_count": 90,
   "id": "b08b4f79",
   "metadata": {},
   "outputs": [],
   "source": [
    "import datacompy\n",
    "\n",
    "compare = datacompy.Compare(\n",
    "df1,\n",
    "df2,\n",
    "join_columns='style', #You can also specify a list of columns\n",
    "abs_tol=0.0001,\n",
    "rel_tol=0,\n",
    "df1_name='Original', #Optional, defaults to 'df1'\n",
    "df2_name='New') #Optional, defaults to 'df2'"
   ]
  },
  {
   "cell_type": "code",
   "execution_count": 91,
   "id": "c16139f9",
   "metadata": {},
   "outputs": [
    {
     "name": "stdout",
     "output_type": "stream",
     "text": [
      "DataComPy Comparison\n",
      "--------------------\n",
      "\n",
      "DataFrame Summary\n",
      "-----------------\n",
      "\n",
      "  DataFrame  Columns    Rows\n",
      "0  Original        1    5558\n",
      "1       New        1  358873\n",
      "\n",
      "Column Summary\n",
      "--------------\n",
      "\n",
      "Number of columns in common: 1\n",
      "Number of columns in Original but not in New: 0\n",
      "Number of columns in New but not in Original: 0\n",
      "\n",
      "Row Summary\n",
      "-----------\n",
      "\n",
      "Matched on: style\n",
      "Any duplicates on match values: Yes\n",
      "Absolute Tolerance: 0.0001\n",
      "Relative Tolerance: 0\n",
      "Number of rows in common: 600\n",
      "Number of rows in Original but not in New: 4,958\n",
      "Number of rows in New but not in Original: 358,273\n",
      "\n",
      "Number of rows with some compared columns unequal: 0\n",
      "Number of rows with all compared columns equal: 600\n",
      "\n",
      "Column Comparison\n",
      "-----------------\n",
      "\n",
      "Number of columns compared with some values unequal: 0\n",
      "Number of columns compared with all values equal: 1\n",
      "Total number of values which compare unequal: 0\n",
      "\n",
      "Sample Rows Only in Original (First 10 Columns)\n",
      "-----------------------------------------------\n",
      "\n",
      "                           style\n",
      "1686               IPA - English\n",
      "19                       Altbier\n",
      "2737         Lager - Schwarzbier\n",
      "5158  Wheat Beer - American Dark\n",
      "5481                    Wild Ale\n",
      "2878             Lambic - Gueuze\n",
      "4879       Strong Ale - American\n",
      "1770           IPA - New England\n",
      "489               Bock - Eisbock\n",
      "2805               Lambic - Faro\n",
      "\n",
      "Sample Rows Only in New (First 10 Columns)\n",
      "------------------------------------------\n",
      "\n",
      "                              style\n",
      "318460  German Märzen / Oktoberfest\n",
      "119311      American Imperial Stout\n",
      "67184                  American IPA\n",
      "47851                  American IPA\n",
      "59707                  American IPA\n",
      "193681               Belgian Dubbel\n",
      "300049            German Doppelbock\n",
      "329221            German Weizenbock\n",
      "306558            German Hefeweizen\n",
      "276491   English Sweet / Milk Stout\n",
      "\n",
      "\n"
     ]
    }
   ],
   "source": [
    "print(compare.report())"
   ]
  },
  {
   "cell_type": "code",
   "execution_count": 112,
   "id": "2e452c44",
   "metadata": {},
   "outputs": [
    {
     "data": {
      "text/html": [
       "<div>\n",
       "<style scoped>\n",
       "    .dataframe tbody tr th:only-of-type {\n",
       "        vertical-align: middle;\n",
       "    }\n",
       "\n",
       "    .dataframe tbody tr th {\n",
       "        vertical-align: top;\n",
       "    }\n",
       "\n",
       "    .dataframe thead th {\n",
       "        text-align: right;\n",
       "    }\n",
       "</style>\n",
       "<table border=\"1\" class=\"dataframe\">\n",
       "  <thead>\n",
       "    <tr style=\"text-align: right;\">\n",
       "      <th></th>\n",
       "      <th>Dataset style</th>\n",
       "      <th>Unnamed: 1</th>\n",
       "    </tr>\n",
       "  </thead>\n",
       "  <tbody>\n",
       "    <tr>\n",
       "      <th>0</th>\n",
       "      <td>Original</td>\n",
       "      <td>Converted</td>\n",
       "    </tr>\n",
       "    <tr>\n",
       "      <th>1</th>\n",
       "      <td>Altbier</td>\n",
       "      <td>Altbier</td>\n",
       "    </tr>\n",
       "    <tr>\n",
       "      <th>2</th>\n",
       "      <td>American Adjunct Lager</td>\n",
       "      <td>Adjunct Lager - American</td>\n",
       "    </tr>\n",
       "    <tr>\n",
       "      <th>3</th>\n",
       "      <td>American Amber / Red Ale</td>\n",
       "      <td>Ale Red - American</td>\n",
       "    </tr>\n",
       "    <tr>\n",
       "      <th>4</th>\n",
       "      <td>American Amber / Red Lager</td>\n",
       "      <td>Lager Red- American</td>\n",
       "    </tr>\n",
       "    <tr>\n",
       "      <th>...</th>\n",
       "      <td>...</td>\n",
       "      <td>...</td>\n",
       "    </tr>\n",
       "    <tr>\n",
       "      <th>208</th>\n",
       "      <td>Wheat Beer - Wheatwine</td>\n",
       "      <td>Wheat Beer Wheatwine</td>\n",
       "    </tr>\n",
       "    <tr>\n",
       "      <th>209</th>\n",
       "      <td>Wheat Beer - Witbier</td>\n",
       "      <td>Wheat Beer Witbier</td>\n",
       "    </tr>\n",
       "    <tr>\n",
       "      <th>210</th>\n",
       "      <td>Wild Ale</td>\n",
       "      <td>Ale Wild</td>\n",
       "    </tr>\n",
       "    <tr>\n",
       "      <th>211</th>\n",
       "      <td>Wild/Sour Beers</td>\n",
       "      <td>Sour Wild</td>\n",
       "    </tr>\n",
       "    <tr>\n",
       "      <th>212</th>\n",
       "      <td>Winter Warmer</td>\n",
       "      <td>Winter Warmer</td>\n",
       "    </tr>\n",
       "  </tbody>\n",
       "</table>\n",
       "<p>213 rows × 2 columns</p>\n",
       "</div>"
      ],
      "text/plain": [
       "                  Dataset style                Unnamed: 1\n",
       "0                      Original                 Converted\n",
       "1                       Altbier                   Altbier\n",
       "2        American Adjunct Lager  Adjunct Lager - American\n",
       "3      American Amber / Red Ale        Ale Red - American\n",
       "4    American Amber / Red Lager       Lager Red- American\n",
       "..                          ...                       ...\n",
       "208      Wheat Beer - Wheatwine      Wheat Beer Wheatwine\n",
       "209        Wheat Beer - Witbier        Wheat Beer Witbier\n",
       "210                    Wild Ale                  Ale Wild\n",
       "211             Wild/Sour Beers                 Sour Wild\n",
       "212               Winter Warmer             Winter Warmer\n",
       "\n",
       "[213 rows x 2 columns]"
      ]
     },
     "execution_count": 112,
     "metadata": {},
     "output_type": "execute_result"
    }
   ],
   "source": [
    "style_renamed = pd.read_excel('/Users/ltexp1998/code/ltexp1998/zytholic_project/notebooks/beers_style.xlsx')\n",
    "\n",
    "style_renamed\n",
    "\n",
    "\n"
   ]
  },
  {
   "cell_type": "code",
   "execution_count": null,
   "id": "a59c848a",
   "metadata": {},
   "outputs": [],
   "source": []
  }
 ],
 "metadata": {
  "kernelspec": {
   "display_name": "Python 3 (ipykernel)",
   "language": "python",
   "name": "python3"
  },
  "language_info": {
   "codemirror_mode": {
    "name": "ipython",
    "version": 3
   },
   "file_extension": ".py",
   "mimetype": "text/x-python",
   "name": "python",
   "nbconvert_exporter": "python",
   "pygments_lexer": "ipython3",
   "version": "3.8.6"
  },
  "toc": {
   "base_numbering": 1,
   "nav_menu": {},
   "number_sections": true,
   "sideBar": true,
   "skip_h1_title": false,
   "title_cell": "Table of Contents",
   "title_sidebar": "Contents",
   "toc_cell": false,
   "toc_position": {},
   "toc_section_display": true,
   "toc_window_display": false
  }
 },
 "nbformat": 4,
 "nbformat_minor": 5
}
