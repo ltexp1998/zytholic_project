{
 "cells": [
  {
   "cell_type": "code",
   "execution_count": 1,
   "id": "11b5da7e",
   "metadata": {
    "ExecuteTime": {
     "end_time": "2021-08-24T07:12:31.280663Z",
     "start_time": "2021-08-24T07:12:23.470020Z"
    }
   },
   "outputs": [],
   "source": [
    "import pandas as pd"
   ]
  },
  {
   "cell_type": "code",
   "execution_count": 2,
   "id": "bc236fde",
   "metadata": {
    "ExecuteTime": {
     "end_time": "2021-08-24T07:12:31.740114Z",
     "start_time": "2021-08-24T07:12:31.289675Z"
    }
   },
   "outputs": [
    {
     "name": "stdout",
     "output_type": "stream",
     "text": [
      "ST_Data_exploration.ipynb          atc_EDA.ipynb\r\n",
      "Tfourny_processing_breweries.ipynb\r\n"
     ]
    }
   ],
   "source": [
    "!ls"
   ]
  },
  {
   "cell_type": "markdown",
   "id": "773ff654",
   "metadata": {},
   "source": [
    "## import"
   ]
  },
  {
   "cell_type": "code",
   "execution_count": 3,
   "id": "e0f4c159",
   "metadata": {
    "ExecuteTime": {
     "end_time": "2021-08-24T07:12:32.013546Z",
     "start_time": "2021-08-24T07:12:31.745570Z"
    }
   },
   "outputs": [
    {
     "data": {
      "text/html": [
       "<div>\n",
       "<style scoped>\n",
       "    .dataframe tbody tr th:only-of-type {\n",
       "        vertical-align: middle;\n",
       "    }\n",
       "\n",
       "    .dataframe tbody tr th {\n",
       "        vertical-align: top;\n",
       "    }\n",
       "\n",
       "    .dataframe thead th {\n",
       "        text-align: right;\n",
       "    }\n",
       "</style>\n",
       "<table border=\"1\" class=\"dataframe\">\n",
       "  <thead>\n",
       "    <tr style=\"text-align: right;\">\n",
       "      <th></th>\n",
       "      <th>name</th>\n",
       "      <th>key</th>\n",
       "      <th>style</th>\n",
       "      <th>style key</th>\n",
       "      <th>brewery</th>\n",
       "      <th>description</th>\n",
       "      <th>abv</th>\n",
       "      <th>ave rating</th>\n",
       "      <th>min ibu</th>\n",
       "      <th>max ibu</th>\n",
       "      <th>...</th>\n",
       "      <th>body</th>\n",
       "      <th>alcohol</th>\n",
       "      <th>bitter</th>\n",
       "      <th>sweet</th>\n",
       "      <th>sour</th>\n",
       "      <th>salty</th>\n",
       "      <th>fruits</th>\n",
       "      <th>hoppy</th>\n",
       "      <th>spices</th>\n",
       "      <th>malty</th>\n",
       "    </tr>\n",
       "  </thead>\n",
       "  <tbody>\n",
       "    <tr>\n",
       "      <th>0</th>\n",
       "      <td>Amber</td>\n",
       "      <td>251</td>\n",
       "      <td>Altbier</td>\n",
       "      <td>8</td>\n",
       "      <td>Alaskan Brewing Co.</td>\n",
       "      <td>Notes:Richly malty and long on the palate, wit...</td>\n",
       "      <td>5.3</td>\n",
       "      <td>3.65</td>\n",
       "      <td>25</td>\n",
       "      <td>50</td>\n",
       "      <td>...</td>\n",
       "      <td>32</td>\n",
       "      <td>9</td>\n",
       "      <td>47</td>\n",
       "      <td>74</td>\n",
       "      <td>33</td>\n",
       "      <td>0</td>\n",
       "      <td>33</td>\n",
       "      <td>57</td>\n",
       "      <td>8</td>\n",
       "      <td>111</td>\n",
       "    </tr>\n",
       "    <tr>\n",
       "      <th>1</th>\n",
       "      <td>Double Bag</td>\n",
       "      <td>252</td>\n",
       "      <td>Altbier</td>\n",
       "      <td>8</td>\n",
       "      <td>Long Trail Brewing Co.</td>\n",
       "      <td>Notes:This malty, full-bodied double alt is al...</td>\n",
       "      <td>7.2</td>\n",
       "      <td>3.90</td>\n",
       "      <td>25</td>\n",
       "      <td>50</td>\n",
       "      <td>...</td>\n",
       "      <td>57</td>\n",
       "      <td>18</td>\n",
       "      <td>33</td>\n",
       "      <td>55</td>\n",
       "      <td>16</td>\n",
       "      <td>0</td>\n",
       "      <td>24</td>\n",
       "      <td>35</td>\n",
       "      <td>12</td>\n",
       "      <td>84</td>\n",
       "    </tr>\n",
       "    <tr>\n",
       "      <th>2</th>\n",
       "      <td>Long Trail Ale</td>\n",
       "      <td>253</td>\n",
       "      <td>Altbier</td>\n",
       "      <td>8</td>\n",
       "      <td>Long Trail Brewing Co.</td>\n",
       "      <td>Notes:Long Trail Ale is a full-bodied amber al...</td>\n",
       "      <td>5.0</td>\n",
       "      <td>3.58</td>\n",
       "      <td>25</td>\n",
       "      <td>50</td>\n",
       "      <td>...</td>\n",
       "      <td>37</td>\n",
       "      <td>6</td>\n",
       "      <td>42</td>\n",
       "      <td>43</td>\n",
       "      <td>11</td>\n",
       "      <td>0</td>\n",
       "      <td>10</td>\n",
       "      <td>54</td>\n",
       "      <td>4</td>\n",
       "      <td>62</td>\n",
       "    </tr>\n",
       "    <tr>\n",
       "      <th>3</th>\n",
       "      <td>Doppelsticke</td>\n",
       "      <td>254</td>\n",
       "      <td>Altbier</td>\n",
       "      <td>8</td>\n",
       "      <td>Uerige Obergärige Hausbrauerei</td>\n",
       "      <td>Notes:</td>\n",
       "      <td>8.5</td>\n",
       "      <td>4.15</td>\n",
       "      <td>25</td>\n",
       "      <td>50</td>\n",
       "      <td>...</td>\n",
       "      <td>55</td>\n",
       "      <td>31</td>\n",
       "      <td>47</td>\n",
       "      <td>101</td>\n",
       "      <td>18</td>\n",
       "      <td>1</td>\n",
       "      <td>49</td>\n",
       "      <td>40</td>\n",
       "      <td>16</td>\n",
       "      <td>119</td>\n",
       "    </tr>\n",
       "    <tr>\n",
       "      <th>4</th>\n",
       "      <td>Scurry</td>\n",
       "      <td>255</td>\n",
       "      <td>Altbier</td>\n",
       "      <td>8</td>\n",
       "      <td>Off Color Brewing</td>\n",
       "      <td>Notes:Just cause it's dark and German doesn't ...</td>\n",
       "      <td>5.3</td>\n",
       "      <td>3.67</td>\n",
       "      <td>25</td>\n",
       "      <td>50</td>\n",
       "      <td>...</td>\n",
       "      <td>69</td>\n",
       "      <td>10</td>\n",
       "      <td>63</td>\n",
       "      <td>120</td>\n",
       "      <td>14</td>\n",
       "      <td>0</td>\n",
       "      <td>19</td>\n",
       "      <td>36</td>\n",
       "      <td>15</td>\n",
       "      <td>218</td>\n",
       "    </tr>\n",
       "  </tbody>\n",
       "</table>\n",
       "<p>5 rows × 21 columns</p>\n",
       "</div>"
      ],
      "text/plain": [
       "             name  key    style  style key                         brewery  \\\n",
       "0           Amber  251  Altbier          8             Alaskan Brewing Co.   \n",
       "1      Double Bag  252  Altbier          8          Long Trail Brewing Co.   \n",
       "2  Long Trail Ale  253  Altbier          8          Long Trail Brewing Co.   \n",
       "3    Doppelsticke  254  Altbier          8  Uerige Obergärige Hausbrauerei   \n",
       "4          Scurry  255  Altbier          8               Off Color Brewing   \n",
       "\n",
       "                                         description  abv  ave rating  \\\n",
       "0  Notes:Richly malty and long on the palate, wit...  5.3        3.65   \n",
       "1  Notes:This malty, full-bodied double alt is al...  7.2        3.90   \n",
       "2  Notes:Long Trail Ale is a full-bodied amber al...  5.0        3.58   \n",
       "3                                             Notes:  8.5        4.15   \n",
       "4  Notes:Just cause it's dark and German doesn't ...  5.3        3.67   \n",
       "\n",
       "   min ibu  max ibu  ...  body  alcohol  bitter  sweet  sour  salty  fruits  \\\n",
       "0       25       50  ...    32        9      47     74    33      0      33   \n",
       "1       25       50  ...    57       18      33     55    16      0      24   \n",
       "2       25       50  ...    37        6      42     43    11      0      10   \n",
       "3       25       50  ...    55       31      47    101    18      1      49   \n",
       "4       25       50  ...    69       10      63    120    14      0      19   \n",
       "\n",
       "   hoppy  spices  malty  \n",
       "0     57       8    111  \n",
       "1     35      12     84  \n",
       "2     54       4     62  \n",
       "3     40      16    119  \n",
       "4     36      15    218  \n",
       "\n",
       "[5 rows x 21 columns]"
      ]
     },
     "execution_count": 3,
     "metadata": {},
     "output_type": "execute_result"
    }
   ],
   "source": [
    "top = pd.read_csv('/Users/alix/code/ltexp1998/zytholic_project/raw_data/Top-Beer-Information/top_beer_inforamtion.csv')\n",
    "top.drop_duplicates(inplace = True)\n",
    "top.columns = [x.lower() for x in top.columns]\n",
    "top['name'] = top['name'].astype(str)\n",
    "top['brewery'] = top['brewery'].astype(str)\n",
    "top.head()"
   ]
  },
  {
   "cell_type": "code",
   "execution_count": 4,
   "id": "4a19bbbb",
   "metadata": {
    "ExecuteTime": {
     "end_time": "2021-08-24T07:12:32.049738Z",
     "start_time": "2021-08-24T07:12:32.021417Z"
    }
   },
   "outputs": [
    {
     "data": {
      "text/plain": [
       "0                                             Amber\n",
       "1                                        Double Bag\n",
       "2                                    Long Trail Ale\n",
       "3                                      Doppelsticke\n",
       "4                                            Scurry\n",
       "                           ...                     \n",
       "5553                            Red Nose Winter Ale\n",
       "5554    Our Special Ale 2019 (Anchor Christmas Ale)\n",
       "5555                           Fish Tale Winterfish\n",
       "5556      He'Brew Hanukkah, Chanukah: Pass The Beer\n",
       "5557       Frosted Frog Christmas Ale - Barrel-Aged\n",
       "Name: name, Length: 5558, dtype: object"
      ]
     },
     "execution_count": 4,
     "metadata": {},
     "output_type": "execute_result"
    }
   ],
   "source": [
    "top.name"
   ]
  },
  {
   "cell_type": "code",
   "execution_count": 5,
   "id": "ae92f6b2",
   "metadata": {
    "ExecuteTime": {
     "end_time": "2021-08-24T07:12:33.940686Z",
     "start_time": "2021-08-24T07:12:32.066355Z"
    }
   },
   "outputs": [
    {
     "data": {
      "text/plain": [
       "(358873, 10)"
      ]
     },
     "execution_count": 5,
     "metadata": {},
     "output_type": "execute_result"
    }
   ],
   "source": [
    "beers = pd.read_csv(\"/Users/alix/code/ltexp1998/zytholic_project/raw_data/Beers, Breweries, and Beer Reviews/beers.csv\")\n",
    "beers.drop_duplicates(inplace=True)\n",
    "beers.name = beers.name.astype(str)\n",
    "beers.shape"
   ]
  },
  {
   "cell_type": "code",
   "execution_count": 6,
   "id": "9606d3f1",
   "metadata": {
    "ExecuteTime": {
     "end_time": "2021-08-24T07:12:33.965871Z",
     "start_time": "2021-08-24T07:12:33.949029Z"
    }
   },
   "outputs": [
    {
     "data": {
      "text/plain": [
       "Index(['id', 'name', 'brewery_id', 'state', 'country', 'style', 'availability',\n",
       "       'abv', 'notes', 'retired'],\n",
       "      dtype='object')"
      ]
     },
     "execution_count": 6,
     "metadata": {},
     "output_type": "execute_result"
    }
   ],
   "source": [
    "beers.columns"
   ]
  },
  {
   "cell_type": "code",
   "execution_count": 7,
   "id": "b51c69e0",
   "metadata": {
    "ExecuteTime": {
     "end_time": "2021-08-24T07:12:40.472979Z",
     "start_time": "2021-08-24T07:12:33.970607Z"
    }
   },
   "outputs": [
    {
     "data": {
      "text/plain": [
       "(1586614, 13)"
      ]
     },
     "execution_count": 7,
     "metadata": {},
     "output_type": "execute_result"
    }
   ],
   "source": [
    "beer_review = pd.read_csv('/Users/alix/code/ltexp1998/zytholic_project/raw_data/Beer Reviews /beer_reviews.csv')\n",
    "beer_review.drop_duplicates(inplace=True)\n",
    "beer_review.shape"
   ]
  },
  {
   "cell_type": "code",
   "execution_count": 9,
   "id": "b1bdcaca",
   "metadata": {
    "ExecuteTime": {
     "end_time": "2021-08-24T07:12:44.195501Z",
     "start_time": "2021-08-24T07:12:43.936339Z"
    }
   },
   "outputs": [
    {
     "data": {
      "text/html": [
       "<div>\n",
       "<style scoped>\n",
       "    .dataframe tbody tr th:only-of-type {\n",
       "        vertical-align: middle;\n",
       "    }\n",
       "\n",
       "    .dataframe tbody tr th {\n",
       "        vertical-align: top;\n",
       "    }\n",
       "\n",
       "    .dataframe thead th {\n",
       "        text-align: right;\n",
       "    }\n",
       "</style>\n",
       "<table border=\"1\" class=\"dataframe\">\n",
       "  <thead>\n",
       "    <tr style=\"text-align: right;\">\n",
       "      <th></th>\n",
       "      <th>brewery_id</th>\n",
       "      <th>brewery</th>\n",
       "      <th>city</th>\n",
       "      <th>state</th>\n",
       "      <th>country</th>\n",
       "      <th>notes</th>\n",
       "      <th>types</th>\n",
       "    </tr>\n",
       "  </thead>\n",
       "  <tbody>\n",
       "    <tr>\n",
       "      <th>0</th>\n",
       "      <td>19730</td>\n",
       "      <td>Brouwerij Danny</td>\n",
       "      <td>Erpe-Mere</td>\n",
       "      <td>NaN</td>\n",
       "      <td>BE</td>\n",
       "      <td>No notes at this time.</td>\n",
       "      <td>Brewery</td>\n",
       "    </tr>\n",
       "    <tr>\n",
       "      <th>1</th>\n",
       "      <td>32541</td>\n",
       "      <td>Coachella Valley Brewing Co</td>\n",
       "      <td>Thousand Palms</td>\n",
       "      <td>CA</td>\n",
       "      <td>US</td>\n",
       "      <td>No notes at this time.</td>\n",
       "      <td>Brewery, Bar, Beer-to-go</td>\n",
       "    </tr>\n",
       "    <tr>\n",
       "      <th>2</th>\n",
       "      <td>44736</td>\n",
       "      <td>Beef 'O' Brady's</td>\n",
       "      <td>Plant City</td>\n",
       "      <td>FL</td>\n",
       "      <td>US</td>\n",
       "      <td>No notes at this time.</td>\n",
       "      <td>Bar, Eatery</td>\n",
       "    </tr>\n",
       "    <tr>\n",
       "      <th>3</th>\n",
       "      <td>23372</td>\n",
       "      <td>Broadway Wine Merchant</td>\n",
       "      <td>Oklahoma City</td>\n",
       "      <td>OK</td>\n",
       "      <td>US</td>\n",
       "      <td>No notes at this time.</td>\n",
       "      <td>Store</td>\n",
       "    </tr>\n",
       "    <tr>\n",
       "      <th>4</th>\n",
       "      <td>35328</td>\n",
       "      <td>Brighton Beer Dispensary (DUPLICATE)</td>\n",
       "      <td>Brighton</td>\n",
       "      <td>GB2</td>\n",
       "      <td>GB</td>\n",
       "      <td>Duplicate of https://www.beeradvocate.com/beer...</td>\n",
       "      <td>Bar, Eatery</td>\n",
       "    </tr>\n",
       "    <tr>\n",
       "      <th>...</th>\n",
       "      <td>...</td>\n",
       "      <td>...</td>\n",
       "      <td>...</td>\n",
       "      <td>...</td>\n",
       "      <td>...</td>\n",
       "      <td>...</td>\n",
       "      <td>...</td>\n",
       "    </tr>\n",
       "    <tr>\n",
       "      <th>50342</th>\n",
       "      <td>1430</td>\n",
       "      <td>Blagodarnensky Brewery</td>\n",
       "      <td>Blagodarny</td>\n",
       "      <td>NaN</td>\n",
       "      <td>RU</td>\n",
       "      <td>No notes at this time.</td>\n",
       "      <td>Brewery</td>\n",
       "    </tr>\n",
       "    <tr>\n",
       "      <th>50343</th>\n",
       "      <td>23267</td>\n",
       "      <td>Eataly</td>\n",
       "      <td>Torino (TO)</td>\n",
       "      <td>NaN</td>\n",
       "      <td>IT</td>\n",
       "      <td>Big gourmet market, with a beer store and a be...</td>\n",
       "      <td>Bar, Eatery, Beer-to-go</td>\n",
       "    </tr>\n",
       "    <tr>\n",
       "      <th>50344</th>\n",
       "      <td>32352</td>\n",
       "      <td>Frites - Quarry Bay</td>\n",
       "      <td>Hong Kong Island</td>\n",
       "      <td>NaN</td>\n",
       "      <td>HK</td>\n",
       "      <td>Located on the Ground Floor of Oxford House in...</td>\n",
       "      <td>Bar, Eatery</td>\n",
       "    </tr>\n",
       "    <tr>\n",
       "      <th>50345</th>\n",
       "      <td>20047</td>\n",
       "      <td>Forest City Wines &amp; Spirits</td>\n",
       "      <td>Middletown</td>\n",
       "      <td>CT</td>\n",
       "      <td>US</td>\n",
       "      <td>No notes at this time.</td>\n",
       "      <td>Store</td>\n",
       "    </tr>\n",
       "    <tr>\n",
       "      <th>50346</th>\n",
       "      <td>13986</td>\n",
       "      <td>Landmark Beer Company</td>\n",
       "      <td>Syracuse</td>\n",
       "      <td>NY</td>\n",
       "      <td>US</td>\n",
       "      <td>No notes at this time.</td>\n",
       "      <td>Brewery</td>\n",
       "    </tr>\n",
       "  </tbody>\n",
       "</table>\n",
       "<p>50347 rows × 7 columns</p>\n",
       "</div>"
      ],
      "text/plain": [
       "       brewery_id                               brewery              city  \\\n",
       "0           19730                       Brouwerij Danny         Erpe-Mere   \n",
       "1           32541           Coachella Valley Brewing Co    Thousand Palms   \n",
       "2           44736                      Beef 'O' Brady's        Plant City   \n",
       "3           23372                Broadway Wine Merchant     Oklahoma City   \n",
       "4           35328  Brighton Beer Dispensary (DUPLICATE)          Brighton   \n",
       "...           ...                                   ...               ...   \n",
       "50342        1430                Blagodarnensky Brewery        Blagodarny   \n",
       "50343       23267                                Eataly       Torino (TO)   \n",
       "50344       32352                   Frites - Quarry Bay  Hong Kong Island   \n",
       "50345       20047           Forest City Wines & Spirits        Middletown   \n",
       "50346       13986                 Landmark Beer Company          Syracuse   \n",
       "\n",
       "      state country                                              notes  \\\n",
       "0       NaN      BE                             No notes at this time.   \n",
       "1        CA      US                             No notes at this time.   \n",
       "2        FL      US                             No notes at this time.   \n",
       "3        OK      US                             No notes at this time.   \n",
       "4       GB2      GB  Duplicate of https://www.beeradvocate.com/beer...   \n",
       "...     ...     ...                                                ...   \n",
       "50342   NaN      RU                             No notes at this time.   \n",
       "50343   NaN      IT  Big gourmet market, with a beer store and a be...   \n",
       "50344   NaN      HK  Located on the Ground Floor of Oxford House in...   \n",
       "50345    CT      US                             No notes at this time.   \n",
       "50346    NY      US                             No notes at this time.   \n",
       "\n",
       "                          types  \n",
       "0                       Brewery  \n",
       "1      Brewery, Bar, Beer-to-go  \n",
       "2                   Bar, Eatery  \n",
       "3                         Store  \n",
       "4                   Bar, Eatery  \n",
       "...                         ...  \n",
       "50342                   Brewery  \n",
       "50343   Bar, Eatery, Beer-to-go  \n",
       "50344               Bar, Eatery  \n",
       "50345                     Store  \n",
       "50346                   Brewery  \n",
       "\n",
       "[50347 rows x 7 columns]"
      ]
     },
     "execution_count": 9,
     "metadata": {},
     "output_type": "execute_result"
    }
   ],
   "source": [
    "breweries = pd.read_csv('/Users/alix/code/ltexp1998/zytholic_project/raw_data/Beers, Breweries, and Beer Reviews/breweries.csv')\n",
    "breweries.drop_duplicates(inplace=True)\n",
    "breweries = brewries.rename(columns={'id': 'brewery_id',\n",
    "                'name': 'brewery'})\n",
    "breweries"
   ]
  },
  {
   "cell_type": "code",
   "execution_count": null,
   "id": "a544eb5b",
   "metadata": {
    "ExecuteTime": {
     "end_time": "2021-08-23T13:58:30.239477Z",
     "start_time": "2021-08-23T13:58:30.190746Z"
    }
   },
   "outputs": [],
   "source": [
    "beers"
   ]
  },
  {
   "cell_type": "markdown",
   "id": "9b38da6b",
   "metadata": {},
   "source": [
    "## Name correspondance analysis"
   ]
  },
  {
   "cell_type": "code",
   "execution_count": null,
   "id": "0b801321",
   "metadata": {
    "ExecuteTime": {
     "end_time": "2021-08-23T15:26:24.989649Z",
     "start_time": "2021-08-23T15:26:24.319440Z"
    }
   },
   "outputs": [],
   "source": [
    "beers = pd.merge(beers, brewries[['brewery_id', 'brewery']],\n",
    "                how= 'inner', on='brewery_id')\n",
    "beers.drop('brewery_id', axis=1, inplace=True)"
   ]
  },
  {
   "cell_type": "code",
   "execution_count": null,
   "id": "8bf4c6fa",
   "metadata": {
    "ExecuteTime": {
     "end_time": "2021-08-23T15:20:24.739796Z",
     "start_time": "2021-08-23T15:20:24.578341Z"
    }
   },
   "outputs": [],
   "source": []
  },
  {
   "cell_type": "code",
   "execution_count": 7,
   "id": "8b2e11a3",
   "metadata": {
    "ExecuteTime": {
     "end_time": "2021-08-23T15:33:00.775035Z",
     "start_time": "2021-08-23T15:33:00.767786Z"
    }
   },
   "outputs": [],
   "source": [
    "import re\n",
    "def clean_string(string):\n",
    "    string = string.lower()\n",
    "    cleanString = re.sub('[^A-Za-z0-9 ]+','', string)\n",
    "    return cleanString"
   ]
  },
  {
   "cell_type": "code",
   "execution_count": 8,
   "id": "93e76771",
   "metadata": {
    "ExecuteTime": {
     "end_time": "2021-08-23T15:33:01.354598Z",
     "start_time": "2021-08-23T15:33:01.216084Z"
    }
   },
   "outputs": [],
   "source": [
    "# Remove brewery name when still included in beer name\n",
    "names = []\n",
    "for i in range(top.shape[0]):\n",
    "    beer_name = top['name'][i]\n",
    "    brew_name = top['brewery'][i]\n",
    "    if brew_name in beer_name:\n",
    "        new = beer_name.replace(beer_name, '')\n",
    "        names.append(new)\n",
    "    else:\n",
    "        names.append(beer_name)\n",
    "top['name']= names"
   ]
  },
  {
   "cell_type": "code",
   "execution_count": 9,
   "id": "a3bfbeea",
   "metadata": {
    "ExecuteTime": {
     "end_time": "2021-08-23T15:33:05.780685Z",
     "start_time": "2021-08-23T15:33:05.526878Z"
    }
   },
   "outputs": [
    {
     "ename": "NameError",
     "evalue": "name 'beers' is not defined",
     "output_type": "error",
     "traceback": [
      "\u001b[0;31m---------------------------------------------------------------------------\u001b[0m",
      "\u001b[0;31mNameError\u001b[0m                                 Traceback (most recent call last)",
      "\u001b[0;32m/var/folders/_5/s9wbxcy503dggw34b98btk9c0000gp/T/ipykernel_11608/3327260630.py\u001b[0m in \u001b[0;36m<module>\u001b[0;34m\u001b[0m\n\u001b[1;32m      1\u001b[0m \u001b[0mnames\u001b[0m \u001b[0;34m=\u001b[0m \u001b[0;34m[\u001b[0m\u001b[0;34m]\u001b[0m\u001b[0;34m\u001b[0m\u001b[0;34m\u001b[0m\u001b[0m\n\u001b[0;32m----> 2\u001b[0;31m \u001b[0;32mfor\u001b[0m \u001b[0mi\u001b[0m \u001b[0;32min\u001b[0m \u001b[0mrange\u001b[0m\u001b[0;34m(\u001b[0m\u001b[0mbeers\u001b[0m\u001b[0;34m.\u001b[0m\u001b[0mshape\u001b[0m\u001b[0;34m[\u001b[0m\u001b[0;36m0\u001b[0m\u001b[0;34m]\u001b[0m\u001b[0;34m)\u001b[0m\u001b[0;34m:\u001b[0m\u001b[0;34m\u001b[0m\u001b[0;34m\u001b[0m\u001b[0m\n\u001b[0m\u001b[1;32m      3\u001b[0m     \u001b[0mbeer_name\u001b[0m \u001b[0;34m=\u001b[0m \u001b[0mbeers\u001b[0m\u001b[0;34m[\u001b[0m\u001b[0;34m'name'\u001b[0m\u001b[0;34m]\u001b[0m\u001b[0;34m[\u001b[0m\u001b[0mi\u001b[0m\u001b[0;34m]\u001b[0m\u001b[0;34m\u001b[0m\u001b[0;34m\u001b[0m\u001b[0m\n\u001b[1;32m      4\u001b[0m     \u001b[0mbrew_name\u001b[0m \u001b[0;34m=\u001b[0m \u001b[0mbeers\u001b[0m\u001b[0;34m[\u001b[0m\u001b[0;34m'brewery'\u001b[0m\u001b[0;34m]\u001b[0m\u001b[0;34m[\u001b[0m\u001b[0mi\u001b[0m\u001b[0;34m]\u001b[0m\u001b[0;34m\u001b[0m\u001b[0;34m\u001b[0m\u001b[0m\n\u001b[1;32m      5\u001b[0m     \u001b[0;32mif\u001b[0m \u001b[0mbrew_name\u001b[0m \u001b[0;32min\u001b[0m \u001b[0mbeer_name\u001b[0m\u001b[0;34m:\u001b[0m\u001b[0;34m\u001b[0m\u001b[0;34m\u001b[0m\u001b[0m\n",
      "\u001b[0;31mNameError\u001b[0m: name 'beers' is not defined"
     ]
    }
   ],
   "source": [
    "names = []\n",
    "for i in range(beers.shape[0]):\n",
    "    beer_name = beers['name'][i]\n",
    "    brew_name = beers['brewery'][i]\n",
    "    if brew_name in beer_name:\n",
    "        new = beer_name.replace(beer_name, '')\n",
    "        names.append(new)\n",
    "    else:\n",
    "        names.append(beer_name)\n",
    "\n",
    "beers['name']= names"
   ]
  },
  {
   "cell_type": "code",
   "execution_count": 11,
   "id": "464eec97",
   "metadata": {
    "ExecuteTime": {
     "end_time": "2021-08-23T15:33:37.188021Z",
     "start_time": "2021-08-23T15:33:37.142563Z"
    }
   },
   "outputs": [],
   "source": [
    "#beer_names = [clean_string(x) for x in beers.name]\n",
    "\n",
    "top_names = [clean_string(x) for x in top.name]"
   ]
  },
  {
   "cell_type": "code",
   "execution_count": null,
   "id": "d6573599",
   "metadata": {
    "ExecuteTime": {
     "end_time": "2021-08-23T15:27:47.691063Z",
     "start_time": "2021-08-23T15:27:47.679763Z"
    }
   },
   "outputs": [],
   "source": [
    "top['names'] = top_names\n",
    "\n",
    "beers['names'] = beers.name"
   ]
  },
  {
   "cell_type": "code",
   "execution_count": 13,
   "id": "c4cfe49f",
   "metadata": {
    "ExecuteTime": {
     "end_time": "2021-08-23T15:33:52.435417Z",
     "start_time": "2021-08-23T15:33:52.092162Z"
    }
   },
   "outputs": [
    {
     "data": {
      "text/html": [
       "<div>\n",
       "<style scoped>\n",
       "    .dataframe tbody tr th:only-of-type {\n",
       "        vertical-align: middle;\n",
       "    }\n",
       "\n",
       "    .dataframe tbody tr th {\n",
       "        vertical-align: top;\n",
       "    }\n",
       "\n",
       "    .dataframe thead th {\n",
       "        text-align: right;\n",
       "    }\n",
       "</style>\n",
       "<table border=\"1\" class=\"dataframe\">\n",
       "  <thead>\n",
       "    <tr style=\"text-align: right;\">\n",
       "      <th></th>\n",
       "      <th>name</th>\n",
       "      <th>key</th>\n",
       "      <th>style_x</th>\n",
       "      <th>style key</th>\n",
       "      <th>brewery</th>\n",
       "      <th>description</th>\n",
       "      <th>abv</th>\n",
       "      <th>ave rating</th>\n",
       "      <th>min ibu</th>\n",
       "      <th>max ibu</th>\n",
       "      <th>...</th>\n",
       "      <th>spices</th>\n",
       "      <th>malty</th>\n",
       "      <th>id</th>\n",
       "      <th>brewery_id</th>\n",
       "      <th>state</th>\n",
       "      <th>country</th>\n",
       "      <th>style_y</th>\n",
       "      <th>availability</th>\n",
       "      <th>notes</th>\n",
       "      <th>retired</th>\n",
       "    </tr>\n",
       "  </thead>\n",
       "  <tbody>\n",
       "    <tr>\n",
       "      <th>0</th>\n",
       "      <td>Amber</td>\n",
       "      <td>251</td>\n",
       "      <td>Altbier</td>\n",
       "      <td>8</td>\n",
       "      <td>Alaskan Brewing Co.</td>\n",
       "      <td>Notes:Richly malty and long on the palate, wit...</td>\n",
       "      <td>5.3</td>\n",
       "      <td>3.65</td>\n",
       "      <td>25</td>\n",
       "      <td>50</td>\n",
       "      <td>...</td>\n",
       "      <td>8</td>\n",
       "      <td>111</td>\n",
       "      <td>132672</td>\n",
       "      <td>35510</td>\n",
       "      <td>CO</td>\n",
       "      <td>US</td>\n",
       "      <td>American Amber / Red Ale</td>\n",
       "      <td>Rotating</td>\n",
       "      <td>No notes at this time.</td>\n",
       "      <td>f</td>\n",
       "    </tr>\n",
       "    <tr>\n",
       "      <th>1</th>\n",
       "      <td>Amber</td>\n",
       "      <td>251</td>\n",
       "      <td>Altbier</td>\n",
       "      <td>8</td>\n",
       "      <td>Alaskan Brewing Co.</td>\n",
       "      <td>Notes:Richly malty and long on the palate, wit...</td>\n",
       "      <td>5.3</td>\n",
       "      <td>3.65</td>\n",
       "      <td>25</td>\n",
       "      <td>50</td>\n",
       "      <td>...</td>\n",
       "      <td>8</td>\n",
       "      <td>111</td>\n",
       "      <td>295007</td>\n",
       "      <td>42153</td>\n",
       "      <td>AK</td>\n",
       "      <td>US</td>\n",
       "      <td>American Amber / Red Ale</td>\n",
       "      <td>Rotating</td>\n",
       "      <td>No notes at this time.</td>\n",
       "      <td>f</td>\n",
       "    </tr>\n",
       "    <tr>\n",
       "      <th>2</th>\n",
       "      <td>Amber</td>\n",
       "      <td>251</td>\n",
       "      <td>Altbier</td>\n",
       "      <td>8</td>\n",
       "      <td>Alaskan Brewing Co.</td>\n",
       "      <td>Notes:Richly malty and long on the palate, wit...</td>\n",
       "      <td>5.3</td>\n",
       "      <td>3.65</td>\n",
       "      <td>25</td>\n",
       "      <td>50</td>\n",
       "      <td>...</td>\n",
       "      <td>8</td>\n",
       "      <td>111</td>\n",
       "      <td>357413</td>\n",
       "      <td>49640</td>\n",
       "      <td>TX</td>\n",
       "      <td>US</td>\n",
       "      <td>American Amber / Red Ale</td>\n",
       "      <td>Year-round</td>\n",
       "      <td>No notes at this time.</td>\n",
       "      <td>f</td>\n",
       "    </tr>\n",
       "    <tr>\n",
       "      <th>3</th>\n",
       "      <td>Amber</td>\n",
       "      <td>251</td>\n",
       "      <td>Altbier</td>\n",
       "      <td>8</td>\n",
       "      <td>Alaskan Brewing Co.</td>\n",
       "      <td>Notes:Richly malty and long on the palate, wit...</td>\n",
       "      <td>5.3</td>\n",
       "      <td>3.65</td>\n",
       "      <td>25</td>\n",
       "      <td>50</td>\n",
       "      <td>...</td>\n",
       "      <td>8</td>\n",
       "      <td>111</td>\n",
       "      <td>91362</td>\n",
       "      <td>29245</td>\n",
       "      <td>ON</td>\n",
       "      <td>CA</td>\n",
       "      <td>Scottish Ale</td>\n",
       "      <td>Limited (brewed once)</td>\n",
       "      <td>No notes at this time.</td>\n",
       "      <td>t</td>\n",
       "    </tr>\n",
       "    <tr>\n",
       "      <th>4</th>\n",
       "      <td>Amber</td>\n",
       "      <td>251</td>\n",
       "      <td>Altbier</td>\n",
       "      <td>8</td>\n",
       "      <td>Alaskan Brewing Co.</td>\n",
       "      <td>Notes:Richly malty and long on the palate, wit...</td>\n",
       "      <td>5.3</td>\n",
       "      <td>3.65</td>\n",
       "      <td>25</td>\n",
       "      <td>50</td>\n",
       "      <td>...</td>\n",
       "      <td>8</td>\n",
       "      <td>111</td>\n",
       "      <td>300726</td>\n",
       "      <td>50326</td>\n",
       "      <td>TX</td>\n",
       "      <td>US</td>\n",
       "      <td>American Amber / Red Ale</td>\n",
       "      <td>Year-round</td>\n",
       "      <td>No notes at this time.</td>\n",
       "      <td>f</td>\n",
       "    </tr>\n",
       "    <tr>\n",
       "      <th>...</th>\n",
       "      <td>...</td>\n",
       "      <td>...</td>\n",
       "      <td>...</td>\n",
       "      <td>...</td>\n",
       "      <td>...</td>\n",
       "      <td>...</td>\n",
       "      <td>...</td>\n",
       "      <td>...</td>\n",
       "      <td>...</td>\n",
       "      <td>...</td>\n",
       "      <td>...</td>\n",
       "      <td>...</td>\n",
       "      <td>...</td>\n",
       "      <td>...</td>\n",
       "      <td>...</td>\n",
       "      <td>...</td>\n",
       "      <td>...</td>\n",
       "      <td>...</td>\n",
       "      <td>...</td>\n",
       "      <td>...</td>\n",
       "      <td>...</td>\n",
       "    </tr>\n",
       "    <tr>\n",
       "      <th>6816</th>\n",
       "      <td>The First Snow Ale</td>\n",
       "      <td>695</td>\n",
       "      <td>Winter Warmer</td>\n",
       "      <td>17</td>\n",
       "      <td>RJ Rockers Brewing Company</td>\n",
       "      <td>Notes:This hearty American pale ale contains a...</td>\n",
       "      <td>6.0</td>\n",
       "      <td>3.63</td>\n",
       "      <td>35</td>\n",
       "      <td>50</td>\n",
       "      <td>...</td>\n",
       "      <td>140</td>\n",
       "      <td>58</td>\n",
       "      <td>26344</td>\n",
       "      <td>4408</td>\n",
       "      <td>SC</td>\n",
       "      <td>US</td>\n",
       "      <td>Winter Warmer</td>\n",
       "      <td>Fall</td>\n",
       "      <td>This hearty American pale ale contains a rich ...</td>\n",
       "      <td>f</td>\n",
       "    </tr>\n",
       "    <tr>\n",
       "      <th>6817</th>\n",
       "      <td>Red Nose Winter Ale</td>\n",
       "      <td>696</td>\n",
       "      <td>Winter Warmer</td>\n",
       "      <td>17</td>\n",
       "      <td>Natty Greene's Pub &amp; Brewing Co.</td>\n",
       "      <td>Notes:</td>\n",
       "      <td>6.8</td>\n",
       "      <td>3.59</td>\n",
       "      <td>35</td>\n",
       "      <td>50</td>\n",
       "      <td>...</td>\n",
       "      <td>96</td>\n",
       "      <td>77</td>\n",
       "      <td>21003</td>\n",
       "      <td>9792</td>\n",
       "      <td>NC</td>\n",
       "      <td>US</td>\n",
       "      <td>Winter Warmer</td>\n",
       "      <td>Winter</td>\n",
       "      <td>No notes at this time.</td>\n",
       "      <td>f</td>\n",
       "    </tr>\n",
       "    <tr>\n",
       "      <th>6818</th>\n",
       "      <td>Fish Tale Winterfish</td>\n",
       "      <td>698</td>\n",
       "      <td>Winter Warmer</td>\n",
       "      <td>17</td>\n",
       "      <td>Fish Brewing Company / Fishbowl Brewpub</td>\n",
       "      <td>Notes:</td>\n",
       "      <td>7.5</td>\n",
       "      <td>3.76</td>\n",
       "      <td>35</td>\n",
       "      <td>50</td>\n",
       "      <td>...</td>\n",
       "      <td>18</td>\n",
       "      <td>73</td>\n",
       "      <td>3579</td>\n",
       "      <td>684</td>\n",
       "      <td>WA</td>\n",
       "      <td>US</td>\n",
       "      <td>Winter Warmer</td>\n",
       "      <td>Winter</td>\n",
       "      <td>No notes at this time.</td>\n",
       "      <td>f</td>\n",
       "    </tr>\n",
       "    <tr>\n",
       "      <th>6819</th>\n",
       "      <td>He'Brew Hanukkah, Chanukah: Pass The Beer</td>\n",
       "      <td>699</td>\n",
       "      <td>Winter Warmer</td>\n",
       "      <td>17</td>\n",
       "      <td>Shmaltz Brewing Company</td>\n",
       "      <td>Notes:Chanukah Beer pours a rich crystal clear...</td>\n",
       "      <td>8.0</td>\n",
       "      <td>3.61</td>\n",
       "      <td>35</td>\n",
       "      <td>50</td>\n",
       "      <td>...</td>\n",
       "      <td>23</td>\n",
       "      <td>129</td>\n",
       "      <td>145097</td>\n",
       "      <td>262</td>\n",
       "      <td>NY</td>\n",
       "      <td>US</td>\n",
       "      <td>Winter Warmer</td>\n",
       "      <td>Rotating</td>\n",
       "      <td>Chanukah Beer pours a rich crystal clear chest...</td>\n",
       "      <td>f</td>\n",
       "    </tr>\n",
       "    <tr>\n",
       "      <th>6820</th>\n",
       "      <td>Frosted Frog Christmas Ale - Barrel-Aged</td>\n",
       "      <td>700</td>\n",
       "      <td>Winter Warmer</td>\n",
       "      <td>17</td>\n",
       "      <td>Hoppin' Frog Brewery</td>\n",
       "      <td>Notes:The essence of Christmas is captured in ...</td>\n",
       "      <td>8.6</td>\n",
       "      <td>3.89</td>\n",
       "      <td>35</td>\n",
       "      <td>50</td>\n",
       "      <td>...</td>\n",
       "      <td>148</td>\n",
       "      <td>69</td>\n",
       "      <td>64096</td>\n",
       "      <td>14879</td>\n",
       "      <td>OH</td>\n",
       "      <td>US</td>\n",
       "      <td>Winter Warmer</td>\n",
       "      <td>Winter</td>\n",
       "      <td>The essence of Christmas is captured in this v...</td>\n",
       "      <td>f</td>\n",
       "    </tr>\n",
       "  </tbody>\n",
       "</table>\n",
       "<p>6821 rows × 29 columns</p>\n",
       "</div>"
      ],
      "text/plain": [
       "                                           name  key        style_x  \\\n",
       "0                                         Amber  251        Altbier   \n",
       "1                                         Amber  251        Altbier   \n",
       "2                                         Amber  251        Altbier   \n",
       "3                                         Amber  251        Altbier   \n",
       "4                                         Amber  251        Altbier   \n",
       "...                                         ...  ...            ...   \n",
       "6816                         The First Snow Ale  695  Winter Warmer   \n",
       "6817                        Red Nose Winter Ale  696  Winter Warmer   \n",
       "6818                       Fish Tale Winterfish  698  Winter Warmer   \n",
       "6819  He'Brew Hanukkah, Chanukah: Pass The Beer  699  Winter Warmer   \n",
       "6820   Frosted Frog Christmas Ale - Barrel-Aged  700  Winter Warmer   \n",
       "\n",
       "      style key                                  brewery  \\\n",
       "0             8                      Alaskan Brewing Co.   \n",
       "1             8                      Alaskan Brewing Co.   \n",
       "2             8                      Alaskan Brewing Co.   \n",
       "3             8                      Alaskan Brewing Co.   \n",
       "4             8                      Alaskan Brewing Co.   \n",
       "...         ...                                      ...   \n",
       "6816         17               RJ Rockers Brewing Company   \n",
       "6817         17         Natty Greene's Pub & Brewing Co.   \n",
       "6818         17  Fish Brewing Company / Fishbowl Brewpub   \n",
       "6819         17                  Shmaltz Brewing Company   \n",
       "6820         17                     Hoppin' Frog Brewery   \n",
       "\n",
       "                                            description  abv  ave rating  \\\n",
       "0     Notes:Richly malty and long on the palate, wit...  5.3        3.65   \n",
       "1     Notes:Richly malty and long on the palate, wit...  5.3        3.65   \n",
       "2     Notes:Richly malty and long on the palate, wit...  5.3        3.65   \n",
       "3     Notes:Richly malty and long on the palate, wit...  5.3        3.65   \n",
       "4     Notes:Richly malty and long on the palate, wit...  5.3        3.65   \n",
       "...                                                 ...  ...         ...   \n",
       "6816  Notes:This hearty American pale ale contains a...  6.0        3.63   \n",
       "6817                                             Notes:  6.8        3.59   \n",
       "6818                                             Notes:  7.5        3.76   \n",
       "6819  Notes:Chanukah Beer pours a rich crystal clear...  8.0        3.61   \n",
       "6820  Notes:The essence of Christmas is captured in ...  8.6        3.89   \n",
       "\n",
       "      min ibu  max ibu  ...  spices  malty      id  brewery_id  state  \\\n",
       "0          25       50  ...       8    111  132672       35510     CO   \n",
       "1          25       50  ...       8    111  295007       42153     AK   \n",
       "2          25       50  ...       8    111  357413       49640     TX   \n",
       "3          25       50  ...       8    111   91362       29245     ON   \n",
       "4          25       50  ...       8    111  300726       50326     TX   \n",
       "...       ...      ...  ...     ...    ...     ...         ...    ...   \n",
       "6816       35       50  ...     140     58   26344        4408     SC   \n",
       "6817       35       50  ...      96     77   21003        9792     NC   \n",
       "6818       35       50  ...      18     73    3579         684     WA   \n",
       "6819       35       50  ...      23    129  145097         262     NY   \n",
       "6820       35       50  ...     148     69   64096       14879     OH   \n",
       "\n",
       "      country                   style_y            availability  \\\n",
       "0          US  American Amber / Red Ale                Rotating   \n",
       "1          US  American Amber / Red Ale                Rotating   \n",
       "2          US  American Amber / Red Ale              Year-round   \n",
       "3          CA              Scottish Ale   Limited (brewed once)   \n",
       "4          US  American Amber / Red Ale              Year-round   \n",
       "...       ...                       ...                     ...   \n",
       "6816       US             Winter Warmer                    Fall   \n",
       "6817       US             Winter Warmer                  Winter   \n",
       "6818       US             Winter Warmer                  Winter   \n",
       "6819       US             Winter Warmer                Rotating   \n",
       "6820       US             Winter Warmer                  Winter   \n",
       "\n",
       "                                                  notes  retired  \n",
       "0                                No notes at this time.        f  \n",
       "1                                No notes at this time.        f  \n",
       "2                                No notes at this time.        f  \n",
       "3                                No notes at this time.        t  \n",
       "4                                No notes at this time.        f  \n",
       "...                                                 ...      ...  \n",
       "6816  This hearty American pale ale contains a rich ...        f  \n",
       "6817                             No notes at this time.        f  \n",
       "6818                             No notes at this time.        f  \n",
       "6819  Chanukah Beer pours a rich crystal clear chest...        f  \n",
       "6820  The essence of Christmas is captured in this v...        f  \n",
       "\n",
       "[6821 rows x 29 columns]"
      ]
     },
     "execution_count": 13,
     "metadata": {},
     "output_type": "execute_result"
    }
   ],
   "source": [
    "pd.merge(top, beers, on=['name', 'abv'], how='inner')"
   ]
  },
  {
   "cell_type": "code",
   "execution_count": null,
   "id": "6e295fb4",
   "metadata": {
    "ExecuteTime": {
     "end_time": "2021-08-23T15:31:06.836898Z",
     "start_time": "2021-08-23T15:31:06.702018Z"
    }
   },
   "outputs": [],
   "source": [
    "top"
   ]
  },
  {
   "cell_type": "code",
   "execution_count": null,
   "id": "6e8568fa",
   "metadata": {
    "ExecuteTime": {
     "end_time": "2021-08-23T13:54:39.091484Z",
     "start_time": "2021-08-23T13:54:39.070737Z"
    }
   },
   "outputs": [],
   "source": [
    "pd.Series(top_names).shape, pd.Series(top_names).unique().shape"
   ]
  },
  {
   "cell_type": "code",
   "execution_count": null,
   "id": "2c4eaac2",
   "metadata": {
    "ExecuteTime": {
     "end_time": "2021-08-23T15:30:18.930963Z",
     "start_time": "2021-08-23T15:30:18.816177Z"
    }
   },
   "outputs": [],
   "source": [
    "common = [x for x in top_names if x in beers.name]"
   ]
  },
  {
   "cell_type": "code",
   "execution_count": null,
   "id": "d5883ff3",
   "metadata": {
    "ExecuteTime": {
     "end_time": "2021-08-23T15:30:20.410871Z",
     "start_time": "2021-08-23T15:30:20.401539Z"
    }
   },
   "outputs": [],
   "source": [
    "len(common)"
   ]
  },
  {
   "cell_type": "code",
   "execution_count": null,
   "id": "48795b08",
   "metadata": {
    "ExecuteTime": {
     "end_time": "2021-08-23T14:59:52.569200Z",
     "start_time": "2021-08-23T14:59:34.279554Z"
    }
   },
   "outputs": [],
   "source": [
    "diff = [x for x in top_names if x not in names]"
   ]
  },
  {
   "cell_type": "code",
   "execution_count": null,
   "id": "3ce186e8",
   "metadata": {
    "ExecuteTime": {
     "end_time": "2021-08-23T14:59:52.599077Z",
     "start_time": "2021-08-23T14:59:52.571709Z"
    }
   },
   "outputs": [],
   "source": [
    "diff"
   ]
  },
  {
   "cell_type": "code",
   "execution_count": null,
   "id": "032057c6",
   "metadata": {
    "ExecuteTime": {
     "end_time": "2021-08-23T13:44:05.972477Z",
     "start_time": "2021-08-23T13:43:58.130487Z"
    }
   },
   "outputs": [],
   "source": [
    "review_name = [clean_string(x) for x in beer_review.beer_name]\n",
    "review_name"
   ]
  },
  {
   "cell_type": "code",
   "execution_count": null,
   "id": "d9144ccf",
   "metadata": {
    "ExecuteTime": {
     "end_time": "2021-08-23T13:46:25.727245Z",
     "start_time": "2021-08-23T13:44:05.992145Z"
    }
   },
   "outputs": [],
   "source": [
    "common2 = [x for x in top_names if x in review_name]\n",
    "len(common2)"
   ]
  },
  {
   "cell_type": "code",
   "execution_count": null,
   "id": "cbb5323d",
   "metadata": {
    "ExecuteTime": {
     "end_time": "2021-08-23T13:46:25.760903Z",
     "start_time": "2021-08-23T13:46:25.732684Z"
    }
   },
   "outputs": [],
   "source": [
    "beer_review.beer_name.head(30)"
   ]
  },
  {
   "cell_type": "code",
   "execution_count": null,
   "id": "7b39694c",
   "metadata": {
    "ExecuteTime": {
     "end_time": "2021-08-23T14:09:40.730429Z",
     "start_time": "2021-08-23T14:09:40.372229Z"
    }
   },
   "outputs": [],
   "source": [
    "a = pd.merge(top, beers, on=['name', 'abv'], how='left')"
   ]
  },
  {
   "cell_type": "code",
   "execution_count": null,
   "id": "80e3039a",
   "metadata": {
    "ExecuteTime": {
     "end_time": "2021-08-23T14:09:58.432967Z",
     "start_time": "2021-08-23T14:09:58.366442Z"
    }
   },
   "outputs": [],
   "source": [
    "a"
   ]
  },
  {
   "cell_type": "code",
   "execution_count": null,
   "id": "098735fa",
   "metadata": {},
   "outputs": [],
   "source": []
  },
  {
   "cell_type": "code",
   "execution_count": null,
   "id": "4c228271",
   "metadata": {
    "ExecuteTime": {
     "end_time": "2021-08-23T14:02:43.113586Z",
     "start_time": "2021-08-23T14:02:43.087073Z"
    }
   },
   "outputs": [],
   "source": [
    "top[['name', 'brewery', 'abv']]"
   ]
  },
  {
   "cell_type": "code",
   "execution_count": 19,
   "id": "9f386674",
   "metadata": {
    "ExecuteTime": {
     "end_time": "2021-08-23T15:48:15.786122Z",
     "start_time": "2021-08-23T15:48:15.770380Z"
    }
   },
   "outputs": [
    {
     "data": {
      "text/plain": [
       "['Alaskan Brewing Co.',\n",
       " 'Alaskan Brewing Co.',\n",
       " 'Alaskan Brewing Co.',\n",
       " 'Alaskan Brewing Co.',\n",
       " 'Alaskan Brewing Co.',\n",
       " 'Alaskan Brewing Co.',\n",
       " 'Alaskan Brewing Co.',\n",
       " 'Alaskan Brewing Co.',\n",
       " 'Alaskan Brewing Co.']"
      ]
     },
     "execution_count": 19,
     "metadata": {},
     "output_type": "execute_result"
    }
   ],
   "source": [
    "[x for x in top.brewery if 'alask' in x.lower()]"
   ]
  },
  {
   "cell_type": "code",
   "execution_count": 21,
   "id": "78b8472a",
   "metadata": {
    "ExecuteTime": {
     "end_time": "2021-08-23T15:49:37.828420Z",
     "start_time": "2021-08-23T15:49:37.713137Z"
    }
   },
   "outputs": [
    {
     "data": {
      "text/plain": [
       "[]"
      ]
     },
     "execution_count": 21,
     "metadata": {},
     "output_type": "execute_result"
    }
   ],
   "source": [
    "[x for x in top.brewery if x in brewries.brewery]"
   ]
  },
  {
   "cell_type": "code",
   "execution_count": 24,
   "id": "35da3193",
   "metadata": {
    "ExecuteTime": {
     "end_time": "2021-08-23T15:50:51.397661Z",
     "start_time": "2021-08-23T15:50:51.388422Z"
    }
   },
   "outputs": [
    {
     "data": {
      "text/plain": [
       "False"
      ]
     },
     "execution_count": 24,
     "metadata": {},
     "output_type": "execute_result"
    }
   ],
   "source": [
    "'Alaskan Brewing Co.' in brewries.brewery"
   ]
  },
  {
   "cell_type": "code",
   "execution_count": 32,
   "id": "c625c5b2",
   "metadata": {
    "ExecuteTime": {
     "end_time": "2021-08-23T15:53:28.456613Z",
     "start_time": "2021-08-23T15:53:28.236954Z"
    }
   },
   "outputs": [
    {
     "data": {
      "text/html": [
       "<div>\n",
       "<style scoped>\n",
       "    .dataframe tbody tr th:only-of-type {\n",
       "        vertical-align: middle;\n",
       "    }\n",
       "\n",
       "    .dataframe tbody tr th {\n",
       "        vertical-align: top;\n",
       "    }\n",
       "\n",
       "    .dataframe thead th {\n",
       "        text-align: right;\n",
       "    }\n",
       "</style>\n",
       "<table border=\"1\" class=\"dataframe\">\n",
       "  <thead>\n",
       "    <tr style=\"text-align: right;\">\n",
       "      <th></th>\n",
       "      <th>brewery_id</th>\n",
       "      <th>brewery</th>\n",
       "      <th>city</th>\n",
       "      <th>state</th>\n",
       "      <th>country</th>\n",
       "      <th>notes</th>\n",
       "      <th>types</th>\n",
       "    </tr>\n",
       "  </thead>\n",
       "  <tbody>\n",
       "    <tr>\n",
       "      <th>36093</th>\n",
       "      <td>38504</td>\n",
       "      <td>a VBeure Cerveses artesanes a Girona</td>\n",
       "      <td>Girona</td>\n",
       "      <td>NaN</td>\n",
       "      <td>ES</td>\n",
       "      <td>No notes at this time.</td>\n",
       "      <td>Bar, Eatery, Homebrew, Beer-to-go</td>\n",
       "    </tr>\n",
       "    <tr>\n",
       "      <th>17911</th>\n",
       "      <td>5624</td>\n",
       "      <td>a tutta Birra</td>\n",
       "      <td>Milano</td>\n",
       "      <td>NaN</td>\n",
       "      <td>IT</td>\n",
       "      <td>No notes at this time.</td>\n",
       "      <td>Store</td>\n",
       "    </tr>\n",
       "    <tr>\n",
       "      <th>43137</th>\n",
       "      <td>32662</td>\n",
       "      <td>a.k.a. Friscos</td>\n",
       "      <td>Frederick</td>\n",
       "      <td>MD</td>\n",
       "      <td>US</td>\n",
       "      <td>No notes at this time.</td>\n",
       "      <td>Eatery, Beer-to-go</td>\n",
       "    </tr>\n",
       "    <tr>\n",
       "      <th>2145</th>\n",
       "      <td>26781</td>\n",
       "      <td>aliveOne</td>\n",
       "      <td>Chicago</td>\n",
       "      <td>IL</td>\n",
       "      <td>US</td>\n",
       "      <td>Sunday - Friday: 5 pm - 2 am</td>\n",
       "      <td>Bar</td>\n",
       "    </tr>\n",
       "    <tr>\n",
       "      <th>17600</th>\n",
       "      <td>24031</td>\n",
       "      <td>aliveOne</td>\n",
       "      <td>Cincinnati</td>\n",
       "      <td>OH</td>\n",
       "      <td>US</td>\n",
       "      <td>No notes at this time.</td>\n",
       "      <td>Bar, Beer-to-go</td>\n",
       "    </tr>\n",
       "    <tr>\n",
       "      <th>15831</th>\n",
       "      <td>51876</td>\n",
       "      <td>amperbräu Bachhuber, Böswirth, Eberl, Gall &amp; S...</td>\n",
       "      <td>Neuhimmelreich</td>\n",
       "      <td>NaN</td>\n",
       "      <td>DE</td>\n",
       "      <td>No notes at this time.</td>\n",
       "      <td>Brewery</td>\n",
       "    </tr>\n",
       "    <tr>\n",
       "      <th>7819</th>\n",
       "      <td>10608</td>\n",
       "      <td>anotheroom</td>\n",
       "      <td>New York</td>\n",
       "      <td>NY</td>\n",
       "      <td>US</td>\n",
       "      <td>No notes at this time.</td>\n",
       "      <td>Bar</td>\n",
       "    </tr>\n",
       "    <tr>\n",
       "      <th>16110</th>\n",
       "      <td>32210</td>\n",
       "      <td>b2 Taphouse</td>\n",
       "      <td>Salem</td>\n",
       "      <td>OR</td>\n",
       "      <td>US</td>\n",
       "      <td>No notes at this time.</td>\n",
       "      <td>Bar, Beer-to-go</td>\n",
       "    </tr>\n",
       "    <tr>\n",
       "      <th>13659</th>\n",
       "      <td>36372</td>\n",
       "      <td>barleymash</td>\n",
       "      <td>San Diego</td>\n",
       "      <td>CA</td>\n",
       "      <td>US</td>\n",
       "      <td>No notes at this time.</td>\n",
       "      <td>Bar, Eatery</td>\n",
       "    </tr>\n",
       "    <tr>\n",
       "      <th>48000</th>\n",
       "      <td>43235</td>\n",
       "      <td>bb Jack's</td>\n",
       "      <td>DeForest</td>\n",
       "      <td>WI</td>\n",
       "      <td>US</td>\n",
       "      <td>No notes at this time.</td>\n",
       "      <td>Bar, Eatery</td>\n",
       "    </tr>\n",
       "    <tr>\n",
       "      <th>38702</th>\n",
       "      <td>38701</td>\n",
       "      <td>bd's Mongolian Grill</td>\n",
       "      <td>Independence</td>\n",
       "      <td>MO</td>\n",
       "      <td>US</td>\n",
       "      <td>No notes at this time.</td>\n",
       "      <td>Bar, Eatery, Beer-to-go</td>\n",
       "    </tr>\n",
       "    <tr>\n",
       "      <th>27916</th>\n",
       "      <td>44945</td>\n",
       "      <td>beerthirty</td>\n",
       "      <td>Greensboro</td>\n",
       "      <td>NC</td>\n",
       "      <td>US</td>\n",
       "      <td>No notes at this time.</td>\n",
       "      <td>Bar, Beer-to-go</td>\n",
       "    </tr>\n",
       "    <tr>\n",
       "      <th>45722</th>\n",
       "      <td>41387</td>\n",
       "      <td>bottleBOX</td>\n",
       "      <td>Norfolk</td>\n",
       "      <td>VA</td>\n",
       "      <td>US</td>\n",
       "      <td>12 Draft options for Growler/Crowler</td>\n",
       "      <td>Store</td>\n",
       "    </tr>\n",
       "    <tr>\n",
       "      <th>6253</th>\n",
       "      <td>23797</td>\n",
       "      <td>burger.</td>\n",
       "      <td>Santa Cruz</td>\n",
       "      <td>CA</td>\n",
       "      <td>US</td>\n",
       "      <td>No notes at this time.</td>\n",
       "      <td>Bar, Eatery, Beer-to-go</td>\n",
       "    </tr>\n",
       "    <tr>\n",
       "      <th>48728</th>\n",
       "      <td>39570</td>\n",
       "      <td>burgh'ers</td>\n",
       "      <td>Harmony</td>\n",
       "      <td>PA</td>\n",
       "      <td>US</td>\n",
       "      <td>No notes at this time.</td>\n",
       "      <td>Bar, Eatery</td>\n",
       "    </tr>\n",
       "    <tr>\n",
       "      <th>17462</th>\n",
       "      <td>32320</td>\n",
       "      <td>c!ty'super - Harbour City</td>\n",
       "      <td>Kowloon</td>\n",
       "      <td>NaN</td>\n",
       "      <td>HK</td>\n",
       "      <td>Located on the 3rd Floor of Harbour City.</td>\n",
       "      <td>Store</td>\n",
       "    </tr>\n",
       "    <tr>\n",
       "      <th>722</th>\n",
       "      <td>32322</td>\n",
       "      <td>c!ty'super - IFC Mall</td>\n",
       "      <td>Hong Kong Island</td>\n",
       "      <td>NaN</td>\n",
       "      <td>HK</td>\n",
       "      <td>Located at Shops 1041-49, Level 1, IFC Mall.</td>\n",
       "      <td>Store</td>\n",
       "    </tr>\n",
       "    <tr>\n",
       "      <th>5355</th>\n",
       "      <td>27172</td>\n",
       "      <td>c!ty'super - New Town Plaza</td>\n",
       "      <td>New Territories</td>\n",
       "      <td>NaN</td>\n",
       "      <td>HK</td>\n",
       "      <td>Located on Level 2, Shops 204-214.</td>\n",
       "      <td>Store</td>\n",
       "    </tr>\n",
       "    <tr>\n",
       "      <th>4771</th>\n",
       "      <td>32321</td>\n",
       "      <td>c!ty'super - Times Square</td>\n",
       "      <td>Hong Kong Island</td>\n",
       "      <td>NaN</td>\n",
       "      <td>HK</td>\n",
       "      <td>Located on Basement 1 of Times Square.</td>\n",
       "      <td>Store</td>\n",
       "    </tr>\n",
       "    <tr>\n",
       "      <th>47974</th>\n",
       "      <td>28112</td>\n",
       "      <td>cork &amp; tap</td>\n",
       "      <td>Greenville</td>\n",
       "      <td>SC</td>\n",
       "      <td>US</td>\n",
       "      <td>No notes at this time.</td>\n",
       "      <td>Bar, Eatery, Beer-to-go</td>\n",
       "    </tr>\n",
       "  </tbody>\n",
       "</table>\n",
       "</div>"
      ],
      "text/plain": [
       "       brewery_id                                            brewery  \\\n",
       "36093       38504               a VBeure Cerveses artesanes a Girona   \n",
       "17911        5624                                      a tutta Birra   \n",
       "43137       32662                                     a.k.a. Friscos   \n",
       "2145        26781                                           aliveOne   \n",
       "17600       24031                                           aliveOne   \n",
       "15831       51876  amperbräu Bachhuber, Böswirth, Eberl, Gall & S...   \n",
       "7819        10608                                         anotheroom   \n",
       "16110       32210                                        b2 Taphouse   \n",
       "13659       36372                                         barleymash   \n",
       "48000       43235                                          bb Jack's   \n",
       "38702       38701                               bd's Mongolian Grill   \n",
       "27916       44945                                         beerthirty   \n",
       "45722       41387                                          bottleBOX   \n",
       "6253        23797                                            burger.   \n",
       "48728       39570                                          burgh'ers   \n",
       "17462       32320                          c!ty'super - Harbour City   \n",
       "722         32322                              c!ty'super - IFC Mall   \n",
       "5355        27172                        c!ty'super - New Town Plaza   \n",
       "4771        32321                          c!ty'super - Times Square   \n",
       "47974       28112                                         cork & tap   \n",
       "\n",
       "                   city state country  \\\n",
       "36093            Girona   NaN      ES   \n",
       "17911            Milano   NaN      IT   \n",
       "43137         Frederick    MD      US   \n",
       "2145            Chicago    IL      US   \n",
       "17600        Cincinnati    OH      US   \n",
       "15831    Neuhimmelreich   NaN      DE   \n",
       "7819           New York    NY      US   \n",
       "16110             Salem    OR      US   \n",
       "13659         San Diego    CA      US   \n",
       "48000          DeForest    WI      US   \n",
       "38702      Independence    MO      US   \n",
       "27916        Greensboro    NC      US   \n",
       "45722           Norfolk    VA      US   \n",
       "6253         Santa Cruz    CA      US   \n",
       "48728           Harmony    PA      US   \n",
       "17462           Kowloon   NaN      HK   \n",
       "722    Hong Kong Island   NaN      HK   \n",
       "5355    New Territories   NaN      HK   \n",
       "4771   Hong Kong Island   NaN      HK   \n",
       "47974        Greenville    SC      US   \n",
       "\n",
       "                                              notes  \\\n",
       "36093                        No notes at this time.   \n",
       "17911                        No notes at this time.   \n",
       "43137                        No notes at this time.   \n",
       "2145                  Sunday - Friday: 5 pm - 2 am    \n",
       "17600                        No notes at this time.   \n",
       "15831                        No notes at this time.   \n",
       "7819                         No notes at this time.   \n",
       "16110                        No notes at this time.   \n",
       "13659                        No notes at this time.   \n",
       "48000                        No notes at this time.   \n",
       "38702                        No notes at this time.   \n",
       "27916                        No notes at this time.   \n",
       "45722          12 Draft options for Growler/Crowler   \n",
       "6253                         No notes at this time.   \n",
       "48728                        No notes at this time.   \n",
       "17462     Located on the 3rd Floor of Harbour City.   \n",
       "722    Located at Shops 1041-49, Level 1, IFC Mall.   \n",
       "5355             Located on Level 2, Shops 204-214.   \n",
       "4771         Located on Basement 1 of Times Square.   \n",
       "47974                        No notes at this time.   \n",
       "\n",
       "                                   types  \n",
       "36093  Bar, Eatery, Homebrew, Beer-to-go  \n",
       "17911                              Store  \n",
       "43137                 Eatery, Beer-to-go  \n",
       "2145                                 Bar  \n",
       "17600                    Bar, Beer-to-go  \n",
       "15831                            Brewery  \n",
       "7819                                 Bar  \n",
       "16110                    Bar, Beer-to-go  \n",
       "13659                        Bar, Eatery  \n",
       "48000                        Bar, Eatery  \n",
       "38702            Bar, Eatery, Beer-to-go  \n",
       "27916                    Bar, Beer-to-go  \n",
       "45722                              Store  \n",
       "6253             Bar, Eatery, Beer-to-go  \n",
       "48728                        Bar, Eatery  \n",
       "17462                              Store  \n",
       "722                                Store  \n",
       "5355                               Store  \n",
       "4771                               Store  \n",
       "47974            Bar, Eatery, Beer-to-go  "
      ]
     },
     "execution_count": 32,
     "metadata": {},
     "output_type": "execute_result"
    }
   ],
   "source": [
    "brewries.sort_values('brewery')[brewries.brewery.sort_values() > 'a'].head(20)"
   ]
  },
  {
   "cell_type": "code",
   "execution_count": 35,
   "id": "a59b2a48",
   "metadata": {
    "ExecuteTime": {
     "end_time": "2021-08-23T15:55:18.583851Z",
     "start_time": "2021-08-23T15:55:18.552333Z"
    }
   },
   "outputs": [
    {
     "data": {
      "text/html": [
       "<div>\n",
       "<style scoped>\n",
       "    .dataframe tbody tr th:only-of-type {\n",
       "        vertical-align: middle;\n",
       "    }\n",
       "\n",
       "    .dataframe tbody tr th {\n",
       "        vertical-align: top;\n",
       "    }\n",
       "\n",
       "    .dataframe thead th {\n",
       "        text-align: right;\n",
       "    }\n",
       "</style>\n",
       "<table border=\"1\" class=\"dataframe\">\n",
       "  <thead>\n",
       "    <tr style=\"text-align: right;\">\n",
       "      <th></th>\n",
       "      <th>brewery_id</th>\n",
       "      <th>brewery</th>\n",
       "      <th>city</th>\n",
       "      <th>state</th>\n",
       "      <th>country</th>\n",
       "      <th>notes</th>\n",
       "      <th>types</th>\n",
       "    </tr>\n",
       "  </thead>\n",
       "  <tbody>\n",
       "    <tr>\n",
       "      <th>43210</th>\n",
       "      <td>429</td>\n",
       "      <td>Alaskan Brewing Co.</td>\n",
       "      <td>Juneau</td>\n",
       "      <td>AK</td>\n",
       "      <td>US</td>\n",
       "      <td>No notes at this time.</td>\n",
       "      <td>Brewery, Bar, Beer-to-go</td>\n",
       "    </tr>\n",
       "  </tbody>\n",
       "</table>\n",
       "</div>"
      ],
      "text/plain": [
       "       brewery_id              brewery    city state country  \\\n",
       "43210         429  Alaskan Brewing Co.  Juneau    AK      US   \n",
       "\n",
       "                        notes                     types  \n",
       "43210  No notes at this time.  Brewery, Bar, Beer-to-go  "
      ]
     },
     "execution_count": 35,
     "metadata": {},
     "output_type": "execute_result"
    }
   ],
   "source": [
    "brewries[brewries.brewery == 'Alaskan Brewing Co.']"
   ]
  },
  {
   "cell_type": "code",
   "execution_count": 36,
   "id": "973b59c2",
   "metadata": {
    "ExecuteTime": {
     "end_time": "2021-08-23T15:56:14.191804Z",
     "start_time": "2021-08-23T15:56:14.062059Z"
    }
   },
   "outputs": [
    {
     "data": {
      "text/plain": [
       "[]"
      ]
     },
     "execution_count": 36,
     "metadata": {},
     "output_type": "execute_result"
    }
   ],
   "source": [
    "[x for x in top.brewery if str(x) in brewries.brewery]"
   ]
  },
  {
   "cell_type": "code",
   "execution_count": 40,
   "id": "79f1133b",
   "metadata": {
    "ExecuteTime": {
     "end_time": "2021-08-23T15:58:03.895059Z",
     "start_time": "2021-08-23T15:58:03.846151Z"
    }
   },
   "outputs": [
    {
     "data": {
      "text/plain": [
       "1"
      ]
     },
     "execution_count": 40,
     "metadata": {},
     "output_type": "execute_result"
    }
   ],
   "source": [
    "brewries.brewery.str.contains('Alaskan Brewing Co.').sum()"
   ]
  },
  {
   "cell_type": "code",
   "execution_count": 42,
   "id": "0983f026",
   "metadata": {
    "ExecuteTime": {
     "end_time": "2021-08-23T16:02:14.622334Z",
     "start_time": "2021-08-23T16:01:32.467025Z"
    }
   },
   "outputs": [
    {
     "name": "stderr",
     "output_type": "stream",
     "text": [
      "/var/folders/_5/s9wbxcy503dggw34b98btk9c0000gp/T/ipykernel_11608/1710260272.py:1: UserWarning: This pattern has match groups. To actually get the groups, use str.extract.\n",
      "  [x for x in top.brewery if brewries.brewery.str.contains(x).sum() > 0]\n"
     ]
    },
    {
     "ename": "KeyboardInterrupt",
     "evalue": "",
     "output_type": "error",
     "traceback": [
      "\u001b[0;31m---------------------------------------------------------------------------\u001b[0m",
      "\u001b[0;31mKeyboardInterrupt\u001b[0m                         Traceback (most recent call last)",
      "\u001b[0;32m/var/folders/_5/s9wbxcy503dggw34b98btk9c0000gp/T/ipykernel_11608/1710260272.py\u001b[0m in \u001b[0;36m<module>\u001b[0;34m\u001b[0m\n\u001b[0;32m----> 1\u001b[0;31m \u001b[0;34m[\u001b[0m\u001b[0mx\u001b[0m \u001b[0;32mfor\u001b[0m \u001b[0mx\u001b[0m \u001b[0;32min\u001b[0m \u001b[0mtop\u001b[0m\u001b[0;34m.\u001b[0m\u001b[0mbrewery\u001b[0m \u001b[0;32mif\u001b[0m \u001b[0mbrewries\u001b[0m\u001b[0;34m.\u001b[0m\u001b[0mbrewery\u001b[0m\u001b[0;34m.\u001b[0m\u001b[0mstr\u001b[0m\u001b[0;34m.\u001b[0m\u001b[0mcontains\u001b[0m\u001b[0;34m(\u001b[0m\u001b[0mx\u001b[0m\u001b[0;34m)\u001b[0m\u001b[0;34m.\u001b[0m\u001b[0msum\u001b[0m\u001b[0;34m(\u001b[0m\u001b[0;34m)\u001b[0m \u001b[0;34m>\u001b[0m \u001b[0;36m0\u001b[0m\u001b[0;34m]\u001b[0m\u001b[0;34m\u001b[0m\u001b[0;34m\u001b[0m\u001b[0m\n\u001b[0m",
      "\u001b[0;32m/var/folders/_5/s9wbxcy503dggw34b98btk9c0000gp/T/ipykernel_11608/1710260272.py\u001b[0m in \u001b[0;36m<listcomp>\u001b[0;34m(.0)\u001b[0m\n\u001b[0;32m----> 1\u001b[0;31m \u001b[0;34m[\u001b[0m\u001b[0mx\u001b[0m \u001b[0;32mfor\u001b[0m \u001b[0mx\u001b[0m \u001b[0;32min\u001b[0m \u001b[0mtop\u001b[0m\u001b[0;34m.\u001b[0m\u001b[0mbrewery\u001b[0m \u001b[0;32mif\u001b[0m \u001b[0mbrewries\u001b[0m\u001b[0;34m.\u001b[0m\u001b[0mbrewery\u001b[0m\u001b[0;34m.\u001b[0m\u001b[0mstr\u001b[0m\u001b[0;34m.\u001b[0m\u001b[0mcontains\u001b[0m\u001b[0;34m(\u001b[0m\u001b[0mx\u001b[0m\u001b[0;34m)\u001b[0m\u001b[0;34m.\u001b[0m\u001b[0msum\u001b[0m\u001b[0;34m(\u001b[0m\u001b[0;34m)\u001b[0m \u001b[0;34m>\u001b[0m \u001b[0;36m0\u001b[0m\u001b[0;34m]\u001b[0m\u001b[0;34m\u001b[0m\u001b[0;34m\u001b[0m\u001b[0m\n\u001b[0m",
      "\u001b[0;32m~/.pyenv/versions/3.8.6/envs/zytholic_project/lib/python3.8/site-packages/pandas/core/strings/accessor.py\u001b[0m in \u001b[0;36mwrapper\u001b[0;34m(self, *args, **kwargs)\u001b[0m\n\u001b[1;32m    114\u001b[0m                 )\n\u001b[1;32m    115\u001b[0m                 \u001b[0;32mraise\u001b[0m \u001b[0mTypeError\u001b[0m\u001b[0;34m(\u001b[0m\u001b[0mmsg\u001b[0m\u001b[0;34m)\u001b[0m\u001b[0;34m\u001b[0m\u001b[0;34m\u001b[0m\u001b[0m\n\u001b[0;32m--> 116\u001b[0;31m             \u001b[0;32mreturn\u001b[0m \u001b[0mfunc\u001b[0m\u001b[0;34m(\u001b[0m\u001b[0mself\u001b[0m\u001b[0;34m,\u001b[0m \u001b[0;34m*\u001b[0m\u001b[0margs\u001b[0m\u001b[0;34m,\u001b[0m \u001b[0;34m**\u001b[0m\u001b[0mkwargs\u001b[0m\u001b[0;34m)\u001b[0m\u001b[0;34m\u001b[0m\u001b[0;34m\u001b[0m\u001b[0m\n\u001b[0m\u001b[1;32m    117\u001b[0m \u001b[0;34m\u001b[0m\u001b[0m\n\u001b[1;32m    118\u001b[0m         \u001b[0mwrapper\u001b[0m\u001b[0;34m.\u001b[0m\u001b[0m__name__\u001b[0m \u001b[0;34m=\u001b[0m \u001b[0mfunc_name\u001b[0m\u001b[0;34m\u001b[0m\u001b[0;34m\u001b[0m\u001b[0m\n",
      "\u001b[0;32m~/.pyenv/versions/3.8.6/envs/zytholic_project/lib/python3.8/site-packages/pandas/core/strings/accessor.py\u001b[0m in \u001b[0;36mcontains\u001b[0;34m(self, pat, case, flags, na, regex)\u001b[0m\n\u001b[1;32m   1159\u001b[0m             )\n\u001b[1;32m   1160\u001b[0m \u001b[0;34m\u001b[0m\u001b[0m\n\u001b[0;32m-> 1161\u001b[0;31m         \u001b[0mresult\u001b[0m \u001b[0;34m=\u001b[0m \u001b[0mself\u001b[0m\u001b[0;34m.\u001b[0m\u001b[0m_data\u001b[0m\u001b[0;34m.\u001b[0m\u001b[0marray\u001b[0m\u001b[0;34m.\u001b[0m\u001b[0m_str_contains\u001b[0m\u001b[0;34m(\u001b[0m\u001b[0mpat\u001b[0m\u001b[0;34m,\u001b[0m \u001b[0mcase\u001b[0m\u001b[0;34m,\u001b[0m \u001b[0mflags\u001b[0m\u001b[0;34m,\u001b[0m \u001b[0mna\u001b[0m\u001b[0;34m,\u001b[0m \u001b[0mregex\u001b[0m\u001b[0;34m)\u001b[0m\u001b[0;34m\u001b[0m\u001b[0;34m\u001b[0m\u001b[0m\n\u001b[0m\u001b[1;32m   1162\u001b[0m         \u001b[0;32mreturn\u001b[0m \u001b[0mself\u001b[0m\u001b[0;34m.\u001b[0m\u001b[0m_wrap_result\u001b[0m\u001b[0;34m(\u001b[0m\u001b[0mresult\u001b[0m\u001b[0;34m,\u001b[0m \u001b[0mfill_value\u001b[0m\u001b[0;34m=\u001b[0m\u001b[0mna\u001b[0m\u001b[0;34m,\u001b[0m \u001b[0mreturns_string\u001b[0m\u001b[0;34m=\u001b[0m\u001b[0;32mFalse\u001b[0m\u001b[0;34m)\u001b[0m\u001b[0;34m\u001b[0m\u001b[0;34m\u001b[0m\u001b[0m\n\u001b[1;32m   1163\u001b[0m \u001b[0;34m\u001b[0m\u001b[0m\n",
      "\u001b[0;32m~/.pyenv/versions/3.8.6/envs/zytholic_project/lib/python3.8/site-packages/pandas/core/strings/object_array.py\u001b[0m in \u001b[0;36m_str_contains\u001b[0;34m(self, pat, case, flags, na, regex)\u001b[0m\n\u001b[1;32m    127\u001b[0m                 \u001b[0mupper_pat\u001b[0m \u001b[0;34m=\u001b[0m \u001b[0mpat\u001b[0m\u001b[0;34m.\u001b[0m\u001b[0mupper\u001b[0m\u001b[0;34m(\u001b[0m\u001b[0;34m)\u001b[0m\u001b[0;34m\u001b[0m\u001b[0;34m\u001b[0m\u001b[0m\n\u001b[1;32m    128\u001b[0m                 \u001b[0mf\u001b[0m \u001b[0;34m=\u001b[0m \u001b[0;32mlambda\u001b[0m \u001b[0mx\u001b[0m\u001b[0;34m:\u001b[0m \u001b[0mupper_pat\u001b[0m \u001b[0;32min\u001b[0m \u001b[0mx\u001b[0m\u001b[0;34m.\u001b[0m\u001b[0mupper\u001b[0m\u001b[0;34m(\u001b[0m\u001b[0;34m)\u001b[0m\u001b[0;34m\u001b[0m\u001b[0;34m\u001b[0m\u001b[0m\n\u001b[0;32m--> 129\u001b[0;31m         \u001b[0;32mreturn\u001b[0m \u001b[0mself\u001b[0m\u001b[0;34m.\u001b[0m\u001b[0m_str_map\u001b[0m\u001b[0;34m(\u001b[0m\u001b[0mf\u001b[0m\u001b[0;34m,\u001b[0m \u001b[0mna\u001b[0m\u001b[0;34m,\u001b[0m \u001b[0mdtype\u001b[0m\u001b[0;34m=\u001b[0m\u001b[0mnp\u001b[0m\u001b[0;34m.\u001b[0m\u001b[0mdtype\u001b[0m\u001b[0;34m(\u001b[0m\u001b[0;34m\"bool\"\u001b[0m\u001b[0;34m)\u001b[0m\u001b[0;34m)\u001b[0m\u001b[0;34m\u001b[0m\u001b[0;34m\u001b[0m\u001b[0m\n\u001b[0m\u001b[1;32m    130\u001b[0m \u001b[0;34m\u001b[0m\u001b[0m\n\u001b[1;32m    131\u001b[0m     \u001b[0;32mdef\u001b[0m \u001b[0m_str_startswith\u001b[0m\u001b[0;34m(\u001b[0m\u001b[0mself\u001b[0m\u001b[0;34m,\u001b[0m \u001b[0mpat\u001b[0m\u001b[0;34m,\u001b[0m \u001b[0mna\u001b[0m\u001b[0;34m=\u001b[0m\u001b[0;32mNone\u001b[0m\u001b[0;34m)\u001b[0m\u001b[0;34m:\u001b[0m\u001b[0;34m\u001b[0m\u001b[0;34m\u001b[0m\u001b[0m\n",
      "\u001b[0;32m~/.pyenv/versions/3.8.6/envs/zytholic_project/lib/python3.8/site-packages/pandas/core/strings/object_array.py\u001b[0m in \u001b[0;36m_str_map\u001b[0;34m(self, f, na_value, dtype, convert)\u001b[0m\n\u001b[1;32m     67\u001b[0m         \u001b[0mmap_convert\u001b[0m \u001b[0;34m=\u001b[0m \u001b[0mconvert\u001b[0m \u001b[0;32mand\u001b[0m \u001b[0;32mnot\u001b[0m \u001b[0mnp\u001b[0m\u001b[0;34m.\u001b[0m\u001b[0mall\u001b[0m\u001b[0;34m(\u001b[0m\u001b[0mmask\u001b[0m\u001b[0;34m)\u001b[0m\u001b[0;34m\u001b[0m\u001b[0;34m\u001b[0m\u001b[0m\n\u001b[1;32m     68\u001b[0m         \u001b[0;32mtry\u001b[0m\u001b[0;34m:\u001b[0m\u001b[0;34m\u001b[0m\u001b[0;34m\u001b[0m\u001b[0m\n\u001b[0;32m---> 69\u001b[0;31m             \u001b[0mresult\u001b[0m \u001b[0;34m=\u001b[0m \u001b[0mlib\u001b[0m\u001b[0;34m.\u001b[0m\u001b[0mmap_infer_mask\u001b[0m\u001b[0;34m(\u001b[0m\u001b[0marr\u001b[0m\u001b[0;34m,\u001b[0m \u001b[0mf\u001b[0m\u001b[0;34m,\u001b[0m \u001b[0mmask\u001b[0m\u001b[0;34m.\u001b[0m\u001b[0mview\u001b[0m\u001b[0;34m(\u001b[0m\u001b[0mnp\u001b[0m\u001b[0;34m.\u001b[0m\u001b[0muint8\u001b[0m\u001b[0;34m)\u001b[0m\u001b[0;34m,\u001b[0m \u001b[0mmap_convert\u001b[0m\u001b[0;34m)\u001b[0m\u001b[0;34m\u001b[0m\u001b[0;34m\u001b[0m\u001b[0m\n\u001b[0m\u001b[1;32m     70\u001b[0m         \u001b[0;32mexcept\u001b[0m \u001b[0;34m(\u001b[0m\u001b[0mTypeError\u001b[0m\u001b[0;34m,\u001b[0m \u001b[0mAttributeError\u001b[0m\u001b[0;34m)\u001b[0m \u001b[0;32mas\u001b[0m \u001b[0me\u001b[0m\u001b[0;34m:\u001b[0m\u001b[0;34m\u001b[0m\u001b[0;34m\u001b[0m\u001b[0m\n\u001b[1;32m     71\u001b[0m             \u001b[0;31m# Reraise the exception if callable `f` got wrong number of args.\u001b[0m\u001b[0;34m\u001b[0m\u001b[0;34m\u001b[0m\u001b[0;34m\u001b[0m\u001b[0m\n",
      "\u001b[0;32m~/.pyenv/versions/3.8.6/envs/zytholic_project/lib/python3.8/site-packages/pandas/_libs/lib.pyx\u001b[0m in \u001b[0;36mpandas._libs.lib.map_infer_mask\u001b[0;34m()\u001b[0m\n",
      "\u001b[0;32m~/.pyenv/versions/3.8.6/envs/zytholic_project/lib/python3.8/site-packages/pandas/core/strings/object_array.py\u001b[0m in \u001b[0;36m<lambda>\u001b[0;34m(x)\u001b[0m\n\u001b[1;32m    120\u001b[0m             \u001b[0mpat\u001b[0m \u001b[0;34m=\u001b[0m \u001b[0mre\u001b[0m\u001b[0;34m.\u001b[0m\u001b[0mcompile\u001b[0m\u001b[0;34m(\u001b[0m\u001b[0mpat\u001b[0m\u001b[0;34m,\u001b[0m \u001b[0mflags\u001b[0m\u001b[0;34m=\u001b[0m\u001b[0mflags\u001b[0m\u001b[0;34m)\u001b[0m\u001b[0;34m\u001b[0m\u001b[0;34m\u001b[0m\u001b[0m\n\u001b[1;32m    121\u001b[0m \u001b[0;34m\u001b[0m\u001b[0m\n\u001b[0;32m--> 122\u001b[0;31m             \u001b[0mf\u001b[0m \u001b[0;34m=\u001b[0m \u001b[0;32mlambda\u001b[0m \u001b[0mx\u001b[0m\u001b[0;34m:\u001b[0m \u001b[0mpat\u001b[0m\u001b[0;34m.\u001b[0m\u001b[0msearch\u001b[0m\u001b[0;34m(\u001b[0m\u001b[0mx\u001b[0m\u001b[0;34m)\u001b[0m \u001b[0;32mis\u001b[0m \u001b[0;32mnot\u001b[0m \u001b[0;32mNone\u001b[0m\u001b[0;34m\u001b[0m\u001b[0;34m\u001b[0m\u001b[0m\n\u001b[0m\u001b[1;32m    123\u001b[0m         \u001b[0;32melse\u001b[0m\u001b[0;34m:\u001b[0m\u001b[0;34m\u001b[0m\u001b[0;34m\u001b[0m\u001b[0m\n\u001b[1;32m    124\u001b[0m             \u001b[0;32mif\u001b[0m \u001b[0mcase\u001b[0m\u001b[0;34m:\u001b[0m\u001b[0;34m\u001b[0m\u001b[0;34m\u001b[0m\u001b[0m\n",
      "\u001b[0;31mKeyboardInterrupt\u001b[0m: "
     ]
    }
   ],
   "source": [
    "[x for x in top.brewery if brewries.brewery.str.contains(x).sum() > 0]"
   ]
  },
  {
   "cell_type": "markdown",
   "id": "45003429",
   "metadata": {},
   "source": [
    "## Breweries analysis"
   ]
  },
  {
   "cell_type": "code",
   "execution_count": 42,
   "id": "be3b1483",
   "metadata": {
    "ExecuteTime": {
     "end_time": "2021-08-24T07:33:38.129956Z",
     "start_time": "2021-08-24T07:33:38.121025Z"
    }
   },
   "outputs": [],
   "source": [
    "top_brew = top.brewery.unique()\n",
    "\n",
    "brew = breweries.brewery.unique()"
   ]
  },
  {
   "cell_type": "code",
   "execution_count": 70,
   "id": "ec297598",
   "metadata": {
    "ExecuteTime": {
     "end_time": "2021-08-24T07:46:44.282435Z",
     "start_time": "2021-08-24T07:46:42.625863Z"
    }
   },
   "outputs": [
    {
     "data": {
      "text/plain": [
       "(1498, 1440)"
      ]
     },
     "execution_count": 70,
     "metadata": {},
     "output_type": "execute_result"
    }
   ],
   "source": [
    "common = [x for x in top_brew if x in brew]\n",
    "\n",
    "len(top_brew), len(common)"
   ]
  },
  {
   "cell_type": "code",
   "execution_count": 71,
   "id": "136e8776",
   "metadata": {
    "ExecuteTime": {
     "end_time": "2021-08-24T07:46:50.768401Z",
     "start_time": "2021-08-24T07:46:49.099332Z"
    }
   },
   "outputs": [
    {
     "data": {
      "text/plain": [
       "['Hops & Grain Brewing',\n",
       " 'Fordham & Dominion Brewing Company',\n",
       " \"Harvey's Brewery\",\n",
       " 'Crazy Mountain Brewery',\n",
       " 'French Broad River Brewing',\n",
       " 'Budweiser Brewing Group UK&I',\n",
       " \"Timothy Taylor's Brewery\",\n",
       " 'The Musketeers Brouwerijcafé',\n",
       " 'Andean Brewing Company / Nap Time Liquid Creation',\n",
       " 'Ayinger Privatbrauerei',\n",
       " 'Paulaner Brauerei',\n",
       " 'Augustiner-Bräu',\n",
       " 'Holsten-Brauerei',\n",
       " 'Spoetzl Brewery',\n",
       " 'Perrin Brewing Co.',\n",
       " 'Maisel & Friends',\n",
       " 'Brauerei Ladenburger',\n",
       " 'Other Half Brewing Company',\n",
       " 'BOMBrewery',\n",
       " 'Gentse Gruut Brouwerij',\n",
       " 'Atlantic Brewing Company',\n",
       " 'St. Paul Brewing',\n",
       " 'Brasserie 3 MONTS',\n",
       " 'COHO Brewing Co.',\n",
       " 'The Hidden Mother Brewery',\n",
       " 'Indeed Brewing Company - Minneapolis',\n",
       " 'Big Storm Brewing Company - Odessa',\n",
       " \"Marston's Plc.\",\n",
       " 'Bouquet Of Chuvashia (Cheboksarskaya Pivovariya)',\n",
       " 'Dixie Beer',\n",
       " 'Flensburger Brauerei',\n",
       " 'Adams Street Brewery',\n",
       " 'Oettinger Brauerei GmbH',\n",
       " 'Waterloo Brewing',\n",
       " 'Žatecký Pivovar',\n",
       " 'Proper Saké Co.',\n",
       " 'Privatbrauerei H. Egerer',\n",
       " 'Kaiser Bräu',\n",
       " 'Silver City Brewing Co. / Silver City Restaurant & Ale House',\n",
       " 'Prost Brewing Co. - Denver',\n",
       " 'Yee-Haw Brewing Co.',\n",
       " 'KC Bier Co.',\n",
       " 'Gänstaller Braumanufaktur',\n",
       " 'Bokke',\n",
       " 'Privatbrauerei Eichbaum',\n",
       " 'Brauerei Gebrüder Maisel',\n",
       " 'Machine House Brewery - Georgetown',\n",
       " 'Karlovačko Pivovara',\n",
       " 'Friesisches Brauhaus zu Jever',\n",
       " 'Propeller',\n",
       " 'Alewerks Brewing Company',\n",
       " '18th Street Brewery - Gary Taproom',\n",
       " 'Brew Bus Brewing',\n",
       " \"Three Notch'd Brewing Company - Charlottesville Brewery & Restaurant\",\n",
       " \"Brouwerij 't Verzet\",\n",
       " 'Ritterguts Gose',\n",
       " 'Four City Brewing Company',\n",
       " 'Thomas Albright']"
      ]
     },
     "execution_count": 71,
     "metadata": {},
     "output_type": "execute_result"
    }
   ],
   "source": [
    "diff = [x for x in top_brew if x not in brew]\n",
    "\n",
    "diff"
   ]
  },
  {
   "cell_type": "code",
   "execution_count": 29,
   "id": "10cd7062",
   "metadata": {
    "ExecuteTime": {
     "end_time": "2021-08-24T07:23:34.870031Z",
     "start_time": "2021-08-24T07:23:34.808783Z"
    }
   },
   "outputs": [
    {
     "data": {
      "text/plain": [
       "array(['paulaner brauhaus (cape town)', 'paulaner on bowery',\n",
       "       'paulaner wiesbaden restaurant mit biergarten',\n",
       "       'paulaner bier garten (north station)', 'paulaner bräuhaus',\n",
       "       'paulaner im roten ochsen', \"paulaner's miraculum\",\n",
       "       'pivnica paulaner', 'paulaner brauhaus', 'paulaner im tal',\n",
       "       'paulaner bräuhaus chelyabinsk', 'paulaner am nockherberg',\n",
       "       'paulaner am dom', 'gaststätte zum paulaner',\n",
       "       'paulaner bräuhaus singapore',\n",
       "       'paulaner brauhaus (pulana pijiu fang)',\n",
       "       'paulaner brauerei gmbh & co. kg', 'paulaner brauhaus (baoláinà)'],\n",
       "      dtype=object)"
      ]
     },
     "execution_count": 29,
     "metadata": {},
     "output_type": "execute_result"
    }
   ],
   "source": [
    "brew[pd.Series(brew).str.contains('paulaner')]"
   ]
  },
  {
   "cell_type": "code",
   "execution_count": 32,
   "id": "7e59da65",
   "metadata": {
    "ExecuteTime": {
     "end_time": "2021-08-24T07:29:33.595052Z",
     "start_time": "2021-08-24T07:29:33.025725Z"
    }
   },
   "outputs": [],
   "source": [
    "beer_brewery = pd.merge(beers, breweries[['brewery_id', 'brewery']], on='brewery_id', how='inner')"
   ]
  },
  {
   "cell_type": "code",
   "execution_count": 62,
   "id": "2c9e08bc",
   "metadata": {
    "ExecuteTime": {
     "end_time": "2021-08-24T07:38:54.077166Z",
     "start_time": "2021-08-24T07:38:53.933834Z"
    }
   },
   "outputs": [],
   "source": [
    "sorted_brewery = beer_brewery.groupby('brewery')['name'].count().sort_values(ascending=False).reset_index()"
   ]
  },
  {
   "cell_type": "code",
   "execution_count": 83,
   "id": "c16d3bc1",
   "metadata": {
    "ExecuteTime": {
     "end_time": "2021-08-24T07:58:45.451773Z",
     "start_time": "2021-08-24T07:58:44.988636Z"
    }
   },
   "outputs": [
    {
     "name": "stdout",
     "output_type": "stream",
     "text": [
      "Hops & Grain Brewing  :   \n",
      "\n",
      "Fordham & Dominion Brewing Company  :   \n",
      "\n",
      "Harvey's Brewery  :   \n",
      "\n",
      "Crazy Mountain Brewery  :  Crazy Mountain Brewing Company \n",
      "\n",
      "French Broad River Brewing  :  French Broad Brewing Co. \n",
      "\n",
      "Budweiser Brewing Group UK&I  :   \n",
      "\n",
      "Timothy Taylor's Brewery  :  Timothy Taylor & Co. Limited \n",
      "\n",
      "The Musketeers Brouwerijcafé  :   \n",
      "\n",
      "Andean Brewing Company / Nap Time Liquid Creation  :   \n",
      "\n",
      "Ayinger Privatbrauerei  :   \n",
      "\n",
      "Paulaner Brauerei  :  Paulaner Brauerei GmbH & Co. KG / Paulaner Bräuhaus / Paulaner on Bowery / Paulaner Brauhaus (Pulana Pijiu Fang) \n",
      "\n",
      "Augustiner-Bräu  :  Augustino Brewing / Augustine / Augustiner-Bräu Wagner KG / Augustiner Bräu - Kloster Mülln \n",
      "\n",
      "Holsten-Brauerei  :  Hanseatische Getränke-Industrie (HGI) Holsten-Brauerei AG \n",
      "\n",
      "Spoetzl Brewery  :  Spoetzl Brewery / Shiner \n",
      "\n",
      "Perrin Brewing Co.  :  Perrin Brewery \n",
      "\n",
      "Maisel & Friends  :   \n",
      "\n",
      "Brauerei Ladenburger  :  Brauerei Locher AG / Brauerei Lemke / Brauerei Leikeim / Brauerei Ladenburger GmbH / Mecklenburgische Brauerei Lübz GmbH / Brauerei Ludwig Erl / Heubacher Brauerei L. Mayer / Bergquell Brauerei Löbau / Brauerei Landsberg GmbH / Brauerei Lasser GmbH / Brauerei Leonhard Schübel / Brauerei Lüdde / Die Brauerei Leutschach / Brauerei Lieberth / Gasthaus-Brauerei Leuchtturm / Münz Brauerei L. Bundschuh & Co. KG / Brauerei Laupheimer Günz / Brauerei Loscher \n",
      "\n",
      "Other Half Brewing Company  :  Other Half Brewing Co. \n",
      "\n",
      "BOMBrewery  :   \n",
      "\n",
      "Gentse Gruut Brouwerij  :   \n",
      "\n",
      "Atlantic Brewing Company  :  Atlantic Brewing Company / Mainely Meat BBQ / Atlantic Brewery \n",
      "\n",
      "St. Paul Brewing  :  St. Pauli Brauerei C.L. Wilh. Brandt Gmbh & Co. / Bavaria-St. Pauli-Brauerei GmbH \n",
      "\n",
      "Brasserie 3 MONTS  :  Brasserie Dieu du Ciel! / Brasserie Dunham / Lagabière Brasserie Artisanale / Brasserie Fantôme / Brasserie Cantillon / BFM (Brasserie des Franches-Montagnes) / Brasserie Du Bocq / Brasserie de la Senne / Benelux Brasserie Artisanale / Brasserie Trois Dames / Ferme Brasserie Schoune / Brasserie Harricana / Brugge Brasserie / Brasserie Du Mont Salève / Brasserie Artisanale La Souche / Brasserie Lefèbvre SA / Brasserie Saint James / Brasserie Artisanale Albion / Brasserie de Saint-Omer / Brasserie de Silly S.A. / Brasseries Kronenbourg / Brasserie Artisanale Millevertus De Toernich / Brasserie Castelain / Oshlag Brasserie & Distillerie / Brasserie Artisanale Le Saint Graal / Brasserie Saint-Germain / Bistro-Brasserie Les Soeurs Grises / Gainsbourg Bistro & Brasserie / Brasserie Caulier / Brasserie La Binchoise (Malterie des Remparts) / Brasserie Artisanale La Fabrique / La Succursale Brasserie Artisanale / La Brasserie du Pays Flamand / Brasserie Dupont sprl / Brasserie De Brunehaut / Brasserie Licorne / Brasserie St. Feuillien / Brasserie Générale / Brasserie Du Brabant / Brasserie Thiriez / Brasserie De Bouillon / Le Marché De Nathalie / Korrigane - Brasserie Artisanale / Brasserie Des Garrigues / Brasserie De La Pleine Lune / Micro-Brasserie L'Alchimiste / Brasserie Du Bas-Canada / Brasserie de la Vallée du Giffre / Brasserie Saint-Monon / Brasserie Vrooden / Brasserie Auval / Brasserie L'Agrivoise / Brasserie Minne / Brasserie Bièropholie / Brouwerij Brasserie De Ranke / Brasserie Des Fagnes / Brasserie Val De Sambre / Brasserie Caracole / Brasserie Scassenes / Brasserie Fischer / Fischer Biere d' Alsace / Brasserie d'Achouffe / Brasserie Grain D'Orge / Brasserie Duyck / Brasserie Lancelot / Brasserie La Choulette / Brasserie Les 2 Frères / Brasserie Champigneulles (TCB Beverages) / Brasserie Artisanale Le Baril Roulant / Brasserie Grain d' Orge (Brasserie Jeanne d'Arc SA) / Brasserie Dubuisson Frères sprl / Micro-Brasserie Brouemont / Brasserie des Sources / Brasserie Meteor / Brasserie Britt de Bretagne / Brasserie De Saint-Sylvestre / Brasserie Artisanale De Rulles SPRL / Brasserie de West Shefford / Brasserie Uberach / Brasserie Artisanale du Val D'Ainan / Brasserie La Saint-Pierre / Brasserie de Jandrain-Jandrenouille / Brasserie La Barbaude / Brasserie Heineken / BTU Brasserie / Brasserie De Metropole / Brasserie De L'Ermitage / Brasserie Corrézienne / Brasserie Belgh Brasse / Brasserie de l'Abbaye du Val-Dieu / Brasserie Les Trois Fourquets / Brasserie Des Légendes / Brasserie à Vapeur / Brasserie la Goutte d'Or / Micro-Brasserie Breughel / Brasserie de Sulauze / Brasserie Goudale Arques / Brasserie De Silenrieux S.A. (Chez L'Père Sarrasin) / Brasserie Belle-Vue / Brasserie BAPBAP / Brasserie Artisanale Du Dauphiné / Brasserie Artisanale Maltstrom / Brasserie Iron / Brasserie De La Chapelle / Brasserie De La Vallée De Chevreuse / Brasserie de l'Abbaye des Rocs s.a. / Brasserie Piedboeuf / Brasserie Rouget De Lisle / Brasserie Larché / Brasserie Vervifontaine / Brasserie artisanale du Léman / Brasserie du Haut-Buëch / Brasserie Le Gambrinus / Brasserie Artisanale La Manivelle / Brasserie Authentique / Brasserie Bourganel / Brasserie Coreff / Brasserie Des Vignes / Brasserie Distillerie Du Mont Blanc / Brasserie Almaza S.A.L. / La Brasserie de Fleurac / La Brasserie du Pilat / Brasserie Hollbeer et Magasin / Brasserie Le Paradis / Brasserie Des Rieux / Brasserie Bendorf / Brasserie Artisanale des 2 Caps / Brasserie De Cazeau / Brasserie Etxeko Bob's Beer / Brasserie Artisanale Du Trégor / Ferme-Brasserie Saint Rieul / Brasserie de Luxembourg Mousel -Diekirch SA / Brasserie Tuque de Broue / Brasserie Simon / Brasserie la Botteresse de Sur-les-Bois / Brasserie De La Loire / Brasserie du Roulier / Brasserie du Bouffay / Brasserie Parisis / Brasserie du Bois Blanc / Brasserie Sancerroise / Brasserie Saison / Brasserie Sainte-Colombe / Brasserie Rancho El Paso / Brasserie Pietra / Brasserie Les Fleurs du Malt / Brasserie Mille-Îles / Brasserie de Vézelay / Brasserie Mélusine / Brasserie de Bellevaux / Bluebird Brasserie / Brasserie Artisanale de Rodemack (BAR) / Brasserie Battin / Alaryk Brasserie Artisanale / Brasseries Star Madagascar / Brasserie Octopus / Brasserie Schutzenberger / Société Ardennaise De Brasserie / Brasserie du Chardon / Brasserie historique de l'Abbaye du Cateau / Brasserie de la Lesse / Brasserie Belgoo / Brasserie Artisanale du Sud / La Grihète / Brasserie Artisanale De La Crécelle / Brasserie Forest / Brasserie De La Soif / Brasserie Des Abers / Brasserie Des Alberes / Brasserie La Parisienne / Brasserie Mortal's Beers / Brasserie Kerav'ale / Presbytère Resto-Brasserie / Azimut Brasserie / Brasserie du Mont Aiguille / Brasserie du Renard / Brasserie Veyrat / Brasseries Du Maroc / Golden Lion Brewing Company / Pub & Brasserie le Lion D'Or / Micro-Brasserie Tabby's / Griendel: Brasserie Artisanale / La Brasserie Artisanale Touken / Brasserie Artisanale Lutina / Brasserie Artisanale Océane / Brasserie Bofferding / Brasserie Artisanale Beaucaire / Brasserie La Pointeuse / Brasserie La Frivole / Brasserie Morbraz / Brasserie De La Lienne / Brasserie Les Trois Brasseurs / Brasserie Du Canardou / Brasserie Galibier / Brasserie Docteur Gab’s / Brasserie Craig Allan / Brasserie Des Cimes / Brasserie Saint Antoine Abbé / Brasserie Les 3 Loups / Brasserie du Marais Poitevin / Brasserie Jamm's / Brasserie Haldemann / Brasserie Franc-Comtoise / Brasserie Étienne Brûlé / Brasserie No Science / Brasserie Moulin D'Ascq / Brasserie de Bourbon / Brasserie d'Orgemont / Brasserie Storig / Brasserie Tchequébec / Brasserie Vanuxeem / Brasserie d'Oc / Brasserie Les Bières du Temps / Brasserie des Fontaines / Brasserie de l'Alagnon / Brasserie de l'Aurore / Brasserie de la Croix / Sainte Nitouche / Brasserie des Ducs / Brasserie An Alarc'h / Brasserie Artemus / Brasserie De La Baie / Brasserie Artisanale De La Divatte / Brasserie De L'Être / Brasserie Alphand / Brasserie De Monaco / Brasserie De La Pigeonnelle / Brasserie Artisanale des Vosges / Brasserie Artésienne / Brasserie Au Baron / Brasserie Artisanale Du Flo / Brasserie Celtik / Brasserie Brootcoorens / Brasserie C / Brasserie De Bellefois / Brasserie Artisanale Du Luberon / Brasserie De Bel Air / Boswell Brasserie Artisanale / Brasserie Du Comté / Brasserie Ellezelloise / EtOH Brasserie / La Brasserie Stéphanoise / Les Fous Micro Brasserie / Brasserie Artisanale Du Jorat / Brasserie Artisanale Des Grands Cols / La Brasserie Artisanale de Nice / La Brasserie Grande Allée / Brasserie Blessing / Brasserie D'Oleye / Brasserie Artisanale Ratz / Brasserie Artisanale La Diligence / Brasserie Basabürüa / Blackrock Brasserie (Blackhorse Brewhouse) / Ferme Brasserie La Soyeuse / Brasserie de Blaugies / Brasserie de Tahiti S.A. / Brasserie des Coteaux / Brasserie de l'Ilet / Brasserie Valduc / Brasserie O'Neil / Brasserie la Rainette / MADDAM - Brasserie de Chablis / Brasseries Des Voirons / Brasseries Artisanales Tri Martolod / Brasserie Gigi / Brasserie Dreum / Brasserie De Vauclair / Brasserie La Farlodoise / Brasserie Des Rateliers / Brasserie Des Murailles / Le Brasse-Temps (Louvain-la-Neuve) / Brasserie Dubuisson Frères / Brasserie Lepers / Brasserie De La Cote De Jade / Brasserie De La Touffe / Ferme-Brasserie De Gaillon / Brasserie De La Brière / Brasserie Solstice / Brasserie Seigneuriale (Sleeman Breweries Ltd.) / Brasserie Salaisons Hotel - BeierHaascht / Brasserie Warenghem / Brasserie Theillier / Brasserie Morin / Brasserie New Deal / Brasserie au Pif / Brasserie du Boxer SA / Brasserie des Gabariers (L&L Cognac SA) / Brasserie du Lion à Plume / Brasserie des Cuves / Brasserie des 5 Quatre Mille / Brasserie de la Seillonne / Brasserie de la Lanterne / Brasserie Michard / Brasserie Artisanale de Redange / Brasserie Artisanale des Remparts / Brasserie Artisanale du Centre / Brasserie Artisanale Glouglou / Brasserie Dépareillée / Brasserie D'Annoeulin / Brasserie D'Ebly / Brasserie De L'Imprimerie / Brasserie Cornelyshaff á Heinescheid / Brasserie Augrenoise / Brasserie BVM Inc. / Brasserie Des Trois Frontieres / Brasserie De La Presqu’Île De Quiberon / Brasserie La Tongrinnoise / Brasserie La Rochefortoise / La Brasserie Du Val De Drôme / Brasserie Matheysine / Brasserie Mare Nostrum / Brasserie Aliénor / La Brasserie Mascaret / Brasserie Jeune Gueule / Brasserie La Barbiot / Brasserie Kazematten / Brasserie Hotteterre / Ouroboros Brasserie Artisanale / ZooBrew Brasserie Animale / Union Camerounaise de Brasseries / Lord Nelson Pub (Brasserie Du Molard) / Les Brasseries du Congo (Bracongo) / La Brasserie du Scala / Mobsby's Brasserie Artisanale / Brasserie des Condémines / Brasserie des sources de Vanoise / Brasserie distillerie Champ libre / Brasserie du Marcaire / Brasseries De Bourbon / Micro-Brasserie La Montagnarde / Brasserie des 3 Croquants / Brasserie des Carrières / Bières 23, Brasserie Artisanale / 7Peaks Brasserie / Brasserie Artisanale La Frasnoise / Brasserie Artisanale Savoyarde - B.A.S. / Brasserie Artisanale La Canaille / Brasserie d'Oran / Brasserie Le Berbère / Brasserie De Pouldreuzic / Brasserie Le Froid / Brasserie Saint Donat / Brasserie De Mont-Saint-Guibert / Brasserie Oc'Ale / Brasserie D'Olt / Brasserie de Rochefort / Brasserie Kohler-Rehm / Brasserie Phylosophale / Brasserie De La Creuse / Brasserie Kapadokya / Resto-Grillades Zema / Brasserie De Milly / Brasserie La Bambelle / Brasserie De Sutter / Brasseria Della Fonte Di Cesaroni Samuele / Brasserie Verdus / Brasserie Warsage / Brasserie de la Cambre / Brasserie Du Faucigny / Brasserie de la Canoterie / Brasserie Des Trois Fontaines / Brasserie Des Hautes Vallées / Brasserie Du Loch / Brasserie BB Lomé / Brasserie Magritte / Brasserie Elixkir / Brasserie Artisanale Bio La Voie Maltée / Brasserie Lauth / Brasserie Lorraine S.A. / Brasserie Du Virage / Brasserie Deseveaux / Brasserie Du Chant Du Loup / Brasserie Du Clocher / Brasserie Du Corsaire / Brasserie Fri-Mousse / Brasserie ILLegaaL / Brasserie Kanto / Brasseries et Limonaderies du Rwanda / Brasseries SIMBA (Brasimba) / Brasserie d'Orval S.A. / Brasserie des Mille Collines (Unibra) / Brasseries Oldarki / Brasserie de Skida / Grande Brasserie de Nouvelle-Calédonie SA / Brasserie la Cornue / Brasserie du Haut-Lac / Brasserie Nationale (Bofferding) / Brasserie Nationale d'Haiti / Brasserie Oxymore / Brasserie Motte Cordonnier Afrique (MOCAF) / Brasserie d'Algiers / Brasserie Tonnerre De Brest / Brasserie Celtique Du Pen Roc / Brasserie De Charmoy / Brasserie Bosco / Brasserie Béarnaise / Brasserie Delsart / Brasserie De Tunis / Brasseria Nervina / Brasserie Artisanale Free-Mousse / Brasserie de la Motte Juillet / Brasserie Artisanale du Pays des Sorgues / Brasserie Artisanale la P'tite Soeur / Brasserie Artisanale Picardennes / Société Des Brasseries De L'Ouest Africain (S.O.B.O.A.) / Société Béninoise De Brasseries (SOBEBRA) / La Brasserie Seigneriale / Petite Brasserie Ardennaise / Macallen Ferme & Brasserie / Menaud Distillerie & Brasserie / Les Artisans Brasseurs (Brasserie Mibrana) / Les Brasseries du Tchad / Restaurant Brasserie Poull Houad La Mare au Canard / Brasserie Zannekin / Brasserie de Lautenne / Brasserie des Tchèts / Brasserie Witloof / Brasserie des Naufrageurs / Brasserie d'Annaba / Brasserie de la Haute Senne / Brasserie la Forge / Brasserie de Marsinne / Brasserie à la Ferme - La Castagne du Cévenol / Brasserie de la Croix du Rat / Brasserie des Flibustiers / Brasserie Des Forges / Brasserie Des Montagnes / Brasserie Des Monts / Brasserie Des Monts D'Auvergne / Brasserie Du Chateau / Brasserie Du Pays Basque / Brasserie Du Sollier / Brasserie Artisanale du Der / Brasserie Artisanale À La Dérive / Brasserie Bacchante / Nouvelle Brasserie de Madagascar / Brasserie Cambier / Brasserie Cardinal / Brasserie D'Esgar / Brasserie De Clerck / Brasserie De La Cote / Brasserie Le Bougnat / Brasserie Lebbe / Brasserie Les Acolytes / Brasserie Lion / Brasserie Thomas Carteron / Brasserie Lacu / Brasserie Dulion / Brasserie Dutailly / Brasserie Flamine / Brasserie Guillaume / Brasserie Henri Monier / Brasserie Henry / Brasserie IRVOY / Brasserie La Belette / Brasserie La Bierataise / Brasserie La Ferme Beck / Brasserie La Morgat / Brasserie La Mouche / Brasserie La Vieille Mule / Brasserie Lapépie / Brasserie Artisanale Saint Alphonse / Brasal-Brasserie Allemande / Brasco (Brasseries du Congo) / Brasserie AixPression / Brasserie Alauna / Brasserie Artisanale De L'Ermitage / Brasserie Artisanale Des Mauges / Brasserie Artisanale Du Ventoux / Brasserie Artisanale L’Alzina / Ferme Brasserie Du Vexin / Ferme Brasserie Garland / Ferme-Malterie-Brasserie La Bourdette / Meduz Brasserie Artisanale / La Brasserie Du Pépère / La Brasserie du Caou / La Brasserie du Chauve / Three Degrees Bar Brewery Brasserie / La Brasserie du Manoir / Societe des Brasseries du Gabon (SOBRAGA) / Société Des Brasseries Et Boissons Gazeuses Du Niger (BRANIGER) / Société des Brasseries de Guinée (SOBRAGUI) / Les Brasseries Ivoiriennes \n",
      "\n",
      "COHO Brewing Co.  :   \n",
      "\n",
      "The Hidden Mother Brewery  :   \n",
      "\n",
      "Indeed Brewing Company - Minneapolis  :  Indeed Brewing Company \n",
      "\n",
      "Big Storm Brewing Company - Odessa  :  Big Storm Brewing Company / Big Storm Brewing Co. - Pinellas Taproom \n",
      "\n",
      "Marston's Plc.  :  Marston, Thompson & Evershed, Plc. / Marston's PLC / Marston Moor Brewery Limited \n",
      "\n"
     ]
    },
    {
     "ename": "error",
     "evalue": "missing ), unterminated subpattern at position 21",
     "output_type": "error",
     "traceback": [
      "\u001b[0;31m---------------------------------------------------------------------------\u001b[0m",
      "\u001b[0;31merror\u001b[0m                                     Traceback (most recent call last)",
      "\u001b[0;32m/var/folders/_5/s9wbxcy503dggw34b98btk9c0000gp/T/ipykernel_1476/2242899376.py\u001b[0m in \u001b[0;36m<module>\u001b[0;34m\u001b[0m\n\u001b[1;32m      2\u001b[0m \u001b[0;32mfor\u001b[0m \u001b[0mname\u001b[0m \u001b[0;32min\u001b[0m \u001b[0mdiff\u001b[0m\u001b[0;34m:\u001b[0m\u001b[0;34m\u001b[0m\u001b[0;34m\u001b[0m\u001b[0m\n\u001b[1;32m      3\u001b[0m     \u001b[0mpartial\u001b[0m \u001b[0;34m=\u001b[0m \u001b[0mname\u001b[0m\u001b[0;34m[\u001b[0m\u001b[0;34m:\u001b[0m\u001b[0mround\u001b[0m\u001b[0;34m(\u001b[0m\u001b[0mlen\u001b[0m\u001b[0;34m(\u001b[0m\u001b[0mname\u001b[0m\u001b[0;34m)\u001b[0m\u001b[0;34m/\u001b[0m\u001b[0;36m2\u001b[0m\u001b[0;34m)\u001b[0m\u001b[0;34m]\u001b[0m\u001b[0;34m\u001b[0m\u001b[0;34m\u001b[0m\u001b[0m\n\u001b[0;32m----> 4\u001b[0;31m     \u001b[0msearch\u001b[0m \u001b[0;34m=\u001b[0m \u001b[0msorted_brewery\u001b[0m\u001b[0;34m[\u001b[0m\u001b[0msorted_brewery\u001b[0m\u001b[0;34m.\u001b[0m\u001b[0mbrewery\u001b[0m\u001b[0;34m.\u001b[0m\u001b[0mstr\u001b[0m\u001b[0;34m.\u001b[0m\u001b[0mcontains\u001b[0m\u001b[0;34m(\u001b[0m\u001b[0mstr\u001b[0m\u001b[0;34m(\u001b[0m\u001b[0mpartial\u001b[0m\u001b[0;34m)\u001b[0m\u001b[0;34m)\u001b[0m\u001b[0;34m]\u001b[0m\u001b[0;34m\u001b[0m\u001b[0;34m\u001b[0m\u001b[0m\n\u001b[0m\u001b[1;32m      5\u001b[0m \u001b[0;34m\u001b[0m\u001b[0m\n\u001b[1;32m      6\u001b[0m     \u001b[0mnames\u001b[0m \u001b[0;34m=\u001b[0m \u001b[0msearch\u001b[0m\u001b[0;34m.\u001b[0m\u001b[0mbrewery\u001b[0m\u001b[0;34m\u001b[0m\u001b[0;34m\u001b[0m\u001b[0m\n",
      "\u001b[0;32m~/.pyenv/versions/3.8.6/envs/zytholic_project/lib/python3.8/site-packages/pandas/core/strings/accessor.py\u001b[0m in \u001b[0;36mwrapper\u001b[0;34m(self, *args, **kwargs)\u001b[0m\n\u001b[1;32m    114\u001b[0m                 )\n\u001b[1;32m    115\u001b[0m                 \u001b[0;32mraise\u001b[0m \u001b[0mTypeError\u001b[0m\u001b[0;34m(\u001b[0m\u001b[0mmsg\u001b[0m\u001b[0;34m)\u001b[0m\u001b[0;34m\u001b[0m\u001b[0;34m\u001b[0m\u001b[0m\n\u001b[0;32m--> 116\u001b[0;31m             \u001b[0;32mreturn\u001b[0m \u001b[0mfunc\u001b[0m\u001b[0;34m(\u001b[0m\u001b[0mself\u001b[0m\u001b[0;34m,\u001b[0m \u001b[0;34m*\u001b[0m\u001b[0margs\u001b[0m\u001b[0;34m,\u001b[0m \u001b[0;34m**\u001b[0m\u001b[0mkwargs\u001b[0m\u001b[0;34m)\u001b[0m\u001b[0;34m\u001b[0m\u001b[0;34m\u001b[0m\u001b[0m\n\u001b[0m\u001b[1;32m    117\u001b[0m \u001b[0;34m\u001b[0m\u001b[0m\n\u001b[1;32m    118\u001b[0m         \u001b[0mwrapper\u001b[0m\u001b[0;34m.\u001b[0m\u001b[0m__name__\u001b[0m \u001b[0;34m=\u001b[0m \u001b[0mfunc_name\u001b[0m\u001b[0;34m\u001b[0m\u001b[0;34m\u001b[0m\u001b[0m\n",
      "\u001b[0;32m~/.pyenv/versions/3.8.6/envs/zytholic_project/lib/python3.8/site-packages/pandas/core/strings/accessor.py\u001b[0m in \u001b[0;36mcontains\u001b[0;34m(self, pat, case, flags, na, regex)\u001b[0m\n\u001b[1;32m   1151\u001b[0m         \u001b[0mdtype\u001b[0m\u001b[0;34m:\u001b[0m \u001b[0mbool\u001b[0m\u001b[0;34m\u001b[0m\u001b[0;34m\u001b[0m\u001b[0m\n\u001b[1;32m   1152\u001b[0m         \"\"\"\n\u001b[0;32m-> 1153\u001b[0;31m         \u001b[0;32mif\u001b[0m \u001b[0mregex\u001b[0m \u001b[0;32mand\u001b[0m \u001b[0mre\u001b[0m\u001b[0;34m.\u001b[0m\u001b[0mcompile\u001b[0m\u001b[0;34m(\u001b[0m\u001b[0mpat\u001b[0m\u001b[0;34m)\u001b[0m\u001b[0;34m.\u001b[0m\u001b[0mgroups\u001b[0m\u001b[0;34m:\u001b[0m\u001b[0;34m\u001b[0m\u001b[0;34m\u001b[0m\u001b[0m\n\u001b[0m\u001b[1;32m   1154\u001b[0m             warnings.warn(\n\u001b[1;32m   1155\u001b[0m                 \u001b[0;34m\"This pattern has match groups. To actually get the \"\u001b[0m\u001b[0;34m\u001b[0m\u001b[0;34m\u001b[0m\u001b[0m\n",
      "\u001b[0;32m~/.pyenv/versions/3.8.6/lib/python3.8/re.py\u001b[0m in \u001b[0;36mcompile\u001b[0;34m(pattern, flags)\u001b[0m\n\u001b[1;32m    250\u001b[0m \u001b[0;32mdef\u001b[0m \u001b[0mcompile\u001b[0m\u001b[0;34m(\u001b[0m\u001b[0mpattern\u001b[0m\u001b[0;34m,\u001b[0m \u001b[0mflags\u001b[0m\u001b[0;34m=\u001b[0m\u001b[0;36m0\u001b[0m\u001b[0;34m)\u001b[0m\u001b[0;34m:\u001b[0m\u001b[0;34m\u001b[0m\u001b[0;34m\u001b[0m\u001b[0m\n\u001b[1;32m    251\u001b[0m     \u001b[0;34m\"Compile a regular expression pattern, returning a Pattern object.\"\u001b[0m\u001b[0;34m\u001b[0m\u001b[0;34m\u001b[0m\u001b[0m\n\u001b[0;32m--> 252\u001b[0;31m     \u001b[0;32mreturn\u001b[0m \u001b[0m_compile\u001b[0m\u001b[0;34m(\u001b[0m\u001b[0mpattern\u001b[0m\u001b[0;34m,\u001b[0m \u001b[0mflags\u001b[0m\u001b[0;34m)\u001b[0m\u001b[0;34m\u001b[0m\u001b[0;34m\u001b[0m\u001b[0m\n\u001b[0m\u001b[1;32m    253\u001b[0m \u001b[0;34m\u001b[0m\u001b[0m\n\u001b[1;32m    254\u001b[0m \u001b[0;32mdef\u001b[0m \u001b[0mpurge\u001b[0m\u001b[0;34m(\u001b[0m\u001b[0;34m)\u001b[0m\u001b[0;34m:\u001b[0m\u001b[0;34m\u001b[0m\u001b[0;34m\u001b[0m\u001b[0m\n",
      "\u001b[0;32m~/.pyenv/versions/3.8.6/lib/python3.8/re.py\u001b[0m in \u001b[0;36m_compile\u001b[0;34m(pattern, flags)\u001b[0m\n\u001b[1;32m    302\u001b[0m     \u001b[0;32mif\u001b[0m \u001b[0;32mnot\u001b[0m \u001b[0msre_compile\u001b[0m\u001b[0;34m.\u001b[0m\u001b[0misstring\u001b[0m\u001b[0;34m(\u001b[0m\u001b[0mpattern\u001b[0m\u001b[0;34m)\u001b[0m\u001b[0;34m:\u001b[0m\u001b[0;34m\u001b[0m\u001b[0;34m\u001b[0m\u001b[0m\n\u001b[1;32m    303\u001b[0m         \u001b[0;32mraise\u001b[0m \u001b[0mTypeError\u001b[0m\u001b[0;34m(\u001b[0m\u001b[0;34m\"first argument must be string or compiled pattern\"\u001b[0m\u001b[0;34m)\u001b[0m\u001b[0;34m\u001b[0m\u001b[0;34m\u001b[0m\u001b[0m\n\u001b[0;32m--> 304\u001b[0;31m     \u001b[0mp\u001b[0m \u001b[0;34m=\u001b[0m \u001b[0msre_compile\u001b[0m\u001b[0;34m.\u001b[0m\u001b[0mcompile\u001b[0m\u001b[0;34m(\u001b[0m\u001b[0mpattern\u001b[0m\u001b[0;34m,\u001b[0m \u001b[0mflags\u001b[0m\u001b[0;34m)\u001b[0m\u001b[0;34m\u001b[0m\u001b[0;34m\u001b[0m\u001b[0m\n\u001b[0m\u001b[1;32m    305\u001b[0m     \u001b[0;32mif\u001b[0m \u001b[0;32mnot\u001b[0m \u001b[0;34m(\u001b[0m\u001b[0mflags\u001b[0m \u001b[0;34m&\u001b[0m \u001b[0mDEBUG\u001b[0m\u001b[0;34m)\u001b[0m\u001b[0;34m:\u001b[0m\u001b[0;34m\u001b[0m\u001b[0;34m\u001b[0m\u001b[0m\n\u001b[1;32m    306\u001b[0m         \u001b[0;32mif\u001b[0m \u001b[0mlen\u001b[0m\u001b[0;34m(\u001b[0m\u001b[0m_cache\u001b[0m\u001b[0;34m)\u001b[0m \u001b[0;34m>=\u001b[0m \u001b[0m_MAXCACHE\u001b[0m\u001b[0;34m:\u001b[0m\u001b[0;34m\u001b[0m\u001b[0;34m\u001b[0m\u001b[0m\n",
      "\u001b[0;32m~/.pyenv/versions/3.8.6/lib/python3.8/sre_compile.py\u001b[0m in \u001b[0;36mcompile\u001b[0;34m(p, flags)\u001b[0m\n\u001b[1;32m    762\u001b[0m     \u001b[0;32mif\u001b[0m \u001b[0misstring\u001b[0m\u001b[0;34m(\u001b[0m\u001b[0mp\u001b[0m\u001b[0;34m)\u001b[0m\u001b[0;34m:\u001b[0m\u001b[0;34m\u001b[0m\u001b[0;34m\u001b[0m\u001b[0m\n\u001b[1;32m    763\u001b[0m         \u001b[0mpattern\u001b[0m \u001b[0;34m=\u001b[0m \u001b[0mp\u001b[0m\u001b[0;34m\u001b[0m\u001b[0;34m\u001b[0m\u001b[0m\n\u001b[0;32m--> 764\u001b[0;31m         \u001b[0mp\u001b[0m \u001b[0;34m=\u001b[0m \u001b[0msre_parse\u001b[0m\u001b[0;34m.\u001b[0m\u001b[0mparse\u001b[0m\u001b[0;34m(\u001b[0m\u001b[0mp\u001b[0m\u001b[0;34m,\u001b[0m \u001b[0mflags\u001b[0m\u001b[0;34m)\u001b[0m\u001b[0;34m\u001b[0m\u001b[0;34m\u001b[0m\u001b[0m\n\u001b[0m\u001b[1;32m    765\u001b[0m     \u001b[0;32melse\u001b[0m\u001b[0;34m:\u001b[0m\u001b[0;34m\u001b[0m\u001b[0;34m\u001b[0m\u001b[0m\n\u001b[1;32m    766\u001b[0m         \u001b[0mpattern\u001b[0m \u001b[0;34m=\u001b[0m \u001b[0;32mNone\u001b[0m\u001b[0;34m\u001b[0m\u001b[0;34m\u001b[0m\u001b[0m\n",
      "\u001b[0;32m~/.pyenv/versions/3.8.6/lib/python3.8/sre_parse.py\u001b[0m in \u001b[0;36mparse\u001b[0;34m(str, flags, state)\u001b[0m\n\u001b[1;32m    946\u001b[0m \u001b[0;34m\u001b[0m\u001b[0m\n\u001b[1;32m    947\u001b[0m     \u001b[0;32mtry\u001b[0m\u001b[0;34m:\u001b[0m\u001b[0;34m\u001b[0m\u001b[0;34m\u001b[0m\u001b[0m\n\u001b[0;32m--> 948\u001b[0;31m         \u001b[0mp\u001b[0m \u001b[0;34m=\u001b[0m \u001b[0m_parse_sub\u001b[0m\u001b[0;34m(\u001b[0m\u001b[0msource\u001b[0m\u001b[0;34m,\u001b[0m \u001b[0mstate\u001b[0m\u001b[0;34m,\u001b[0m \u001b[0mflags\u001b[0m \u001b[0;34m&\u001b[0m \u001b[0mSRE_FLAG_VERBOSE\u001b[0m\u001b[0;34m,\u001b[0m \u001b[0;36m0\u001b[0m\u001b[0;34m)\u001b[0m\u001b[0;34m\u001b[0m\u001b[0;34m\u001b[0m\u001b[0m\n\u001b[0m\u001b[1;32m    949\u001b[0m     \u001b[0;32mexcept\u001b[0m \u001b[0mVerbose\u001b[0m\u001b[0;34m:\u001b[0m\u001b[0;34m\u001b[0m\u001b[0;34m\u001b[0m\u001b[0m\n\u001b[1;32m    950\u001b[0m         \u001b[0;31m# the VERBOSE flag was switched on inside the pattern.  to be\u001b[0m\u001b[0;34m\u001b[0m\u001b[0;34m\u001b[0m\u001b[0;34m\u001b[0m\u001b[0m\n",
      "\u001b[0;32m~/.pyenv/versions/3.8.6/lib/python3.8/sre_parse.py\u001b[0m in \u001b[0;36m_parse_sub\u001b[0;34m(source, state, verbose, nested)\u001b[0m\n\u001b[1;32m    441\u001b[0m     \u001b[0mstart\u001b[0m \u001b[0;34m=\u001b[0m \u001b[0msource\u001b[0m\u001b[0;34m.\u001b[0m\u001b[0mtell\u001b[0m\u001b[0;34m(\u001b[0m\u001b[0;34m)\u001b[0m\u001b[0;34m\u001b[0m\u001b[0;34m\u001b[0m\u001b[0m\n\u001b[1;32m    442\u001b[0m     \u001b[0;32mwhile\u001b[0m \u001b[0;32mTrue\u001b[0m\u001b[0;34m:\u001b[0m\u001b[0;34m\u001b[0m\u001b[0;34m\u001b[0m\u001b[0m\n\u001b[0;32m--> 443\u001b[0;31m         itemsappend(_parse(source, state, verbose, nested + 1,\n\u001b[0m\u001b[1;32m    444\u001b[0m                            not nested and not items))\n\u001b[1;32m    445\u001b[0m         \u001b[0;32mif\u001b[0m \u001b[0;32mnot\u001b[0m \u001b[0msourcematch\u001b[0m\u001b[0;34m(\u001b[0m\u001b[0;34m\"|\"\u001b[0m\u001b[0;34m)\u001b[0m\u001b[0;34m:\u001b[0m\u001b[0;34m\u001b[0m\u001b[0;34m\u001b[0m\u001b[0m\n",
      "\u001b[0;32m~/.pyenv/versions/3.8.6/lib/python3.8/sre_parse.py\u001b[0m in \u001b[0;36m_parse\u001b[0;34m(source, state, verbose, nested, first)\u001b[0m\n\u001b[1;32m    834\u001b[0m             \u001b[0mp\u001b[0m \u001b[0;34m=\u001b[0m \u001b[0m_parse_sub\u001b[0m\u001b[0;34m(\u001b[0m\u001b[0msource\u001b[0m\u001b[0;34m,\u001b[0m \u001b[0mstate\u001b[0m\u001b[0;34m,\u001b[0m \u001b[0msub_verbose\u001b[0m\u001b[0;34m,\u001b[0m \u001b[0mnested\u001b[0m \u001b[0;34m+\u001b[0m \u001b[0;36m1\u001b[0m\u001b[0;34m)\u001b[0m\u001b[0;34m\u001b[0m\u001b[0;34m\u001b[0m\u001b[0m\n\u001b[1;32m    835\u001b[0m             \u001b[0;32mif\u001b[0m \u001b[0;32mnot\u001b[0m \u001b[0msource\u001b[0m\u001b[0;34m.\u001b[0m\u001b[0mmatch\u001b[0m\u001b[0;34m(\u001b[0m\u001b[0;34m\")\"\u001b[0m\u001b[0;34m)\u001b[0m\u001b[0;34m:\u001b[0m\u001b[0;34m\u001b[0m\u001b[0;34m\u001b[0m\u001b[0m\n\u001b[0;32m--> 836\u001b[0;31m                 raise source.error(\"missing ), unterminated subpattern\",\n\u001b[0m\u001b[1;32m    837\u001b[0m                                    source.tell() - start)\n\u001b[1;32m    838\u001b[0m             \u001b[0;32mif\u001b[0m \u001b[0mgroup\u001b[0m \u001b[0;32mis\u001b[0m \u001b[0;32mnot\u001b[0m \u001b[0;32mNone\u001b[0m\u001b[0;34m:\u001b[0m\u001b[0;34m\u001b[0m\u001b[0;34m\u001b[0m\u001b[0m\n",
      "\u001b[0;31merror\u001b[0m: missing ), unterminated subpattern at position 21"
     ]
    }
   ],
   "source": [
    "# name[:round(len(name)/2)]\n",
    "for name in diff:\n",
    "    partial = name[:round(len(name)/2)]\n",
    "    search = sorted_brewery[sorted_brewery.brewery.str.contains(str(partial))]\n",
    "\n",
    "    names = search.brewery\n",
    "    proposition = ' / '.join(names)\n",
    "    print(name, ' : ' , proposition, '\\n')"
   ]
  },
  {
   "cell_type": "code",
   "execution_count": 68,
   "id": "57edc4af",
   "metadata": {
    "ExecuteTime": {
     "end_time": "2021-08-24T07:44:00.073077Z",
     "start_time": "2021-08-24T07:44:00.040765Z"
    }
   },
   "outputs": [],
   "source": [
    "partial = name[round(len(name)/2)]\n",
    "search = sorted_brewery[sorted_brewery.brewery.str.contains('Paulaner')]\n",
    "\n",
    "names = search.brewery\n",
    "' / '.join(names)"
   ]
  },
  {
   "cell_type": "code",
   "execution_count": 65,
   "id": "3f772f42",
   "metadata": {
    "ExecuteTime": {
     "end_time": "2021-08-24T07:41:00.618133Z",
     "start_time": "2021-08-24T07:41:00.604194Z"
    }
   },
   "outputs": [
    {
     "data": {
      "text/plain": [
       "['Paulaner', 'Brauerei']"
      ]
     },
     "execution_count": 65,
     "metadata": {},
     "output_type": "execute_result"
    }
   ],
   "source": []
  },
  {
   "cell_type": "code",
   "execution_count": null,
   "id": "ed04d9fe",
   "metadata": {},
   "outputs": [],
   "source": []
  }
 ],
 "metadata": {
  "kernelspec": {
   "display_name": "Python 3 (ipykernel)",
   "language": "python",
   "name": "python3"
  },
  "language_info": {
   "codemirror_mode": {
    "name": "ipython",
    "version": 3
   },
   "file_extension": ".py",
   "mimetype": "text/x-python",
   "name": "python",
   "nbconvert_exporter": "python",
   "pygments_lexer": "ipython3",
   "version": "3.8.6"
  },
  "toc": {
   "base_numbering": 1,
   "nav_menu": {},
   "number_sections": true,
   "sideBar": true,
   "skip_h1_title": false,
   "title_cell": "Table of Contents",
   "title_sidebar": "Contents",
   "toc_cell": false,
   "toc_position": {},
   "toc_section_display": true,
   "toc_window_display": true
  }
 },
 "nbformat": 4,
 "nbformat_minor": 5
}
