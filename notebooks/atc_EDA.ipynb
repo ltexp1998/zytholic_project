{
 "cells": [
  {
   "cell_type": "code",
   "execution_count": 1,
   "id": "11b5da7e",
   "metadata": {
    "ExecuteTime": {
     "end_time": "2021-08-25T12:19:00.152267Z",
     "start_time": "2021-08-25T12:18:55.334425Z"
    }
   },
   "outputs": [],
   "source": [
    "import pandas as pd"
   ]
  },
  {
   "cell_type": "code",
   "execution_count": 3,
   "id": "bc236fde",
   "metadata": {
    "ExecuteTime": {
     "end_time": "2021-08-24T12:26:55.300427Z",
     "start_time": "2021-08-24T12:26:54.643766Z"
    }
   },
   "outputs": [
    {
     "name": "stdout",
     "output_type": "stream",
     "text": [
      "ST_Data_exploration.ipynb          Tfourny_processing_breweries.ipynb\r\n",
      "ST_Style_rename.ipynb              atc_EDA.ipynb\r\n"
     ]
    }
   ],
   "source": [
    "!ls"
   ]
  },
  {
   "cell_type": "markdown",
   "id": "773ff654",
   "metadata": {},
   "source": [
    "## import"
   ]
  },
  {
   "cell_type": "code",
   "execution_count": 6,
   "id": "e0f4c159",
   "metadata": {
    "ExecuteTime": {
     "end_time": "2021-08-24T12:27:35.958618Z",
     "start_time": "2021-08-24T12:27:35.577294Z"
    }
   },
   "outputs": [
    {
     "data": {
      "text/html": [
       "<div>\n",
       "<style scoped>\n",
       "    .dataframe tbody tr th:only-of-type {\n",
       "        vertical-align: middle;\n",
       "    }\n",
       "\n",
       "    .dataframe tbody tr th {\n",
       "        vertical-align: top;\n",
       "    }\n",
       "\n",
       "    .dataframe thead th {\n",
       "        text-align: right;\n",
       "    }\n",
       "</style>\n",
       "<table border=\"1\" class=\"dataframe\">\n",
       "  <thead>\n",
       "    <tr style=\"text-align: right;\">\n",
       "      <th></th>\n",
       "      <th>name</th>\n",
       "      <th>key</th>\n",
       "      <th>style</th>\n",
       "      <th>style key</th>\n",
       "      <th>brewery</th>\n",
       "      <th>description</th>\n",
       "      <th>abv</th>\n",
       "      <th>ave rating</th>\n",
       "      <th>min ibu</th>\n",
       "      <th>max ibu</th>\n",
       "      <th>...</th>\n",
       "      <th>body</th>\n",
       "      <th>alcohol</th>\n",
       "      <th>bitter</th>\n",
       "      <th>sweet</th>\n",
       "      <th>sour</th>\n",
       "      <th>salty</th>\n",
       "      <th>fruits</th>\n",
       "      <th>hoppy</th>\n",
       "      <th>spices</th>\n",
       "      <th>malty</th>\n",
       "    </tr>\n",
       "  </thead>\n",
       "  <tbody>\n",
       "    <tr>\n",
       "      <th>0</th>\n",
       "      <td>Amber</td>\n",
       "      <td>251</td>\n",
       "      <td>Altbier</td>\n",
       "      <td>8</td>\n",
       "      <td>Alaskan Brewing Co.</td>\n",
       "      <td>Notes:Richly malty and long on the palate, wit...</td>\n",
       "      <td>5.3</td>\n",
       "      <td>3.65</td>\n",
       "      <td>25</td>\n",
       "      <td>50</td>\n",
       "      <td>...</td>\n",
       "      <td>32</td>\n",
       "      <td>9</td>\n",
       "      <td>47</td>\n",
       "      <td>74</td>\n",
       "      <td>33</td>\n",
       "      <td>0</td>\n",
       "      <td>33</td>\n",
       "      <td>57</td>\n",
       "      <td>8</td>\n",
       "      <td>111</td>\n",
       "    </tr>\n",
       "    <tr>\n",
       "      <th>1</th>\n",
       "      <td>Double Bag</td>\n",
       "      <td>252</td>\n",
       "      <td>Altbier</td>\n",
       "      <td>8</td>\n",
       "      <td>Long Trail Brewing Co.</td>\n",
       "      <td>Notes:This malty, full-bodied double alt is al...</td>\n",
       "      <td>7.2</td>\n",
       "      <td>3.90</td>\n",
       "      <td>25</td>\n",
       "      <td>50</td>\n",
       "      <td>...</td>\n",
       "      <td>57</td>\n",
       "      <td>18</td>\n",
       "      <td>33</td>\n",
       "      <td>55</td>\n",
       "      <td>16</td>\n",
       "      <td>0</td>\n",
       "      <td>24</td>\n",
       "      <td>35</td>\n",
       "      <td>12</td>\n",
       "      <td>84</td>\n",
       "    </tr>\n",
       "    <tr>\n",
       "      <th>2</th>\n",
       "      <td>Long Trail Ale</td>\n",
       "      <td>253</td>\n",
       "      <td>Altbier</td>\n",
       "      <td>8</td>\n",
       "      <td>Long Trail Brewing Co.</td>\n",
       "      <td>Notes:Long Trail Ale is a full-bodied amber al...</td>\n",
       "      <td>5.0</td>\n",
       "      <td>3.58</td>\n",
       "      <td>25</td>\n",
       "      <td>50</td>\n",
       "      <td>...</td>\n",
       "      <td>37</td>\n",
       "      <td>6</td>\n",
       "      <td>42</td>\n",
       "      <td>43</td>\n",
       "      <td>11</td>\n",
       "      <td>0</td>\n",
       "      <td>10</td>\n",
       "      <td>54</td>\n",
       "      <td>4</td>\n",
       "      <td>62</td>\n",
       "    </tr>\n",
       "    <tr>\n",
       "      <th>3</th>\n",
       "      <td>Doppelsticke</td>\n",
       "      <td>254</td>\n",
       "      <td>Altbier</td>\n",
       "      <td>8</td>\n",
       "      <td>Uerige Obergärige Hausbrauerei</td>\n",
       "      <td>Notes:</td>\n",
       "      <td>8.5</td>\n",
       "      <td>4.15</td>\n",
       "      <td>25</td>\n",
       "      <td>50</td>\n",
       "      <td>...</td>\n",
       "      <td>55</td>\n",
       "      <td>31</td>\n",
       "      <td>47</td>\n",
       "      <td>101</td>\n",
       "      <td>18</td>\n",
       "      <td>1</td>\n",
       "      <td>49</td>\n",
       "      <td>40</td>\n",
       "      <td>16</td>\n",
       "      <td>119</td>\n",
       "    </tr>\n",
       "    <tr>\n",
       "      <th>4</th>\n",
       "      <td>Scurry</td>\n",
       "      <td>255</td>\n",
       "      <td>Altbier</td>\n",
       "      <td>8</td>\n",
       "      <td>Off Color Brewing</td>\n",
       "      <td>Notes:Just cause it's dark and German doesn't ...</td>\n",
       "      <td>5.3</td>\n",
       "      <td>3.67</td>\n",
       "      <td>25</td>\n",
       "      <td>50</td>\n",
       "      <td>...</td>\n",
       "      <td>69</td>\n",
       "      <td>10</td>\n",
       "      <td>63</td>\n",
       "      <td>120</td>\n",
       "      <td>14</td>\n",
       "      <td>0</td>\n",
       "      <td>19</td>\n",
       "      <td>36</td>\n",
       "      <td>15</td>\n",
       "      <td>218</td>\n",
       "    </tr>\n",
       "  </tbody>\n",
       "</table>\n",
       "<p>5 rows × 21 columns</p>\n",
       "</div>"
      ],
      "text/plain": [
       "             name  key    style  style key                         brewery  \\\n",
       "0           Amber  251  Altbier          8             Alaskan Brewing Co.   \n",
       "1      Double Bag  252  Altbier          8          Long Trail Brewing Co.   \n",
       "2  Long Trail Ale  253  Altbier          8          Long Trail Brewing Co.   \n",
       "3    Doppelsticke  254  Altbier          8  Uerige Obergärige Hausbrauerei   \n",
       "4          Scurry  255  Altbier          8               Off Color Brewing   \n",
       "\n",
       "                                         description  abv  ave rating  \\\n",
       "0  Notes:Richly malty and long on the palate, wit...  5.3        3.65   \n",
       "1  Notes:This malty, full-bodied double alt is al...  7.2        3.90   \n",
       "2  Notes:Long Trail Ale is a full-bodied amber al...  5.0        3.58   \n",
       "3                                             Notes:  8.5        4.15   \n",
       "4  Notes:Just cause it's dark and German doesn't ...  5.3        3.67   \n",
       "\n",
       "   min ibu  max ibu  ...  body  alcohol  bitter  sweet  sour  salty  fruits  \\\n",
       "0       25       50  ...    32        9      47     74    33      0      33   \n",
       "1       25       50  ...    57       18      33     55    16      0      24   \n",
       "2       25       50  ...    37        6      42     43    11      0      10   \n",
       "3       25       50  ...    55       31      47    101    18      1      49   \n",
       "4       25       50  ...    69       10      63    120    14      0      19   \n",
       "\n",
       "   hoppy  spices  malty  \n",
       "0     57       8    111  \n",
       "1     35      12     84  \n",
       "2     54       4     62  \n",
       "3     40      16    119  \n",
       "4     36      15    218  \n",
       "\n",
       "[5 rows x 21 columns]"
      ]
     },
     "execution_count": 6,
     "metadata": {},
     "output_type": "execute_result"
    }
   ],
   "source": [
    "top = pd.read_csv('/Users/alix/code/ltexp1998/zytholic_project/raw_data/top-beer-information/top_beer_information.csv')\n",
    "top.drop_duplicates(inplace = True)\n",
    "top.columns = [x.lower() for x in top.columns]\n",
    "top['name'] = top['name'].astype(str)\n",
    "top['brewery'] = top['brewery'].astype(str)\n",
    "top.head()"
   ]
  },
  {
   "cell_type": "code",
   "execution_count": null,
   "id": "4a19bbbb",
   "metadata": {
    "ExecuteTime": {
     "end_time": "2021-08-24T07:12:32.049738Z",
     "start_time": "2021-08-24T07:12:32.021417Z"
    }
   },
   "outputs": [],
   "source": [
    "top.name"
   ]
  },
  {
   "cell_type": "code",
   "execution_count": 7,
   "id": "ae92f6b2",
   "metadata": {
    "ExecuteTime": {
     "end_time": "2021-08-24T12:28:50.333871Z",
     "start_time": "2021-08-24T12:28:46.584968Z"
    }
   },
   "outputs": [
    {
     "data": {
      "text/plain": [
       "(358873, 10)"
      ]
     },
     "execution_count": 7,
     "metadata": {},
     "output_type": "execute_result"
    }
   ],
   "source": [
    "beers = pd.read_csv(\"/Users/alix/code/ltexp1998/zytholic_project/raw_data/Beers_Breweries_and_Beer Reviews/beers.csv\")\n",
    "beers.drop_duplicates(inplace=True)\n",
    "beers.name = beers.name.astype(str)\n",
    "beers.shape"
   ]
  },
  {
   "cell_type": "code",
   "execution_count": 8,
   "id": "9606d3f1",
   "metadata": {
    "ExecuteTime": {
     "end_time": "2021-08-24T12:28:54.583564Z",
     "start_time": "2021-08-24T12:28:54.513108Z"
    }
   },
   "outputs": [
    {
     "data": {
      "text/html": [
       "<div>\n",
       "<style scoped>\n",
       "    .dataframe tbody tr th:only-of-type {\n",
       "        vertical-align: middle;\n",
       "    }\n",
       "\n",
       "    .dataframe tbody tr th {\n",
       "        vertical-align: top;\n",
       "    }\n",
       "\n",
       "    .dataframe thead th {\n",
       "        text-align: right;\n",
       "    }\n",
       "</style>\n",
       "<table border=\"1\" class=\"dataframe\">\n",
       "  <thead>\n",
       "    <tr style=\"text-align: right;\">\n",
       "      <th></th>\n",
       "      <th>id</th>\n",
       "      <th>name</th>\n",
       "      <th>brewery_id</th>\n",
       "      <th>state</th>\n",
       "      <th>country</th>\n",
       "      <th>style</th>\n",
       "      <th>availability</th>\n",
       "      <th>abv</th>\n",
       "      <th>notes</th>\n",
       "      <th>retired</th>\n",
       "    </tr>\n",
       "  </thead>\n",
       "  <tbody>\n",
       "    <tr>\n",
       "      <th>0</th>\n",
       "      <td>202522</td>\n",
       "      <td>Olde Cogitator</td>\n",
       "      <td>2199</td>\n",
       "      <td>CA</td>\n",
       "      <td>US</td>\n",
       "      <td>English Oatmeal Stout</td>\n",
       "      <td>Rotating</td>\n",
       "      <td>7.3</td>\n",
       "      <td>No notes at this time.</td>\n",
       "      <td>f</td>\n",
       "    </tr>\n",
       "    <tr>\n",
       "      <th>1</th>\n",
       "      <td>82352</td>\n",
       "      <td>Konrads Stout Russian Imperial Stout</td>\n",
       "      <td>18604</td>\n",
       "      <td>NaN</td>\n",
       "      <td>NO</td>\n",
       "      <td>Russian Imperial Stout</td>\n",
       "      <td>Rotating</td>\n",
       "      <td>10.4</td>\n",
       "      <td>No notes at this time.</td>\n",
       "      <td>f</td>\n",
       "    </tr>\n",
       "    <tr>\n",
       "      <th>2</th>\n",
       "      <td>214879</td>\n",
       "      <td>Scottish Right</td>\n",
       "      <td>44306</td>\n",
       "      <td>IN</td>\n",
       "      <td>US</td>\n",
       "      <td>Scottish Ale</td>\n",
       "      <td>Year-round</td>\n",
       "      <td>4.0</td>\n",
       "      <td>No notes at this time.</td>\n",
       "      <td>t</td>\n",
       "    </tr>\n",
       "    <tr>\n",
       "      <th>3</th>\n",
       "      <td>320009</td>\n",
       "      <td>MegaMeow Imperial Stout</td>\n",
       "      <td>4378</td>\n",
       "      <td>WA</td>\n",
       "      <td>US</td>\n",
       "      <td>American Imperial Stout</td>\n",
       "      <td>Winter</td>\n",
       "      <td>8.7</td>\n",
       "      <td>Every time this year</td>\n",
       "      <td>f</td>\n",
       "    </tr>\n",
       "    <tr>\n",
       "      <th>4</th>\n",
       "      <td>246438</td>\n",
       "      <td>Peaches-N-Cream</td>\n",
       "      <td>44617</td>\n",
       "      <td>PA</td>\n",
       "      <td>US</td>\n",
       "      <td>American Cream Ale</td>\n",
       "      <td>Rotating</td>\n",
       "      <td>5.1</td>\n",
       "      <td>No notes at this time.</td>\n",
       "      <td>f</td>\n",
       "    </tr>\n",
       "    <tr>\n",
       "      <th>...</th>\n",
       "      <td>...</td>\n",
       "      <td>...</td>\n",
       "      <td>...</td>\n",
       "      <td>...</td>\n",
       "      <td>...</td>\n",
       "      <td>...</td>\n",
       "      <td>...</td>\n",
       "      <td>...</td>\n",
       "      <td>...</td>\n",
       "      <td>...</td>\n",
       "    </tr>\n",
       "    <tr>\n",
       "      <th>358868</th>\n",
       "      <td>267703</td>\n",
       "      <td>Collective Project: Gose</td>\n",
       "      <td>32763</td>\n",
       "      <td>ON</td>\n",
       "      <td>CA</td>\n",
       "      <td>Leipzig Gose</td>\n",
       "      <td>Limited (brewed once)</td>\n",
       "      <td>5.0</td>\n",
       "      <td>Our Gose is an unfiltered wheat beer made with...</td>\n",
       "      <td>t</td>\n",
       "    </tr>\n",
       "    <tr>\n",
       "      <th>358869</th>\n",
       "      <td>300013</td>\n",
       "      <td>Tripel</td>\n",
       "      <td>50238</td>\n",
       "      <td>NaN</td>\n",
       "      <td>BE</td>\n",
       "      <td>Belgian Tripel</td>\n",
       "      <td>Year-round</td>\n",
       "      <td>8.0</td>\n",
       "      <td>No notes at this time.</td>\n",
       "      <td>f</td>\n",
       "    </tr>\n",
       "    <tr>\n",
       "      <th>358870</th>\n",
       "      <td>187618</td>\n",
       "      <td>RIPTA</td>\n",
       "      <td>34665</td>\n",
       "      <td>RI</td>\n",
       "      <td>US</td>\n",
       "      <td>Belgian Tripel</td>\n",
       "      <td>Rotating</td>\n",
       "      <td>9.5</td>\n",
       "      <td>No notes at this time.</td>\n",
       "      <td>f</td>\n",
       "    </tr>\n",
       "    <tr>\n",
       "      <th>358871</th>\n",
       "      <td>283124</td>\n",
       "      <td>Rumble Fish</td>\n",
       "      <td>29238</td>\n",
       "      <td>MI</td>\n",
       "      <td>US</td>\n",
       "      <td>American Imperial IPA</td>\n",
       "      <td>Rotating</td>\n",
       "      <td>8.3</td>\n",
       "      <td>No notes at this time.</td>\n",
       "      <td>f</td>\n",
       "    </tr>\n",
       "    <tr>\n",
       "      <th>358872</th>\n",
       "      <td>267484</td>\n",
       "      <td>Joie De Vivre</td>\n",
       "      <td>25032</td>\n",
       "      <td>CA</td>\n",
       "      <td>US</td>\n",
       "      <td>Belgian Saison</td>\n",
       "      <td>Limited (brewed once)</td>\n",
       "      <td>6.6</td>\n",
       "      <td>No notes at this time.</td>\n",
       "      <td>t</td>\n",
       "    </tr>\n",
       "  </tbody>\n",
       "</table>\n",
       "<p>358873 rows × 10 columns</p>\n",
       "</div>"
      ],
      "text/plain": [
       "            id                                  name  brewery_id state  \\\n",
       "0       202522                        Olde Cogitator        2199    CA   \n",
       "1        82352  Konrads Stout Russian Imperial Stout       18604   NaN   \n",
       "2       214879                        Scottish Right       44306    IN   \n",
       "3       320009               MegaMeow Imperial Stout        4378    WA   \n",
       "4       246438                       Peaches-N-Cream       44617    PA   \n",
       "...        ...                                   ...         ...   ...   \n",
       "358868  267703              Collective Project: Gose       32763    ON   \n",
       "358869  300013                                Tripel       50238   NaN   \n",
       "358870  187618                                 RIPTA       34665    RI   \n",
       "358871  283124                           Rumble Fish       29238    MI   \n",
       "358872  267484                         Joie De Vivre       25032    CA   \n",
       "\n",
       "       country                    style           availability   abv  \\\n",
       "0           US    English Oatmeal Stout               Rotating   7.3   \n",
       "1           NO   Russian Imperial Stout               Rotating  10.4   \n",
       "2           US             Scottish Ale             Year-round   4.0   \n",
       "3           US  American Imperial Stout                 Winter   8.7   \n",
       "4           US       American Cream Ale               Rotating   5.1   \n",
       "...        ...                      ...                    ...   ...   \n",
       "358868      CA             Leipzig Gose  Limited (brewed once)   5.0   \n",
       "358869      BE           Belgian Tripel             Year-round   8.0   \n",
       "358870      US           Belgian Tripel               Rotating   9.5   \n",
       "358871      US    American Imperial IPA               Rotating   8.3   \n",
       "358872      US           Belgian Saison  Limited (brewed once)   6.6   \n",
       "\n",
       "                                                    notes retired  \n",
       "0                                  No notes at this time.       f  \n",
       "1                                  No notes at this time.       f  \n",
       "2                                  No notes at this time.       t  \n",
       "3                                    Every time this year       f  \n",
       "4                                  No notes at this time.       f  \n",
       "...                                                   ...     ...  \n",
       "358868  Our Gose is an unfiltered wheat beer made with...       t  \n",
       "358869                             No notes at this time.       f  \n",
       "358870                             No notes at this time.       f  \n",
       "358871                             No notes at this time.       f  \n",
       "358872                             No notes at this time.       t  \n",
       "\n",
       "[358873 rows x 10 columns]"
      ]
     },
     "execution_count": 8,
     "metadata": {},
     "output_type": "execute_result"
    }
   ],
   "source": [
    "beers"
   ]
  },
  {
   "cell_type": "code",
   "execution_count": null,
   "id": "77fa7804",
   "metadata": {
    "ExecuteTime": {
     "end_time": "2021-08-25T12:19:01.346258Z",
     "start_time": "2021-08-25T12:19:00.154693Z"
    }
   },
   "outputs": [],
   "source": [
    "beer_review = pd.read_csv('../raw_data/Beers_Breweries_and_Beer Reviews/reviews.csv',\n",
    "                         nrows= 200_000)\n",
    "beer_review.drop_duplicates(inplace=True)"
   ]
  },
  {
   "cell_type": "code",
   "execution_count": 18,
   "id": "b51c69e0",
   "metadata": {
    "ExecuteTime": {
     "end_time": "2021-08-25T12:23:15.144559Z",
     "start_time": "2021-08-25T12:23:15.059115Z"
    }
   },
   "outputs": [
    {
     "name": "stdout",
     "output_type": "stream",
     "text": [
      "<class 'pandas.core.frame.DataFrame'>\n",
      "Int64Index: 200000 entries, 0 to 199999\n",
      "Data columns (total 10 columns):\n",
      " #   Column    Non-Null Count   Dtype  \n",
      "---  ------    --------------   -----  \n",
      " 0   beer_id   200000 non-null  int64  \n",
      " 1   username  199935 non-null  object \n",
      " 2   date      200000 non-null  object \n",
      " 3   text      200000 non-null  object \n",
      " 4   look      109012 non-null  float64\n",
      " 5   smell     109012 non-null  float64\n",
      " 6   taste     109012 non-null  float64\n",
      " 7   feel      109012 non-null  float64\n",
      " 8   overall   109012 non-null  float64\n",
      " 9   score     200000 non-null  float64\n",
      "dtypes: float64(6), int64(1), object(3)\n",
      "memory usage: 20.8+ MB\n"
     ]
    }
   ],
   "source": [
    "beer_review.info()"
   ]
  },
  {
   "cell_type": "code",
   "execution_count": 21,
   "id": "701c3bd3",
   "metadata": {
    "ExecuteTime": {
     "end_time": "2021-08-25T12:28:29.916220Z",
     "start_time": "2021-08-25T12:28:29.840279Z"
    }
   },
   "outputs": [
    {
     "data": {
      "text/plain": [
       "beer_id        0\n",
       "username      63\n",
       "date           0\n",
       "text           0\n",
       "look        3186\n",
       "smell       3186\n",
       "taste       3186\n",
       "feel        3186\n",
       "overall     3186\n",
       "score          0\n",
       "dtype: int64"
      ]
     },
     "execution_count": 21,
     "metadata": {},
     "output_type": "execute_result"
    }
   ],
   "source": [
    "beer_review[beer_review.text != '\\xa0\\xa0'].isnull().sum()"
   ]
  },
  {
   "cell_type": "code",
   "execution_count": null,
   "id": "b1bdcaca",
   "metadata": {
    "ExecuteTime": {
     "end_time": "2021-08-24T07:12:44.195501Z",
     "start_time": "2021-08-24T07:12:43.936339Z"
    }
   },
   "outputs": [],
   "source": [
    "breweries = pd.read_csv('/Users/alix/code/ltexp1998/zytholic_project/raw_data/Beers, Breweries, and Beer Reviews/breweries.csv')\n",
    "breweries.drop_duplicates(inplace=True)\n",
    "breweries = brewries.rename(columns={'id': 'brewery_id',\n",
    "                'name': 'brewery'})\n",
    "breweries"
   ]
  },
  {
   "cell_type": "code",
   "execution_count": null,
   "id": "a544eb5b",
   "metadata": {
    "ExecuteTime": {
     "end_time": "2021-08-23T13:58:30.239477Z",
     "start_time": "2021-08-23T13:58:30.190746Z"
    }
   },
   "outputs": [],
   "source": [
    "beers"
   ]
  },
  {
   "cell_type": "markdown",
   "id": "9b38da6b",
   "metadata": {},
   "source": [
    "## Name correspondance analysis"
   ]
  },
  {
   "cell_type": "code",
   "execution_count": null,
   "id": "0b801321",
   "metadata": {
    "ExecuteTime": {
     "end_time": "2021-08-23T15:26:24.989649Z",
     "start_time": "2021-08-23T15:26:24.319440Z"
    }
   },
   "outputs": [],
   "source": [
    "beers = pd.merge(beers, brewries[['brewery_id', 'brewery']],\n",
    "                how= 'inner', on='brewery_id')\n",
    "beers.drop('brewery_id', axis=1, inplace=True)"
   ]
  },
  {
   "cell_type": "code",
   "execution_count": null,
   "id": "8bf4c6fa",
   "metadata": {
    "ExecuteTime": {
     "end_time": "2021-08-23T15:20:24.739796Z",
     "start_time": "2021-08-23T15:20:24.578341Z"
    }
   },
   "outputs": [],
   "source": []
  },
  {
   "cell_type": "code",
   "execution_count": null,
   "id": "8b2e11a3",
   "metadata": {
    "ExecuteTime": {
     "end_time": "2021-08-23T15:33:00.775035Z",
     "start_time": "2021-08-23T15:33:00.767786Z"
    }
   },
   "outputs": [],
   "source": [
    "import re\n",
    "def clean_string(string):\n",
    "    string = string.lower()\n",
    "    cleanString = re.sub('[^A-Za-z0-9 ]+','', string)\n",
    "    return cleanString"
   ]
  },
  {
   "cell_type": "code",
   "execution_count": null,
   "id": "93e76771",
   "metadata": {
    "ExecuteTime": {
     "end_time": "2021-08-23T15:33:01.354598Z",
     "start_time": "2021-08-23T15:33:01.216084Z"
    }
   },
   "outputs": [],
   "source": [
    "# Remove brewery name when still included in beer name\n",
    "names = []\n",
    "for i in range(top.shape[0]):\n",
    "    beer_name = top['name'][i]\n",
    "    brew_name = top['brewery'][i]\n",
    "    if brew_name in beer_name:\n",
    "        new = beer_name.replace(beer_name, '')\n",
    "        names.append(new)\n",
    "    else:\n",
    "        names.append(beer_name)\n",
    "top['name']= names"
   ]
  },
  {
   "cell_type": "code",
   "execution_count": null,
   "id": "a3bfbeea",
   "metadata": {
    "ExecuteTime": {
     "end_time": "2021-08-23T15:33:05.780685Z",
     "start_time": "2021-08-23T15:33:05.526878Z"
    }
   },
   "outputs": [],
   "source": [
    "names = []\n",
    "for i in range(beers.shape[0]):\n",
    "    beer_name = beers['name'][i]\n",
    "    brew_name = beers['brewery'][i]\n",
    "    if brew_name in beer_name:\n",
    "        new = beer_name.replace(beer_name, '')\n",
    "        names.append(new)\n",
    "    else:\n",
    "        names.append(beer_name)\n",
    "\n",
    "beers['name']= names"
   ]
  },
  {
   "cell_type": "code",
   "execution_count": null,
   "id": "464eec97",
   "metadata": {
    "ExecuteTime": {
     "end_time": "2021-08-23T15:33:37.188021Z",
     "start_time": "2021-08-23T15:33:37.142563Z"
    }
   },
   "outputs": [],
   "source": [
    "#beer_names = [clean_string(x) for x in beers.name]\n",
    "\n",
    "top_names = [clean_string(x) for x in top.name]"
   ]
  },
  {
   "cell_type": "code",
   "execution_count": null,
   "id": "d6573599",
   "metadata": {
    "ExecuteTime": {
     "end_time": "2021-08-23T15:27:47.691063Z",
     "start_time": "2021-08-23T15:27:47.679763Z"
    }
   },
   "outputs": [],
   "source": [
    "top['names'] = top_names\n",
    "\n",
    "beers['names'] = beers.name"
   ]
  },
  {
   "cell_type": "code",
   "execution_count": null,
   "id": "c4cfe49f",
   "metadata": {
    "ExecuteTime": {
     "end_time": "2021-08-23T15:33:52.435417Z",
     "start_time": "2021-08-23T15:33:52.092162Z"
    }
   },
   "outputs": [],
   "source": [
    "pd.merge(top, beers, on=['name', 'abv'], how='inner')"
   ]
  },
  {
   "cell_type": "code",
   "execution_count": null,
   "id": "6e295fb4",
   "metadata": {
    "ExecuteTime": {
     "end_time": "2021-08-23T15:31:06.836898Z",
     "start_time": "2021-08-23T15:31:06.702018Z"
    }
   },
   "outputs": [],
   "source": [
    "top"
   ]
  },
  {
   "cell_type": "code",
   "execution_count": null,
   "id": "6e8568fa",
   "metadata": {
    "ExecuteTime": {
     "end_time": "2021-08-23T13:54:39.091484Z",
     "start_time": "2021-08-23T13:54:39.070737Z"
    }
   },
   "outputs": [],
   "source": [
    "pd.Series(top_names).shape, pd.Series(top_names).unique().shape"
   ]
  },
  {
   "cell_type": "code",
   "execution_count": null,
   "id": "2c4eaac2",
   "metadata": {
    "ExecuteTime": {
     "end_time": "2021-08-23T15:30:18.930963Z",
     "start_time": "2021-08-23T15:30:18.816177Z"
    }
   },
   "outputs": [],
   "source": [
    "common = [x for x in top_names if x in beers.name]"
   ]
  },
  {
   "cell_type": "code",
   "execution_count": null,
   "id": "d5883ff3",
   "metadata": {
    "ExecuteTime": {
     "end_time": "2021-08-23T15:30:20.410871Z",
     "start_time": "2021-08-23T15:30:20.401539Z"
    }
   },
   "outputs": [],
   "source": [
    "len(common)"
   ]
  },
  {
   "cell_type": "code",
   "execution_count": null,
   "id": "48795b08",
   "metadata": {
    "ExecuteTime": {
     "end_time": "2021-08-23T14:59:52.569200Z",
     "start_time": "2021-08-23T14:59:34.279554Z"
    }
   },
   "outputs": [],
   "source": [
    "diff = [x for x in top_names if x not in names]"
   ]
  },
  {
   "cell_type": "code",
   "execution_count": null,
   "id": "3ce186e8",
   "metadata": {
    "ExecuteTime": {
     "end_time": "2021-08-23T14:59:52.599077Z",
     "start_time": "2021-08-23T14:59:52.571709Z"
    }
   },
   "outputs": [],
   "source": [
    "diff"
   ]
  },
  {
   "cell_type": "code",
   "execution_count": null,
   "id": "032057c6",
   "metadata": {
    "ExecuteTime": {
     "end_time": "2021-08-23T13:44:05.972477Z",
     "start_time": "2021-08-23T13:43:58.130487Z"
    }
   },
   "outputs": [],
   "source": [
    "review_name = [clean_string(x) for x in beer_review.beer_name]\n",
    "review_name"
   ]
  },
  {
   "cell_type": "code",
   "execution_count": null,
   "id": "d9144ccf",
   "metadata": {
    "ExecuteTime": {
     "end_time": "2021-08-23T13:46:25.727245Z",
     "start_time": "2021-08-23T13:44:05.992145Z"
    }
   },
   "outputs": [],
   "source": [
    "common2 = [x for x in top_names if x in review_name]\n",
    "len(common2)"
   ]
  },
  {
   "cell_type": "code",
   "execution_count": null,
   "id": "cbb5323d",
   "metadata": {
    "ExecuteTime": {
     "end_time": "2021-08-23T13:46:25.760903Z",
     "start_time": "2021-08-23T13:46:25.732684Z"
    }
   },
   "outputs": [],
   "source": [
    "beer_review.beer_name.head(30)"
   ]
  },
  {
   "cell_type": "code",
   "execution_count": null,
   "id": "7b39694c",
   "metadata": {
    "ExecuteTime": {
     "end_time": "2021-08-23T14:09:40.730429Z",
     "start_time": "2021-08-23T14:09:40.372229Z"
    }
   },
   "outputs": [],
   "source": [
    "a = pd.merge(top, beers, on=['name', 'abv'], how='left')"
   ]
  },
  {
   "cell_type": "code",
   "execution_count": null,
   "id": "80e3039a",
   "metadata": {
    "ExecuteTime": {
     "end_time": "2021-08-23T14:09:58.432967Z",
     "start_time": "2021-08-23T14:09:58.366442Z"
    }
   },
   "outputs": [],
   "source": [
    "a"
   ]
  },
  {
   "cell_type": "markdown",
   "id": "fe3b05dd",
   "metadata": {},
   "source": [
    "## Breweries analysis"
   ]
  },
  {
   "cell_type": "code",
   "execution_count": null,
   "id": "0eeb0a77",
   "metadata": {
    "ExecuteTime": {
     "end_time": "2021-08-24T07:33:38.129956Z",
     "start_time": "2021-08-24T07:33:38.121025Z"
    }
   },
   "outputs": [],
   "source": [
    "top_brew = top.brewery.unique()\n",
    "\n",
    "brew = breweries.brewery.unique()"
   ]
  },
  {
   "cell_type": "code",
   "execution_count": null,
   "id": "e93a42c7",
   "metadata": {
    "ExecuteTime": {
     "end_time": "2021-08-24T07:46:44.282435Z",
     "start_time": "2021-08-24T07:46:42.625863Z"
    }
   },
   "outputs": [],
   "source": [
    "common = [x for x in top_brew if x in brew]\n",
    "\n",
    "len(top_brew), len(common)"
   ]
  },
  {
   "cell_type": "code",
   "execution_count": null,
   "id": "d5fd5471",
   "metadata": {
    "ExecuteTime": {
     "end_time": "2021-08-24T07:46:50.768401Z",
     "start_time": "2021-08-24T07:46:49.099332Z"
    }
   },
   "outputs": [],
   "source": [
    "diff = [x for x in top_brew if x not in brew]\n",
    "\n",
    "diff"
   ]
  },
  {
   "cell_type": "code",
   "execution_count": null,
   "id": "a1adf5d6",
   "metadata": {
    "ExecuteTime": {
     "end_time": "2021-08-24T07:23:34.870031Z",
     "start_time": "2021-08-24T07:23:34.808783Z"
    }
   },
   "outputs": [],
   "source": [
    "brew[pd.Series(brew).str.contains('paulaner')]"
   ]
  },
  {
   "cell_type": "code",
   "execution_count": null,
   "id": "8d14b657",
   "metadata": {
    "ExecuteTime": {
     "end_time": "2021-08-24T07:29:33.595052Z",
     "start_time": "2021-08-24T07:29:33.025725Z"
    }
   },
   "outputs": [],
   "source": [
    "beer_brewery = pd.merge(beers, breweries[['brewery_id', 'brewery']], on='brewery_id', how='inner')"
   ]
  },
  {
   "cell_type": "code",
   "execution_count": null,
   "id": "80a2035f",
   "metadata": {
    "ExecuteTime": {
     "end_time": "2021-08-24T07:38:54.077166Z",
     "start_time": "2021-08-24T07:38:53.933834Z"
    }
   },
   "outputs": [],
   "source": [
    "sorted_brewery = beer_brewery.groupby('brewery')['name'].count().sort_values(ascending=False).reset_index()"
   ]
  },
  {
   "cell_type": "code",
   "execution_count": null,
   "id": "00e317b1",
   "metadata": {
    "ExecuteTime": {
     "end_time": "2021-08-24T08:32:46.934778Z",
     "start_time": "2021-08-24T08:32:46.119686Z"
    }
   },
   "outputs": [],
   "source": [
    "# name[:round(len(name)/2)]\n",
    "corresp = []\n",
    "for name in diff:\n",
    "    partial = name[:round(len(name)/2)]\n",
    "    try: \n",
    "        search = sorted_brewery[sorted_brewery.brewery.str.contains(str(partial))]\n",
    "    except:\n",
    "        proposition= ''\n",
    "        \n",
    "    names = search.brewery\n",
    "    proposition = ' / '.join(names)\n",
    "    corresp.append([name , proposition])"
   ]
  },
  {
   "cell_type": "code",
   "execution_count": null,
   "id": "00f64b28",
   "metadata": {
    "ExecuteTime": {
     "end_time": "2021-08-24T07:44:00.073077Z",
     "start_time": "2021-08-24T07:44:00.040765Z"
    }
   },
   "outputs": [],
   "source": [
    "partial = name[round(len(name)/2)]\n",
    "search = sorted_brewery[sorted_brewery.brewery.str.contains('Paulaner')]\n",
    "\n",
    "names = search.brewery\n",
    "' / '.join(names)"
   ]
  },
  {
   "cell_type": "code",
   "execution_count": null,
   "id": "8380b374",
   "metadata": {
    "ExecuteTime": {
     "end_time": "2021-08-24T08:43:16.890001Z",
     "start_time": "2021-08-24T08:43:16.882324Z"
    }
   },
   "outputs": [],
   "source": [
    "corresp = pd.DataFrame(corresp)"
   ]
  },
  {
   "cell_type": "code",
   "execution_count": null,
   "id": "ec3e5062",
   "metadata": {
    "ExecuteTime": {
     "end_time": "2021-08-24T08:43:43.200823Z",
     "start_time": "2021-08-24T08:43:43.178954Z"
    }
   },
   "outputs": [],
   "source": [
    "corresp[corresp.iloc[:, 1] == \"\"]"
   ]
  },
  {
   "cell_type": "code",
   "execution_count": 152,
   "id": "4ef19400",
   "metadata": {
    "ExecuteTime": {
     "end_time": "2021-08-24T09:27:59.471129Z",
     "start_time": "2021-08-24T09:27:59.457800Z"
    }
   },
   "outputs": [
    {
     "data": {
      "text/plain": [
       "['Hops & Grain Brewing',\n",
       " 'Fordham & Dominion Brewing Company',\n",
       " \"Harvey's Brewery\",\n",
       " 'Crazy Mountain Brewery',\n",
       " 'French Broad River Brewing',\n",
       " 'Budweiser Brewing Group UK&I',\n",
       " \"Timothy Taylor's Brewery\",\n",
       " 'The Musketeers Brouwerijcafé',\n",
       " 'Andean Brewing Company / Nap Time Liquid Creation',\n",
       " 'Ayinger Privatbrauerei',\n",
       " 'Paulaner Brauerei',\n",
       " 'Augustiner-Bräu',\n",
       " 'Holsten-Brauerei',\n",
       " 'Spoetzl Brewery',\n",
       " 'Perrin Brewing Co.',\n",
       " 'Maisel & Friends',\n",
       " 'Brauerei Ladenburger',\n",
       " 'Other Half Brewing Company',\n",
       " 'BOMBrewery',\n",
       " 'Gentse Gruut Brouwerij',\n",
       " 'Atlantic Brewing Company',\n",
       " 'St. Paul Brewing',\n",
       " 'Brasserie 3 MONTS',\n",
       " 'COHO Brewing Co.',\n",
       " 'The Hidden Mother Brewery',\n",
       " 'Indeed Brewing Company - Minneapolis',\n",
       " 'Big Storm Brewing Company - Odessa',\n",
       " \"Marston's Plc.\",\n",
       " 'Bouquet Of Chuvashia (Cheboksarskaya Pivovariya)',\n",
       " 'Dixie Beer',\n",
       " 'Flensburger Brauerei',\n",
       " 'Adams Street Brewery',\n",
       " 'Oettinger Brauerei GmbH',\n",
       " 'Waterloo Brewing',\n",
       " 'Žatecký Pivovar',\n",
       " 'Proper Saké Co.',\n",
       " 'Privatbrauerei H. Egerer',\n",
       " 'Kaiser Bräu',\n",
       " 'Silver City Brewing Co. / Silver City Restaurant & Ale House',\n",
       " 'Prost Brewing Co. - Denver',\n",
       " 'Yee-Haw Brewing Co.',\n",
       " 'KC Bier Co.',\n",
       " 'Gänstaller Braumanufaktur',\n",
       " 'Bokke',\n",
       " 'Privatbrauerei Eichbaum',\n",
       " 'Brauerei Gebrüder Maisel',\n",
       " 'Machine House Brewery - Georgetown',\n",
       " 'Karlovačko Pivovara',\n",
       " 'Friesisches Brauhaus zu Jever',\n",
       " 'Propeller',\n",
       " 'Alewerks Brewing Company',\n",
       " '18th Street Brewery - Gary Taproom',\n",
       " 'Brew Bus Brewing',\n",
       " \"Three Notch'd Brewing Company - Charlottesville Brewery & Restaurant\",\n",
       " \"Brouwerij 't Verzet\",\n",
       " 'Ritterguts Gose',\n",
       " 'Four City Brewing Company',\n",
       " 'Thomas Albright']"
      ]
     },
     "execution_count": 152,
     "metadata": {},
     "output_type": "execute_result"
    }
   ],
   "source": [
    "diff"
   ]
  },
  {
   "cell_type": "code",
   "execution_count": 170,
   "id": "b408f3d3",
   "metadata": {
    "ExecuteTime": {
     "end_time": "2021-08-24T09:41:52.336386Z",
     "start_time": "2021-08-24T09:41:52.306886Z"
    }
   },
   "outputs": [
    {
     "data": {
      "text/html": [
       "<div>\n",
       "<style scoped>\n",
       "    .dataframe tbody tr th:only-of-type {\n",
       "        vertical-align: middle;\n",
       "    }\n",
       "\n",
       "    .dataframe tbody tr th {\n",
       "        vertical-align: top;\n",
       "    }\n",
       "\n",
       "    .dataframe thead th {\n",
       "        text-align: right;\n",
       "    }\n",
       "</style>\n",
       "<table border=\"1\" class=\"dataframe\">\n",
       "  <thead>\n",
       "    <tr style=\"text-align: right;\">\n",
       "      <th></th>\n",
       "      <th>brewery</th>\n",
       "      <th>name</th>\n",
       "    </tr>\n",
       "  </thead>\n",
       "  <tbody>\n",
       "    <tr>\n",
       "      <th>6322</th>\n",
       "      <td>Žatecký Pivovar</td>\n",
       "      <td>13</td>\n",
       "    </tr>\n",
       "  </tbody>\n",
       "</table>\n",
       "</div>"
      ],
      "text/plain": [
       "               brewery  name\n",
       "6322  Žatecký Pivovar    13"
      ]
     },
     "execution_count": 170,
     "metadata": {},
     "output_type": "execute_result"
    }
   ],
   "source": [
    "sorted_brewery[sorted_brewery.brewery.str.contains(\"Žatecký\")]"
   ]
  },
  {
   "cell_type": "code",
   "execution_count": 171,
   "id": "094e54ec",
   "metadata": {
    "ExecuteTime": {
     "end_time": "2021-08-24T09:44:25.186884Z",
     "start_time": "2021-08-24T09:44:25.147144Z"
    }
   },
   "outputs": [
    {
     "name": "stderr",
     "output_type": "stream",
     "text": [
      "/Users/alix/.pyenv/versions/3.8.6/envs/zytholic_project/lib/python3.8/site-packages/openpyxl/worksheet/_reader.py:312: UserWarning: Unknown extension is not supported and will be removed\n",
      "  warn(msg)\n"
     ]
    }
   ],
   "source": [
    "matching_table = pd.read_excel('/Users/alix/code/ltexp1998/zytholic_project/assets/correspondance_breweryclean2.xlsx')\n",
    "\n",
    "tmt = matching_table.iloc[:, 1]\n",
    "bigmt = matching_table.iloc[:, 2]"
   ]
  },
  {
   "cell_type": "code",
   "execution_count": 172,
   "id": "ca4de63d",
   "metadata": {
    "ExecuteTime": {
     "end_time": "2021-08-24T09:44:25.933650Z",
     "start_time": "2021-08-24T09:44:25.921961Z"
    }
   },
   "outputs": [
    {
     "data": {
      "text/plain": [
       "[]"
      ]
     },
     "execution_count": 172,
     "metadata": {},
     "output_type": "execute_result"
    }
   ],
   "source": [
    "[x for x in tmt if x not in top_brew]"
   ]
  },
  {
   "cell_type": "code",
   "execution_count": 173,
   "id": "72e73250",
   "metadata": {
    "ExecuteTime": {
     "end_time": "2021-08-24T09:44:26.623048Z",
     "start_time": "2021-08-24T09:44:26.562347Z"
    }
   },
   "outputs": [
    {
     "data": {
      "text/plain": [
       "[]"
      ]
     },
     "execution_count": 173,
     "metadata": {},
     "output_type": "execute_result"
    }
   ],
   "source": [
    "[x for x in bigmt if x not in brew]"
   ]
  },
  {
   "cell_type": "code",
   "execution_count": 174,
   "id": "2ea35fde",
   "metadata": {
    "ExecuteTime": {
     "end_time": "2021-08-24T09:44:37.013651Z",
     "start_time": "2021-08-24T09:44:36.992620Z"
    }
   },
   "outputs": [
    {
     "data": {
      "text/html": [
       "<div>\n",
       "<style scoped>\n",
       "    .dataframe tbody tr th:only-of-type {\n",
       "        vertical-align: middle;\n",
       "    }\n",
       "\n",
       "    .dataframe tbody tr th {\n",
       "        vertical-align: top;\n",
       "    }\n",
       "\n",
       "    .dataframe thead th {\n",
       "        text-align: right;\n",
       "    }\n",
       "</style>\n",
       "<table border=\"1\" class=\"dataframe\">\n",
       "  <thead>\n",
       "    <tr style=\"text-align: right;\">\n",
       "      <th></th>\n",
       "      <th>Unnamed: 0</th>\n",
       "      <th>0</th>\n",
       "      <th>1</th>\n",
       "    </tr>\n",
       "  </thead>\n",
       "  <tbody>\n",
       "    <tr>\n",
       "      <th>0</th>\n",
       "      <td>0</td>\n",
       "      <td>Hops &amp; Grain Brewing</td>\n",
       "      <td>Hops and Grain Brewery</td>\n",
       "    </tr>\n",
       "    <tr>\n",
       "      <th>1</th>\n",
       "      <td>3</td>\n",
       "      <td>Crazy Mountain Brewery</td>\n",
       "      <td>Crazy Mountain Brewing Company</td>\n",
       "    </tr>\n",
       "    <tr>\n",
       "      <th>2</th>\n",
       "      <td>4</td>\n",
       "      <td>French Broad River Brewing</td>\n",
       "      <td>French Broad Brewing Co.</td>\n",
       "    </tr>\n",
       "    <tr>\n",
       "      <th>3</th>\n",
       "      <td>5</td>\n",
       "      <td>Budweiser Brewing Group UK&amp;I</td>\n",
       "      <td>Anheuser-Busch</td>\n",
       "    </tr>\n",
       "    <tr>\n",
       "      <th>4</th>\n",
       "      <td>6</td>\n",
       "      <td>Timothy Taylor's Brewery</td>\n",
       "      <td>Timothy Taylor &amp; Co. Limited</td>\n",
       "    </tr>\n",
       "    <tr>\n",
       "      <th>5</th>\n",
       "      <td>8</td>\n",
       "      <td>Andean Brewing Company / Nap Time Liquid Creation</td>\n",
       "      <td>Andean Brewing Company</td>\n",
       "    </tr>\n",
       "    <tr>\n",
       "      <th>6</th>\n",
       "      <td>10</td>\n",
       "      <td>Paulaner Brauerei</td>\n",
       "      <td>Paulaner Brauerei GmbH &amp; Co. KG</td>\n",
       "    </tr>\n",
       "    <tr>\n",
       "      <th>7</th>\n",
       "      <td>11</td>\n",
       "      <td>Augustiner-Bräu</td>\n",
       "      <td>Augustiner-Bräu Wagner KG</td>\n",
       "    </tr>\n",
       "    <tr>\n",
       "      <th>8</th>\n",
       "      <td>12</td>\n",
       "      <td>Holsten-Brauerei</td>\n",
       "      <td>Hanseatische Getränke-Industrie (HGI) Holsten-...</td>\n",
       "    </tr>\n",
       "    <tr>\n",
       "      <th>9</th>\n",
       "      <td>13</td>\n",
       "      <td>Spoetzl Brewery</td>\n",
       "      <td>Spoetzl Brewery / Shiner</td>\n",
       "    </tr>\n",
       "    <tr>\n",
       "      <th>10</th>\n",
       "      <td>14</td>\n",
       "      <td>Perrin Brewing Co.</td>\n",
       "      <td>Perrin Brewery</td>\n",
       "    </tr>\n",
       "    <tr>\n",
       "      <th>11</th>\n",
       "      <td>16</td>\n",
       "      <td>Brauerei Ladenburger</td>\n",
       "      <td>Brauerei Ladenburger GmbH</td>\n",
       "    </tr>\n",
       "    <tr>\n",
       "      <th>12</th>\n",
       "      <td>17</td>\n",
       "      <td>Other Half Brewing Company</td>\n",
       "      <td>Other Half Brewing Co.</td>\n",
       "    </tr>\n",
       "    <tr>\n",
       "      <th>13</th>\n",
       "      <td>19</td>\n",
       "      <td>Gentse Gruut Brouwerij</td>\n",
       "      <td>Gentse Stadsbrouwerij</td>\n",
       "    </tr>\n",
       "    <tr>\n",
       "      <th>14</th>\n",
       "      <td>20</td>\n",
       "      <td>Atlantic Brewing Company</td>\n",
       "      <td>Atlantic Brewing Company / Mainely Meat BBQ</td>\n",
       "    </tr>\n",
       "    <tr>\n",
       "      <th>15</th>\n",
       "      <td>25</td>\n",
       "      <td>Indeed Brewing Company - Minneapolis</td>\n",
       "      <td>Indeed Brewing Company</td>\n",
       "    </tr>\n",
       "    <tr>\n",
       "      <th>16</th>\n",
       "      <td>26</td>\n",
       "      <td>Big Storm Brewing Company - Odessa</td>\n",
       "      <td>Big Storm Brewing Company</td>\n",
       "    </tr>\n",
       "    <tr>\n",
       "      <th>17</th>\n",
       "      <td>27</td>\n",
       "      <td>Marston's Plc.</td>\n",
       "      <td>Marston's PLC</td>\n",
       "    </tr>\n",
       "    <tr>\n",
       "      <th>18</th>\n",
       "      <td>29</td>\n",
       "      <td>Dixie Beer</td>\n",
       "      <td>Dixie Brewing Co.</td>\n",
       "    </tr>\n",
       "    <tr>\n",
       "      <th>19</th>\n",
       "      <td>30</td>\n",
       "      <td>Flensburger Brauerei</td>\n",
       "      <td>Flensburger Brauerei GmbH Und Co. KG</td>\n",
       "    </tr>\n",
       "    <tr>\n",
       "      <th>20</th>\n",
       "      <td>32</td>\n",
       "      <td>Oettinger Brauerei GmbH</td>\n",
       "      <td>Oettinger Brauerei</td>\n",
       "    </tr>\n",
       "    <tr>\n",
       "      <th>21</th>\n",
       "      <td>34</td>\n",
       "      <td>Žatecký Pivovar</td>\n",
       "      <td>Žatecký Pivovar</td>\n",
       "    </tr>\n",
       "    <tr>\n",
       "      <th>22</th>\n",
       "      <td>36</td>\n",
       "      <td>Privatbrauerei H. Egerer</td>\n",
       "      <td>Privatbrauerei und Mineralbrunnenbetrieb H. Eg...</td>\n",
       "    </tr>\n",
       "    <tr>\n",
       "      <th>23</th>\n",
       "      <td>37</td>\n",
       "      <td>Kaiser Bräu</td>\n",
       "      <td>Kaiser Bräu GmbH &amp; Co KG</td>\n",
       "    </tr>\n",
       "    <tr>\n",
       "      <th>24</th>\n",
       "      <td>38</td>\n",
       "      <td>Silver City Brewing Co. / Silver City Restaura...</td>\n",
       "      <td>Silver City Brewing Co.</td>\n",
       "    </tr>\n",
       "    <tr>\n",
       "      <th>25</th>\n",
       "      <td>39</td>\n",
       "      <td>Prost Brewing Co. - Denver</td>\n",
       "      <td>Prost Brewing Company</td>\n",
       "    </tr>\n",
       "    <tr>\n",
       "      <th>26</th>\n",
       "      <td>40</td>\n",
       "      <td>Yee-Haw Brewing Co.</td>\n",
       "      <td>Yee-haw Brewing Co.</td>\n",
       "    </tr>\n",
       "    <tr>\n",
       "      <th>27</th>\n",
       "      <td>42</td>\n",
       "      <td>Gänstaller Braumanufaktur</td>\n",
       "      <td>Gänstaller-Bräu</td>\n",
       "    </tr>\n",
       "    <tr>\n",
       "      <th>28</th>\n",
       "      <td>43</td>\n",
       "      <td>Bokke</td>\n",
       "      <td>Bokkereyder</td>\n",
       "    </tr>\n",
       "    <tr>\n",
       "      <th>29</th>\n",
       "      <td>44</td>\n",
       "      <td>Privatbrauerei Eichbaum</td>\n",
       "      <td>Privatbrauerei Eichbaum GmbH &amp; Co. KG</td>\n",
       "    </tr>\n",
       "    <tr>\n",
       "      <th>30</th>\n",
       "      <td>45</td>\n",
       "      <td>Brauerei Gebrüder Maisel</td>\n",
       "      <td>Brauerei Gebrüder Maisel GmbH &amp; Co.</td>\n",
       "    </tr>\n",
       "    <tr>\n",
       "      <th>31</th>\n",
       "      <td>46</td>\n",
       "      <td>Machine House Brewery - Georgetown</td>\n",
       "      <td>Machine House Brewery</td>\n",
       "    </tr>\n",
       "    <tr>\n",
       "      <th>32</th>\n",
       "      <td>47</td>\n",
       "      <td>Karlovačko Pivovara</td>\n",
       "      <td>Karlovaċka Pivovara</td>\n",
       "    </tr>\n",
       "    <tr>\n",
       "      <th>33</th>\n",
       "      <td>48</td>\n",
       "      <td>Friesisches Brauhaus zu Jever</td>\n",
       "      <td>Friesisches Brauhaus zu Jever GmbH &amp; Co KG</td>\n",
       "    </tr>\n",
       "    <tr>\n",
       "      <th>34</th>\n",
       "      <td>49</td>\n",
       "      <td>Propeller</td>\n",
       "      <td>Propeller Brewery</td>\n",
       "    </tr>\n",
       "    <tr>\n",
       "      <th>35</th>\n",
       "      <td>51</td>\n",
       "      <td>18th Street Brewery - Gary Taproom</td>\n",
       "      <td>18th Street Brewery</td>\n",
       "    </tr>\n",
       "    <tr>\n",
       "      <th>36</th>\n",
       "      <td>52</td>\n",
       "      <td>Brew Bus Brewing</td>\n",
       "      <td>The Brew Bus Terminal &amp; Brewery</td>\n",
       "    </tr>\n",
       "    <tr>\n",
       "      <th>37</th>\n",
       "      <td>53</td>\n",
       "      <td>Three Notch'd Brewing Company - Charlottesvill...</td>\n",
       "      <td>Three Notch'd Brewing Company</td>\n",
       "    </tr>\n",
       "    <tr>\n",
       "      <th>38</th>\n",
       "      <td>54</td>\n",
       "      <td>Brouwerij 't Verzet</td>\n",
       "      <td>Brouwerij 't Verzet / Café Loca</td>\n",
       "    </tr>\n",
       "  </tbody>\n",
       "</table>\n",
       "</div>"
      ],
      "text/plain": [
       "    Unnamed: 0                                                  0  \\\n",
       "0            0                               Hops & Grain Brewing   \n",
       "1            3                             Crazy Mountain Brewery   \n",
       "2            4                         French Broad River Brewing   \n",
       "3            5                       Budweiser Brewing Group UK&I   \n",
       "4            6                           Timothy Taylor's Brewery   \n",
       "5            8  Andean Brewing Company / Nap Time Liquid Creation   \n",
       "6           10                                  Paulaner Brauerei   \n",
       "7           11                                    Augustiner-Bräu   \n",
       "8           12                                   Holsten-Brauerei   \n",
       "9           13                                    Spoetzl Brewery   \n",
       "10          14                                 Perrin Brewing Co.   \n",
       "11          16                               Brauerei Ladenburger   \n",
       "12          17                         Other Half Brewing Company   \n",
       "13          19                             Gentse Gruut Brouwerij   \n",
       "14          20                           Atlantic Brewing Company   \n",
       "15          25               Indeed Brewing Company - Minneapolis   \n",
       "16          26                 Big Storm Brewing Company - Odessa   \n",
       "17          27                                     Marston's Plc.   \n",
       "18          29                                         Dixie Beer   \n",
       "19          30                               Flensburger Brauerei   \n",
       "20          32                            Oettinger Brauerei GmbH   \n",
       "21          34                                    Žatecký Pivovar   \n",
       "22          36                           Privatbrauerei H. Egerer   \n",
       "23          37                                        Kaiser Bräu   \n",
       "24          38  Silver City Brewing Co. / Silver City Restaura...   \n",
       "25          39                         Prost Brewing Co. - Denver   \n",
       "26          40                                Yee-Haw Brewing Co.   \n",
       "27          42                          Gänstaller Braumanufaktur   \n",
       "28          43                                              Bokke   \n",
       "29          44                            Privatbrauerei Eichbaum   \n",
       "30          45                           Brauerei Gebrüder Maisel   \n",
       "31          46                 Machine House Brewery - Georgetown   \n",
       "32          47                                Karlovačko Pivovara   \n",
       "33          48                      Friesisches Brauhaus zu Jever   \n",
       "34          49                                          Propeller   \n",
       "35          51                 18th Street Brewery - Gary Taproom   \n",
       "36          52                                   Brew Bus Brewing   \n",
       "37          53  Three Notch'd Brewing Company - Charlottesvill...   \n",
       "38          54                                Brouwerij 't Verzet   \n",
       "\n",
       "                                                    1  \n",
       "0                              Hops and Grain Brewery  \n",
       "1                      Crazy Mountain Brewing Company  \n",
       "2                            French Broad Brewing Co.  \n",
       "3                                      Anheuser-Busch  \n",
       "4                        Timothy Taylor & Co. Limited  \n",
       "5                              Andean Brewing Company  \n",
       "6                     Paulaner Brauerei GmbH & Co. KG  \n",
       "7                           Augustiner-Bräu Wagner KG  \n",
       "8   Hanseatische Getränke-Industrie (HGI) Holsten-...  \n",
       "9                            Spoetzl Brewery / Shiner  \n",
       "10                                     Perrin Brewery  \n",
       "11                          Brauerei Ladenburger GmbH  \n",
       "12                             Other Half Brewing Co.  \n",
       "13                              Gentse Stadsbrouwerij  \n",
       "14        Atlantic Brewing Company / Mainely Meat BBQ  \n",
       "15                             Indeed Brewing Company  \n",
       "16                          Big Storm Brewing Company  \n",
       "17                                      Marston's PLC  \n",
       "18                                  Dixie Brewing Co.  \n",
       "19               Flensburger Brauerei GmbH Und Co. KG  \n",
       "20                                 Oettinger Brauerei  \n",
       "21                                   Žatecký Pivovar  \n",
       "22  Privatbrauerei und Mineralbrunnenbetrieb H. Eg...  \n",
       "23                           Kaiser Bräu GmbH & Co KG  \n",
       "24                            Silver City Brewing Co.  \n",
       "25                              Prost Brewing Company  \n",
       "26                                Yee-haw Brewing Co.  \n",
       "27                                    Gänstaller-Bräu  \n",
       "28                                        Bokkereyder  \n",
       "29              Privatbrauerei Eichbaum GmbH & Co. KG  \n",
       "30                Brauerei Gebrüder Maisel GmbH & Co.  \n",
       "31                              Machine House Brewery  \n",
       "32                                Karlovaċka Pivovara  \n",
       "33         Friesisches Brauhaus zu Jever GmbH & Co KG  \n",
       "34                                  Propeller Brewery  \n",
       "35                                18th Street Brewery  \n",
       "36                    The Brew Bus Terminal & Brewery  \n",
       "37                      Three Notch'd Brewing Company  \n",
       "38                    Brouwerij 't Verzet / Café Loca  "
      ]
     },
     "execution_count": 174,
     "metadata": {},
     "output_type": "execute_result"
    }
   ],
   "source": [
    "matching_table"
   ]
  },
  {
   "cell_type": "code",
   "execution_count": null,
   "id": "d09b06c0",
   "metadata": {},
   "outputs": [],
   "source": []
  }
 ],
 "metadata": {
  "kernelspec": {
   "display_name": "Python 3 (ipykernel)",
   "language": "python",
   "name": "python3"
  },
  "language_info": {
   "codemirror_mode": {
    "name": "ipython",
    "version": 3
   },
   "file_extension": ".py",
   "mimetype": "text/x-python",
   "name": "python",
   "nbconvert_exporter": "python",
   "pygments_lexer": "ipython3",
   "version": "3.8.6"
  },
  "toc": {
   "base_numbering": 1,
   "nav_menu": {},
   "number_sections": true,
   "sideBar": true,
   "skip_h1_title": false,
   "title_cell": "Table of Contents",
   "title_sidebar": "Contents",
   "toc_cell": false,
   "toc_position": {},
   "toc_section_display": true,
   "toc_window_display": true
  }
 },
 "nbformat": 4,
 "nbformat_minor": 5
}
