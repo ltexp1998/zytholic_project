{
 "cells": [
  {
   "cell_type": "code",
   "execution_count": 1,
   "id": "24898c53",
   "metadata": {
    "ExecuteTime": {
     "end_time": "2021-08-23T15:31:49.979733Z",
     "start_time": "2021-08-23T15:31:48.378977Z"
    }
   },
   "outputs": [],
   "source": [
    "import pandas as pd"
   ]
  },
  {
   "cell_type": "code",
   "execution_count": 2,
   "id": "48742121",
   "metadata": {
    "ExecuteTime": {
     "end_time": "2021-08-23T15:31:50.382993Z",
     "start_time": "2021-08-23T15:31:49.981923Z"
    }
   },
   "outputs": [
    {
     "name": "stdout",
     "output_type": "stream",
     "text": [
      "atc_EDA.ipynb\r\n"
     ]
    }
   ],
   "source": [
    "!ls"
   ]
  },
  {
   "cell_type": "markdown",
   "id": "4dc658b2",
   "metadata": {},
   "source": [
    "## import"
   ]
  },
  {
   "cell_type": "code",
   "execution_count": 6,
   "id": "ec44b1ca",
   "metadata": {
    "ExecuteTime": {
     "end_time": "2021-08-23T15:32:56.366452Z",
     "start_time": "2021-08-23T15:32:56.255952Z"
    }
   },
   "outputs": [
    {
     "data": {
      "text/html": [
       "<div>\n",
       "<style scoped>\n",
       "    .dataframe tbody tr th:only-of-type {\n",
       "        vertical-align: middle;\n",
       "    }\n",
       "\n",
       "    .dataframe tbody tr th {\n",
       "        vertical-align: top;\n",
       "    }\n",
       "\n",
       "    .dataframe thead th {\n",
       "        text-align: right;\n",
       "    }\n",
       "</style>\n",
       "<table border=\"1\" class=\"dataframe\">\n",
       "  <thead>\n",
       "    <tr style=\"text-align: right;\">\n",
       "      <th></th>\n",
       "      <th>name</th>\n",
       "      <th>key</th>\n",
       "      <th>style</th>\n",
       "      <th>style key</th>\n",
       "      <th>brewery</th>\n",
       "      <th>description</th>\n",
       "      <th>abv</th>\n",
       "      <th>ave rating</th>\n",
       "      <th>min ibu</th>\n",
       "      <th>max ibu</th>\n",
       "      <th>...</th>\n",
       "      <th>body</th>\n",
       "      <th>alcohol</th>\n",
       "      <th>bitter</th>\n",
       "      <th>sweet</th>\n",
       "      <th>sour</th>\n",
       "      <th>salty</th>\n",
       "      <th>fruits</th>\n",
       "      <th>hoppy</th>\n",
       "      <th>spices</th>\n",
       "      <th>malty</th>\n",
       "    </tr>\n",
       "  </thead>\n",
       "  <tbody>\n",
       "    <tr>\n",
       "      <th>0</th>\n",
       "      <td>Amber</td>\n",
       "      <td>251</td>\n",
       "      <td>Altbier</td>\n",
       "      <td>8</td>\n",
       "      <td>Alaskan Brewing Co.</td>\n",
       "      <td>Notes:Richly malty and long on the palate, wit...</td>\n",
       "      <td>5.3</td>\n",
       "      <td>3.65</td>\n",
       "      <td>25</td>\n",
       "      <td>50</td>\n",
       "      <td>...</td>\n",
       "      <td>32</td>\n",
       "      <td>9</td>\n",
       "      <td>47</td>\n",
       "      <td>74</td>\n",
       "      <td>33</td>\n",
       "      <td>0</td>\n",
       "      <td>33</td>\n",
       "      <td>57</td>\n",
       "      <td>8</td>\n",
       "      <td>111</td>\n",
       "    </tr>\n",
       "    <tr>\n",
       "      <th>1</th>\n",
       "      <td>Double Bag</td>\n",
       "      <td>252</td>\n",
       "      <td>Altbier</td>\n",
       "      <td>8</td>\n",
       "      <td>Long Trail Brewing Co.</td>\n",
       "      <td>Notes:This malty, full-bodied double alt is al...</td>\n",
       "      <td>7.2</td>\n",
       "      <td>3.90</td>\n",
       "      <td>25</td>\n",
       "      <td>50</td>\n",
       "      <td>...</td>\n",
       "      <td>57</td>\n",
       "      <td>18</td>\n",
       "      <td>33</td>\n",
       "      <td>55</td>\n",
       "      <td>16</td>\n",
       "      <td>0</td>\n",
       "      <td>24</td>\n",
       "      <td>35</td>\n",
       "      <td>12</td>\n",
       "      <td>84</td>\n",
       "    </tr>\n",
       "    <tr>\n",
       "      <th>2</th>\n",
       "      <td>Long Trail Ale</td>\n",
       "      <td>253</td>\n",
       "      <td>Altbier</td>\n",
       "      <td>8</td>\n",
       "      <td>Long Trail Brewing Co.</td>\n",
       "      <td>Notes:Long Trail Ale is a full-bodied amber al...</td>\n",
       "      <td>5.0</td>\n",
       "      <td>3.58</td>\n",
       "      <td>25</td>\n",
       "      <td>50</td>\n",
       "      <td>...</td>\n",
       "      <td>37</td>\n",
       "      <td>6</td>\n",
       "      <td>42</td>\n",
       "      <td>43</td>\n",
       "      <td>11</td>\n",
       "      <td>0</td>\n",
       "      <td>10</td>\n",
       "      <td>54</td>\n",
       "      <td>4</td>\n",
       "      <td>62</td>\n",
       "    </tr>\n",
       "    <tr>\n",
       "      <th>3</th>\n",
       "      <td>Doppelsticke</td>\n",
       "      <td>254</td>\n",
       "      <td>Altbier</td>\n",
       "      <td>8</td>\n",
       "      <td>Uerige Obergärige Hausbrauerei</td>\n",
       "      <td>Notes:</td>\n",
       "      <td>8.5</td>\n",
       "      <td>4.15</td>\n",
       "      <td>25</td>\n",
       "      <td>50</td>\n",
       "      <td>...</td>\n",
       "      <td>55</td>\n",
       "      <td>31</td>\n",
       "      <td>47</td>\n",
       "      <td>101</td>\n",
       "      <td>18</td>\n",
       "      <td>1</td>\n",
       "      <td>49</td>\n",
       "      <td>40</td>\n",
       "      <td>16</td>\n",
       "      <td>119</td>\n",
       "    </tr>\n",
       "    <tr>\n",
       "      <th>4</th>\n",
       "      <td>Scurry</td>\n",
       "      <td>255</td>\n",
       "      <td>Altbier</td>\n",
       "      <td>8</td>\n",
       "      <td>Off Color Brewing</td>\n",
       "      <td>Notes:Just cause it's dark and German doesn't ...</td>\n",
       "      <td>5.3</td>\n",
       "      <td>3.67</td>\n",
       "      <td>25</td>\n",
       "      <td>50</td>\n",
       "      <td>...</td>\n",
       "      <td>69</td>\n",
       "      <td>10</td>\n",
       "      <td>63</td>\n",
       "      <td>120</td>\n",
       "      <td>14</td>\n",
       "      <td>0</td>\n",
       "      <td>19</td>\n",
       "      <td>36</td>\n",
       "      <td>15</td>\n",
       "      <td>218</td>\n",
       "    </tr>\n",
       "  </tbody>\n",
       "</table>\n",
       "<p>5 rows × 21 columns</p>\n",
       "</div>"
      ],
      "text/plain": [
       "             name  key    style  style key                         brewery  \\\n",
       "0           Amber  251  Altbier          8             Alaskan Brewing Co.   \n",
       "1      Double Bag  252  Altbier          8          Long Trail Brewing Co.   \n",
       "2  Long Trail Ale  253  Altbier          8          Long Trail Brewing Co.   \n",
       "3    Doppelsticke  254  Altbier          8  Uerige Obergärige Hausbrauerei   \n",
       "4          Scurry  255  Altbier          8               Off Color Brewing   \n",
       "\n",
       "                                         description  abv  ave rating  \\\n",
       "0  Notes:Richly malty and long on the palate, wit...  5.3        3.65   \n",
       "1  Notes:This malty, full-bodied double alt is al...  7.2        3.90   \n",
       "2  Notes:Long Trail Ale is a full-bodied amber al...  5.0        3.58   \n",
       "3                                             Notes:  8.5        4.15   \n",
       "4  Notes:Just cause it's dark and German doesn't ...  5.3        3.67   \n",
       "\n",
       "   min ibu  max ibu  ...  body  alcohol  bitter  sweet  sour  salty  fruits  \\\n",
       "0       25       50  ...    32        9      47     74    33      0      33   \n",
       "1       25       50  ...    57       18      33     55    16      0      24   \n",
       "2       25       50  ...    37        6      42     43    11      0      10   \n",
       "3       25       50  ...    55       31      47    101    18      1      49   \n",
       "4       25       50  ...    69       10      63    120    14      0      19   \n",
       "\n",
       "   hoppy  spices  malty  \n",
       "0     57       8    111  \n",
       "1     35      12     84  \n",
       "2     54       4     62  \n",
       "3     40      16    119  \n",
       "4     36      15    218  \n",
       "\n",
       "[5 rows x 21 columns]"
      ]
     },
     "execution_count": 6,
     "metadata": {},
     "output_type": "execute_result"
    }
   ],
   "source": [
    "top = pd.read_csv('/Users/alix/code/ltexp1998/zytholic_project/raw_data/Top-Beer-Information/top_beer_inforamtion.csv')\n",
    "top.drop_duplicates(inplace = True)\n",
    "top.columns = [x.lower() for x in top.columns]\n",
    "top['name'] = top['name'].astype(str)\n",
    "top['brewery'] = top['brewery'].astype(str)\n",
    "top.head()"
   ]
  },
  {
   "cell_type": "code",
   "execution_count": 4,
   "id": "3213b27a",
   "metadata": {
    "ExecuteTime": {
     "end_time": "2021-08-23T15:31:53.838451Z",
     "start_time": "2021-08-23T15:31:53.783744Z"
    }
   },
   "outputs": [
    {
     "data": {
      "text/plain": [
       "0                                                     ...\n",
       "1                                                     ...\n",
       "2                                                     ...\n",
       "3                                                     ...\n",
       "4                                                     ...\n",
       "                              ...                        \n",
       "5553                                                  ...\n",
       "5554                                                  ...\n",
       "5555                                                  ...\n",
       "5556                                                  ...\n",
       "5557                                                  ...\n",
       "Name: name, Length: 5558, dtype: object"
      ]
     },
     "execution_count": 4,
     "metadata": {},
     "output_type": "execute_result"
    }
   ],
   "source": [
    "top.name"
   ]
  },
  {
   "cell_type": "code",
   "execution_count": 10,
   "id": "05e5701a",
   "metadata": {
    "ExecuteTime": {
     "end_time": "2021-08-23T15:33:24.457557Z",
     "start_time": "2021-08-23T15:33:22.918787Z"
    }
   },
   "outputs": [
    {
     "data": {
      "text/plain": [
       "(358873, 10)"
      ]
     },
     "execution_count": 10,
     "metadata": {},
     "output_type": "execute_result"
    }
   ],
   "source": [
    "beers = pd.read_csv(\"/Users/alix/code/ltexp1998/zytholic_project/raw_data/Beers, Breweries, and Beer Reviews/beers.csv\")\n",
    "beers.drop_duplicates(inplace=True)\n",
    "beers.name = beers.name.astype(str)\n",
    "beers.shape"
   ]
  },
  {
   "cell_type": "code",
   "execution_count": null,
   "id": "118ed54a",
   "metadata": {
    "ExecuteTime": {
     "end_time": "2021-08-23T15:13:46.965367Z",
     "start_time": "2021-08-23T15:13:46.952575Z"
    }
   },
   "outputs": [],
   "source": [
    "beers.columns"
   ]
  },
  {
   "cell_type": "code",
   "execution_count": null,
   "id": "1f494ea4",
   "metadata": {
    "ExecuteTime": {
     "end_time": "2021-08-23T12:21:31.712429Z",
     "start_time": "2021-08-23T12:21:26.033968Z"
    }
   },
   "outputs": [],
   "source": [
    "beer_review = pd.read_csv('/Users/alix/code/ltexp1998/zytholic_project/raw_data/Beer Reviews /beer_reviews.csv')\n",
    "beer_review.drop_duplicates(inplace=True)\n",
    "beer_review.shape"
   ]
  },
  {
   "cell_type": "code",
   "execution_count": null,
   "id": "265e5749",
   "metadata": {
    "ExecuteTime": {
     "end_time": "2021-08-23T15:26:10.640233Z",
     "start_time": "2021-08-23T15:26:10.396840Z"
    }
   },
   "outputs": [],
   "source": [
    "brewries = pd.read_csv('/Users/alix/code/ltexp1998/zytholic_project/raw_data/Beers, Breweries, and Beer Reviews/breweries.csv')\n",
    "brewries.drop_duplicates(inplace=True)\n",
    "brewries = brewries.rename(columns={'id': 'brewery_id',\n",
    "                'name': 'brewery'})\n",
    "brewries"
   ]
  },
  {
   "cell_type": "code",
   "execution_count": null,
   "id": "206c383a",
   "metadata": {
    "ExecuteTime": {
     "end_time": "2021-08-23T13:58:30.239477Z",
     "start_time": "2021-08-23T13:58:30.190746Z"
    }
   },
   "outputs": [],
   "source": [
    "beers"
   ]
  },
  {
   "cell_type": "markdown",
   "id": "06fba96b",
   "metadata": {},
   "source": [
    "## Name correspondance analysis"
   ]
  },
  {
   "cell_type": "code",
   "execution_count": null,
   "id": "e8db1b3f",
   "metadata": {
    "ExecuteTime": {
     "end_time": "2021-08-23T15:26:24.989649Z",
     "start_time": "2021-08-23T15:26:24.319440Z"
    }
   },
   "outputs": [],
   "source": [
    "beers = pd.merge(beers, brewries[['brewery_id', 'brewery']],\n",
    "                how= 'inner', on='brewery_id')\n",
    "beers.drop('brewery_id', axis=1, inplace=True)"
   ]
  },
  {
   "cell_type": "code",
   "execution_count": null,
   "id": "a26188de",
   "metadata": {
    "ExecuteTime": {
     "end_time": "2021-08-23T15:20:24.739796Z",
     "start_time": "2021-08-23T15:20:24.578341Z"
    }
   },
   "outputs": [],
   "source": []
  },
  {
   "cell_type": "code",
   "execution_count": 7,
   "id": "e3befc59",
   "metadata": {
    "ExecuteTime": {
     "end_time": "2021-08-23T15:33:00.775035Z",
     "start_time": "2021-08-23T15:33:00.767786Z"
    }
   },
   "outputs": [],
   "source": [
    "import re\n",
    "def clean_string(string):\n",
    "    string = string.lower()\n",
    "    cleanString = re.sub('[^A-Za-z0-9 ]+','', string)\n",
    "    return cleanString"
   ]
  },
  {
   "cell_type": "code",
   "execution_count": 8,
   "id": "adcc20a3",
   "metadata": {
    "ExecuteTime": {
     "end_time": "2021-08-23T15:33:01.354598Z",
     "start_time": "2021-08-23T15:33:01.216084Z"
    }
   },
   "outputs": [],
   "source": [
    "# Remove brewery name when still included in beer name\n",
    "names = []\n",
    "for i in range(top.shape[0]):\n",
    "    beer_name = top['name'][i]\n",
    "    brew_name = top['brewery'][i]\n",
    "    if brew_name in beer_name:\n",
    "        new = beer_name.replace(beer_name, '')\n",
    "        names.append(new)\n",
    "    else:\n",
    "        names.append(beer_name)\n",
    "top['name']= names"
   ]
  },
  {
   "cell_type": "code",
   "execution_count": 9,
   "id": "3c028a32",
   "metadata": {
    "ExecuteTime": {
     "end_time": "2021-08-23T15:33:05.780685Z",
     "start_time": "2021-08-23T15:33:05.526878Z"
    }
   },
   "outputs": [
    {
     "ename": "NameError",
     "evalue": "name 'beers' is not defined",
     "output_type": "error",
     "traceback": [
      "\u001b[0;31m---------------------------------------------------------------------------\u001b[0m",
      "\u001b[0;31mNameError\u001b[0m                                 Traceback (most recent call last)",
      "\u001b[0;32m/var/folders/_5/s9wbxcy503dggw34b98btk9c0000gp/T/ipykernel_11608/3327260630.py\u001b[0m in \u001b[0;36m<module>\u001b[0;34m\u001b[0m\n\u001b[1;32m      1\u001b[0m \u001b[0mnames\u001b[0m \u001b[0;34m=\u001b[0m \u001b[0;34m[\u001b[0m\u001b[0;34m]\u001b[0m\u001b[0;34m\u001b[0m\u001b[0;34m\u001b[0m\u001b[0m\n\u001b[0;32m----> 2\u001b[0;31m \u001b[0;32mfor\u001b[0m \u001b[0mi\u001b[0m \u001b[0;32min\u001b[0m \u001b[0mrange\u001b[0m\u001b[0;34m(\u001b[0m\u001b[0mbeers\u001b[0m\u001b[0;34m.\u001b[0m\u001b[0mshape\u001b[0m\u001b[0;34m[\u001b[0m\u001b[0;36m0\u001b[0m\u001b[0;34m]\u001b[0m\u001b[0;34m)\u001b[0m\u001b[0;34m:\u001b[0m\u001b[0;34m\u001b[0m\u001b[0;34m\u001b[0m\u001b[0m\n\u001b[0m\u001b[1;32m      3\u001b[0m     \u001b[0mbeer_name\u001b[0m \u001b[0;34m=\u001b[0m \u001b[0mbeers\u001b[0m\u001b[0;34m[\u001b[0m\u001b[0;34m'name'\u001b[0m\u001b[0;34m]\u001b[0m\u001b[0;34m[\u001b[0m\u001b[0mi\u001b[0m\u001b[0;34m]\u001b[0m\u001b[0;34m\u001b[0m\u001b[0;34m\u001b[0m\u001b[0m\n\u001b[1;32m      4\u001b[0m     \u001b[0mbrew_name\u001b[0m \u001b[0;34m=\u001b[0m \u001b[0mbeers\u001b[0m\u001b[0;34m[\u001b[0m\u001b[0;34m'brewery'\u001b[0m\u001b[0;34m]\u001b[0m\u001b[0;34m[\u001b[0m\u001b[0mi\u001b[0m\u001b[0;34m]\u001b[0m\u001b[0;34m\u001b[0m\u001b[0;34m\u001b[0m\u001b[0m\n\u001b[1;32m      5\u001b[0m     \u001b[0;32mif\u001b[0m \u001b[0mbrew_name\u001b[0m \u001b[0;32min\u001b[0m \u001b[0mbeer_name\u001b[0m\u001b[0;34m:\u001b[0m\u001b[0;34m\u001b[0m\u001b[0;34m\u001b[0m\u001b[0m\n",
      "\u001b[0;31mNameError\u001b[0m: name 'beers' is not defined"
     ]
    }
   ],
   "source": [
    "names = []\n",
    "for i in range(beers.shape[0]):\n",
    "    beer_name = beers['name'][i]\n",
    "    brew_name = beers['brewery'][i]\n",
    "    if brew_name in beer_name:\n",
    "        new = beer_name.replace(beer_name, '')\n",
    "        names.append(new)\n",
    "    else:\n",
    "        names.append(beer_name)\n",
    "\n",
    "beers['name']= names"
   ]
  },
  {
   "cell_type": "code",
   "execution_count": 11,
   "id": "609ee0ee",
   "metadata": {
    "ExecuteTime": {
     "end_time": "2021-08-23T15:33:37.188021Z",
     "start_time": "2021-08-23T15:33:37.142563Z"
    }
   },
   "outputs": [],
   "source": [
    "#beer_names = [clean_string(x) for x in beers.name]\n",
    "\n",
    "top_names = [clean_string(x) for x in top.name]"
   ]
  },
  {
   "cell_type": "code",
   "execution_count": null,
   "id": "13db4146",
   "metadata": {
    "ExecuteTime": {
     "end_time": "2021-08-23T15:27:47.691063Z",
     "start_time": "2021-08-23T15:27:47.679763Z"
    }
   },
   "outputs": [],
   "source": [
    "top['names'] = top_names\n",
    "\n",
    "beers['names'] = beers.name"
   ]
  },
  {
   "cell_type": "code",
   "execution_count": 13,
   "id": "4528cd06",
   "metadata": {
    "ExecuteTime": {
     "end_time": "2021-08-23T15:33:52.435417Z",
     "start_time": "2021-08-23T15:33:52.092162Z"
    }
   },
   "outputs": [
    {
     "data": {
      "text/html": [
       "<div>\n",
       "<style scoped>\n",
       "    .dataframe tbody tr th:only-of-type {\n",
       "        vertical-align: middle;\n",
       "    }\n",
       "\n",
       "    .dataframe tbody tr th {\n",
       "        vertical-align: top;\n",
       "    }\n",
       "\n",
       "    .dataframe thead th {\n",
       "        text-align: right;\n",
       "    }\n",
       "</style>\n",
       "<table border=\"1\" class=\"dataframe\">\n",
       "  <thead>\n",
       "    <tr style=\"text-align: right;\">\n",
       "      <th></th>\n",
       "      <th>name</th>\n",
       "      <th>key</th>\n",
       "      <th>style_x</th>\n",
       "      <th>style key</th>\n",
       "      <th>brewery</th>\n",
       "      <th>description</th>\n",
       "      <th>abv</th>\n",
       "      <th>ave rating</th>\n",
       "      <th>min ibu</th>\n",
       "      <th>max ibu</th>\n",
       "      <th>...</th>\n",
       "      <th>spices</th>\n",
       "      <th>malty</th>\n",
       "      <th>id</th>\n",
       "      <th>brewery_id</th>\n",
       "      <th>state</th>\n",
       "      <th>country</th>\n",
       "      <th>style_y</th>\n",
       "      <th>availability</th>\n",
       "      <th>notes</th>\n",
       "      <th>retired</th>\n",
       "    </tr>\n",
       "  </thead>\n",
       "  <tbody>\n",
       "    <tr>\n",
       "      <th>0</th>\n",
       "      <td>Amber</td>\n",
       "      <td>251</td>\n",
       "      <td>Altbier</td>\n",
       "      <td>8</td>\n",
       "      <td>Alaskan Brewing Co.</td>\n",
       "      <td>Notes:Richly malty and long on the palate, wit...</td>\n",
       "      <td>5.3</td>\n",
       "      <td>3.65</td>\n",
       "      <td>25</td>\n",
       "      <td>50</td>\n",
       "      <td>...</td>\n",
       "      <td>8</td>\n",
       "      <td>111</td>\n",
       "      <td>132672</td>\n",
       "      <td>35510</td>\n",
       "      <td>CO</td>\n",
       "      <td>US</td>\n",
       "      <td>American Amber / Red Ale</td>\n",
       "      <td>Rotating</td>\n",
       "      <td>No notes at this time.</td>\n",
       "      <td>f</td>\n",
       "    </tr>\n",
       "    <tr>\n",
       "      <th>1</th>\n",
       "      <td>Amber</td>\n",
       "      <td>251</td>\n",
       "      <td>Altbier</td>\n",
       "      <td>8</td>\n",
       "      <td>Alaskan Brewing Co.</td>\n",
       "      <td>Notes:Richly malty and long on the palate, wit...</td>\n",
       "      <td>5.3</td>\n",
       "      <td>3.65</td>\n",
       "      <td>25</td>\n",
       "      <td>50</td>\n",
       "      <td>...</td>\n",
       "      <td>8</td>\n",
       "      <td>111</td>\n",
       "      <td>295007</td>\n",
       "      <td>42153</td>\n",
       "      <td>AK</td>\n",
       "      <td>US</td>\n",
       "      <td>American Amber / Red Ale</td>\n",
       "      <td>Rotating</td>\n",
       "      <td>No notes at this time.</td>\n",
       "      <td>f</td>\n",
       "    </tr>\n",
       "    <tr>\n",
       "      <th>2</th>\n",
       "      <td>Amber</td>\n",
       "      <td>251</td>\n",
       "      <td>Altbier</td>\n",
       "      <td>8</td>\n",
       "      <td>Alaskan Brewing Co.</td>\n",
       "      <td>Notes:Richly malty and long on the palate, wit...</td>\n",
       "      <td>5.3</td>\n",
       "      <td>3.65</td>\n",
       "      <td>25</td>\n",
       "      <td>50</td>\n",
       "      <td>...</td>\n",
       "      <td>8</td>\n",
       "      <td>111</td>\n",
       "      <td>357413</td>\n",
       "      <td>49640</td>\n",
       "      <td>TX</td>\n",
       "      <td>US</td>\n",
       "      <td>American Amber / Red Ale</td>\n",
       "      <td>Year-round</td>\n",
       "      <td>No notes at this time.</td>\n",
       "      <td>f</td>\n",
       "    </tr>\n",
       "    <tr>\n",
       "      <th>3</th>\n",
       "      <td>Amber</td>\n",
       "      <td>251</td>\n",
       "      <td>Altbier</td>\n",
       "      <td>8</td>\n",
       "      <td>Alaskan Brewing Co.</td>\n",
       "      <td>Notes:Richly malty and long on the palate, wit...</td>\n",
       "      <td>5.3</td>\n",
       "      <td>3.65</td>\n",
       "      <td>25</td>\n",
       "      <td>50</td>\n",
       "      <td>...</td>\n",
       "      <td>8</td>\n",
       "      <td>111</td>\n",
       "      <td>91362</td>\n",
       "      <td>29245</td>\n",
       "      <td>ON</td>\n",
       "      <td>CA</td>\n",
       "      <td>Scottish Ale</td>\n",
       "      <td>Limited (brewed once)</td>\n",
       "      <td>No notes at this time.</td>\n",
       "      <td>t</td>\n",
       "    </tr>\n",
       "    <tr>\n",
       "      <th>4</th>\n",
       "      <td>Amber</td>\n",
       "      <td>251</td>\n",
       "      <td>Altbier</td>\n",
       "      <td>8</td>\n",
       "      <td>Alaskan Brewing Co.</td>\n",
       "      <td>Notes:Richly malty and long on the palate, wit...</td>\n",
       "      <td>5.3</td>\n",
       "      <td>3.65</td>\n",
       "      <td>25</td>\n",
       "      <td>50</td>\n",
       "      <td>...</td>\n",
       "      <td>8</td>\n",
       "      <td>111</td>\n",
       "      <td>300726</td>\n",
       "      <td>50326</td>\n",
       "      <td>TX</td>\n",
       "      <td>US</td>\n",
       "      <td>American Amber / Red Ale</td>\n",
       "      <td>Year-round</td>\n",
       "      <td>No notes at this time.</td>\n",
       "      <td>f</td>\n",
       "    </tr>\n",
       "    <tr>\n",
       "      <th>...</th>\n",
       "      <td>...</td>\n",
       "      <td>...</td>\n",
       "      <td>...</td>\n",
       "      <td>...</td>\n",
       "      <td>...</td>\n",
       "      <td>...</td>\n",
       "      <td>...</td>\n",
       "      <td>...</td>\n",
       "      <td>...</td>\n",
       "      <td>...</td>\n",
       "      <td>...</td>\n",
       "      <td>...</td>\n",
       "      <td>...</td>\n",
       "      <td>...</td>\n",
       "      <td>...</td>\n",
       "      <td>...</td>\n",
       "      <td>...</td>\n",
       "      <td>...</td>\n",
       "      <td>...</td>\n",
       "      <td>...</td>\n",
       "      <td>...</td>\n",
       "    </tr>\n",
       "    <tr>\n",
       "      <th>6816</th>\n",
       "      <td>The First Snow Ale</td>\n",
       "      <td>695</td>\n",
       "      <td>Winter Warmer</td>\n",
       "      <td>17</td>\n",
       "      <td>RJ Rockers Brewing Company</td>\n",
       "      <td>Notes:This hearty American pale ale contains a...</td>\n",
       "      <td>6.0</td>\n",
       "      <td>3.63</td>\n",
       "      <td>35</td>\n",
       "      <td>50</td>\n",
       "      <td>...</td>\n",
       "      <td>140</td>\n",
       "      <td>58</td>\n",
       "      <td>26344</td>\n",
       "      <td>4408</td>\n",
       "      <td>SC</td>\n",
       "      <td>US</td>\n",
       "      <td>Winter Warmer</td>\n",
       "      <td>Fall</td>\n",
       "      <td>This hearty American pale ale contains a rich ...</td>\n",
       "      <td>f</td>\n",
       "    </tr>\n",
       "    <tr>\n",
       "      <th>6817</th>\n",
       "      <td>Red Nose Winter Ale</td>\n",
       "      <td>696</td>\n",
       "      <td>Winter Warmer</td>\n",
       "      <td>17</td>\n",
       "      <td>Natty Greene's Pub &amp; Brewing Co.</td>\n",
       "      <td>Notes:</td>\n",
       "      <td>6.8</td>\n",
       "      <td>3.59</td>\n",
       "      <td>35</td>\n",
       "      <td>50</td>\n",
       "      <td>...</td>\n",
       "      <td>96</td>\n",
       "      <td>77</td>\n",
       "      <td>21003</td>\n",
       "      <td>9792</td>\n",
       "      <td>NC</td>\n",
       "      <td>US</td>\n",
       "      <td>Winter Warmer</td>\n",
       "      <td>Winter</td>\n",
       "      <td>No notes at this time.</td>\n",
       "      <td>f</td>\n",
       "    </tr>\n",
       "    <tr>\n",
       "      <th>6818</th>\n",
       "      <td>Fish Tale Winterfish</td>\n",
       "      <td>698</td>\n",
       "      <td>Winter Warmer</td>\n",
       "      <td>17</td>\n",
       "      <td>Fish Brewing Company / Fishbowl Brewpub</td>\n",
       "      <td>Notes:</td>\n",
       "      <td>7.5</td>\n",
       "      <td>3.76</td>\n",
       "      <td>35</td>\n",
       "      <td>50</td>\n",
       "      <td>...</td>\n",
       "      <td>18</td>\n",
       "      <td>73</td>\n",
       "      <td>3579</td>\n",
       "      <td>684</td>\n",
       "      <td>WA</td>\n",
       "      <td>US</td>\n",
       "      <td>Winter Warmer</td>\n",
       "      <td>Winter</td>\n",
       "      <td>No notes at this time.</td>\n",
       "      <td>f</td>\n",
       "    </tr>\n",
       "    <tr>\n",
       "      <th>6819</th>\n",
       "      <td>He'Brew Hanukkah, Chanukah: Pass The Beer</td>\n",
       "      <td>699</td>\n",
       "      <td>Winter Warmer</td>\n",
       "      <td>17</td>\n",
       "      <td>Shmaltz Brewing Company</td>\n",
       "      <td>Notes:Chanukah Beer pours a rich crystal clear...</td>\n",
       "      <td>8.0</td>\n",
       "      <td>3.61</td>\n",
       "      <td>35</td>\n",
       "      <td>50</td>\n",
       "      <td>...</td>\n",
       "      <td>23</td>\n",
       "      <td>129</td>\n",
       "      <td>145097</td>\n",
       "      <td>262</td>\n",
       "      <td>NY</td>\n",
       "      <td>US</td>\n",
       "      <td>Winter Warmer</td>\n",
       "      <td>Rotating</td>\n",
       "      <td>Chanukah Beer pours a rich crystal clear chest...</td>\n",
       "      <td>f</td>\n",
       "    </tr>\n",
       "    <tr>\n",
       "      <th>6820</th>\n",
       "      <td>Frosted Frog Christmas Ale - Barrel-Aged</td>\n",
       "      <td>700</td>\n",
       "      <td>Winter Warmer</td>\n",
       "      <td>17</td>\n",
       "      <td>Hoppin' Frog Brewery</td>\n",
       "      <td>Notes:The essence of Christmas is captured in ...</td>\n",
       "      <td>8.6</td>\n",
       "      <td>3.89</td>\n",
       "      <td>35</td>\n",
       "      <td>50</td>\n",
       "      <td>...</td>\n",
       "      <td>148</td>\n",
       "      <td>69</td>\n",
       "      <td>64096</td>\n",
       "      <td>14879</td>\n",
       "      <td>OH</td>\n",
       "      <td>US</td>\n",
       "      <td>Winter Warmer</td>\n",
       "      <td>Winter</td>\n",
       "      <td>The essence of Christmas is captured in this v...</td>\n",
       "      <td>f</td>\n",
       "    </tr>\n",
       "  </tbody>\n",
       "</table>\n",
       "<p>6821 rows × 29 columns</p>\n",
       "</div>"
      ],
      "text/plain": [
       "                                           name  key        style_x  \\\n",
       "0                                         Amber  251        Altbier   \n",
       "1                                         Amber  251        Altbier   \n",
       "2                                         Amber  251        Altbier   \n",
       "3                                         Amber  251        Altbier   \n",
       "4                                         Amber  251        Altbier   \n",
       "...                                         ...  ...            ...   \n",
       "6816                         The First Snow Ale  695  Winter Warmer   \n",
       "6817                        Red Nose Winter Ale  696  Winter Warmer   \n",
       "6818                       Fish Tale Winterfish  698  Winter Warmer   \n",
       "6819  He'Brew Hanukkah, Chanukah: Pass The Beer  699  Winter Warmer   \n",
       "6820   Frosted Frog Christmas Ale - Barrel-Aged  700  Winter Warmer   \n",
       "\n",
       "      style key                                  brewery  \\\n",
       "0             8                      Alaskan Brewing Co.   \n",
       "1             8                      Alaskan Brewing Co.   \n",
       "2             8                      Alaskan Brewing Co.   \n",
       "3             8                      Alaskan Brewing Co.   \n",
       "4             8                      Alaskan Brewing Co.   \n",
       "...         ...                                      ...   \n",
       "6816         17               RJ Rockers Brewing Company   \n",
       "6817         17         Natty Greene's Pub & Brewing Co.   \n",
       "6818         17  Fish Brewing Company / Fishbowl Brewpub   \n",
       "6819         17                  Shmaltz Brewing Company   \n",
       "6820         17                     Hoppin' Frog Brewery   \n",
       "\n",
       "                                            description  abv  ave rating  \\\n",
       "0     Notes:Richly malty and long on the palate, wit...  5.3        3.65   \n",
       "1     Notes:Richly malty and long on the palate, wit...  5.3        3.65   \n",
       "2     Notes:Richly malty and long on the palate, wit...  5.3        3.65   \n",
       "3     Notes:Richly malty and long on the palate, wit...  5.3        3.65   \n",
       "4     Notes:Richly malty and long on the palate, wit...  5.3        3.65   \n",
       "...                                                 ...  ...         ...   \n",
       "6816  Notes:This hearty American pale ale contains a...  6.0        3.63   \n",
       "6817                                             Notes:  6.8        3.59   \n",
       "6818                                             Notes:  7.5        3.76   \n",
       "6819  Notes:Chanukah Beer pours a rich crystal clear...  8.0        3.61   \n",
       "6820  Notes:The essence of Christmas is captured in ...  8.6        3.89   \n",
       "\n",
       "      min ibu  max ibu  ...  spices  malty      id  brewery_id  state  \\\n",
       "0          25       50  ...       8    111  132672       35510     CO   \n",
       "1          25       50  ...       8    111  295007       42153     AK   \n",
       "2          25       50  ...       8    111  357413       49640     TX   \n",
       "3          25       50  ...       8    111   91362       29245     ON   \n",
       "4          25       50  ...       8    111  300726       50326     TX   \n",
       "...       ...      ...  ...     ...    ...     ...         ...    ...   \n",
       "6816       35       50  ...     140     58   26344        4408     SC   \n",
       "6817       35       50  ...      96     77   21003        9792     NC   \n",
       "6818       35       50  ...      18     73    3579         684     WA   \n",
       "6819       35       50  ...      23    129  145097         262     NY   \n",
       "6820       35       50  ...     148     69   64096       14879     OH   \n",
       "\n",
       "      country                   style_y            availability  \\\n",
       "0          US  American Amber / Red Ale                Rotating   \n",
       "1          US  American Amber / Red Ale                Rotating   \n",
       "2          US  American Amber / Red Ale              Year-round   \n",
       "3          CA              Scottish Ale   Limited (brewed once)   \n",
       "4          US  American Amber / Red Ale              Year-round   \n",
       "...       ...                       ...                     ...   \n",
       "6816       US             Winter Warmer                    Fall   \n",
       "6817       US             Winter Warmer                  Winter   \n",
       "6818       US             Winter Warmer                  Winter   \n",
       "6819       US             Winter Warmer                Rotating   \n",
       "6820       US             Winter Warmer                  Winter   \n",
       "\n",
       "                                                  notes  retired  \n",
       "0                                No notes at this time.        f  \n",
       "1                                No notes at this time.        f  \n",
       "2                                No notes at this time.        f  \n",
       "3                                No notes at this time.        t  \n",
       "4                                No notes at this time.        f  \n",
       "...                                                 ...      ...  \n",
       "6816  This hearty American pale ale contains a rich ...        f  \n",
       "6817                             No notes at this time.        f  \n",
       "6818                             No notes at this time.        f  \n",
       "6819  Chanukah Beer pours a rich crystal clear chest...        f  \n",
       "6820  The essence of Christmas is captured in this v...        f  \n",
       "\n",
       "[6821 rows x 29 columns]"
      ]
     },
     "execution_count": 13,
     "metadata": {},
     "output_type": "execute_result"
    }
   ],
   "source": [
    "pd.merge(top, beers, on=['name', 'abv'], how='inner')"
   ]
  },
  {
   "cell_type": "code",
   "execution_count": null,
   "id": "665b7ac3",
   "metadata": {
    "ExecuteTime": {
     "end_time": "2021-08-23T15:31:06.836898Z",
     "start_time": "2021-08-23T15:31:06.702018Z"
    }
   },
   "outputs": [],
   "source": [
    "top"
   ]
  },
  {
   "cell_type": "code",
   "execution_count": null,
   "id": "07a20019",
   "metadata": {
    "ExecuteTime": {
     "end_time": "2021-08-23T13:54:39.091484Z",
     "start_time": "2021-08-23T13:54:39.070737Z"
    }
   },
   "outputs": [],
   "source": [
    "pd.Series(top_names).shape, pd.Series(top_names).unique().shape"
   ]
  },
  {
   "cell_type": "code",
   "execution_count": null,
   "id": "f92cd1c6",
   "metadata": {
    "ExecuteTime": {
     "end_time": "2021-08-23T15:30:18.930963Z",
     "start_time": "2021-08-23T15:30:18.816177Z"
    }
   },
   "outputs": [],
   "source": [
    "common = [x for x in top_names if x in beers.name]"
   ]
  },
  {
   "cell_type": "code",
   "execution_count": null,
   "id": "1c682033",
   "metadata": {
    "ExecuteTime": {
     "end_time": "2021-08-23T15:30:20.410871Z",
     "start_time": "2021-08-23T15:30:20.401539Z"
    }
   },
   "outputs": [],
   "source": [
    "len(common)"
   ]
  },
  {
   "cell_type": "code",
   "execution_count": null,
   "id": "b8ffe015",
   "metadata": {
    "ExecuteTime": {
     "end_time": "2021-08-23T14:59:52.569200Z",
     "start_time": "2021-08-23T14:59:34.279554Z"
    }
   },
   "outputs": [],
   "source": [
    "diff = [x for x in top_names if x not in names]"
   ]
  },
  {
   "cell_type": "code",
   "execution_count": null,
   "id": "39f84695",
   "metadata": {
    "ExecuteTime": {
     "end_time": "2021-08-23T14:59:52.599077Z",
     "start_time": "2021-08-23T14:59:52.571709Z"
    }
   },
   "outputs": [],
   "source": [
    "diff"
   ]
  },
  {
   "cell_type": "code",
   "execution_count": null,
   "id": "b6878236",
   "metadata": {
    "ExecuteTime": {
     "end_time": "2021-08-23T13:44:05.972477Z",
     "start_time": "2021-08-23T13:43:58.130487Z"
    }
   },
   "outputs": [],
   "source": [
    "review_name = [clean_string(x) for x in beer_review.beer_name]\n",
    "review_name"
   ]
  },
  {
   "cell_type": "code",
   "execution_count": null,
   "id": "27f7c00c",
   "metadata": {
    "ExecuteTime": {
     "end_time": "2021-08-23T13:46:25.727245Z",
     "start_time": "2021-08-23T13:44:05.992145Z"
    }
   },
   "outputs": [],
   "source": [
    "common2 = [x for x in top_names if x in review_name]\n",
    "len(common2)"
   ]
  },
  {
   "cell_type": "code",
   "execution_count": null,
   "id": "80f85b77",
   "metadata": {
    "ExecuteTime": {
     "end_time": "2021-08-23T13:46:25.760903Z",
     "start_time": "2021-08-23T13:46:25.732684Z"
    }
   },
   "outputs": [],
   "source": [
    "beer_review.beer_name.head(30)"
   ]
  },
  {
   "cell_type": "code",
   "execution_count": null,
   "id": "6dda0c6a",
   "metadata": {
    "ExecuteTime": {
     "end_time": "2021-08-23T14:09:40.730429Z",
     "start_time": "2021-08-23T14:09:40.372229Z"
    }
   },
   "outputs": [],
   "source": [
    "a = pd.merge(top, beers, on=['name', 'abv'], how='left')"
   ]
  },
  {
   "cell_type": "code",
   "execution_count": null,
   "id": "c8ef6e02",
   "metadata": {
    "ExecuteTime": {
     "end_time": "2021-08-23T14:09:58.432967Z",
     "start_time": "2021-08-23T14:09:58.366442Z"
    }
   },
   "outputs": [],
   "source": [
    "a"
   ]
  },
  {
   "cell_type": "code",
   "execution_count": null,
   "id": "35d44d31",
   "metadata": {},
   "outputs": [],
   "source": []
  },
  {
   "cell_type": "code",
   "execution_count": null,
   "id": "2f660ecb",
   "metadata": {
    "ExecuteTime": {
     "end_time": "2021-08-23T14:02:43.113586Z",
     "start_time": "2021-08-23T14:02:43.087073Z"
    }
   },
   "outputs": [],
   "source": [
    "top[['name', 'brewery', 'abv']]"
   ]
  },
  {
   "cell_type": "code",
   "execution_count": null,
   "id": "fa839bd0",
   "metadata": {},
   "outputs": [],
   "source": []
  }
 ],
 "metadata": {
  "kernelspec": {
   "display_name": "Python 3 (ipykernel)",
   "language": "python",
   "name": "python3"
  },
  "language_info": {
   "codemirror_mode": {
    "name": "ipython",
    "version": 3
   },
   "file_extension": ".py",
   "mimetype": "text/x-python",
   "name": "python",
   "nbconvert_exporter": "python",
   "pygments_lexer": "ipython3",
   "version": "3.8.6"
  }
 },
 "nbformat": 4,
 "nbformat_minor": 5
}
