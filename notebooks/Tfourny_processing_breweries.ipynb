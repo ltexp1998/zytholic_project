{
 "cells": [
  {
   "cell_type": "code",
   "execution_count": 118,
   "id": "6c1049a9",
   "metadata": {},
   "outputs": [],
   "source": [
    "import pandas as pd\n",
    "import numpy as np\n",
    "\n"
   ]
  },
  {
   "cell_type": "code",
   "execution_count": 89,
   "id": "4792f185",
   "metadata": {},
   "outputs": [],
   "source": [
    "import re\n",
    "def clean_string(string):\n",
    "    string = str(string)\n",
    "    string = string.lower()\n",
    "    cleanString = re.sub('[^A-Za-z ]+','', string)   \n",
    "    \n",
    "    return cleanString\n"
   ]
  },
  {
   "cell_type": "code",
   "execution_count": 207,
   "id": "c3af09f9",
   "metadata": {},
   "outputs": [],
   "source": [
    "dfbreweries = pd.read_csv(\"../raw_data/beer/breweries.csv\")\n",
    "\n",
    "#dfbeer = pd.read_csv(\"../raw_data/beer/beers.csv\")\n",
    "\n",
    "dftop = pd.read_csv(\"../raw_data/top_beer_information.csv\")\n",
    "\n"
   ]
  },
  {
   "cell_type": "code",
   "execution_count": 156,
   "id": "83999810",
   "metadata": {},
   "outputs": [
    {
     "data": {
      "text/plain": [
       "1498"
      ]
     },
     "execution_count": 156,
     "metadata": {},
     "output_type": "execute_result"
    }
   ],
   "source": [
    "dftop['Brewery'].nunique()\n",
    "\n"
   ]
  },
  {
   "cell_type": "code",
   "execution_count": 226,
   "id": "d49f3196",
   "metadata": {},
   "outputs": [
    {
     "ename": "AttributeError",
     "evalue": "'str' object has no attribute 'trim'",
     "output_type": "error",
     "traceback": [
      "\u001b[0;31m---------------------------------------------------------------------------\u001b[0m",
      "\u001b[0;31mAttributeError\u001b[0m                            Traceback (most recent call last)",
      "\u001b[0;32m/tmp/ipykernel_14095/75733521.py\u001b[0m in \u001b[0;36m<module>\u001b[0;34m\u001b[0m\n\u001b[1;32m      4\u001b[0m \u001b[0;32mfor\u001b[0m \u001b[0mx\u001b[0m \u001b[0;32min\u001b[0m \u001b[0mdftop\u001b[0m\u001b[0;34m.\u001b[0m\u001b[0mBrewery\u001b[0m\u001b[0;34m:\u001b[0m\u001b[0;34m\u001b[0m\u001b[0;34m\u001b[0m\u001b[0m\n\u001b[1;32m      5\u001b[0m     \u001b[0my\u001b[0m \u001b[0;34m=\u001b[0m \u001b[0mclean_string\u001b[0m\u001b[0;34m(\u001b[0m\u001b[0mx\u001b[0m\u001b[0;34m)\u001b[0m\u001b[0;34m\u001b[0m\u001b[0;34m\u001b[0m\u001b[0m\n\u001b[0;32m----> 6\u001b[0;31m     \u001b[0mz\u001b[0m \u001b[0;34m=\u001b[0m \u001b[0my\u001b[0m\u001b[0;34m.\u001b[0m\u001b[0mtrim\u001b[0m\u001b[0;34m(\u001b[0m\u001b[0;34m)\u001b[0m\u001b[0;34m\u001b[0m\u001b[0;34m\u001b[0m\u001b[0m\n\u001b[0m\u001b[1;32m      7\u001b[0m     \u001b[0mcleanbre1\u001b[0m\u001b[0;34m.\u001b[0m\u001b[0mappend\u001b[0m\u001b[0;34m(\u001b[0m\u001b[0mz\u001b[0m\u001b[0;34m)\u001b[0m\u001b[0;34m\u001b[0m\u001b[0;34m\u001b[0m\u001b[0m\n\u001b[1;32m      8\u001b[0m \u001b[0;34m\u001b[0m\u001b[0m\n",
      "\u001b[0;31mAttributeError\u001b[0m: 'str' object has no attribute 'trim'"
     ]
    }
   ],
   "source": [
    "cleanbre1= []\n",
    "cleanbre2= []\n",
    "\n",
    "for x in dftop.Brewery:\n",
    "    y = clean_string(x)\n",
    "    z = y.trim()\n",
    "    cleanbre1.append(z)  \n",
    "    \n",
    "dftop['cleanbrewery']= cleanbre1\n",
    "\n",
    "cleanbre= []\n",
    "for x in dfbreweries.name :  \n",
    "    y = clean_string(x)\n",
    "    z = y.trim()\n",
    "    cleanbre2.append(z)  \n",
    "    \n",
    "    \n",
    "dfbreweries['cleanbrewery']= cleanbre2\n"
   ]
  },
  {
   "cell_type": "code",
   "execution_count": 17,
   "id": "452da67c",
   "metadata": {},
   "outputs": [
    {
     "data": {
      "text/plain": [
       "[]"
      ]
     },
     "execution_count": 17,
     "metadata": {},
     "output_type": "execute_result"
    }
   ],
   "source": [
    "#pd.merge(dftop, df_new,how='left', on='Brewery')\n",
    "bre = []\n",
    "\n",
    "#for x in dftop.Brewery :\n",
    "for y in df_new.Brewery :\n",
    "    if y in dftop.Brewery :\n",
    "        bre.appends(y)\n",
    "        \n",
    "bre\n"
   ]
  },
  {
   "cell_type": "code",
   "execution_count": 225,
   "id": "c2b71b8c",
   "metadata": {},
   "outputs": [
    {
     "data": {
      "text/plain": [
       "0                           alaskan brewing co\n",
       "1                        long trail brewing co\n",
       "2                        long trail brewing co\n",
       "3                uerige obergrige hausbrauerei\n",
       "4                            off color brewing\n",
       "                         ...                  \n",
       "5553             natty greenes pub  brewing co\n",
       "5554                    anchor brewing company\n",
       "5555    fish brewing company  fishbowl brewpub\n",
       "5556                   shmaltz brewing company\n",
       "5557                       hoppin frog brewery\n",
       "Name: cleanbrewery, Length: 5558, dtype: object"
      ]
     },
     "execution_count": 225,
     "metadata": {},
     "output_type": "execute_result"
    }
   ],
   "source": [
    "dftop['cleanbrewery']\n"
   ]
  },
  {
   "cell_type": "code",
   "execution_count": 224,
   "id": "2d0c2502",
   "metadata": {},
   "outputs": [
    {
     "data": {
      "text/plain": [
       "0                           alaskan brewing co\n",
       "1                        long trail brewing co\n",
       "2                        long trail brewing co\n",
       "3                uerige obergrige hausbrauerei\n",
       "4                            off color brewing\n",
       "                         ...                  \n",
       "5553             natty greenes pub  brewing co\n",
       "5554                    anchor brewing company\n",
       "5555    fish brewing company  fishbowl brewpub\n",
       "5556                   shmaltz brewing company\n",
       "5557                       hoppin frog brewery\n",
       "Name: cleanbrewery, Length: 5558, dtype: object"
      ]
     },
     "execution_count": 224,
     "metadata": {},
     "output_type": "execute_result"
    }
   ],
   "source": [
    "dftop['cleanbrewery']\n",
    "\n",
    "\n",
    "\n",
    "\n",
    "\n"
   ]
  },
  {
   "cell_type": "code",
   "execution_count": 147,
   "id": "418a1845",
   "metadata": {},
   "outputs": [],
   "source": []
  },
  {
   "cell_type": "code",
   "execution_count": 145,
   "id": "0a1093cb",
   "metadata": {},
   "outputs": [
    {
     "data": {
      "text/plain": [
       "0                           brouwerij danny\n",
       "1               coachella valley brewing co\n",
       "2                             beef o bradys\n",
       "3                    broadway wine merchant\n",
       "4        brighton beer dispensary duplicate\n",
       "                        ...                \n",
       "50342                blagodarnensky brewery\n",
       "50343                                eataly\n",
       "50344                    frites  quarry bay\n",
       "50345            forest city wines  spirits\n",
       "50346                 landmark beer company\n",
       "Name: cleanbrewery, Length: 50347, dtype: object"
      ]
     },
     "execution_count": 145,
     "metadata": {},
     "output_type": "execute_result"
    }
   ],
   "source": [
    "\n",
    "\n",
    "\n",
    "\n"
   ]
  },
  {
   "cell_type": "code",
   "execution_count": 172,
   "id": "25880388",
   "metadata": {},
   "outputs": [
    {
     "data": {
      "text/plain": [
       "[]"
      ]
     },
     "execution_count": 172,
     "metadata": {},
     "output_type": "execute_result"
    }
   ],
   "source": [
    "bre = []\n",
    "\n",
    "#for x in dftop.Brewery :\n",
    "for y in dftop['cleanbrewery'] :   \n",
    "    if y in dfbreweries['cleanbrewery'] :     \n",
    "        bre.append(y)            \n",
    "bre\n"
   ]
  },
  {
   "cell_type": "code",
   "execution_count": 177,
   "id": "e3209aa7",
   "metadata": {},
   "outputs": [
    {
     "data": {
      "text/plain": [
       "'long trail brewing co'"
      ]
     },
     "execution_count": 177,
     "metadata": {},
     "output_type": "execute_result"
    }
   ],
   "source": [
    "dftop['cleanbrewery'][1]\n",
    "\n",
    "\n",
    "\n",
    "\n"
   ]
  },
  {
   "cell_type": "code",
   "execution_count": 152,
   "id": "327c5abc",
   "metadata": {},
   "outputs": [
    {
     "data": {
      "text/html": [
       "<div>\n",
       "<style scoped>\n",
       "    .dataframe tbody tr th:only-of-type {\n",
       "        vertical-align: middle;\n",
       "    }\n",
       "\n",
       "    .dataframe tbody tr th {\n",
       "        vertical-align: top;\n",
       "    }\n",
       "\n",
       "    .dataframe thead th {\n",
       "        text-align: right;\n",
       "    }\n",
       "</style>\n",
       "<table border=\"1\" class=\"dataframe\">\n",
       "  <thead>\n",
       "    <tr style=\"text-align: right;\">\n",
       "      <th></th>\n",
       "      <th>brew</th>\n",
       "      <th>top</th>\n",
       "    </tr>\n",
       "  </thead>\n",
       "  <tbody>\n",
       "    <tr>\n",
       "      <th>22832</th>\n",
       "      <td></td>\n",
       "      <td>NaN</td>\n",
       "    </tr>\n",
       "    <tr>\n",
       "      <th>23266</th>\n",
       "      <td>bochkarevskiy pivovarennyi zavod</td>\n",
       "      <td>NaN</td>\n",
       "    </tr>\n",
       "    <tr>\n",
       "      <th>144</th>\n",
       "      <td>zao tagilskoe pivo</td>\n",
       "      <td>pelican pub  brewery</td>\n",
       "    </tr>\n",
       "    <tr>\n",
       "      <th>3298</th>\n",
       "      <td>khvoyninskiy pivzavod</td>\n",
       "      <td>granville island brewery</td>\n",
       "    </tr>\n",
       "    <tr>\n",
       "      <th>26400</th>\n",
       "      <td>marxovskiy pivzavod</td>\n",
       "      <td>NaN</td>\n",
       "    </tr>\n",
       "  </tbody>\n",
       "</table>\n",
       "</div>"
      ],
      "text/plain": [
       "                                      brew                       top\n",
       "22832                                                            NaN\n",
       "23266     bochkarevskiy pivovarennyi zavod                       NaN\n",
       "144                     zao tagilskoe pivo      pelican pub  brewery\n",
       "3298                 khvoyninskiy pivzavod  granville island brewery\n",
       "26400                  marxovskiy pivzavod                       NaN"
      ]
     },
     "execution_count": 152,
     "metadata": {},
     "output_type": "execute_result"
    }
   ],
   "source": [
    "# .sort_values(ascending=True)\n",
    "\n",
    "\n",
    "dfbrew=dfbreweries['cleanbrewery']\n",
    "\n",
    "\n",
    "dfbrew = [np.nan if x == \"\" else x for x in dfbrew]\n",
    "\n",
    "dfbreweries['cleanbrewery'] = dfbrew\n",
    "\n",
    "\n",
    "dfbreweries['cleanbrewery']=dfbreweries['cleanbrewery'].dropna()\n",
    "\n",
    "#df = pd.DataFrame()\n",
    "\n",
    "df[\"brew\"]=dfbreweries['cleanbrewery'].dropna().sort_values(ascending=False)\n",
    "\n",
    "\n",
    "df[\"top\"]=dftop['cleanbrewery'].dropna().sort_values(ascending=False)\n",
    "\n",
    "df.head()\n",
    "\n",
    "\n"
   ]
  }
 ],
 "metadata": {
  "kernelspec": {
   "display_name": "Python 3 (ipykernel)",
   "language": "python",
   "name": "python3"
  },
  "language_info": {
   "codemirror_mode": {
    "name": "ipython",
    "version": 3
   },
   "file_extension": ".py",
   "mimetype": "text/x-python",
   "name": "python",
   "nbconvert_exporter": "python",
   "pygments_lexer": "ipython3",
   "version": "3.8.6"
  },
  "toc": {
   "base_numbering": 1,
   "nav_menu": {},
   "number_sections": true,
   "sideBar": true,
   "skip_h1_title": false,
   "title_cell": "Table of Contents",
   "title_sidebar": "Contents",
   "toc_cell": false,
   "toc_position": {},
   "toc_section_display": true,
   "toc_window_display": false
  }
 },
 "nbformat": 4,
 "nbformat_minor": 5
}
