{
 "cells": [
  {
   "cell_type": "code",
   "execution_count": 1,
   "id": "4ec57203",
   "metadata": {
    "ExecuteTime": {
     "end_time": "2021-08-27T13:50:13.423794Z",
     "start_time": "2021-08-27T13:50:13.374766Z"
    }
   },
   "outputs": [],
   "source": [
    "%load_ext autoreload\n",
    "%autoreload 2"
   ]
  },
  {
   "cell_type": "code",
   "execution_count": 3,
   "id": "3680c6df",
   "metadata": {
    "ExecuteTime": {
     "end_time": "2021-08-27T13:51:02.038682Z",
     "start_time": "2021-08-27T13:51:01.958336Z"
    }
   },
   "outputs": [],
   "source": [
    "import pandas as pd\n",
    "import numpy as np\n",
    "import matplotlib.pyplot as plt\n",
    "\n",
    "from sklearn import set_config; set_config(display='diagram')\n",
    "\n",
    "from sklearn.model_selection import train_test_split\n",
    "from sklearn.preprocessing import MinMaxScaler, OneHotEncoder, StandardScaler, RobustScaler\n",
    "from sklearn.pipeline import make_pipeline, Pipeline\n",
    "from sklearn.cluster import KMeans\n",
    "from sklearn.impute import SimpleImputer\n",
    "from sklearn.compose import ColumnTransformer, make_column_transformer\n",
    "from sklearn.metrics.pairwise import sigmoid_kernel, cosine_similarity, linear_kernel\n",
    "\n",
    "from zytholic_project.base_model import BaseModel\n",
    "from zytholic_project.evaluate import evaluate_proximity, content, test_prediction"
   ]
  },
  {
   "cell_type": "code",
   "execution_count": 134,
   "id": "fd6a83a3",
   "metadata": {
    "ExecuteTime": {
     "end_time": "2021-08-27T10:05:51.953085Z",
     "start_time": "2021-08-27T10:05:50.434649Z"
    }
   },
   "outputs": [],
   "source": [
    "dfbrew = pd.read_csv(\"../raw_data/Beers_Breweries_and_Beer Reviews/breweries.csv\")\n",
    "dfbeer = pd.read_csv(\"../raw_data/beers_style_renamed.csv\")\n",
    "dftop = pd.read_csv(\"../raw_data/top_beer_info_style_renamed.csv\")"
   ]
  },
  {
   "cell_type": "code",
   "execution_count": 140,
   "id": "eb37ec94",
   "metadata": {
    "ExecuteTime": {
     "end_time": "2021-08-27T10:06:51.228851Z",
     "start_time": "2021-08-27T10:06:51.180525Z"
    }
   },
   "outputs": [],
   "source": [
    "#read correspondance brewery\n",
    "corres_xls = pd.read_csv('../assets/matching_brewery_names.csv')\n",
    "corres_xls.set_index('bbr', inplace=True)\n",
    "corres= corres_xls.to_dict()\n",
    "#corres[0]"
   ]
  },
  {
   "cell_type": "code",
   "execution_count": 142,
   "id": "26cb4b1c",
   "metadata": {
    "ExecuteTime": {
     "end_time": "2021-08-27T10:07:10.726944Z",
     "start_time": "2021-08-27T10:07:09.844157Z"
    }
   },
   "outputs": [],
   "source": [
    "dfbrew = dfbrew.rename(columns={\"name\": \"brewery\"})\n",
    "dfbrew = dfbrew.rename(columns={\"id\": \"brewery_id\"})\n",
    "\n",
    "dfbrew['brewery'].replace(corres['top'], inplace=True)\n",
    "\n",
    "dfbrewb =  pd.merge(dfbeer,dfbrew[['brewery_id','brewery']],how='left',on=['brewery_id'])\n",
    "\n",
    "dftopbrew = pd.merge(dftop,dfbrewb[['name', 'brewery', 'state', 'country', 'retired']],\n",
    "                     how='inner',on=['name','brewery'])"
   ]
  },
  {
   "cell_type": "code",
   "execution_count": 143,
   "id": "b52c3892",
   "metadata": {
    "ExecuteTime": {
     "end_time": "2021-08-27T10:07:11.267846Z",
     "start_time": "2021-08-27T10:07:11.186701Z"
    }
   },
   "outputs": [
    {
     "name": "stdout",
     "output_type": "stream",
     "text": [
      "(4377, 21)\n"
     ]
    }
   ],
   "source": [
    "working_df = dftopbrew.drop(['description', 'key', 'style key'], axis= 1).drop_duplicates()\n",
    "print(working_df.shape)\n",
    "working_df = working_df[working_df.retired == 'f']\n",
    "working_df.shape\n",
    "#working_df['style'] = [st.split(' - ')[0] for st in working_df['style']]\n",
    "\n",
    "working_df_train, working_df_test = train_test_split(working_df, test_size=0.2, stratify=working_df['style'])\n"
   ]
  },
  {
   "cell_type": "code",
   "execution_count": null,
   "id": "88222593",
   "metadata": {
    "ExecuteTime": {
     "end_time": "2021-08-26T10:18:22.744298Z",
     "start_time": "2021-08-26T10:18:22.619743Z"
    }
   },
   "outputs": [],
   "source": [
    "working_df.head()"
   ]
  },
  {
   "cell_type": "markdown",
   "id": "00147e46",
   "metadata": {
    "ExecuteTime": {
     "end_time": "2021-08-26T13:40:31.598482Z",
     "start_time": "2021-08-26T13:40:31.553333Z"
    }
   },
   "source": [
    "# Pipeline"
   ]
  },
  {
   "cell_type": "code",
   "execution_count": null,
   "id": "eb3f5774",
   "metadata": {
    "ExecuteTime": {
     "end_time": "2021-08-26T13:40:31.598482Z",
     "start_time": "2021-08-26T13:40:31.553333Z"
    }
   },
   "outputs": [],
   "source": [
    "tastes_features = working_df.select_dtypes(np.number).columns[2:]\n",
    "tastes_features\n",
    "\n",
    "pipe_style_country = make_pipeline(OneHotEncoder(sparse=False, handle_unknown='ignore'))\n",
    "pipe_abv_rating = make_pipeline(MinMaxScaler())\n",
    "pipe_taste_features = make_pipeline(MinMaxScaler())\n",
    "pipe_state = make_pipeline(\n",
    "    SimpleImputer(strategy='constant', fill_value=''),\n",
    "    OneHotEncoder(sparse=False, handle_unknown='ignore')\n",
    ")\n",
    "\n",
    "preprocess = make_column_transformer(\n",
    "    (pipe_style_country, ['style', \n",
    "                          #'country'\n",
    "                         ]),\n",
    "    #(pipe_state, ['state']),\n",
    "    (pipe_abv_rating, ['abv', 'ave rating']),\n",
    "    (pipe_taste_features, tastes_features)\n",
    ")"
   ]
  },
  {
   "cell_type": "code",
   "execution_count": null,
   "id": "49899a41",
   "metadata": {
    "ExecuteTime": {
     "end_time": "2021-08-26T12:38:37.805595Z",
     "start_time": "2021-08-26T12:38:37.720427Z"
    }
   },
   "outputs": [],
   "source": [
    "preprocess"
   ]
  },
  {
   "cell_type": "code",
   "execution_count": null,
   "id": "8c4eee69",
   "metadata": {
    "ExecuteTime": {
     "end_time": "2021-08-25T09:42:16.158862Z",
     "start_time": "2021-08-25T09:42:16.059413Z"
    }
   },
   "outputs": [],
   "source": [
    "preprocess.fit(X_train)\n",
    "X_train_proc = preprocess.transform(X_train)\n",
    "X_test_proc = preprocess.transform(X_test)"
   ]
  },
  {
   "cell_type": "code",
   "execution_count": null,
   "id": "55d02090",
   "metadata": {
    "ExecuteTime": {
     "end_time": "2021-08-25T09:42:30.260877Z",
     "start_time": "2021-08-25T09:42:30.212845Z"
    }
   },
   "outputs": [],
   "source": [
    "X_train_proc.shape, X_test_proc.shape"
   ]
  },
  {
   "cell_type": "markdown",
   "id": "3d9f4d89",
   "metadata": {
    "ExecuteTime": {
     "end_time": "2021-08-26T13:41:17.304191Z",
     "start_time": "2021-08-26T13:41:17.260729Z"
    }
   },
   "source": [
    "# Inertia calculations"
   ]
  },
  {
   "cell_type": "code",
   "execution_count": null,
   "id": "945f6183",
   "metadata": {
    "ExecuteTime": {
     "end_time": "2021-08-24T15:32:16.150327Z",
     "start_time": "2021-08-24T15:25:10.623893Z"
    }
   },
   "outputs": [],
   "source": [
    "\n",
    "inertias2 = []\n",
    "for k in range(30, 100):\n",
    "    res = KMeans(n_clusters=k)\n",
    "    res.fit(X)\n",
    "    inertias.append(res.inertia_)"
   ]
  },
  {
   "cell_type": "code",
   "execution_count": null,
   "id": "79bba1b6",
   "metadata": {
    "ExecuteTime": {
     "end_time": "2021-08-24T15:32:28.156522Z",
     "start_time": "2021-08-24T15:32:27.696241Z"
    }
   },
   "outputs": [],
   "source": [
    "plt.plot(range(3, 100),inertias)"
   ]
  },
  {
   "cell_type": "code",
   "execution_count": null,
   "id": "5730688a",
   "metadata": {
    "ExecuteTime": {
     "end_time": "2021-08-24T15:42:01.389137Z",
     "start_time": "2021-08-24T15:41:06.243459Z"
    }
   },
   "outputs": [],
   "source": [
    "inertias2 = []\n",
    "for k in range(10, 30):\n",
    "    res = KMeans(n_clusters=k)\n",
    "    res.fit(X)\n",
    "    inertias2.append(res.inertia_)"
   ]
  },
  {
   "cell_type": "code",
   "execution_count": null,
   "id": "23f77211",
   "metadata": {
    "ExecuteTime": {
     "end_time": "2021-08-24T15:42:02.155178Z",
     "start_time": "2021-08-24T15:42:01.412708Z"
    }
   },
   "outputs": [],
   "source": [
    "plt.plot(range(10, 30),inertias2)"
   ]
  },
  {
   "cell_type": "code",
   "execution_count": null,
   "id": "d16d1012",
   "metadata": {
    "ExecuteTime": {
     "end_time": "2021-08-24T15:42:51.276420Z",
     "start_time": "2021-08-24T15:42:48.604637Z"
    }
   },
   "outputs": [],
   "source": [
    "cluster = KMeans(n_clusters=20)\n",
    "cluster.fit(X)"
   ]
  },
  {
   "cell_type": "code",
   "execution_count": null,
   "id": "536853e3",
   "metadata": {
    "ExecuteTime": {
     "end_time": "2021-08-24T15:42:53.249196Z",
     "start_time": "2021-08-24T15:42:53.195137Z"
    }
   },
   "outputs": [],
   "source": [
    "X_test['group'] = cluster.predict(y)"
   ]
  },
  {
   "cell_type": "code",
   "execution_count": null,
   "id": "9aadb1b3",
   "metadata": {
    "ExecuteTime": {
     "end_time": "2021-08-24T15:45:16.203241Z",
     "start_time": "2021-08-24T15:45:16.188594Z"
    }
   },
   "outputs": [],
   "source": [
    "X_test.group.value_counts()"
   ]
  },
  {
   "cell_type": "markdown",
   "id": "55e89caa",
   "metadata": {
    "ExecuteTime": {
     "end_time": "2021-08-26T07:19:11.521474Z",
     "start_time": "2021-08-26T07:19:11.368374Z"
    }
   },
   "source": [
    "# BaseModel Class usage"
   ]
  },
  {
   "cell_type": "code",
   "execution_count": 58,
   "id": "b90b36a9",
   "metadata": {
    "ExecuteTime": {
     "end_time": "2021-08-26T13:40:10.279290Z",
     "start_time": "2021-08-26T13:40:07.955665Z"
    }
   },
   "outputs": [
    {
     "name": "stderr",
     "output_type": "stream",
     "text": [
      "/Users/alix/.pyenv/versions/3.8.6/envs/zytholic_project/lib/python3.8/site-packages/openpyxl/worksheet/_reader.py:312: UserWarning: Unknown extension is not supported and will be removed\n",
      "  warn(msg)\n"
     ]
    }
   ],
   "source": [
    "model = BaseModel()\n",
    "\n",
    "model.get_data()\n",
    "\n",
    "model.set_preprocess_pipeline()\n",
    "\n",
    "model.process_data()\n",
    "\n",
    "\n",
    "# compute sigmoid distance\n",
    "sigmoid = sigmoid_kernel(\n",
    "    model.X_train_proc,\n",
    "    model.X_train_proc\n",
    ")\n",
    "\n",
    "#base_results = evaluate_proximity(model.X_train, sigmoid)"
   ]
  },
  {
   "cell_type": "code",
   "execution_count": 64,
   "id": "936ef496",
   "metadata": {
    "ExecuteTime": {
     "end_time": "2021-08-26T13:48:42.974940Z",
     "start_time": "2021-08-26T13:46:33.474685Z"
    }
   },
   "outputs": [],
   "source": [
    "inertias2 = []\n",
    "for k in range(155, 256, 5):\n",
    "    res = model.fit(clusts= k)\n",
    "    inertias2.append(res.kmeans_fit.inertia_)"
   ]
  },
  {
   "cell_type": "code",
   "execution_count": 67,
   "id": "a6ee6833",
   "metadata": {
    "ExecuteTime": {
     "end_time": "2021-08-26T13:49:19.288843Z",
     "start_time": "2021-08-26T13:49:19.040799Z"
    }
   },
   "outputs": [
    {
     "data": {
      "text/plain": [
       "[<matplotlib.lines.Line2D at 0x127c77a90>]"
      ]
     },
     "execution_count": 67,
     "metadata": {},
     "output_type": "execute_result"
    },
    {
     "data": {
      "image/png": "[encoded data removed]",
      "text/plain": [
       "<Figure size 432x288 with 1 Axes>"
      ]
     },
     "metadata": {
      "needs_background": "light"
     },
     "output_type": "display_data"
    }
   ],
   "source": [
    "plt.plot(range(155, 256, 5), inertias2)"
   ]
  },
  {
   "cell_type": "code",
   "execution_count": null,
   "id": "33c8ce33",
   "metadata": {},
   "outputs": [],
   "source": []
  },
  {
   "cell_type": "code",
   "execution_count": null,
   "id": "2a82f1a0",
   "metadata": {
    "ExecuteTime": {
     "end_time": "2021-08-26T09:22:07.270671Z",
     "start_time": "2021-08-26T09:22:06.852238Z"
    }
   },
   "outputs": [],
   "source": [
    "base_results.plot.scatter(x='style', y='matching_percent')"
   ]
  },
  {
   "cell_type": "code",
   "execution_count": null,
   "id": "3aded538",
   "metadata": {
    "ExecuteTime": {
     "end_time": "2021-08-26T09:35:55.279359Z",
     "start_time": "2021-08-26T09:35:55.164842Z"
    }
   },
   "outputs": [],
   "source": [
    "base_results.describe().T"
   ]
  },
  {
   "cell_type": "code",
   "execution_count": null,
   "id": "fbdbd338",
   "metadata": {
    "ExecuteTime": {
     "end_time": "2021-08-25T13:46:09.699014Z",
     "start_time": "2021-08-25T13:46:09.577745Z"
    }
   },
   "outputs": [],
   "source": [
    "df.sample(10)"
   ]
  },
  {
   "cell_type": "code",
   "execution_count": null,
   "id": "ce73e088",
   "metadata": {
    "ExecuteTime": {
     "end_time": "2021-08-25T13:49:21.898515Z",
     "start_time": "2021-08-25T13:49:21.806779Z"
    }
   },
   "outputs": [],
   "source": [
    "final_style.sort_values('matching_percent', ascending=False).tail(20)"
   ]
  },
  {
   "cell_type": "code",
   "execution_count": null,
   "id": "ab6ef0af",
   "metadata": {
    "ExecuteTime": {
     "end_time": "2021-08-25T14:03:25.550602Z",
     "start_time": "2021-08-25T14:03:25.479484Z"
    }
   },
   "outputs": [],
   "source": [
    "final_style.sort_values('matching_percent', ascending=False).head(20)"
   ]
  },
  {
   "cell_type": "code",
   "execution_count": null,
   "id": "e8445f37",
   "metadata": {
    "ExecuteTime": {
     "end_time": "2021-08-26T12:27:10.419939Z",
     "start_time": "2021-08-26T12:27:10.366588Z"
    }
   },
   "outputs": [],
   "source": [
    "def reformat_styles(working_df, ohe=True):\n",
    "    \"\"\"\n",
    "    Simplify the columns 'style' of an input DF\n",
    "    Converts various features insides style name to OHE features\n",
    "    \"\"\"\n",
    "    # specific columns to implement\n",
    "    features_to_implement = ['milk', 'old', 'dark', 'wild', 'pale', 'red', 'imperial']\n",
    "\n",
    "    # Get matching table for styles names and format it\n",
    "    style_xls = pd.read_excel('../assets/style_convert.xlsx')\n",
    "    style_xls.columns = style_xls.iloc[0, :]\n",
    "    style_xls = style_xls.iloc[1:, 1:]\n",
    "\n",
    "\n",
    "    # creation of a dictionary to replace automatically\n",
    "    style_dict = style_xls.set_index('Converted').to_dict()\n",
    "    style_dict = style_dict['Simplified']\n",
    "    style_dict\n",
    "\n",
    "    #styles_test = working_df[['style']].drop_duplicates()\n",
    "\n",
    "    working_df['simple_style'] = working_df['style'].replace(style_dict)\n",
    "    \n",
    "    # One-Hot-Encoding of featrues_to_implement\n",
    "    if ohe:\n",
    "        for feat in features_to_implement:\n",
    "            working_df[feat] = [1 if feat in elm.lower() else 0 for elm in working_df['style']]\n",
    "        \n",
    "    working_df.rename(columns={'style':'original_style', 'simple_style':'style'}, inplace=True)\n",
    "\n",
    "    return working_df"
   ]
  },
  {
   "cell_type": "markdown",
   "id": "69ae9770",
   "metadata": {},
   "source": [
    "# Evaluation of average recommended style"
   ]
  },
  {
   "cell_type": "code",
   "execution_count": null,
   "id": "a24624c7",
   "metadata": {
    "ExecuteTime": {
     "end_time": "2021-08-26T09:44:12.224916Z",
     "start_time": "2021-08-26T09:44:09.816722Z"
    }
   },
   "outputs": [],
   "source": [
    "reformated_df = reformat_styles(working_df)\n",
    "\n",
    "preprocess.fit(reformated_df)\n",
    "\n",
    "X_train = preprocess.transform(reformated_df)\n",
    "\n",
    "sigmoid = sigmoid_kernel(X_train, X_train)\n",
    "\n",
    "results = evaluate_proximity(working_df, sigmoid)"
   ]
  },
  {
   "cell_type": "markdown",
   "id": "bc7a3b01",
   "metadata": {
    "ExecuteTime": {
     "end_time": "2021-08-26T09:33:11.297031Z",
     "start_time": "2021-08-26T09:33:11.058475Z"
    }
   },
   "source": [
    "Results with fearture_to_impelement OHE + Simple style"
   ]
  },
  {
   "cell_type": "code",
   "execution_count": null,
   "id": "c09d6967",
   "metadata": {
    "ExecuteTime": {
     "end_time": "2021-08-26T09:44:17.314583Z",
     "start_time": "2021-08-26T09:44:16.979415Z"
    }
   },
   "outputs": [],
   "source": [
    "results.plot.scatter(x='style', y='matching_percent')"
   ]
  },
  {
   "cell_type": "code",
   "execution_count": null,
   "id": "345e1892",
   "metadata": {
    "ExecuteTime": {
     "end_time": "2021-08-26T09:44:01.458806Z",
     "start_time": "2021-08-26T09:44:01.347233Z"
    }
   },
   "outputs": [],
   "source": [
    "results.describe().T"
   ]
  },
  {
   "cell_type": "markdown",
   "id": "26c4e68f",
   "metadata": {
    "ExecuteTime": {
     "end_time": "2021-08-26T09:39:58.215244Z",
     "start_time": "2021-08-26T09:39:58.120155Z"
    }
   },
   "source": [
    "Results without fearture_to_impelement OHE + Simple style"
   ]
  },
  {
   "cell_type": "code",
   "execution_count": null,
   "id": "307fd17a",
   "metadata": {
    "ExecuteTime": {
     "end_time": "2021-08-26T09:45:33.151047Z",
     "start_time": "2021-08-26T09:45:30.795100Z"
    }
   },
   "outputs": [],
   "source": [
    "reformated_df = reformat_styles(working_df, ohe=False)\n",
    "\n",
    "preprocess.fit(reformated_df)\n",
    "\n",
    "X_train = preprocess.transform(reformated_df)\n",
    "\n",
    "sigmoid = sigmoid_kernel(X_train, X_train)\n",
    "\n",
    "results = evaluate_proximity(working_df, sigmoid)"
   ]
  },
  {
   "cell_type": "code",
   "execution_count": null,
   "id": "ac177c6f",
   "metadata": {
    "ExecuteTime": {
     "end_time": "2021-08-26T09:45:33.619415Z",
     "start_time": "2021-08-26T09:45:33.153574Z"
    }
   },
   "outputs": [],
   "source": [
    "results.plot.scatter(x='style', y='matching_percent')"
   ]
  },
  {
   "cell_type": "code",
   "execution_count": null,
   "id": "d5004297",
   "metadata": {
    "ExecuteTime": {
     "end_time": "2021-08-26T09:45:34.036421Z",
     "start_time": "2021-08-26T09:45:33.901509Z"
    }
   },
   "outputs": [],
   "source": [
    "results.describe().T"
   ]
  },
  {
   "cell_type": "code",
   "execution_count": null,
   "id": "9f52dcd1",
   "metadata": {
    "ExecuteTime": {
     "end_time": "2021-08-26T09:45:01.109754Z",
     "start_time": "2021-08-26T09:45:01.020307Z"
    }
   },
   "outputs": [],
   "source": [
    "results['style'].nunique()"
   ]
  },
  {
   "cell_type": "markdown",
   "id": "4f9e9fa4",
   "metadata": {},
   "source": [
    "Notes:\n",
    "    \n",
    "    10 beers in recommendations might be to hight\n",
    "    try to reduce id to 5\n",
    "    \n",
    "    Also increase number of samples to test from"
   ]
  },
  {
   "cell_type": "code",
   "execution_count": null,
   "id": "e2b57119",
   "metadata": {
    "ExecuteTime": {
     "end_time": "2021-08-26T12:47:14.386780Z",
     "start_time": "2021-08-26T12:47:02.571729Z"
    }
   },
   "outputs": [],
   "source": [
    "reformated_df = working_df_train\n",
    "preprocess.fit(reformated_df)\n",
    "X_train = preprocess.transform(reformated_df)\n",
    "sigmoid = sigmoid_kernel(X_train, X_train)\n",
    "\n",
    "base_results = evaluate_proximity(working_df_train,  n_recomm=10, tests=30, sim_matrix=sigmoid)"
   ]
  },
  {
   "cell_type": "code",
   "execution_count": null,
   "id": "ecf90da7",
   "metadata": {
    "ExecuteTime": {
     "end_time": "2021-08-26T12:47:14.743351Z",
     "start_time": "2021-08-26T12:47:14.389386Z"
    }
   },
   "outputs": [],
   "source": [
    "base_results.plot.scatter(x='style', y='matching_percent')"
   ]
  },
  {
   "cell_type": "code",
   "execution_count": null,
   "id": "c966b518",
   "metadata": {
    "ExecuteTime": {
     "end_time": "2021-08-26T12:47:14.826263Z",
     "start_time": "2021-08-26T12:47:14.757554Z"
    }
   },
   "outputs": [],
   "source": [
    "base_results.describe().T"
   ]
  },
  {
   "cell_type": "code",
   "execution_count": null,
   "id": "37099609",
   "metadata": {
    "ExecuteTime": {
     "end_time": "2021-08-26T12:40:21.116775Z",
     "start_time": "2021-08-26T12:40:21.041862Z"
    }
   },
   "outputs": [],
   "source": [
    "base_results"
   ]
  },
  {
   "cell_type": "code",
   "execution_count": null,
   "id": "8cbc45ea",
   "metadata": {
    "ExecuteTime": {
     "end_time": "2021-08-26T12:47:44.252885Z",
     "start_time": "2021-08-26T12:47:31.382538Z"
    }
   },
   "outputs": [],
   "source": [
    "reformated_df = reformat_styles(working_df_train)\n",
    "preprocess.fit(reformated_df)\n",
    "X_train = preprocess.transform(reformated_df)\n",
    "sigmoid = sigmoid_kernel(X_train, X_train)\n",
    "\n",
    "results = evaluate_proximity(working_df_train,  n_recomm=5, tests=30, sim_matrix=sigmoid)"
   ]
  },
  {
   "cell_type": "code",
   "execution_count": null,
   "id": "ed59fdec",
   "metadata": {
    "ExecuteTime": {
     "end_time": "2021-08-26T12:47:44.546569Z",
     "start_time": "2021-08-26T12:47:44.255488Z"
    }
   },
   "outputs": [],
   "source": [
    "results.plot.scatter(x='style', y='matching_percent')"
   ]
  },
  {
   "cell_type": "code",
   "execution_count": null,
   "id": "c1dd97d3",
   "metadata": {
    "ExecuteTime": {
     "end_time": "2021-08-26T12:47:44.619875Z",
     "start_time": "2021-08-26T12:47:44.551776Z"
    }
   },
   "outputs": [],
   "source": [
    "results.describe().T"
   ]
  },
  {
   "cell_type": "code",
   "execution_count": null,
   "id": "442aa2f3",
   "metadata": {
    "ExecuteTime": {
     "end_time": "2021-08-26T12:48:28.058487Z",
     "start_time": "2021-08-26T12:48:15.290990Z"
    }
   },
   "outputs": [],
   "source": [
    "reformated_df = reformat_styles(working_df_train, ohe=False)\n",
    "preprocess.fit(reformated_df)\n",
    "X_train = preprocess.transform(reformated_df)\n",
    "sigmoid = sigmoid_kernel(X_train, X_train)\n",
    "\n",
    "results = evaluate_proximity(working_df_train,  n_recomm=5, tests=30, sim_matrix=sigmoid)"
   ]
  },
  {
   "cell_type": "code",
   "execution_count": null,
   "id": "983433ca",
   "metadata": {
    "ExecuteTime": {
     "end_time": "2021-08-26T12:48:28.437062Z",
     "start_time": "2021-08-26T12:48:28.061625Z"
    }
   },
   "outputs": [],
   "source": [
    "results.plot.scatter(x='style', y='matching_percent')"
   ]
  },
  {
   "cell_type": "code",
   "execution_count": null,
   "id": "15cd153d",
   "metadata": {
    "ExecuteTime": {
     "end_time": "2021-08-26T12:48:28.527548Z",
     "start_time": "2021-08-26T12:48:28.442361Z"
    }
   },
   "outputs": [],
   "source": [
    "results.describe().T"
   ]
  },
  {
   "cell_type": "code",
   "execution_count": 68,
   "id": "38d32969",
   "metadata": {
    "ExecuteTime": {
     "end_time": "2021-08-26T14:00:17.544248Z",
     "start_time": "2021-08-26T14:00:17.402178Z"
    }
   },
   "outputs": [
    {
     "data": {
      "text/plain": [
       "(3460, 55)"
      ]
     },
     "execution_count": 68,
     "metadata": {},
     "output_type": "execute_result"
    }
   ],
   "source": [
    "X_train.shape"
   ]
  },
  {
   "cell_type": "code",
   "execution_count": 70,
   "id": "3ea1b837",
   "metadata": {
    "ExecuteTime": {
     "end_time": "2021-08-26T14:00:58.687253Z",
     "start_time": "2021-08-26T14:00:58.598255Z"
    }
   },
   "outputs": [
    {
     "data": {
      "text/html": [
       "<div>\n",
       "<style scoped>\n",
       "    .dataframe tbody tr th:only-of-type {\n",
       "        vertical-align: middle;\n",
       "    }\n",
       "\n",
       "    .dataframe tbody tr th {\n",
       "        vertical-align: top;\n",
       "    }\n",
       "\n",
       "    .dataframe thead th {\n",
       "        text-align: right;\n",
       "    }\n",
       "</style>\n",
       "<table border=\"1\" class=\"dataframe\">\n",
       "  <thead>\n",
       "    <tr style=\"text-align: right;\">\n",
       "      <th></th>\n",
       "      <th>name</th>\n",
       "      <th>original_style</th>\n",
       "      <th>brewery</th>\n",
       "      <th>abv</th>\n",
       "      <th>ave rating</th>\n",
       "      <th>min ibu</th>\n",
       "      <th>max ibu</th>\n",
       "      <th>astringency</th>\n",
       "      <th>body</th>\n",
       "      <th>alcohol</th>\n",
       "      <th>...</th>\n",
       "      <th>wild</th>\n",
       "      <th>pale</th>\n",
       "      <th>red</th>\n",
       "      <th>imperial</th>\n",
       "      <th>original_style</th>\n",
       "      <th>original_style</th>\n",
       "      <th>original_style</th>\n",
       "      <th>original_style</th>\n",
       "      <th>original_style</th>\n",
       "      <th>style</th>\n",
       "    </tr>\n",
       "  </thead>\n",
       "  <tbody>\n",
       "    <tr>\n",
       "      <th>2634</th>\n",
       "      <td>Mermaid Pilsner</td>\n",
       "      <td>Pilsner - German</td>\n",
       "      <td>Coney Island Brewing Company</td>\n",
       "      <td>5.2</td>\n",
       "      <td>3.61</td>\n",
       "      <td>25</td>\n",
       "      <td>40</td>\n",
       "      <td>27</td>\n",
       "      <td>38</td>\n",
       "      <td>8</td>\n",
       "      <td>...</td>\n",
       "      <td>0</td>\n",
       "      <td>0</td>\n",
       "      <td>0</td>\n",
       "      <td>0</td>\n",
       "      <td>Pilsner</td>\n",
       "      <td>Pilsner</td>\n",
       "      <td>Pilsner</td>\n",
       "      <td>Pilsner</td>\n",
       "      <td>Pilsner</td>\n",
       "      <td>Pilsner</td>\n",
       "    </tr>\n",
       "    <tr>\n",
       "      <th>4386</th>\n",
       "      <td>Stir Crazy</td>\n",
       "      <td>Winter Warmer</td>\n",
       "      <td>Indeed Brewing Company - Minneapolis</td>\n",
       "      <td>6.5</td>\n",
       "      <td>3.86</td>\n",
       "      <td>35</td>\n",
       "      <td>50</td>\n",
       "      <td>9</td>\n",
       "      <td>72</td>\n",
       "      <td>26</td>\n",
       "      <td>...</td>\n",
       "      <td>0</td>\n",
       "      <td>0</td>\n",
       "      <td>0</td>\n",
       "      <td>0</td>\n",
       "      <td>Winter Warmer</td>\n",
       "      <td>Winter Warmer</td>\n",
       "      <td>Winter Warmer</td>\n",
       "      <td>Winter Warmer</td>\n",
       "      <td>Winter Warmer</td>\n",
       "      <td>Winter Warmer</td>\n",
       "    </tr>\n",
       "    <tr>\n",
       "      <th>3121</th>\n",
       "      <td>Quinn's Amber Ale</td>\n",
       "      <td>Ale Red - Irish</td>\n",
       "      <td>Wachusett Brewing Company</td>\n",
       "      <td>4.8</td>\n",
       "      <td>3.37</td>\n",
       "      <td>20</td>\n",
       "      <td>30</td>\n",
       "      <td>10</td>\n",
       "      <td>35</td>\n",
       "      <td>8</td>\n",
       "      <td>...</td>\n",
       "      <td>0</td>\n",
       "      <td>0</td>\n",
       "      <td>1</td>\n",
       "      <td>0</td>\n",
       "      <td>Ale Red</td>\n",
       "      <td>Ale Red</td>\n",
       "      <td>Ale Red</td>\n",
       "      <td>Ale Red</td>\n",
       "      <td>Ale Red</td>\n",
       "      <td>Ale Red</td>\n",
       "    </tr>\n",
       "    <tr>\n",
       "      <th>1701</th>\n",
       "      <td>3 Best Friends</td>\n",
       "      <td>Lager Dark - European</td>\n",
       "      <td>Sudwerk Brewing Company</td>\n",
       "      <td>7.0</td>\n",
       "      <td>3.70</td>\n",
       "      <td>15</td>\n",
       "      <td>40</td>\n",
       "      <td>3</td>\n",
       "      <td>23</td>\n",
       "      <td>1</td>\n",
       "      <td>...</td>\n",
       "      <td>0</td>\n",
       "      <td>0</td>\n",
       "      <td>0</td>\n",
       "      <td>0</td>\n",
       "      <td>Lager</td>\n",
       "      <td>Lager</td>\n",
       "      <td>Lager</td>\n",
       "      <td>Lager</td>\n",
       "      <td>Lager</td>\n",
       "      <td>Lager</td>\n",
       "    </tr>\n",
       "    <tr>\n",
       "      <th>298</th>\n",
       "      <td>Mons Abbey Blonde</td>\n",
       "      <td>Ale Blonde - Belgian</td>\n",
       "      <td>Brasserie Belgh Brasse</td>\n",
       "      <td>7.0</td>\n",
       "      <td>3.75</td>\n",
       "      <td>15</td>\n",
       "      <td>30</td>\n",
       "      <td>20</td>\n",
       "      <td>39</td>\n",
       "      <td>26</td>\n",
       "      <td>...</td>\n",
       "      <td>0</td>\n",
       "      <td>0</td>\n",
       "      <td>0</td>\n",
       "      <td>0</td>\n",
       "      <td>Ale</td>\n",
       "      <td>Ale</td>\n",
       "      <td>Ale</td>\n",
       "      <td>Ale</td>\n",
       "      <td>Ale</td>\n",
       "      <td>Ale</td>\n",
       "    </tr>\n",
       "    <tr>\n",
       "      <th>...</th>\n",
       "      <td>...</td>\n",
       "      <td>...</td>\n",
       "      <td>...</td>\n",
       "      <td>...</td>\n",
       "      <td>...</td>\n",
       "      <td>...</td>\n",
       "      <td>...</td>\n",
       "      <td>...</td>\n",
       "      <td>...</td>\n",
       "      <td>...</td>\n",
       "      <td>...</td>\n",
       "      <td>...</td>\n",
       "      <td>...</td>\n",
       "      <td>...</td>\n",
       "      <td>...</td>\n",
       "      <td>...</td>\n",
       "      <td>...</td>\n",
       "      <td>...</td>\n",
       "      <td>...</td>\n",
       "      <td>...</td>\n",
       "      <td>...</td>\n",
       "    </tr>\n",
       "    <tr>\n",
       "      <th>2764</th>\n",
       "      <td>Coffee Baltic Porter</td>\n",
       "      <td>Porter Baltic</td>\n",
       "      <td>Crooked Stave Artisan Beer Project</td>\n",
       "      <td>8.5</td>\n",
       "      <td>4.10</td>\n",
       "      <td>25</td>\n",
       "      <td>45</td>\n",
       "      <td>11</td>\n",
       "      <td>95</td>\n",
       "      <td>13</td>\n",
       "      <td>...</td>\n",
       "      <td>0</td>\n",
       "      <td>0</td>\n",
       "      <td>0</td>\n",
       "      <td>0</td>\n",
       "      <td>Porter</td>\n",
       "      <td>Porter</td>\n",
       "      <td>Porter</td>\n",
       "      <td>Porter</td>\n",
       "      <td>Porter</td>\n",
       "      <td>Porter</td>\n",
       "    </tr>\n",
       "    <tr>\n",
       "      <th>3929</th>\n",
       "      <td>Confluence Ale</td>\n",
       "      <td>Ale Strong Pale - Belgian</td>\n",
       "      <td>Allagash Brewing Company</td>\n",
       "      <td>7.5</td>\n",
       "      <td>4.06</td>\n",
       "      <td>20</td>\n",
       "      <td>40</td>\n",
       "      <td>23</td>\n",
       "      <td>38</td>\n",
       "      <td>16</td>\n",
       "      <td>...</td>\n",
       "      <td>0</td>\n",
       "      <td>0</td>\n",
       "      <td>0</td>\n",
       "      <td>0</td>\n",
       "      <td>Ale Strong</td>\n",
       "      <td>Ale Strong</td>\n",
       "      <td>Ale Strong</td>\n",
       "      <td>Ale Strong</td>\n",
       "      <td>Ale Strong</td>\n",
       "      <td>Ale Strong</td>\n",
       "    </tr>\n",
       "    <tr>\n",
       "      <th>1686</th>\n",
       "      <td>Black Lager (Černé Pivo)</td>\n",
       "      <td>Lager Dark - European</td>\n",
       "      <td>Notch Brewing</td>\n",
       "      <td>4.0</td>\n",
       "      <td>4.00</td>\n",
       "      <td>15</td>\n",
       "      <td>40</td>\n",
       "      <td>27</td>\n",
       "      <td>92</td>\n",
       "      <td>4</td>\n",
       "      <td>...</td>\n",
       "      <td>0</td>\n",
       "      <td>0</td>\n",
       "      <td>0</td>\n",
       "      <td>0</td>\n",
       "      <td>Lager</td>\n",
       "      <td>Lager</td>\n",
       "      <td>Lager</td>\n",
       "      <td>Lager</td>\n",
       "      <td>Lager</td>\n",
       "      <td>Lager</td>\n",
       "    </tr>\n",
       "    <tr>\n",
       "      <th>2791</th>\n",
       "      <td>Black Wych</td>\n",
       "      <td>Porter - English</td>\n",
       "      <td>Wychwood Brewery Company Ltd</td>\n",
       "      <td>5.0</td>\n",
       "      <td>3.72</td>\n",
       "      <td>20</td>\n",
       "      <td>30</td>\n",
       "      <td>15</td>\n",
       "      <td>54</td>\n",
       "      <td>5</td>\n",
       "      <td>...</td>\n",
       "      <td>0</td>\n",
       "      <td>0</td>\n",
       "      <td>0</td>\n",
       "      <td>0</td>\n",
       "      <td>Porter</td>\n",
       "      <td>Porter</td>\n",
       "      <td>Porter</td>\n",
       "      <td>Porter</td>\n",
       "      <td>Porter</td>\n",
       "      <td>Porter</td>\n",
       "    </tr>\n",
       "    <tr>\n",
       "      <th>1685</th>\n",
       "      <td>Super Bock Stout</td>\n",
       "      <td>Lager Dark - European</td>\n",
       "      <td>Unicer União Cervejeira S.A.</td>\n",
       "      <td>5.0</td>\n",
       "      <td>3.16</td>\n",
       "      <td>15</td>\n",
       "      <td>40</td>\n",
       "      <td>8</td>\n",
       "      <td>51</td>\n",
       "      <td>6</td>\n",
       "      <td>...</td>\n",
       "      <td>0</td>\n",
       "      <td>0</td>\n",
       "      <td>0</td>\n",
       "      <td>0</td>\n",
       "      <td>Lager</td>\n",
       "      <td>Lager</td>\n",
       "      <td>Lager</td>\n",
       "      <td>Lager</td>\n",
       "      <td>Lager</td>\n",
       "      <td>Lager</td>\n",
       "    </tr>\n",
       "  </tbody>\n",
       "</table>\n",
       "<p>3460 rows × 39 columns</p>\n",
       "</div>"
      ],
      "text/plain": [
       "                          name             original_style  \\\n",
       "2634           Mermaid Pilsner           Pilsner - German   \n",
       "4386                Stir Crazy              Winter Warmer   \n",
       "3121         Quinn's Amber Ale            Ale Red - Irish   \n",
       "1701            3 Best Friends      Lager Dark - European   \n",
       "298          Mons Abbey Blonde       Ale Blonde - Belgian   \n",
       "...                        ...                        ...   \n",
       "2764      Coffee Baltic Porter              Porter Baltic   \n",
       "3929            Confluence Ale  Ale Strong Pale - Belgian   \n",
       "1686  Black Lager (Černé Pivo)      Lager Dark - European   \n",
       "2791                Black Wych           Porter - English   \n",
       "1685          Super Bock Stout      Lager Dark - European   \n",
       "\n",
       "                                   brewery  abv  ave rating  min ibu  max ibu  \\\n",
       "2634          Coney Island Brewing Company  5.2        3.61       25       40   \n",
       "4386  Indeed Brewing Company - Minneapolis  6.5        3.86       35       50   \n",
       "3121             Wachusett Brewing Company  4.8        3.37       20       30   \n",
       "1701               Sudwerk Brewing Company  7.0        3.70       15       40   \n",
       "298                 Brasserie Belgh Brasse  7.0        3.75       15       30   \n",
       "...                                    ...  ...         ...      ...      ...   \n",
       "2764    Crooked Stave Artisan Beer Project  8.5        4.10       25       45   \n",
       "3929              Allagash Brewing Company  7.5        4.06       20       40   \n",
       "1686                         Notch Brewing  4.0        4.00       15       40   \n",
       "2791          Wychwood Brewery Company Ltd  5.0        3.72       20       30   \n",
       "1685          Unicer União Cervejeira S.A.  5.0        3.16       15       40   \n",
       "\n",
       "      astringency  body  alcohol  ...  wild  pale  red  imperial  \\\n",
       "2634           27    38        8  ...     0     0    0         0   \n",
       "4386            9    72       26  ...     0     0    0         0   \n",
       "3121           10    35        8  ...     0     0    1         0   \n",
       "1701            3    23        1  ...     0     0    0         0   \n",
       "298            20    39       26  ...     0     0    0         0   \n",
       "...           ...   ...      ...  ...   ...   ...  ...       ...   \n",
       "2764           11    95       13  ...     0     0    0         0   \n",
       "3929           23    38       16  ...     0     0    0         0   \n",
       "1686           27    92        4  ...     0     0    0         0   \n",
       "2791           15    54        5  ...     0     0    0         0   \n",
       "1685            8    51        6  ...     0     0    0         0   \n",
       "\n",
       "     original_style original_style original_style original_style  \\\n",
       "2634        Pilsner        Pilsner        Pilsner        Pilsner   \n",
       "4386  Winter Warmer  Winter Warmer  Winter Warmer  Winter Warmer   \n",
       "3121        Ale Red        Ale Red        Ale Red        Ale Red   \n",
       "1701          Lager          Lager          Lager          Lager   \n",
       "298             Ale            Ale            Ale            Ale   \n",
       "...             ...            ...            ...            ...   \n",
       "2764         Porter         Porter         Porter         Porter   \n",
       "3929     Ale Strong     Ale Strong     Ale Strong     Ale Strong   \n",
       "1686          Lager          Lager          Lager          Lager   \n",
       "2791         Porter         Porter         Porter         Porter   \n",
       "1685          Lager          Lager          Lager          Lager   \n",
       "\n",
       "     original_style          style  \n",
       "2634        Pilsner        Pilsner  \n",
       "4386  Winter Warmer  Winter Warmer  \n",
       "3121        Ale Red        Ale Red  \n",
       "1701          Lager          Lager  \n",
       "298             Ale            Ale  \n",
       "...             ...            ...  \n",
       "2764         Porter         Porter  \n",
       "3929     Ale Strong     Ale Strong  \n",
       "1686          Lager          Lager  \n",
       "2791         Porter         Porter  \n",
       "1685          Lager          Lager  \n",
       "\n",
       "[3460 rows x 39 columns]"
      ]
     },
     "execution_count": 70,
     "metadata": {},
     "output_type": "execute_result"
    }
   ],
   "source": [
    "working_df_train"
   ]
  },
  {
   "cell_type": "markdown",
   "id": "3246cde2",
   "metadata": {},
   "source": [
    "# Comparison of similarity metrics"
   ]
  },
  {
   "cell_type": "code",
   "execution_count": 2,
   "id": "01b44847",
   "metadata": {
    "ExecuteTime": {
     "end_time": "2021-08-27T07:25:38.656179Z",
     "start_time": "2021-08-27T07:25:36.276910Z"
    }
   },
   "outputs": [
    {
     "data": {
      "text/plain": [
       "<zytholic_project.base_model.BaseModel at 0x112871100>"
      ]
     },
     "execution_count": 2,
     "metadata": {},
     "output_type": "execute_result"
    }
   ],
   "source": [
    "model = BaseModel()\n",
    "\n",
    "model.get_data()\n",
    "\n",
    "model.set_preprocess_pipeline()\n",
    "\n",
    "model.process_data()"
   ]
  },
  {
   "cell_type": "code",
   "execution_count": 63,
   "id": "99f09fdd",
   "metadata": {
    "ExecuteTime": {
     "end_time": "2021-08-27T08:39:01.855313Z",
     "start_time": "2021-08-27T08:38:51.554269Z"
    }
   },
   "outputs": [
    {
     "data": {
      "text/html": [
       "<div>\n",
       "<style scoped>\n",
       "    .dataframe tbody tr th:only-of-type {\n",
       "        vertical-align: middle;\n",
       "    }\n",
       "\n",
       "    .dataframe tbody tr th {\n",
       "        vertical-align: top;\n",
       "    }\n",
       "\n",
       "    .dataframe thead th {\n",
       "        text-align: right;\n",
       "    }\n",
       "</style>\n",
       "<table border=\"1\" class=\"dataframe\">\n",
       "  <thead>\n",
       "    <tr style=\"text-align: right;\">\n",
       "      <th></th>\n",
       "      <th>count</th>\n",
       "      <th>mean</th>\n",
       "      <th>std</th>\n",
       "      <th>min</th>\n",
       "      <th>25%</th>\n",
       "      <th>50%</th>\n",
       "      <th>75%</th>\n",
       "      <th>max</th>\n",
       "    </tr>\n",
       "  </thead>\n",
       "  <tbody>\n",
       "    <tr>\n",
       "      <th>style</th>\n",
       "      <td>40.0</td>\n",
       "      <td>81.075000</td>\n",
       "      <td>89.967341</td>\n",
       "      <td>25.000000</td>\n",
       "      <td>29.750000</td>\n",
       "      <td>33.500000</td>\n",
       "      <td>121.0</td>\n",
       "      <td>506.0</td>\n",
       "    </tr>\n",
       "    <tr>\n",
       "      <th>matching_percent</th>\n",
       "      <td>40.0</td>\n",
       "      <td>96.960018</td>\n",
       "      <td>4.537725</td>\n",
       "      <td>81.481481</td>\n",
       "      <td>96.071429</td>\n",
       "      <td>99.333333</td>\n",
       "      <td>100.0</td>\n",
       "      <td>100.0</td>\n",
       "    </tr>\n",
       "  </tbody>\n",
       "</table>\n",
       "</div>"
      ],
      "text/plain": [
       "                  count       mean        std        min        25%  \\\n",
       "style              40.0  81.075000  89.967341  25.000000  29.750000   \n",
       "matching_percent   40.0  96.960018   4.537725  81.481481  96.071429   \n",
       "\n",
       "                        50%    75%    max  \n",
       "style             33.500000  121.0  506.0  \n",
       "matching_percent  99.333333  100.0  100.0  "
      ]
     },
     "execution_count": 63,
     "metadata": {},
     "output_type": "execute_result"
    }
   ],
   "source": [
    "# compute sigmoid distance\n",
    "sigmoid = sigmoid_kernel(\n",
    "    model.X_train_proc,\n",
    "    model.X_train_proc\n",
    ")\n",
    "\n",
    "sig_results = evaluate_proximity(model.X_train,  n_recomm=5, tests=30, sim_matrix=sigmoid)\n",
    "sig_results.describe().T"
   ]
  },
  {
   "cell_type": "code",
   "execution_count": 4,
   "id": "ceed8a0d",
   "metadata": {
    "ExecuteTime": {
     "end_time": "2021-08-27T07:26:02.661761Z",
     "start_time": "2021-08-27T07:26:02.475107Z"
    }
   },
   "outputs": [],
   "source": [
    "cosine = cosine_similarity(\n",
    "    model.X_train_proc,\n",
    "    model.X_train_proc\n",
    ")\n",
    "\n",
    "cosine_results = evaluate_proximity(model.X_train,  n_recomm=5, tests=30, sim_matrix=cosine)\n",
    "cosine_results.describe().T"
   ]
  },
  {
   "cell_type": "code",
   "execution_count": 6,
   "id": "79e6ed34",
   "metadata": {
    "ExecuteTime": {
     "end_time": "2021-08-27T07:26:52.157033Z",
     "start_time": "2021-08-27T07:26:51.545527Z"
    }
   },
   "outputs": [
    {
     "ename": "IndexError",
     "evalue": "index 0 is out of bounds for axis 0 with size 0",
     "output_type": "error",
     "traceback": [
      "\u001b[0;31m---------------------------------------------------------------------------\u001b[0m",
      "\u001b[0;31mIndexError\u001b[0m                                Traceback (most recent call last)",
      "\u001b[0;32m/var/folders/_5/s9wbxcy503dggw34b98btk9c0000gp/T/ipykernel_1149/3582097124.py\u001b[0m in \u001b[0;36m<module>\u001b[0;34m\u001b[0m\n\u001b[1;32m      4\u001b[0m )\n\u001b[1;32m      5\u001b[0m \u001b[0;34m\u001b[0m\u001b[0m\n\u001b[0;32m----> 6\u001b[0;31m \u001b[0mlinear_results\u001b[0m \u001b[0;34m=\u001b[0m \u001b[0mevaluate_proximity\u001b[0m\u001b[0;34m(\u001b[0m\u001b[0mmodel\u001b[0m\u001b[0;34m.\u001b[0m\u001b[0mX_test\u001b[0m\u001b[0;34m,\u001b[0m \u001b[0mmodel\u001b[0m\u001b[0;34m.\u001b[0m\u001b[0mX_train\u001b[0m\u001b[0;34m,\u001b[0m  \u001b[0mn_recomm\u001b[0m\u001b[0;34m=\u001b[0m\u001b[0;36m5\u001b[0m\u001b[0;34m,\u001b[0m \u001b[0mtests\u001b[0m\u001b[0;34m=\u001b[0m\u001b[0;36m30\u001b[0m\u001b[0;34m,\u001b[0m \u001b[0msim_matrix\u001b[0m\u001b[0;34m=\u001b[0m\u001b[0mlinear\u001b[0m\u001b[0;34m)\u001b[0m\u001b[0;34m\u001b[0m\u001b[0;34m\u001b[0m\u001b[0m\n\u001b[0m\u001b[1;32m      7\u001b[0m \u001b[0mlinear_results\u001b[0m\u001b[0;34m.\u001b[0m\u001b[0mdescribe\u001b[0m\u001b[0;34m(\u001b[0m\u001b[0;34m)\u001b[0m\u001b[0;34m.\u001b[0m\u001b[0mT\u001b[0m\u001b[0;34m\u001b[0m\u001b[0;34m\u001b[0m\u001b[0m\n",
      "\u001b[0;32m~/code/ltexp1998/zytholic_project/zytholic_project/base_model.py\u001b[0m in \u001b[0;36mevaluate_proximity\u001b[0;34m(test_df, reference_df, n_recomm, tests, sim_matrix)\u001b[0m\n\u001b[1;32m    167\u001b[0m         \u001b[0;32mfor\u001b[0m \u001b[0mname\u001b[0m \u001b[0;32min\u001b[0m \u001b[0msamples\u001b[0m\u001b[0;34m:\u001b[0m\u001b[0;34m\u001b[0m\u001b[0;34m\u001b[0m\u001b[0m\n\u001b[1;32m    168\u001b[0m             \u001b[0;31m# calculate content based similarity for each sample\u001b[0m\u001b[0;34m\u001b[0m\u001b[0;34m\u001b[0m\u001b[0;34m\u001b[0m\u001b[0m\n\u001b[0;32m--> 169\u001b[0;31m             \u001b[0mres\u001b[0m \u001b[0;34m=\u001b[0m \u001b[0mcontent\u001b[0m\u001b[0;34m(\u001b[0m\u001b[0mreference_df\u001b[0m\u001b[0;34m,\u001b[0m \u001b[0mname\u001b[0m\u001b[0;34m,\u001b[0m \u001b[0msim_matrix\u001b[0m\u001b[0;34m,\u001b[0m \u001b[0mn_recomm\u001b[0m\u001b[0;34m)\u001b[0m\u001b[0;34m\u001b[0m\u001b[0;34m\u001b[0m\u001b[0m\n\u001b[0m\u001b[1;32m    170\u001b[0m             \u001b[0;31m# Get percentage of matching style for each sample\u001b[0m\u001b[0;34m\u001b[0m\u001b[0;34m\u001b[0m\u001b[0;34m\u001b[0m\u001b[0m\n\u001b[1;32m    171\u001b[0m             \u001b[0mmatching_percent\u001b[0m \u001b[0;34m=\u001b[0m \u001b[0mres\u001b[0m\u001b[0;34m[\u001b[0m\u001b[0mres\u001b[0m\u001b[0;34m[\u001b[0m\u001b[0;34m'style'\u001b[0m\u001b[0;34m]\u001b[0m \u001b[0;34m==\u001b[0m \u001b[0mst\u001b[0m\u001b[0;34m]\u001b[0m\u001b[0;34m.\u001b[0m\u001b[0mshape\u001b[0m\u001b[0;34m[\u001b[0m\u001b[0;36m0\u001b[0m\u001b[0;34m]\u001b[0m \u001b[0;34m/\u001b[0m \u001b[0mres\u001b[0m\u001b[0;34m.\u001b[0m\u001b[0mshape\u001b[0m\u001b[0;34m[\u001b[0m\u001b[0;36m0\u001b[0m\u001b[0;34m]\u001b[0m \u001b[0;34m*\u001b[0m \u001b[0;36m100\u001b[0m\u001b[0;34m\u001b[0m\u001b[0;34m\u001b[0m\u001b[0m\n",
      "\u001b[0;32m~/code/ltexp1998/zytholic_project/zytholic_project/base_model.py\u001b[0m in \u001b[0;36mcontent\u001b[0;34m(df, name, sim_matrix, n_recomm)\u001b[0m\n\u001b[1;32m    141\u001b[0m     \u001b[0mposition\u001b[0m \u001b[0;34m=\u001b[0m \u001b[0mindex\u001b[0m\u001b[0;34m[\u001b[0m\u001b[0mindex\u001b[0m\u001b[0;34m.\u001b[0m\u001b[0mname\u001b[0m \u001b[0;34m==\u001b[0m \u001b[0mname\u001b[0m\u001b[0;34m]\u001b[0m\u001b[0;34m[\u001b[0m\u001b[0;34m'index'\u001b[0m\u001b[0;34m]\u001b[0m\u001b[0;34m\u001b[0m\u001b[0;34m\u001b[0m\u001b[0m\n\u001b[1;32m    142\u001b[0m     score = sorted(\n\u001b[0;32m--> 143\u001b[0;31m         \u001b[0mlist\u001b[0m\u001b[0;34m(\u001b[0m\u001b[0menumerate\u001b[0m\u001b[0;34m(\u001b[0m\u001b[0msim_matrix\u001b[0m\u001b[0;34m[\u001b[0m\u001b[0mposition\u001b[0m\u001b[0;34m]\u001b[0m\u001b[0;34m[\u001b[0m\u001b[0;36m0\u001b[0m\u001b[0;34m]\u001b[0m\u001b[0;34m)\u001b[0m\u001b[0;34m)\u001b[0m\u001b[0;34m,\u001b[0m\u001b[0;34m\u001b[0m\u001b[0;34m\u001b[0m\u001b[0m\n\u001b[0m\u001b[1;32m    144\u001b[0m         key=lambda x:x[1],reverse=True)\n\u001b[1;32m    145\u001b[0m     \u001b[0mindices\u001b[0m \u001b[0;34m=\u001b[0m \u001b[0mscore\u001b[0m\u001b[0;34m[\u001b[0m\u001b[0;36m1\u001b[0m\u001b[0;34m:\u001b[0m\u001b[0mn_recomm\u001b[0m\u001b[0;34m+\u001b[0m\u001b[0;36m1\u001b[0m\u001b[0;34m]\u001b[0m\u001b[0;34m\u001b[0m\u001b[0;34m\u001b[0m\u001b[0m\n",
      "\u001b[0;31mIndexError\u001b[0m: index 0 is out of bounds for axis 0 with size 0"
     ]
    }
   ],
   "source": [
    "linear = linear_kernel(\n",
    "    model.X_train_proc,\n",
    "    model.X_train_proc\n",
    ")\n",
    "\n",
    "linear_results = evaluate_proximity(model.X_train,  n_recomm=5, tests=30, sim_matrix=linear)\n",
    "linear_results.describe().T"
   ]
  },
  {
   "cell_type": "markdown",
   "id": "356c1ccc",
   "metadata": {},
   "source": [
    "# Predictions for beers in the test set"
   ]
  },
  {
   "cell_type": "code",
   "execution_count": 114,
   "id": "0618d90f",
   "metadata": {
    "ExecuteTime": {
     "end_time": "2021-08-27T09:35:04.078403Z",
     "start_time": "2021-08-27T09:35:04.029333Z"
    }
   },
   "outputs": [],
   "source": [
    "def test_prediction(model, n_recomm = 10):\n",
    "    \n",
    "    # Use the features to calculate kernel (calculate all distances at once?)\n",
    "    sigmoid = cosine_similarity(model.X_test_proc, model.X_train_proc)\n",
    "\n",
    "    matching_results = []\n",
    "    substyles = []\n",
    "    # Predict the closest beers in reference dataset\n",
    "    for idx in range(sigmoid.shape[0]):\n",
    "        distances = sigmoid[idx, :]\n",
    "        sorted_distances = sorted(\n",
    "                list(enumerate(distances)),\n",
    "                key=lambda x:x[1],reverse=True)\n",
    "        # get the top n predictions\n",
    "        closest_items = sorted_distances[0:n_recomm+1]\n",
    "        beers_indices = [i[0] for i in closest_items]\n",
    "        \n",
    "        # check original_style == predict_style percentage\n",
    "        original_style = model.X_test[\"style\"].iloc[idx]\n",
    "        propositions = model.X_train.iloc[beers_indices, :]\n",
    "        matching_percent = propositions[propositions['style'] == original_style].shape[0]\\\n",
    "            / propositions.shape[0] * 100\n",
    "        matching_results.append(matching_percent)\n",
    "        \n",
    "        #compare substyle matching\n",
    "        original_substyle = model.X_test.iloc[idx, -7:]\n",
    "        comp = propositions.iloc[:, -7:]\n",
    "        substyle_match = ((original_substyle == comp).sum()/ comp.shape[0]).min()\n",
    "        substyles.append(substyle_match)\n",
    "    \n",
    "    results = model.X_test.copy()\n",
    "    results['matching_percent'] = matching_results\n",
    "    results['substyle'] = substyles\n",
    "    return results"
   ]
  },
  {
   "cell_type": "code",
   "execution_count": 115,
   "id": "76004b5f",
   "metadata": {
    "ExecuteTime": {
     "end_time": "2021-08-27T09:35:11.554282Z",
     "start_time": "2021-08-27T09:35:04.514604Z"
    }
   },
   "outputs": [],
   "source": [
    "results = test_prediction(model)\n",
    "\n",
    "\n",
    "results.groupby('style')[['matching_percent', 'substyle']].agg('describe')"
   ]
  },
  {
   "cell_type": "code",
   "execution_count": 94,
   "id": "d771189d",
   "metadata": {
    "ExecuteTime": {
     "end_time": "2021-08-27T09:22:42.283992Z",
     "start_time": "2021-08-27T09:22:42.243109Z"
    }
   },
   "outputs": [],
   "source": [
    "a = model.X_train.iloc[0, -7:]\n",
    "\n",
    "b = model.X_train.iloc[0:20, -7:]"
   ]
  },
  {
   "cell_type": "code",
   "execution_count": 103,
   "id": "28e3d33d",
   "metadata": {
    "ExecuteTime": {
     "end_time": "2021-08-27T09:29:52.042482Z",
     "start_time": "2021-08-27T09:29:51.996606Z"
    }
   },
   "outputs": [
    {
     "data": {
      "text/plain": [
       "milk        1.00\n",
       "old         1.00\n",
       "dark        0.95\n",
       "wild        1.00\n",
       "pale        0.90\n",
       "red         0.05\n",
       "imperial    1.00\n",
       "dtype: float64"
      ]
     },
     "execution_count": 103,
     "metadata": {},
     "output_type": "execute_result"
    }
   ],
   "source": [
    "((a == b).sum() / b.shape[0])"
   ]
  },
  {
   "cell_type": "code",
   "execution_count": 133,
   "id": "6623cb3b",
   "metadata": {
    "ExecuteTime": {
     "end_time": "2021-08-27T10:04:28.990942Z",
     "start_time": "2021-08-27T10:04:21.098326Z"
    }
   },
   "outputs": [
    {
     "data": {
      "text/html": [
       "<div>\n",
       "<style scoped>\n",
       "    .dataframe tbody tr th:only-of-type {\n",
       "        vertical-align: middle;\n",
       "    }\n",
       "\n",
       "    .dataframe tbody tr th {\n",
       "        vertical-align: top;\n",
       "    }\n",
       "\n",
       "    .dataframe thead tr th {\n",
       "        text-align: left;\n",
       "    }\n",
       "\n",
       "    .dataframe thead tr:last-of-type th {\n",
       "        text-align: right;\n",
       "    }\n",
       "</style>\n",
       "<table border=\"1\" class=\"dataframe\">\n",
       "  <thead>\n",
       "    <tr>\n",
       "      <th></th>\n",
       "      <th colspan=\"8\" halign=\"left\">matching_percent</th>\n",
       "      <th colspan=\"8\" halign=\"left\">matching_substyle</th>\n",
       "    </tr>\n",
       "    <tr>\n",
       "      <th></th>\n",
       "      <th>count</th>\n",
       "      <th>mean</th>\n",
       "      <th>std</th>\n",
       "      <th>min</th>\n",
       "      <th>25%</th>\n",
       "      <th>50%</th>\n",
       "      <th>75%</th>\n",
       "      <th>max</th>\n",
       "      <th>count</th>\n",
       "      <th>mean</th>\n",
       "      <th>std</th>\n",
       "      <th>min</th>\n",
       "      <th>25%</th>\n",
       "      <th>50%</th>\n",
       "      <th>75%</th>\n",
       "      <th>max</th>\n",
       "    </tr>\n",
       "    <tr>\n",
       "      <th>style</th>\n",
       "      <th></th>\n",
       "      <th></th>\n",
       "      <th></th>\n",
       "      <th></th>\n",
       "      <th></th>\n",
       "      <th></th>\n",
       "      <th></th>\n",
       "      <th></th>\n",
       "      <th></th>\n",
       "      <th></th>\n",
       "      <th></th>\n",
       "      <th></th>\n",
       "      <th></th>\n",
       "      <th></th>\n",
       "      <th></th>\n",
       "      <th></th>\n",
       "    </tr>\n",
       "  </thead>\n",
       "  <tbody>\n",
       "    <tr>\n",
       "      <th>Ale</th>\n",
       "      <td>73.0</td>\n",
       "      <td>100.0</td>\n",
       "      <td>0.0</td>\n",
       "      <td>100.0</td>\n",
       "      <td>100.0</td>\n",
       "      <td>100.0</td>\n",
       "      <td>100.0</td>\n",
       "      <td>100.0</td>\n",
       "      <td>73.0</td>\n",
       "      <td>100.0</td>\n",
       "      <td>0.0</td>\n",
       "      <td>100.0</td>\n",
       "      <td>100.0</td>\n",
       "      <td>100.0</td>\n",
       "      <td>100.0</td>\n",
       "      <td>100.0</td>\n",
       "    </tr>\n",
       "    <tr>\n",
       "      <th>Ale Dark</th>\n",
       "      <td>50.0</td>\n",
       "      <td>100.0</td>\n",
       "      <td>0.0</td>\n",
       "      <td>100.0</td>\n",
       "      <td>100.0</td>\n",
       "      <td>100.0</td>\n",
       "      <td>100.0</td>\n",
       "      <td>100.0</td>\n",
       "      <td>50.0</td>\n",
       "      <td>100.0</td>\n",
       "      <td>0.0</td>\n",
       "      <td>100.0</td>\n",
       "      <td>100.0</td>\n",
       "      <td>100.0</td>\n",
       "      <td>100.0</td>\n",
       "      <td>100.0</td>\n",
       "    </tr>\n",
       "    <tr>\n",
       "      <th>Ale Old</th>\n",
       "      <td>11.0</td>\n",
       "      <td>100.0</td>\n",
       "      <td>0.0</td>\n",
       "      <td>100.0</td>\n",
       "      <td>100.0</td>\n",
       "      <td>100.0</td>\n",
       "      <td>100.0</td>\n",
       "      <td>100.0</td>\n",
       "      <td>11.0</td>\n",
       "      <td>100.0</td>\n",
       "      <td>0.0</td>\n",
       "      <td>100.0</td>\n",
       "      <td>100.0</td>\n",
       "      <td>100.0</td>\n",
       "      <td>100.0</td>\n",
       "      <td>100.0</td>\n",
       "    </tr>\n",
       "    <tr>\n",
       "      <th>Ale Pale</th>\n",
       "      <td>41.0</td>\n",
       "      <td>100.0</td>\n",
       "      <td>0.0</td>\n",
       "      <td>100.0</td>\n",
       "      <td>100.0</td>\n",
       "      <td>100.0</td>\n",
       "      <td>100.0</td>\n",
       "      <td>100.0</td>\n",
       "      <td>41.0</td>\n",
       "      <td>100.0</td>\n",
       "      <td>0.0</td>\n",
       "      <td>100.0</td>\n",
       "      <td>100.0</td>\n",
       "      <td>100.0</td>\n",
       "      <td>100.0</td>\n",
       "      <td>100.0</td>\n",
       "    </tr>\n",
       "    <tr>\n",
       "      <th>Ale Red</th>\n",
       "      <td>32.0</td>\n",
       "      <td>100.0</td>\n",
       "      <td>0.0</td>\n",
       "      <td>100.0</td>\n",
       "      <td>100.0</td>\n",
       "      <td>100.0</td>\n",
       "      <td>100.0</td>\n",
       "      <td>100.0</td>\n",
       "      <td>32.0</td>\n",
       "      <td>100.0</td>\n",
       "      <td>0.0</td>\n",
       "      <td>100.0</td>\n",
       "      <td>100.0</td>\n",
       "      <td>100.0</td>\n",
       "      <td>100.0</td>\n",
       "      <td>100.0</td>\n",
       "    </tr>\n",
       "    <tr>\n",
       "      <th>Ale Strong</th>\n",
       "      <td>41.0</td>\n",
       "      <td>100.0</td>\n",
       "      <td>0.0</td>\n",
       "      <td>100.0</td>\n",
       "      <td>100.0</td>\n",
       "      <td>100.0</td>\n",
       "      <td>100.0</td>\n",
       "      <td>100.0</td>\n",
       "      <td>41.0</td>\n",
       "      <td>100.0</td>\n",
       "      <td>0.0</td>\n",
       "      <td>100.0</td>\n",
       "      <td>100.0</td>\n",
       "      <td>100.0</td>\n",
       "      <td>100.0</td>\n",
       "      <td>100.0</td>\n",
       "    </tr>\n",
       "    <tr>\n",
       "      <th>Altbier</th>\n",
       "      <td>11.0</td>\n",
       "      <td>100.0</td>\n",
       "      <td>0.0</td>\n",
       "      <td>100.0</td>\n",
       "      <td>100.0</td>\n",
       "      <td>100.0</td>\n",
       "      <td>100.0</td>\n",
       "      <td>100.0</td>\n",
       "      <td>11.0</td>\n",
       "      <td>100.0</td>\n",
       "      <td>0.0</td>\n",
       "      <td>100.0</td>\n",
       "      <td>100.0</td>\n",
       "      <td>100.0</td>\n",
       "      <td>100.0</td>\n",
       "      <td>100.0</td>\n",
       "    </tr>\n",
       "    <tr>\n",
       "      <th>Barleywine</th>\n",
       "      <td>20.0</td>\n",
       "      <td>100.0</td>\n",
       "      <td>0.0</td>\n",
       "      <td>100.0</td>\n",
       "      <td>100.0</td>\n",
       "      <td>100.0</td>\n",
       "      <td>100.0</td>\n",
       "      <td>100.0</td>\n",
       "      <td>20.0</td>\n",
       "      <td>100.0</td>\n",
       "      <td>0.0</td>\n",
       "      <td>100.0</td>\n",
       "      <td>100.0</td>\n",
       "      <td>100.0</td>\n",
       "      <td>100.0</td>\n",
       "      <td>100.0</td>\n",
       "    </tr>\n",
       "    <tr>\n",
       "      <th>Bitter</th>\n",
       "      <td>16.0</td>\n",
       "      <td>100.0</td>\n",
       "      <td>0.0</td>\n",
       "      <td>100.0</td>\n",
       "      <td>100.0</td>\n",
       "      <td>100.0</td>\n",
       "      <td>100.0</td>\n",
       "      <td>100.0</td>\n",
       "      <td>16.0</td>\n",
       "      <td>100.0</td>\n",
       "      <td>0.0</td>\n",
       "      <td>100.0</td>\n",
       "      <td>100.0</td>\n",
       "      <td>100.0</td>\n",
       "      <td>100.0</td>\n",
       "      <td>100.0</td>\n",
       "    </tr>\n",
       "    <tr>\n",
       "      <th>Bière de Champagne / Bière Brut</th>\n",
       "      <td>9.0</td>\n",
       "      <td>100.0</td>\n",
       "      <td>0.0</td>\n",
       "      <td>100.0</td>\n",
       "      <td>100.0</td>\n",
       "      <td>100.0</td>\n",
       "      <td>100.0</td>\n",
       "      <td>100.0</td>\n",
       "      <td>9.0</td>\n",
       "      <td>100.0</td>\n",
       "      <td>0.0</td>\n",
       "      <td>100.0</td>\n",
       "      <td>100.0</td>\n",
       "      <td>100.0</td>\n",
       "      <td>100.0</td>\n",
       "      <td>100.0</td>\n",
       "    </tr>\n",
       "    <tr>\n",
       "      <th>Bière de Garde</th>\n",
       "      <td>11.0</td>\n",
       "      <td>100.0</td>\n",
       "      <td>0.0</td>\n",
       "      <td>100.0</td>\n",
       "      <td>100.0</td>\n",
       "      <td>100.0</td>\n",
       "      <td>100.0</td>\n",
       "      <td>100.0</td>\n",
       "      <td>11.0</td>\n",
       "      <td>100.0</td>\n",
       "      <td>0.0</td>\n",
       "      <td>100.0</td>\n",
       "      <td>100.0</td>\n",
       "      <td>100.0</td>\n",
       "      <td>100.0</td>\n",
       "      <td>100.0</td>\n",
       "    </tr>\n",
       "    <tr>\n",
       "      <th>Bock</th>\n",
       "      <td>47.0</td>\n",
       "      <td>100.0</td>\n",
       "      <td>0.0</td>\n",
       "      <td>100.0</td>\n",
       "      <td>100.0</td>\n",
       "      <td>100.0</td>\n",
       "      <td>100.0</td>\n",
       "      <td>100.0</td>\n",
       "      <td>47.0</td>\n",
       "      <td>100.0</td>\n",
       "      <td>0.0</td>\n",
       "      <td>100.0</td>\n",
       "      <td>100.0</td>\n",
       "      <td>100.0</td>\n",
       "      <td>100.0</td>\n",
       "      <td>100.0</td>\n",
       "    </tr>\n",
       "    <tr>\n",
       "      <th>Braggot</th>\n",
       "      <td>10.0</td>\n",
       "      <td>100.0</td>\n",
       "      <td>0.0</td>\n",
       "      <td>100.0</td>\n",
       "      <td>100.0</td>\n",
       "      <td>100.0</td>\n",
       "      <td>100.0</td>\n",
       "      <td>100.0</td>\n",
       "      <td>10.0</td>\n",
       "      <td>100.0</td>\n",
       "      <td>0.0</td>\n",
       "      <td>100.0</td>\n",
       "      <td>100.0</td>\n",
       "      <td>100.0</td>\n",
       "      <td>100.0</td>\n",
       "      <td>100.0</td>\n",
       "    </tr>\n",
       "    <tr>\n",
       "      <th>Brett</th>\n",
       "      <td>11.0</td>\n",
       "      <td>100.0</td>\n",
       "      <td>0.0</td>\n",
       "      <td>100.0</td>\n",
       "      <td>100.0</td>\n",
       "      <td>100.0</td>\n",
       "      <td>100.0</td>\n",
       "      <td>100.0</td>\n",
       "      <td>11.0</td>\n",
       "      <td>100.0</td>\n",
       "      <td>0.0</td>\n",
       "      <td>100.0</td>\n",
       "      <td>100.0</td>\n",
       "      <td>100.0</td>\n",
       "      <td>100.0</td>\n",
       "      <td>100.0</td>\n",
       "    </tr>\n",
       "    <tr>\n",
       "      <th>Dubbel</th>\n",
       "      <td>11.0</td>\n",
       "      <td>100.0</td>\n",
       "      <td>0.0</td>\n",
       "      <td>100.0</td>\n",
       "      <td>100.0</td>\n",
       "      <td>100.0</td>\n",
       "      <td>100.0</td>\n",
       "      <td>100.0</td>\n",
       "      <td>11.0</td>\n",
       "      <td>100.0</td>\n",
       "      <td>0.0</td>\n",
       "      <td>100.0</td>\n",
       "      <td>100.0</td>\n",
       "      <td>100.0</td>\n",
       "      <td>100.0</td>\n",
       "      <td>100.0</td>\n",
       "    </tr>\n",
       "    <tr>\n",
       "      <th>Fruit and Field Beer</th>\n",
       "      <td>9.0</td>\n",
       "      <td>100.0</td>\n",
       "      <td>0.0</td>\n",
       "      <td>100.0</td>\n",
       "      <td>100.0</td>\n",
       "      <td>100.0</td>\n",
       "      <td>100.0</td>\n",
       "      <td>100.0</td>\n",
       "      <td>9.0</td>\n",
       "      <td>100.0</td>\n",
       "      <td>0.0</td>\n",
       "      <td>100.0</td>\n",
       "      <td>100.0</td>\n",
       "      <td>100.0</td>\n",
       "      <td>100.0</td>\n",
       "      <td>100.0</td>\n",
       "    </tr>\n",
       "    <tr>\n",
       "      <th>Happoshu</th>\n",
       "      <td>10.0</td>\n",
       "      <td>100.0</td>\n",
       "      <td>0.0</td>\n",
       "      <td>100.0</td>\n",
       "      <td>100.0</td>\n",
       "      <td>100.0</td>\n",
       "      <td>100.0</td>\n",
       "      <td>100.0</td>\n",
       "      <td>10.0</td>\n",
       "      <td>100.0</td>\n",
       "      <td>0.0</td>\n",
       "      <td>100.0</td>\n",
       "      <td>100.0</td>\n",
       "      <td>100.0</td>\n",
       "      <td>100.0</td>\n",
       "      <td>100.0</td>\n",
       "    </tr>\n",
       "    <tr>\n",
       "      <th>Herb and Spice Beer</th>\n",
       "      <td>10.0</td>\n",
       "      <td>100.0</td>\n",
       "      <td>0.0</td>\n",
       "      <td>100.0</td>\n",
       "      <td>100.0</td>\n",
       "      <td>100.0</td>\n",
       "      <td>100.0</td>\n",
       "      <td>100.0</td>\n",
       "      <td>10.0</td>\n",
       "      <td>100.0</td>\n",
       "      <td>0.0</td>\n",
       "      <td>100.0</td>\n",
       "      <td>100.0</td>\n",
       "      <td>100.0</td>\n",
       "      <td>100.0</td>\n",
       "      <td>100.0</td>\n",
       "    </tr>\n",
       "    <tr>\n",
       "      <th>IPA</th>\n",
       "      <td>54.0</td>\n",
       "      <td>100.0</td>\n",
       "      <td>0.0</td>\n",
       "      <td>100.0</td>\n",
       "      <td>100.0</td>\n",
       "      <td>100.0</td>\n",
       "      <td>100.0</td>\n",
       "      <td>100.0</td>\n",
       "      <td>54.0</td>\n",
       "      <td>100.0</td>\n",
       "      <td>0.0</td>\n",
       "      <td>100.0</td>\n",
       "      <td>100.0</td>\n",
       "      <td>100.0</td>\n",
       "      <td>100.0</td>\n",
       "      <td>100.0</td>\n",
       "    </tr>\n",
       "    <tr>\n",
       "      <th>Kvass</th>\n",
       "      <td>9.0</td>\n",
       "      <td>100.0</td>\n",
       "      <td>0.0</td>\n",
       "      <td>100.0</td>\n",
       "      <td>100.0</td>\n",
       "      <td>100.0</td>\n",
       "      <td>100.0</td>\n",
       "      <td>100.0</td>\n",
       "      <td>9.0</td>\n",
       "      <td>100.0</td>\n",
       "      <td>0.0</td>\n",
       "      <td>100.0</td>\n",
       "      <td>100.0</td>\n",
       "      <td>100.0</td>\n",
       "      <td>100.0</td>\n",
       "      <td>100.0</td>\n",
       "    </tr>\n",
       "    <tr>\n",
       "      <th>Kölsch</th>\n",
       "      <td>9.0</td>\n",
       "      <td>100.0</td>\n",
       "      <td>0.0</td>\n",
       "      <td>100.0</td>\n",
       "      <td>100.0</td>\n",
       "      <td>100.0</td>\n",
       "      <td>100.0</td>\n",
       "      <td>100.0</td>\n",
       "      <td>9.0</td>\n",
       "      <td>100.0</td>\n",
       "      <td>0.0</td>\n",
       "      <td>100.0</td>\n",
       "      <td>100.0</td>\n",
       "      <td>100.0</td>\n",
       "      <td>100.0</td>\n",
       "      <td>100.0</td>\n",
       "    </tr>\n",
       "    <tr>\n",
       "      <th>Lager</th>\n",
       "      <td>169.0</td>\n",
       "      <td>100.0</td>\n",
       "      <td>0.0</td>\n",
       "      <td>100.0</td>\n",
       "      <td>100.0</td>\n",
       "      <td>100.0</td>\n",
       "      <td>100.0</td>\n",
       "      <td>100.0</td>\n",
       "      <td>169.0</td>\n",
       "      <td>100.0</td>\n",
       "      <td>0.0</td>\n",
       "      <td>100.0</td>\n",
       "      <td>100.0</td>\n",
       "      <td>100.0</td>\n",
       "      <td>100.0</td>\n",
       "      <td>100.0</td>\n",
       "    </tr>\n",
       "    <tr>\n",
       "      <th>Lambic</th>\n",
       "      <td>24.0</td>\n",
       "      <td>100.0</td>\n",
       "      <td>0.0</td>\n",
       "      <td>100.0</td>\n",
       "      <td>100.0</td>\n",
       "      <td>100.0</td>\n",
       "      <td>100.0</td>\n",
       "      <td>100.0</td>\n",
       "      <td>24.0</td>\n",
       "      <td>100.0</td>\n",
       "      <td>0.0</td>\n",
       "      <td>100.0</td>\n",
       "      <td>100.0</td>\n",
       "      <td>100.0</td>\n",
       "      <td>100.0</td>\n",
       "      <td>100.0</td>\n",
       "    </tr>\n",
       "    <tr>\n",
       "      <th>Low Alcohol Beer</th>\n",
       "      <td>8.0</td>\n",
       "      <td>100.0</td>\n",
       "      <td>0.0</td>\n",
       "      <td>100.0</td>\n",
       "      <td>100.0</td>\n",
       "      <td>100.0</td>\n",
       "      <td>100.0</td>\n",
       "      <td>100.0</td>\n",
       "      <td>8.0</td>\n",
       "      <td>100.0</td>\n",
       "      <td>0.0</td>\n",
       "      <td>100.0</td>\n",
       "      <td>100.0</td>\n",
       "      <td>100.0</td>\n",
       "      <td>100.0</td>\n",
       "      <td>100.0</td>\n",
       "    </tr>\n",
       "    <tr>\n",
       "      <th>NEIPA</th>\n",
       "      <td>11.0</td>\n",
       "      <td>100.0</td>\n",
       "      <td>0.0</td>\n",
       "      <td>100.0</td>\n",
       "      <td>100.0</td>\n",
       "      <td>100.0</td>\n",
       "      <td>100.0</td>\n",
       "      <td>100.0</td>\n",
       "      <td>11.0</td>\n",
       "      <td>100.0</td>\n",
       "      <td>0.0</td>\n",
       "      <td>100.0</td>\n",
       "      <td>100.0</td>\n",
       "      <td>100.0</td>\n",
       "      <td>100.0</td>\n",
       "      <td>100.0</td>\n",
       "    </tr>\n",
       "    <tr>\n",
       "      <th>Pilsner</th>\n",
       "      <td>31.0</td>\n",
       "      <td>100.0</td>\n",
       "      <td>0.0</td>\n",
       "      <td>100.0</td>\n",
       "      <td>100.0</td>\n",
       "      <td>100.0</td>\n",
       "      <td>100.0</td>\n",
       "      <td>100.0</td>\n",
       "      <td>31.0</td>\n",
       "      <td>100.0</td>\n",
       "      <td>0.0</td>\n",
       "      <td>100.0</td>\n",
       "      <td>100.0</td>\n",
       "      <td>100.0</td>\n",
       "      <td>100.0</td>\n",
       "      <td>100.0</td>\n",
       "    </tr>\n",
       "    <tr>\n",
       "      <th>Porter</th>\n",
       "      <td>45.0</td>\n",
       "      <td>100.0</td>\n",
       "      <td>0.0</td>\n",
       "      <td>100.0</td>\n",
       "      <td>100.0</td>\n",
       "      <td>100.0</td>\n",
       "      <td>100.0</td>\n",
       "      <td>100.0</td>\n",
       "      <td>45.0</td>\n",
       "      <td>100.0</td>\n",
       "      <td>0.0</td>\n",
       "      <td>100.0</td>\n",
       "      <td>100.0</td>\n",
       "      <td>100.0</td>\n",
       "      <td>100.0</td>\n",
       "      <td>100.0</td>\n",
       "    </tr>\n",
       "    <tr>\n",
       "      <th>Pumpkin Beer</th>\n",
       "      <td>9.0</td>\n",
       "      <td>100.0</td>\n",
       "      <td>0.0</td>\n",
       "      <td>100.0</td>\n",
       "      <td>100.0</td>\n",
       "      <td>100.0</td>\n",
       "      <td>100.0</td>\n",
       "      <td>100.0</td>\n",
       "      <td>9.0</td>\n",
       "      <td>100.0</td>\n",
       "      <td>0.0</td>\n",
       "      <td>100.0</td>\n",
       "      <td>100.0</td>\n",
       "      <td>100.0</td>\n",
       "      <td>100.0</td>\n",
       "      <td>100.0</td>\n",
       "    </tr>\n",
       "    <tr>\n",
       "      <th>Quadrupel</th>\n",
       "      <td>10.0</td>\n",
       "      <td>100.0</td>\n",
       "      <td>0.0</td>\n",
       "      <td>100.0</td>\n",
       "      <td>100.0</td>\n",
       "      <td>100.0</td>\n",
       "      <td>100.0</td>\n",
       "      <td>100.0</td>\n",
       "      <td>10.0</td>\n",
       "      <td>100.0</td>\n",
       "      <td>0.0</td>\n",
       "      <td>100.0</td>\n",
       "      <td>100.0</td>\n",
       "      <td>100.0</td>\n",
       "      <td>100.0</td>\n",
       "      <td>100.0</td>\n",
       "    </tr>\n",
       "    <tr>\n",
       "      <th>Rice</th>\n",
       "      <td>9.0</td>\n",
       "      <td>100.0</td>\n",
       "      <td>0.0</td>\n",
       "      <td>100.0</td>\n",
       "      <td>100.0</td>\n",
       "      <td>100.0</td>\n",
       "      <td>100.0</td>\n",
       "      <td>100.0</td>\n",
       "      <td>9.0</td>\n",
       "      <td>100.0</td>\n",
       "      <td>0.0</td>\n",
       "      <td>100.0</td>\n",
       "      <td>100.0</td>\n",
       "      <td>100.0</td>\n",
       "      <td>100.0</td>\n",
       "      <td>100.0</td>\n",
       "    </tr>\n",
       "    <tr>\n",
       "      <th>Rye</th>\n",
       "      <td>21.0</td>\n",
       "      <td>100.0</td>\n",
       "      <td>0.0</td>\n",
       "      <td>100.0</td>\n",
       "      <td>100.0</td>\n",
       "      <td>100.0</td>\n",
       "      <td>100.0</td>\n",
       "      <td>100.0</td>\n",
       "      <td>21.0</td>\n",
       "      <td>100.0</td>\n",
       "      <td>0.0</td>\n",
       "      <td>100.0</td>\n",
       "      <td>100.0</td>\n",
       "      <td>100.0</td>\n",
       "      <td>100.0</td>\n",
       "      <td>100.0</td>\n",
       "    </tr>\n",
       "    <tr>\n",
       "      <th>Sahti</th>\n",
       "      <td>9.0</td>\n",
       "      <td>100.0</td>\n",
       "      <td>0.0</td>\n",
       "      <td>100.0</td>\n",
       "      <td>100.0</td>\n",
       "      <td>100.0</td>\n",
       "      <td>100.0</td>\n",
       "      <td>100.0</td>\n",
       "      <td>9.0</td>\n",
       "      <td>100.0</td>\n",
       "      <td>0.0</td>\n",
       "      <td>100.0</td>\n",
       "      <td>100.0</td>\n",
       "      <td>100.0</td>\n",
       "      <td>100.0</td>\n",
       "      <td>100.0</td>\n",
       "    </tr>\n",
       "    <tr>\n",
       "      <th>Saison</th>\n",
       "      <td>10.0</td>\n",
       "      <td>100.0</td>\n",
       "      <td>0.0</td>\n",
       "      <td>100.0</td>\n",
       "      <td>100.0</td>\n",
       "      <td>100.0</td>\n",
       "      <td>100.0</td>\n",
       "      <td>100.0</td>\n",
       "      <td>10.0</td>\n",
       "      <td>100.0</td>\n",
       "      <td>0.0</td>\n",
       "      <td>100.0</td>\n",
       "      <td>100.0</td>\n",
       "      <td>100.0</td>\n",
       "      <td>100.0</td>\n",
       "      <td>100.0</td>\n",
       "    </tr>\n",
       "    <tr>\n",
       "      <th>Smoked</th>\n",
       "      <td>22.0</td>\n",
       "      <td>100.0</td>\n",
       "      <td>0.0</td>\n",
       "      <td>100.0</td>\n",
       "      <td>100.0</td>\n",
       "      <td>100.0</td>\n",
       "      <td>100.0</td>\n",
       "      <td>100.0</td>\n",
       "      <td>22.0</td>\n",
       "      <td>100.0</td>\n",
       "      <td>0.0</td>\n",
       "      <td>100.0</td>\n",
       "      <td>100.0</td>\n",
       "      <td>100.0</td>\n",
       "      <td>100.0</td>\n",
       "      <td>100.0</td>\n",
       "    </tr>\n",
       "    <tr>\n",
       "      <th>Sour</th>\n",
       "      <td>41.0</td>\n",
       "      <td>100.0</td>\n",
       "      <td>0.0</td>\n",
       "      <td>100.0</td>\n",
       "      <td>100.0</td>\n",
       "      <td>100.0</td>\n",
       "      <td>100.0</td>\n",
       "      <td>100.0</td>\n",
       "      <td>41.0</td>\n",
       "      <td>100.0</td>\n",
       "      <td>0.0</td>\n",
       "      <td>100.0</td>\n",
       "      <td>100.0</td>\n",
       "      <td>100.0</td>\n",
       "      <td>100.0</td>\n",
       "      <td>100.0</td>\n",
       "    </tr>\n",
       "    <tr>\n",
       "      <th>Steam Beer</th>\n",
       "      <td>11.0</td>\n",
       "      <td>100.0</td>\n",
       "      <td>0.0</td>\n",
       "      <td>100.0</td>\n",
       "      <td>100.0</td>\n",
       "      <td>100.0</td>\n",
       "      <td>100.0</td>\n",
       "      <td>100.0</td>\n",
       "      <td>11.0</td>\n",
       "      <td>100.0</td>\n",
       "      <td>0.0</td>\n",
       "      <td>100.0</td>\n",
       "      <td>100.0</td>\n",
       "      <td>100.0</td>\n",
       "      <td>100.0</td>\n",
       "      <td>100.0</td>\n",
       "    </tr>\n",
       "    <tr>\n",
       "      <th>Stout</th>\n",
       "      <td>80.0</td>\n",
       "      <td>100.0</td>\n",
       "      <td>0.0</td>\n",
       "      <td>100.0</td>\n",
       "      <td>100.0</td>\n",
       "      <td>100.0</td>\n",
       "      <td>100.0</td>\n",
       "      <td>100.0</td>\n",
       "      <td>80.0</td>\n",
       "      <td>100.0</td>\n",
       "      <td>0.0</td>\n",
       "      <td>100.0</td>\n",
       "      <td>100.0</td>\n",
       "      <td>100.0</td>\n",
       "      <td>100.0</td>\n",
       "      <td>100.0</td>\n",
       "    </tr>\n",
       "    <tr>\n",
       "      <th>Tripel</th>\n",
       "      <td>10.0</td>\n",
       "      <td>100.0</td>\n",
       "      <td>0.0</td>\n",
       "      <td>100.0</td>\n",
       "      <td>100.0</td>\n",
       "      <td>100.0</td>\n",
       "      <td>100.0</td>\n",
       "      <td>100.0</td>\n",
       "      <td>10.0</td>\n",
       "      <td>100.0</td>\n",
       "      <td>0.0</td>\n",
       "      <td>100.0</td>\n",
       "      <td>100.0</td>\n",
       "      <td>100.0</td>\n",
       "      <td>100.0</td>\n",
       "      <td>100.0</td>\n",
       "    </tr>\n",
       "    <tr>\n",
       "      <th>Wheat</th>\n",
       "      <td>58.0</td>\n",
       "      <td>100.0</td>\n",
       "      <td>0.0</td>\n",
       "      <td>100.0</td>\n",
       "      <td>100.0</td>\n",
       "      <td>100.0</td>\n",
       "      <td>100.0</td>\n",
       "      <td>100.0</td>\n",
       "      <td>58.0</td>\n",
       "      <td>100.0</td>\n",
       "      <td>0.0</td>\n",
       "      <td>100.0</td>\n",
       "      <td>100.0</td>\n",
       "      <td>100.0</td>\n",
       "      <td>100.0</td>\n",
       "      <td>100.0</td>\n",
       "    </tr>\n",
       "    <tr>\n",
       "      <th>Winter Warmer</th>\n",
       "      <td>9.0</td>\n",
       "      <td>100.0</td>\n",
       "      <td>0.0</td>\n",
       "      <td>100.0</td>\n",
       "      <td>100.0</td>\n",
       "      <td>100.0</td>\n",
       "      <td>100.0</td>\n",
       "      <td>100.0</td>\n",
       "      <td>9.0</td>\n",
       "      <td>100.0</td>\n",
       "      <td>0.0</td>\n",
       "      <td>100.0</td>\n",
       "      <td>100.0</td>\n",
       "      <td>100.0</td>\n",
       "      <td>100.0</td>\n",
       "      <td>100.0</td>\n",
       "    </tr>\n",
       "  </tbody>\n",
       "</table>\n",
       "</div>"
      ],
      "text/plain": [
       "                                matching_percent                            \\\n",
       "                                           count   mean  std    min    25%   \n",
       "style                                                                        \n",
       "Ale                                         73.0  100.0  0.0  100.0  100.0   \n",
       "Ale Dark                                    50.0  100.0  0.0  100.0  100.0   \n",
       "Ale Old                                     11.0  100.0  0.0  100.0  100.0   \n",
       "Ale Pale                                    41.0  100.0  0.0  100.0  100.0   \n",
       "Ale Red                                     32.0  100.0  0.0  100.0  100.0   \n",
       "Ale Strong                                  41.0  100.0  0.0  100.0  100.0   \n",
       "Altbier                                     11.0  100.0  0.0  100.0  100.0   \n",
       "Barleywine                                  20.0  100.0  0.0  100.0  100.0   \n",
       "Bitter                                      16.0  100.0  0.0  100.0  100.0   \n",
       "Bière de Champagne / Bière Brut              9.0  100.0  0.0  100.0  100.0   \n",
       "Bière de Garde                              11.0  100.0  0.0  100.0  100.0   \n",
       "Bock                                        47.0  100.0  0.0  100.0  100.0   \n",
       "Braggot                                     10.0  100.0  0.0  100.0  100.0   \n",
       "Brett                                       11.0  100.0  0.0  100.0  100.0   \n",
       "Dubbel                                      11.0  100.0  0.0  100.0  100.0   \n",
       "Fruit and Field Beer                         9.0  100.0  0.0  100.0  100.0   \n",
       "Happoshu                                    10.0  100.0  0.0  100.0  100.0   \n",
       "Herb and Spice Beer                         10.0  100.0  0.0  100.0  100.0   \n",
       "IPA                                         54.0  100.0  0.0  100.0  100.0   \n",
       "Kvass                                        9.0  100.0  0.0  100.0  100.0   \n",
       "Kölsch                                       9.0  100.0  0.0  100.0  100.0   \n",
       "Lager                                      169.0  100.0  0.0  100.0  100.0   \n",
       "Lambic                                      24.0  100.0  0.0  100.0  100.0   \n",
       "Low Alcohol Beer                             8.0  100.0  0.0  100.0  100.0   \n",
       "NEIPA                                       11.0  100.0  0.0  100.0  100.0   \n",
       "Pilsner                                     31.0  100.0  0.0  100.0  100.0   \n",
       "Porter                                      45.0  100.0  0.0  100.0  100.0   \n",
       "Pumpkin Beer                                 9.0  100.0  0.0  100.0  100.0   \n",
       "Quadrupel                                   10.0  100.0  0.0  100.0  100.0   \n",
       "Rice                                         9.0  100.0  0.0  100.0  100.0   \n",
       "Rye                                         21.0  100.0  0.0  100.0  100.0   \n",
       "Sahti                                        9.0  100.0  0.0  100.0  100.0   \n",
       "Saison                                      10.0  100.0  0.0  100.0  100.0   \n",
       "Smoked                                      22.0  100.0  0.0  100.0  100.0   \n",
       "Sour                                        41.0  100.0  0.0  100.0  100.0   \n",
       "Steam Beer                                  11.0  100.0  0.0  100.0  100.0   \n",
       "Stout                                       80.0  100.0  0.0  100.0  100.0   \n",
       "Tripel                                      10.0  100.0  0.0  100.0  100.0   \n",
       "Wheat                                       58.0  100.0  0.0  100.0  100.0   \n",
       "Winter Warmer                                9.0  100.0  0.0  100.0  100.0   \n",
       "\n",
       "                                                     matching_substyle         \\\n",
       "                                   50%    75%    max             count   mean   \n",
       "style                                                                           \n",
       "Ale                              100.0  100.0  100.0              73.0  100.0   \n",
       "Ale Dark                         100.0  100.0  100.0              50.0  100.0   \n",
       "Ale Old                          100.0  100.0  100.0              11.0  100.0   \n",
       "Ale Pale                         100.0  100.0  100.0              41.0  100.0   \n",
       "Ale Red                          100.0  100.0  100.0              32.0  100.0   \n",
       "Ale Strong                       100.0  100.0  100.0              41.0  100.0   \n",
       "Altbier                          100.0  100.0  100.0              11.0  100.0   \n",
       "Barleywine                       100.0  100.0  100.0              20.0  100.0   \n",
       "Bitter                           100.0  100.0  100.0              16.0  100.0   \n",
       "Bière de Champagne / Bière Brut  100.0  100.0  100.0               9.0  100.0   \n",
       "Bière de Garde                   100.0  100.0  100.0              11.0  100.0   \n",
       "Bock                             100.0  100.0  100.0              47.0  100.0   \n",
       "Braggot                          100.0  100.0  100.0              10.0  100.0   \n",
       "Brett                            100.0  100.0  100.0              11.0  100.0   \n",
       "Dubbel                           100.0  100.0  100.0              11.0  100.0   \n",
       "Fruit and Field Beer             100.0  100.0  100.0               9.0  100.0   \n",
       "Happoshu                         100.0  100.0  100.0              10.0  100.0   \n",
       "Herb and Spice Beer              100.0  100.0  100.0              10.0  100.0   \n",
       "IPA                              100.0  100.0  100.0              54.0  100.0   \n",
       "Kvass                            100.0  100.0  100.0               9.0  100.0   \n",
       "Kölsch                           100.0  100.0  100.0               9.0  100.0   \n",
       "Lager                            100.0  100.0  100.0             169.0  100.0   \n",
       "Lambic                           100.0  100.0  100.0              24.0  100.0   \n",
       "Low Alcohol Beer                 100.0  100.0  100.0               8.0  100.0   \n",
       "NEIPA                            100.0  100.0  100.0              11.0  100.0   \n",
       "Pilsner                          100.0  100.0  100.0              31.0  100.0   \n",
       "Porter                           100.0  100.0  100.0              45.0  100.0   \n",
       "Pumpkin Beer                     100.0  100.0  100.0               9.0  100.0   \n",
       "Quadrupel                        100.0  100.0  100.0              10.0  100.0   \n",
       "Rice                             100.0  100.0  100.0               9.0  100.0   \n",
       "Rye                              100.0  100.0  100.0              21.0  100.0   \n",
       "Sahti                            100.0  100.0  100.0               9.0  100.0   \n",
       "Saison                           100.0  100.0  100.0              10.0  100.0   \n",
       "Smoked                           100.0  100.0  100.0              22.0  100.0   \n",
       "Sour                             100.0  100.0  100.0              41.0  100.0   \n",
       "Steam Beer                       100.0  100.0  100.0              11.0  100.0   \n",
       "Stout                            100.0  100.0  100.0              80.0  100.0   \n",
       "Tripel                           100.0  100.0  100.0              10.0  100.0   \n",
       "Wheat                            100.0  100.0  100.0              58.0  100.0   \n",
       "Winter Warmer                    100.0  100.0  100.0               9.0  100.0   \n",
       "\n",
       "                                                                         \n",
       "                                 std    min    25%    50%    75%    max  \n",
       "style                                                                    \n",
       "Ale                              0.0  100.0  100.0  100.0  100.0  100.0  \n",
       "Ale Dark                         0.0  100.0  100.0  100.0  100.0  100.0  \n",
       "Ale Old                          0.0  100.0  100.0  100.0  100.0  100.0  \n",
       "Ale Pale                         0.0  100.0  100.0  100.0  100.0  100.0  \n",
       "Ale Red                          0.0  100.0  100.0  100.0  100.0  100.0  \n",
       "Ale Strong                       0.0  100.0  100.0  100.0  100.0  100.0  \n",
       "Altbier                          0.0  100.0  100.0  100.0  100.0  100.0  \n",
       "Barleywine                       0.0  100.0  100.0  100.0  100.0  100.0  \n",
       "Bitter                           0.0  100.0  100.0  100.0  100.0  100.0  \n",
       "Bière de Champagne / Bière Brut  0.0  100.0  100.0  100.0  100.0  100.0  \n",
       "Bière de Garde                   0.0  100.0  100.0  100.0  100.0  100.0  \n",
       "Bock                             0.0  100.0  100.0  100.0  100.0  100.0  \n",
       "Braggot                          0.0  100.0  100.0  100.0  100.0  100.0  \n",
       "Brett                            0.0  100.0  100.0  100.0  100.0  100.0  \n",
       "Dubbel                           0.0  100.0  100.0  100.0  100.0  100.0  \n",
       "Fruit and Field Beer             0.0  100.0  100.0  100.0  100.0  100.0  \n",
       "Happoshu                         0.0  100.0  100.0  100.0  100.0  100.0  \n",
       "Herb and Spice Beer              0.0  100.0  100.0  100.0  100.0  100.0  \n",
       "IPA                              0.0  100.0  100.0  100.0  100.0  100.0  \n",
       "Kvass                            0.0  100.0  100.0  100.0  100.0  100.0  \n",
       "Kölsch                           0.0  100.0  100.0  100.0  100.0  100.0  \n",
       "Lager                            0.0  100.0  100.0  100.0  100.0  100.0  \n",
       "Lambic                           0.0  100.0  100.0  100.0  100.0  100.0  \n",
       "Low Alcohol Beer                 0.0  100.0  100.0  100.0  100.0  100.0  \n",
       "NEIPA                            0.0  100.0  100.0  100.0  100.0  100.0  \n",
       "Pilsner                          0.0  100.0  100.0  100.0  100.0  100.0  \n",
       "Porter                           0.0  100.0  100.0  100.0  100.0  100.0  \n",
       "Pumpkin Beer                     0.0  100.0  100.0  100.0  100.0  100.0  \n",
       "Quadrupel                        0.0  100.0  100.0  100.0  100.0  100.0  \n",
       "Rice                             0.0  100.0  100.0  100.0  100.0  100.0  \n",
       "Rye                              0.0  100.0  100.0  100.0  100.0  100.0  \n",
       "Sahti                            0.0  100.0  100.0  100.0  100.0  100.0  \n",
       "Saison                           0.0  100.0  100.0  100.0  100.0  100.0  \n",
       "Smoked                           0.0  100.0  100.0  100.0  100.0  100.0  \n",
       "Sour                             0.0  100.0  100.0  100.0  100.0  100.0  \n",
       "Steam Beer                       0.0  100.0  100.0  100.0  100.0  100.0  \n",
       "Stout                            0.0  100.0  100.0  100.0  100.0  100.0  \n",
       "Tripel                           0.0  100.0  100.0  100.0  100.0  100.0  \n",
       "Wheat                            0.0  100.0  100.0  100.0  100.0  100.0  \n",
       "Winter Warmer                    0.0  100.0  100.0  100.0  100.0  100.0  "
      ]
     },
     "execution_count": 133,
     "metadata": {},
     "output_type": "execute_result"
    }
   ],
   "source": [
    "results = test_prediction(model)\n",
    "\n",
    "\n",
    "results.groupby('style')[['matching_percent', 'matching_substyle']].agg('describe')\n"
   ]
  }
 ],
 "metadata": {
  "kernelspec": {
   "display_name": "Python 3 (ipykernel)",
   "language": "python",
   "name": "python3"
  },
  "language_info": {
   "codemirror_mode": {
    "name": "ipython",
    "version": 3
   },
   "file_extension": ".py",
   "mimetype": "text/x-python",
   "name": "python",
   "nbconvert_exporter": "python",
   "pygments_lexer": "ipython3",
   "version": "3.8.6"
  },
  "toc": {
   "base_numbering": 1,
   "nav_menu": {},
   "number_sections": true,
   "sideBar": true,
   "skip_h1_title": false,
   "title_cell": "Table of Contents",
   "title_sidebar": "Contents",
   "toc_cell": false,
   "toc_position": {},
   "toc_section_display": true,
   "toc_window_display": true
  }
 },
 "nbformat": 4,
 "nbformat_minor": 5
}
