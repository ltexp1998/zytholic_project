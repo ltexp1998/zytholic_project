{
 "cells": [
  {
   "cell_type": "code",
   "execution_count": 1,
   "id": "4ec57203",
   "metadata": {
    "ExecuteTime": {
     "end_time": "2021-08-30T12:37:01.855590Z",
     "start_time": "2021-08-30T12:37:01.766493Z"
    }
   },
   "outputs": [],
   "source": [
    "%load_ext autoreload\n",
    "%autoreload 2"
   ]
  },
  {
   "cell_type": "code",
   "execution_count": 2,
   "id": "3680c6df",
   "metadata": {
    "ExecuteTime": {
     "end_time": "2021-08-30T12:37:25.271245Z",
     "start_time": "2021-08-30T12:37:01.860510Z"
    }
   },
   "outputs": [],
   "source": [
    "import pandas as pd\n",
    "import numpy as np\n",
    "import matplotlib.pyplot as plt\n",
    "\n",
    "from sklearn import set_config; set_config(display='diagram')\n",
    "\n",
    "from sklearn.model_selection import train_test_split\n",
    "from sklearn.preprocessing import MinMaxScaler, OneHotEncoder, StandardScaler, RobustScaler\n",
    "from sklearn.pipeline import make_pipeline, Pipeline\n",
    "from sklearn.cluster import KMeans\n",
    "from sklearn.impute import SimpleImputer\n",
    "from sklearn.compose import ColumnTransformer, make_column_transformer\n",
    "from sklearn.metrics.pairwise import sigmoid_kernel, cosine_similarity, linear_kernel\n",
    "\n",
    "from zytholic_project.base_model import BaseModel\n",
    "from zytholic_project.evaluate import evaluate_proximity, get_recommendations, test_prediction"
   ]
  },
  {
   "cell_type": "code",
   "execution_count": 4,
   "id": "fd6a83a3",
   "metadata": {
    "ExecuteTime": {
     "end_time": "2021-08-30T07:49:22.682652Z",
     "start_time": "2021-08-30T07:49:21.394836Z"
    }
   },
   "outputs": [],
   "source": [
    "dfbrew = pd.read_csv(\"../raw_data/Beers_Breweries_and_Beer Reviews/breweries.csv\")\n",
    "dfbeer = pd.read_csv(\"../raw_data/beers_style_renamed.csv\")\n",
    "dftop = pd.read_csv(\"../raw_data/top_beer_info_style_renamed.csv\")"
   ]
  },
  {
   "cell_type": "code",
   "execution_count": 21,
   "id": "ee576bc6",
   "metadata": {
    "ExecuteTime": {
     "end_time": "2021-08-30T09:30:04.432959Z",
     "start_time": "2021-08-30T09:30:04.361877Z"
    }
   },
   "outputs": [
    {
     "data": {
      "text/html": [
       "<div>\n",
       "<style scoped>\n",
       "    .dataframe tbody tr th:only-of-type {\n",
       "        vertical-align: middle;\n",
       "    }\n",
       "\n",
       "    .dataframe tbody tr th {\n",
       "        vertical-align: top;\n",
       "    }\n",
       "\n",
       "    .dataframe thead th {\n",
       "        text-align: right;\n",
       "    }\n",
       "</style>\n",
       "<table border=\"1\" class=\"dataframe\">\n",
       "  <thead>\n",
       "    <tr style=\"text-align: right;\">\n",
       "      <th></th>\n",
       "      <th>name</th>\n",
       "      <th>key</th>\n",
       "      <th>style</th>\n",
       "      <th>style key</th>\n",
       "      <th>brewery</th>\n",
       "      <th>description</th>\n",
       "      <th>abv</th>\n",
       "      <th>ave rating</th>\n",
       "      <th>min ibu</th>\n",
       "      <th>max ibu</th>\n",
       "      <th>...</th>\n",
       "      <th>body</th>\n",
       "      <th>alcohol</th>\n",
       "      <th>bitter</th>\n",
       "      <th>sweet</th>\n",
       "      <th>sour</th>\n",
       "      <th>salty</th>\n",
       "      <th>fruits</th>\n",
       "      <th>hoppy</th>\n",
       "      <th>spices</th>\n",
       "      <th>malty</th>\n",
       "    </tr>\n",
       "  </thead>\n",
       "  <tbody>\n",
       "    <tr>\n",
       "      <th>0</th>\n",
       "      <td>Amber</td>\n",
       "      <td>251</td>\n",
       "      <td>Altbier</td>\n",
       "      <td>8</td>\n",
       "      <td>Alaskan Brewing Co.</td>\n",
       "      <td>Notes:Richly malty and long on the palate, wit...</td>\n",
       "      <td>5.3</td>\n",
       "      <td>3.65</td>\n",
       "      <td>25</td>\n",
       "      <td>50</td>\n",
       "      <td>...</td>\n",
       "      <td>32</td>\n",
       "      <td>9</td>\n",
       "      <td>47</td>\n",
       "      <td>74</td>\n",
       "      <td>33</td>\n",
       "      <td>0</td>\n",
       "      <td>33</td>\n",
       "      <td>57</td>\n",
       "      <td>8</td>\n",
       "      <td>111</td>\n",
       "    </tr>\n",
       "    <tr>\n",
       "      <th>1</th>\n",
       "      <td>Double Bag</td>\n",
       "      <td>252</td>\n",
       "      <td>Altbier</td>\n",
       "      <td>8</td>\n",
       "      <td>Long Trail Brewing Co.</td>\n",
       "      <td>Notes:This malty, full-bodied double alt is al...</td>\n",
       "      <td>7.2</td>\n",
       "      <td>3.90</td>\n",
       "      <td>25</td>\n",
       "      <td>50</td>\n",
       "      <td>...</td>\n",
       "      <td>57</td>\n",
       "      <td>18</td>\n",
       "      <td>33</td>\n",
       "      <td>55</td>\n",
       "      <td>16</td>\n",
       "      <td>0</td>\n",
       "      <td>24</td>\n",
       "      <td>35</td>\n",
       "      <td>12</td>\n",
       "      <td>84</td>\n",
       "    </tr>\n",
       "    <tr>\n",
       "      <th>2</th>\n",
       "      <td>Long Trail Ale</td>\n",
       "      <td>253</td>\n",
       "      <td>Altbier</td>\n",
       "      <td>8</td>\n",
       "      <td>Long Trail Brewing Co.</td>\n",
       "      <td>Notes:Long Trail Ale is a full-bodied amber al...</td>\n",
       "      <td>5.0</td>\n",
       "      <td>3.58</td>\n",
       "      <td>25</td>\n",
       "      <td>50</td>\n",
       "      <td>...</td>\n",
       "      <td>37</td>\n",
       "      <td>6</td>\n",
       "      <td>42</td>\n",
       "      <td>43</td>\n",
       "      <td>11</td>\n",
       "      <td>0</td>\n",
       "      <td>10</td>\n",
       "      <td>54</td>\n",
       "      <td>4</td>\n",
       "      <td>62</td>\n",
       "    </tr>\n",
       "    <tr>\n",
       "      <th>3</th>\n",
       "      <td>Doppelsticke</td>\n",
       "      <td>254</td>\n",
       "      <td>Altbier</td>\n",
       "      <td>8</td>\n",
       "      <td>Uerige Obergärige Hausbrauerei</td>\n",
       "      <td>Notes:</td>\n",
       "      <td>8.5</td>\n",
       "      <td>4.15</td>\n",
       "      <td>25</td>\n",
       "      <td>50</td>\n",
       "      <td>...</td>\n",
       "      <td>55</td>\n",
       "      <td>31</td>\n",
       "      <td>47</td>\n",
       "      <td>101</td>\n",
       "      <td>18</td>\n",
       "      <td>1</td>\n",
       "      <td>49</td>\n",
       "      <td>40</td>\n",
       "      <td>16</td>\n",
       "      <td>119</td>\n",
       "    </tr>\n",
       "    <tr>\n",
       "      <th>4</th>\n",
       "      <td>Scurry</td>\n",
       "      <td>255</td>\n",
       "      <td>Altbier</td>\n",
       "      <td>8</td>\n",
       "      <td>Off Color Brewing</td>\n",
       "      <td>Notes:Just cause it's dark and German doesn't ...</td>\n",
       "      <td>5.3</td>\n",
       "      <td>3.67</td>\n",
       "      <td>25</td>\n",
       "      <td>50</td>\n",
       "      <td>...</td>\n",
       "      <td>69</td>\n",
       "      <td>10</td>\n",
       "      <td>63</td>\n",
       "      <td>120</td>\n",
       "      <td>14</td>\n",
       "      <td>0</td>\n",
       "      <td>19</td>\n",
       "      <td>36</td>\n",
       "      <td>15</td>\n",
       "      <td>218</td>\n",
       "    </tr>\n",
       "  </tbody>\n",
       "</table>\n",
       "<p>5 rows × 21 columns</p>\n",
       "</div>"
      ],
      "text/plain": [
       "             name  key    style  style key                         brewery  \\\n",
       "0           Amber  251  Altbier          8             Alaskan Brewing Co.   \n",
       "1      Double Bag  252  Altbier          8          Long Trail Brewing Co.   \n",
       "2  Long Trail Ale  253  Altbier          8          Long Trail Brewing Co.   \n",
       "3    Doppelsticke  254  Altbier          8  Uerige Obergärige Hausbrauerei   \n",
       "4          Scurry  255  Altbier          8               Off Color Brewing   \n",
       "\n",
       "                                         description  abv  ave rating  \\\n",
       "0  Notes:Richly malty and long on the palate, wit...  5.3        3.65   \n",
       "1  Notes:This malty, full-bodied double alt is al...  7.2        3.90   \n",
       "2  Notes:Long Trail Ale is a full-bodied amber al...  5.0        3.58   \n",
       "3                                             Notes:  8.5        4.15   \n",
       "4  Notes:Just cause it's dark and German doesn't ...  5.3        3.67   \n",
       "\n",
       "   min ibu  max ibu  ...  body  alcohol  bitter  sweet  sour  salty  fruits  \\\n",
       "0       25       50  ...    32        9      47     74    33      0      33   \n",
       "1       25       50  ...    57       18      33     55    16      0      24   \n",
       "2       25       50  ...    37        6      42     43    11      0      10   \n",
       "3       25       50  ...    55       31      47    101    18      1      49   \n",
       "4       25       50  ...    69       10      63    120    14      0      19   \n",
       "\n",
       "   hoppy  spices  malty  \n",
       "0     57       8    111  \n",
       "1     35      12     84  \n",
       "2     54       4     62  \n",
       "3     40      16    119  \n",
       "4     36      15    218  \n",
       "\n",
       "[5 rows x 21 columns]"
      ]
     },
     "execution_count": 21,
     "metadata": {},
     "output_type": "execute_result"
    }
   ],
   "source": [
    "dftop.head()"
   ]
  },
  {
   "cell_type": "code",
   "execution_count": null,
   "id": "eb37ec94",
   "metadata": {
    "ExecuteTime": {
     "end_time": "2021-08-30T07:48:35.639452Z",
     "start_time": "2021-08-30T07:48:35.639410Z"
    }
   },
   "outputs": [],
   "source": [
    "#read correspondance brewery\n",
    "corres_xls = pd.read_csv('../assets/matching_brewery_names.csv')\n",
    "corres_xls.set_index('bbr', inplace=True)\n",
    "corres= corres_xls.to_dict()\n",
    "#corres[0]"
   ]
  },
  {
   "cell_type": "code",
   "execution_count": null,
   "id": "26cb4b1c",
   "metadata": {},
   "outputs": [],
   "source": [
    "dfbrew = dfbrew.rename(columns={\"name\": \"brewery\"})\n",
    "dfbrew = dfbrew.rename(columns={\"id\": \"brewery_id\"})\n",
    "\n",
    "\n",
    "dfbrewb =  pd.merge(dfbeer,dfbrew[['brewery_id','brewery']],how='left',on=['brewery_id'])\n",
    "\n",
    "dftopbrew = pd.merge(dftop,dfbrewb[['name', 'brewery', 'state', 'country', 'retired']],\n",
    "                     how='inner',on=['name','brewery'])"
   ]
  },
  {
   "cell_type": "code",
   "execution_count": null,
   "id": "b52c3892",
   "metadata": {},
   "outputs": [],
   "source": [
    "working_df = dftopbrew.drop(['description', 'key', 'style key'], axis= 1).drop_duplicates()\n",
    "print(working_df.shape)\n",
    "working_df = working_df[working_df.retired == 'f']\n",
    "working_df.shape\n",
    "#working_df['style'] = [st.split(' - ')[0] for st in working_df['style']]\n",
    "\n",
    "working_df_train, working_df_test = train_test_split(working_df, test_size=0.2, stratify=working_df['style'])\n"
   ]
  },
  {
   "cell_type": "code",
   "execution_count": null,
   "id": "88222593",
   "metadata": {},
   "outputs": [],
   "source": [
    "working_df.sample(5)"
   ]
  },
  {
   "cell_type": "markdown",
   "id": "00147e46",
   "metadata": {},
   "source": [
    "# Pipeline"
   ]
  },
  {
   "cell_type": "code",
   "execution_count": null,
   "id": "eb3f5774",
   "metadata": {},
   "outputs": [],
   "source": [
    "tastes_features = working_df.select_dtypes(np.number).columns[2:]\n",
    "tastes_features\n",
    "\n",
    "pipe_style_country = make_pipeline(OneHotEncoder(sparse=False, handle_unknown='ignore'))\n",
    "pipe_abv_rating = make_pipeline(MinMaxScaler())\n",
    "pipe_taste_features = make_pipeline(MinMaxScaler())\n",
    "pipe_state = make_pipeline(\n",
    "    SimpleImputer(strategy='constant', fill_value=''),\n",
    "    OneHotEncoder(sparse=False, handle_unknown='ignore')\n",
    ")\n",
    "\n",
    "preprocess = make_column_transformer(\n",
    "    (pipe_style_country, ['style', \n",
    "                          #'country'\n",
    "                         ]),\n",
    "    #(pipe_state, ['state']),\n",
    "    (pipe_abv_rating, ['abv', 'ave rating']),\n",
    "    (pipe_taste_features, tastes_features)\n",
    ")"
   ]
  },
  {
   "cell_type": "code",
   "execution_count": null,
   "id": "49899a41",
   "metadata": {},
   "outputs": [],
   "source": [
    "preprocess"
   ]
  },
  {
   "cell_type": "code",
   "execution_count": null,
   "id": "8c4eee69",
   "metadata": {},
   "outputs": [],
   "source": [
    "preprocess.fit(X_train)\n",
    "X_train_proc = preprocess.transform(X_train)\n",
    "X_test_proc = preprocess.transform(X_test)"
   ]
  },
  {
   "cell_type": "code",
   "execution_count": null,
   "id": "55d02090",
   "metadata": {},
   "outputs": [],
   "source": [
    "X_train_proc.shape, X_test_proc.shape"
   ]
  },
  {
   "cell_type": "markdown",
   "id": "3d9f4d89",
   "metadata": {},
   "source": [
    "# Inertia calculations"
   ]
  },
  {
   "cell_type": "code",
   "execution_count": null,
   "id": "945f6183",
   "metadata": {},
   "outputs": [],
   "source": [
    "\n",
    "inertias2 = []\n",
    "for k in range(30, 100):\n",
    "    res = KMeans(n_clusters=k)\n",
    "    res.fit(X)\n",
    "    inertias.append(res.inertia_)"
   ]
  },
  {
   "cell_type": "code",
   "execution_count": null,
   "id": "79bba1b6",
   "metadata": {},
   "outputs": [],
   "source": [
    "plt.plot(range(3, 100),inertias)"
   ]
  },
  {
   "cell_type": "code",
   "execution_count": null,
   "id": "5730688a",
   "metadata": {},
   "outputs": [],
   "source": [
    "inertias2 = []\n",
    "for k in range(10, 30):\n",
    "    res = KMeans(n_clusters=k)\n",
    "    res.fit(X)\n",
    "    inertias2.append(res.inertia_)"
   ]
  },
  {
   "cell_type": "code",
   "execution_count": null,
   "id": "23f77211",
   "metadata": {},
   "outputs": [],
   "source": [
    "plt.plot(range(10, 30),inertias2)"
   ]
  },
  {
   "cell_type": "code",
   "execution_count": null,
   "id": "d16d1012",
   "metadata": {},
   "outputs": [],
   "source": [
    "cluster = KMeans(n_clusters=20)\n",
    "cluster.fit(X)"
   ]
  },
  {
   "cell_type": "code",
   "execution_count": null,
   "id": "536853e3",
   "metadata": {},
   "outputs": [],
   "source": [
    "X_test['group'] = cluster.predict(y)"
   ]
  },
  {
   "cell_type": "code",
   "execution_count": null,
   "id": "9aadb1b3",
   "metadata": {},
   "outputs": [],
   "source": [
    "X_test.group.value_counts()"
   ]
  },
  {
   "cell_type": "markdown",
   "id": "55e89caa",
   "metadata": {},
   "source": [
    "# BaseModel Class usage"
   ]
  },
  {
   "cell_type": "code",
   "execution_count": null,
   "id": "b90b36a9",
   "metadata": {},
   "outputs": [],
   "source": [
    "model = BaseModel()\n",
    "\n",
    "model.get_data()\n",
    "\n",
    "model.set_preprocess_pipeline()\n",
    "\n",
    "model.process_data()\n",
    "\n",
    "\n",
    "# compute sigmoid distance\n",
    "sigmoid = sigmoid_kernel(\n",
    "    model.X_train_proc,\n",
    "    model.X_train_proc\n",
    ")\n",
    "\n",
    "#base_results = evaluate_proximity(model.X_train, sigmoid)"
   ]
  },
  {
   "cell_type": "code",
   "execution_count": null,
   "id": "936ef496",
   "metadata": {},
   "outputs": [],
   "source": [
    "inertias2 = []\n",
    "for k in range(155, 256, 5):\n",
    "    res = model.fit(clusts= k)\n",
    "    inertias2.append(res.kmeans_fit.inertia_)"
   ]
  },
  {
   "cell_type": "code",
   "execution_count": null,
   "id": "a6ee6833",
   "metadata": {},
   "outputs": [],
   "source": [
    "plt.plot(range(155, 256, 5), inertias2)"
   ]
  },
  {
   "cell_type": "code",
   "execution_count": null,
   "id": "33c8ce33",
   "metadata": {},
   "outputs": [],
   "source": []
  },
  {
   "cell_type": "code",
   "execution_count": null,
   "id": "2a82f1a0",
   "metadata": {},
   "outputs": [],
   "source": [
    "base_results.plot.scatter(x='style', y='matching_percent')"
   ]
  },
  {
   "cell_type": "code",
   "execution_count": null,
   "id": "3aded538",
   "metadata": {},
   "outputs": [],
   "source": [
    "base_results.describe().T"
   ]
  },
  {
   "cell_type": "code",
   "execution_count": null,
   "id": "fbdbd338",
   "metadata": {},
   "outputs": [],
   "source": [
    "df.sample(10)"
   ]
  },
  {
   "cell_type": "code",
   "execution_count": null,
   "id": "ce73e088",
   "metadata": {},
   "outputs": [],
   "source": [
    "final_style.sort_values('matching_percent', ascending=False).tail(20)"
   ]
  },
  {
   "cell_type": "code",
   "execution_count": null,
   "id": "ab6ef0af",
   "metadata": {},
   "outputs": [],
   "source": [
    "final_style.sort_values('matching_percent', ascending=False).head(20)"
   ]
  },
  {
   "cell_type": "code",
   "execution_count": null,
   "id": "e8445f37",
   "metadata": {},
   "outputs": [],
   "source": [
    "def reformat_styles(working_df, ohe=True):\n",
    "    \"\"\"\n",
    "    Simplify the columns 'style' of an input DF\n",
    "    Converts various features insides style name to OHE features\n",
    "    \"\"\"\n",
    "    # specific columns to implement\n",
    "    features_to_implement = ['milk', 'old', 'dark', 'wild', 'pale', 'red', 'imperial']\n",
    "\n",
    "    # Get matching table for styles names and format it\n",
    "    style_xls = pd.read_excel('../assets/style_convert.xlsx')\n",
    "    style_xls.columns = style_xls.iloc[0, :]\n",
    "    style_xls = style_xls.iloc[1:, 1:]\n",
    "\n",
    "\n",
    "    # creation of a dictionary to replace automatically\n",
    "    style_dict = style_xls.set_index('Converted').to_dict()\n",
    "    style_dict = style_dict['Simplified']\n",
    "    style_dict\n",
    "\n",
    "    #styles_test = working_df[['style']].drop_duplicates()\n",
    "\n",
    "    working_df['simple_style'] = working_df['style'].replace(style_dict)\n",
    "    \n",
    "    # One-Hot-Encoding of featrues_to_implement\n",
    "    if ohe:\n",
    "        for feat in features_to_implement:\n",
    "            working_df[feat] = [1 if feat in elm.lower() else 0 for elm in working_df['style']]\n",
    "        \n",
    "    working_df.rename(columns={'style':'original_style', 'simple_style':'style'}, inplace=True)\n",
    "\n",
    "    return working_df"
   ]
  },
  {
   "cell_type": "markdown",
   "id": "69ae9770",
   "metadata": {},
   "source": [
    "# Evaluation of average recommended style"
   ]
  },
  {
   "cell_type": "code",
   "execution_count": null,
   "id": "a24624c7",
   "metadata": {},
   "outputs": [],
   "source": [
    "reformated_df = reformat_styles(working_df)\n",
    "\n",
    "preprocess.fit(reformated_df)\n",
    "\n",
    "X_train = preprocess.transform(reformated_df)\n",
    "\n",
    "sigmoid = sigmoid_kernel(X_train, X_train)\n",
    "\n",
    "results = evaluate_proximity(working_df, sigmoid)"
   ]
  },
  {
   "cell_type": "markdown",
   "id": "bc7a3b01",
   "metadata": {},
   "source": [
    "Results with fearture_to_impelement OHE + Simple style"
   ]
  },
  {
   "cell_type": "code",
   "execution_count": null,
   "id": "c09d6967",
   "metadata": {},
   "outputs": [],
   "source": [
    "results.plot.scatter(x='style', y='matching_percent')"
   ]
  },
  {
   "cell_type": "code",
   "execution_count": null,
   "id": "345e1892",
   "metadata": {},
   "outputs": [],
   "source": [
    "results.describe().T"
   ]
  },
  {
   "cell_type": "markdown",
   "id": "26c4e68f",
   "metadata": {},
   "source": [
    "Results without fearture_to_impelement OHE + Simple style"
   ]
  },
  {
   "cell_type": "code",
   "execution_count": null,
   "id": "307fd17a",
   "metadata": {},
   "outputs": [],
   "source": [
    "reformated_df = reformat_styles(working_df, ohe=False)\n",
    "\n",
    "preprocess.fit(reformated_df)\n",
    "\n",
    "X_train = preprocess.transform(reformated_df)\n",
    "\n",
    "sigmoid = sigmoid_kernel(X_train, X_train)\n",
    "\n",
    "results = evaluate_proximity(working_df, sigmoid)"
   ]
  },
  {
   "cell_type": "code",
   "execution_count": null,
   "id": "ac177c6f",
   "metadata": {},
   "outputs": [],
   "source": [
    "results.plot.scatter(x='style', y='matching_percent')"
   ]
  },
  {
   "cell_type": "code",
   "execution_count": null,
   "id": "d5004297",
   "metadata": {},
   "outputs": [],
   "source": [
    "results.describe().T"
   ]
  },
  {
   "cell_type": "code",
   "execution_count": null,
   "id": "9f52dcd1",
   "metadata": {},
   "outputs": [],
   "source": [
    "results['style'].nunique()"
   ]
  },
  {
   "cell_type": "markdown",
   "id": "4f9e9fa4",
   "metadata": {},
   "source": [
    "Notes:\n",
    "    \n",
    "    10 beers in recommendations might be to hight\n",
    "    try to reduce id to 5\n",
    "    \n",
    "    Also increase number of samples to test from"
   ]
  },
  {
   "cell_type": "code",
   "execution_count": null,
   "id": "e2b57119",
   "metadata": {},
   "outputs": [],
   "source": [
    "reformated_df = working_df_train\n",
    "preprocess.fit(reformated_df)\n",
    "X_train = preprocess.transform(reformated_df)\n",
    "sigmoid = sigmoid_kernel(X_train, X_train)\n",
    "\n",
    "base_results = evaluate_proximity(working_df_train,  n_recomm=10, tests=30, sim_matrix=sigmoid)"
   ]
  },
  {
   "cell_type": "code",
   "execution_count": null,
   "id": "ecf90da7",
   "metadata": {},
   "outputs": [],
   "source": [
    "base_results.plot.scatter(x='style', y='matching_percent')"
   ]
  },
  {
   "cell_type": "code",
   "execution_count": null,
   "id": "c966b518",
   "metadata": {},
   "outputs": [],
   "source": [
    "base_results.describe().T"
   ]
  },
  {
   "cell_type": "code",
   "execution_count": null,
   "id": "37099609",
   "metadata": {},
   "outputs": [],
   "source": [
    "base_results"
   ]
  },
  {
   "cell_type": "code",
   "execution_count": null,
   "id": "8cbc45ea",
   "metadata": {},
   "outputs": [],
   "source": [
    "reformated_df = reformat_styles(working_df_train)\n",
    "preprocess.fit(reformated_df)\n",
    "X_train = preprocess.transform(reformated_df)\n",
    "sigmoid = sigmoid_kernel(X_train, X_train)\n",
    "\n",
    "results = evaluate_proximity(working_df_train,  n_recomm=5, tests=30, sim_matrix=sigmoid)"
   ]
  },
  {
   "cell_type": "code",
   "execution_count": null,
   "id": "ed59fdec",
   "metadata": {},
   "outputs": [],
   "source": [
    "results.plot.scatter(x='style', y='matching_percent')"
   ]
  },
  {
   "cell_type": "code",
   "execution_count": null,
   "id": "c1dd97d3",
   "metadata": {},
   "outputs": [],
   "source": [
    "results.describe().T"
   ]
  },
  {
   "cell_type": "code",
   "execution_count": null,
   "id": "442aa2f3",
   "metadata": {},
   "outputs": [],
   "source": [
    "reformated_df = reformat_styles(working_df_train, ohe=False)\n",
    "preprocess.fit(reformated_df)\n",
    "X_train = preprocess.transform(reformated_df)\n",
    "sigmoid = sigmoid_kernel(X_train, X_train)\n",
    "\n",
    "results = evaluate_proximity(working_df_train,  n_recomm=5, tests=30, sim_matrix=sigmoid)"
   ]
  },
  {
   "cell_type": "code",
   "execution_count": null,
   "id": "983433ca",
   "metadata": {},
   "outputs": [],
   "source": [
    "results.plot.scatter(x='style', y='matching_percent')"
   ]
  },
  {
   "cell_type": "code",
   "execution_count": null,
   "id": "15cd153d",
   "metadata": {},
   "outputs": [],
   "source": [
    "results.describe().T"
   ]
  },
  {
   "cell_type": "code",
   "execution_count": null,
   "id": "38d32969",
   "metadata": {},
   "outputs": [],
   "source": [
    "X_train.shape"
   ]
  },
  {
   "cell_type": "code",
   "execution_count": null,
   "id": "3ea1b837",
   "metadata": {},
   "outputs": [],
   "source": [
    "working_df_train"
   ]
  },
  {
   "cell_type": "markdown",
   "id": "3246cde2",
   "metadata": {},
   "source": [
    "# Comparison of similarity metrics"
   ]
  },
  {
   "cell_type": "code",
   "execution_count": null,
   "id": "01b44847",
   "metadata": {},
   "outputs": [],
   "source": [
    "model = BaseModel()\n",
    "\n",
    "model.get_data()\n",
    "\n",
    "model.set_preprocess_pipeline()\n",
    "\n",
    "model.process_data()"
   ]
  },
  {
   "cell_type": "code",
   "execution_count": null,
   "id": "99f09fdd",
   "metadata": {},
   "outputs": [],
   "source": [
    "# compute sigmoid distance\n",
    "sigmoid = sigmoid_kernel(\n",
    "    model.X_train_proc,\n",
    "    model.X_train_proc\n",
    ")\n",
    "\n",
    "sig_results = evaluate_proximity(model.X_train,  n_recomm=5, tests=30, sim_matrix=sigmoid)\n",
    "sig_results.describe().T"
   ]
  },
  {
   "cell_type": "code",
   "execution_count": null,
   "id": "ceed8a0d",
   "metadata": {},
   "outputs": [],
   "source": [
    "cosine = cosine_similarity(\n",
    "    model.X_train_proc,\n",
    "    model.X_train_proc\n",
    ")\n",
    "\n",
    "cosine_results = evaluate_proximity(model.X_train,  n_recomm=5, tests=30, sim_matrix=cosine)\n",
    "cosine_results.describe().T"
   ]
  },
  {
   "cell_type": "code",
   "execution_count": null,
   "id": "79e6ed34",
   "metadata": {},
   "outputs": [],
   "source": [
    "linear = linear_kernel(\n",
    "    model.X_train_proc,\n",
    "    model.X_train_proc\n",
    ")\n",
    "\n",
    "linear_results = evaluate_proximity(model.X_train,  n_recomm=5, tests=30, sim_matrix=linear)\n",
    "linear_results.describe().T"
   ]
  },
  {
   "cell_type": "markdown",
   "id": "356c1ccc",
   "metadata": {},
   "source": [
    "# Predictions for beers in the test set"
   ]
  },
  {
   "cell_type": "code",
   "execution_count": null,
   "id": "0618d90f",
   "metadata": {},
   "outputs": [],
   "source": [
    "def test_prediction(model, n_recomm = 10):\n",
    "    \n",
    "    # Use the features to calculate kernel (calculate all distances at once?)\n",
    "    sigmoid = cosine_similarity(model.X_test_proc, model.X_train_proc)\n",
    "\n",
    "    matching_results = []\n",
    "    substyles = []\n",
    "    # Predict the closest beers in reference dataset\n",
    "    for idx in range(sigmoid.shape[0]):\n",
    "        distances = sigmoid[idx, :]\n",
    "        sorted_distances = sorted(\n",
    "                list(enumerate(distances)),\n",
    "                key=lambda x:x[1],reverse=True)\n",
    "        # get the top n predictions\n",
    "        closest_items = sorted_distances[0:n_recomm+1]\n",
    "        beers_indices = [i[0] for i in closest_items]\n",
    "        \n",
    "        # check original_style == predict_style percentage\n",
    "        original_style = model.X_test[\"style\"].iloc[idx]\n",
    "        propositions = model.X_train.iloc[beers_indices, :]\n",
    "        matching_percent = propositions[propositions['style'] == original_style].shape[0]\\\n",
    "            / propositions.shape[0] * 100\n",
    "        matching_results.append(matching_percent)\n",
    "        \n",
    "        #compare substyle matching\n",
    "        original_substyle = model.X_test.iloc[idx, -7:]\n",
    "        comp = propositions.iloc[:, -7:]\n",
    "        substyle_match = ((original_substyle == comp).sum()/ comp.shape[0]).min()\n",
    "        substyles.append(substyle_match)\n",
    "    \n",
    "    results = model.X_test.copy()\n",
    "    results['matching_percent'] = matching_results\n",
    "    results['substyle'] = substyles\n",
    "    return results"
   ]
  },
  {
   "cell_type": "code",
   "execution_count": null,
   "id": "76004b5f",
   "metadata": {},
   "outputs": [],
   "source": [
    "results = test_prediction(model)\n",
    "\n",
    "\n",
    "results.groupby('style')[['matching_percent', 'substyle']].agg('describe')"
   ]
  },
  {
   "cell_type": "code",
   "execution_count": null,
   "id": "d771189d",
   "metadata": {},
   "outputs": [],
   "source": [
    "a = model.X_train.iloc[0, -7:]\n",
    "\n",
    "b = model.X_train.iloc[0:20, -7:]"
   ]
  },
  {
   "cell_type": "code",
   "execution_count": null,
   "id": "28e3d33d",
   "metadata": {},
   "outputs": [],
   "source": [
    "((a == b).sum() / b.shape[0])"
   ]
  },
  {
   "cell_type": "code",
   "execution_count": null,
   "id": "6623cb3b",
   "metadata": {},
   "outputs": [],
   "source": [
    "results = test_prediction(model)\n",
    "\n",
    "\n",
    "results.groupby('style')[['matching_percent', 'matching_substyle']].agg('describe')\n"
   ]
  },
  {
   "cell_type": "markdown",
   "id": "8bf18b10",
   "metadata": {},
   "source": [
    "# Api Call Functions"
   ]
  }
 ],
 "metadata": {
  "kernelspec": {
   "display_name": "Python 3 (ipykernel)",
   "language": "python",
   "name": "python3"
  },
  "language_info": {
   "codemirror_mode": {
    "name": "ipython",
    "version": 3
   },
   "file_extension": ".py",
   "mimetype": "text/x-python",
   "name": "python",
   "nbconvert_exporter": "python",
   "pygments_lexer": "ipython3",
   "version": "3.8.6"
  },
  "toc": {
   "base_numbering": 1,
   "nav_menu": {},
   "number_sections": true,
   "sideBar": true,
   "skip_h1_title": false,
   "title_cell": "Table of Contents",
   "title_sidebar": "Contents",
   "toc_cell": false,
   "toc_position": {},
   "toc_section_display": true,
   "toc_window_display": true
  }
 },
 "nbformat": 4,
 "nbformat_minor": 5
}
