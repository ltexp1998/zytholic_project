{
 "cells": [
  {
   "cell_type": "code",
   "execution_count": 90,
   "id": "3680c6df",
   "metadata": {
    "ExecuteTime": {
     "end_time": "2021-08-24T15:20:52.739991Z",
     "start_time": "2021-08-24T15:20:52.710630Z"
    }
   },
   "outputs": [],
   "source": [
    "import pandas as pd\n",
    "import numpy as np\n",
    "import matplotlib.pyplot as plt\n",
    "\n",
    "from sklearn import set_config; set_config(display='diagram')\n",
    "\n",
    "from sklearn.model_selection import train_test_split\n",
    "from sklearn.preprocessing import MinMaxScaler, OneHotEncoder, StandardScaler, RobustScaler\n",
    "from sklearn.pipeline import make_pipeline, Pipeline\n",
    "from sklearn.cluster import KMeans\n",
    "from sklearn.impute import SimpleImputer\n",
    "from sklearn.compose import ColumnTransformer, make_column_transformer"
   ]
  },
  {
   "cell_type": "code",
   "execution_count": 2,
   "id": "fd6a83a3",
   "metadata": {
    "ExecuteTime": {
     "end_time": "2021-08-24T13:43:20.178119Z",
     "start_time": "2021-08-24T13:43:18.206576Z"
    }
   },
   "outputs": [],
   "source": [
    "dfbrew = pd.read_csv(\"../raw_data/Beers_Breweries_and_Beer Reviews/breweries.csv\")\n",
    "dfbeer = pd.read_csv(\"../raw_data/beers_style_renamed.csv\")\n",
    "dftop = pd.read_csv(\"../raw_data/top_beer_info_style_renamed.csv\")"
   ]
  },
  {
   "cell_type": "code",
   "execution_count": 3,
   "id": "eb37ec94",
   "metadata": {
    "ExecuteTime": {
     "end_time": "2021-08-24T13:43:23.171031Z",
     "start_time": "2021-08-24T13:43:20.182752Z"
    }
   },
   "outputs": [
    {
     "name": "stderr",
     "output_type": "stream",
     "text": [
      "/Users/alix/.pyenv/versions/3.8.6/envs/zytholic_project/lib/python3.8/site-packages/openpyxl/worksheet/_reader.py:312: UserWarning: Unknown extension is not supported and will be removed\n",
      "  warn(msg)\n"
     ]
    },
    {
     "data": {
      "text/plain": [
       "{'Hops and Grain Brewery': 'Hops & Grain Brewing',\n",
       " 'Crazy Mountain Brewing Company': 'Crazy Mountain Brewery',\n",
       " 'French Broad Brewing Co.': 'French Broad River Brewing',\n",
       " 'Anheuser-Busch': 'Budweiser Brewing Group UK&I',\n",
       " 'Timothy Taylor & Co. Limited': \"Timothy Taylor's Brewery\",\n",
       " 'Andean Brewing Company': 'Andean Brewing Company / Nap Time Liquid Creation',\n",
       " 'Paulaner Brauerei GmbH & Co. KG': 'Paulaner Brauerei',\n",
       " 'Augustiner-Bräu Wagner KG': 'Augustiner-Bräu',\n",
       " 'Hanseatische Getränke-Industrie (HGI) Holsten-Brauerei AG': 'Holsten-Brauerei',\n",
       " 'Spoetzl Brewery / Shiner': 'Spoetzl Brewery',\n",
       " 'Perrin Brewery': 'Perrin Brewing Co.',\n",
       " 'Brauerei Ladenburger GmbH': 'Brauerei Ladenburger',\n",
       " 'Other Half Brewing Co.': 'Other Half Brewing Company',\n",
       " 'Gentse Stadsbrouwerij': 'Gentse Gruut Brouwerij',\n",
       " 'Atlantic Brewing Company / Mainely Meat BBQ': 'Atlantic Brewing Company',\n",
       " 'Indeed Brewing Company': 'Indeed Brewing Company - Minneapolis',\n",
       " 'Big Storm Brewing Company': 'Big Storm Brewing Company - Odessa',\n",
       " \"Marston's PLC\": \"Marston's Plc.\",\n",
       " 'Dixie Brewing Co.': 'Dixie Beer',\n",
       " 'Flensburger Brauerei GmbH Und Co. KG': 'Flensburger Brauerei',\n",
       " 'Oettinger Brauerei': 'Oettinger Brauerei GmbH',\n",
       " '\\x8eŽatecký Pivovar': 'Žatecký Pivovar',\n",
       " 'Privatbrauerei und Mineralbrunnenbetrieb H. Egerer': 'Privatbrauerei H. Egerer',\n",
       " 'Kaiser Bräu GmbH & Co KG': 'Kaiser Bräu',\n",
       " 'Silver City Brewing Co.': 'Silver City Brewing Co. / Silver City Restaurant & Ale House',\n",
       " 'Prost Brewing Company': 'Prost Brewing Co. - Denver',\n",
       " 'Yee-haw Brewing Co.': 'Yee-Haw Brewing Co.',\n",
       " 'Gänstaller-Bräu': 'Gänstaller Braumanufaktur',\n",
       " 'Bokkereyder': 'Bokke',\n",
       " 'Privatbrauerei Eichbaum GmbH & Co. KG': 'Privatbrauerei Eichbaum',\n",
       " 'Brauerei Gebrüder Maisel GmbH & Co.': 'Brauerei Gebrüder Maisel',\n",
       " 'Machine House Brewery': 'Machine House Brewery - Georgetown',\n",
       " 'Karlovaċka Pivovara': 'Karlovačko Pivovara',\n",
       " 'Friesisches Brauhaus zu Jever GmbH & Co KG': 'Friesisches Brauhaus zu Jever',\n",
       " 'Propeller Brewery': 'Propeller',\n",
       " '18th Street Brewery': '18th Street Brewery - Gary Taproom',\n",
       " 'The Brew Bus Terminal & Brewery': 'Brew Bus Brewing',\n",
       " \"Three Notch'd Brewing Company\": \"Three Notch'd Brewing Company - Charlottesville Brewery & Restaurant\",\n",
       " \"Brouwerij 't Verzet / Café Loca\": \"Brouwerij 't Verzet\"}"
      ]
     },
     "execution_count": 3,
     "metadata": {},
     "output_type": "execute_result"
    }
   ],
   "source": [
    "#read correspondance brewery\n",
    "corres_xls = pd.read_excel('../assets/correspondance_breweryclean2.xlsx')\n",
    "corres_xls.drop(columns='Unnamed: 0', inplace=True)\n",
    "corres_xls.set_index(1, inplace=True)\n",
    "corres= corres_xls.to_dict()\n",
    "corres[0]"
   ]
  },
  {
   "cell_type": "code",
   "execution_count": 26,
   "id": "26cb4b1c",
   "metadata": {
    "ExecuteTime": {
     "end_time": "2021-08-24T14:06:32.124170Z",
     "start_time": "2021-08-24T14:06:30.198078Z"
    }
   },
   "outputs": [],
   "source": [
    "dfbrew = dfbrew.rename(columns={\"name\": \"brewery\"})\n",
    "dfbrew = dfbrew.rename(columns={\"id\": \"brewery_id\"})\n",
    "\n",
    "dfbrew['brewery'].replace(corres[0], inplace=True)\n",
    "\n",
    "dfbrewb =  pd.merge(dfbeer,dfbrew[['brewery_id','brewery']],how='left',on=['brewery_id'])\n",
    "\n",
    "dftopbrew = pd.merge(dftop,dfbrewb[['name', 'brewery', 'state', 'country', 'retired']],\n",
    "                     how='inner',on=['name','brewery'])"
   ]
  },
  {
   "cell_type": "code",
   "execution_count": 44,
   "id": "b52c3892",
   "metadata": {
    "ExecuteTime": {
     "end_time": "2021-08-24T14:24:01.496485Z",
     "start_time": "2021-08-24T14:24:01.441504Z"
    }
   },
   "outputs": [
    {
     "name": "stdout",
     "output_type": "stream",
     "text": [
      "(4377, 21)\n"
     ]
    }
   ],
   "source": [
    "working_df = dftopbrew.drop(['description', 'key', 'style key'], axis= 1).drop_duplicates()\n",
    "print(working_df.shape)\n",
    "working_df = working_df[working_df.retired == 'f']\n",
    "working_df.shape\n",
    "working_df['style'] = [st.split(' - ')[0] for st in working_df['style']]"
   ]
  },
  {
   "cell_type": "code",
   "execution_count": 46,
   "id": "dbac4386",
   "metadata": {
    "ExecuteTime": {
     "end_time": "2021-08-24T14:25:00.935698Z",
     "start_time": "2021-08-24T14:25:00.902186Z"
    }
   },
   "outputs": [
    {
     "data": {
      "text/plain": [
       "89"
      ]
     },
     "execution_count": 46,
     "metadata": {},
     "output_type": "execute_result"
    }
   ],
   "source": [
    "working_df['style'].nunique()"
   ]
  },
  {
   "cell_type": "code",
   "execution_count": 50,
   "id": "da736614",
   "metadata": {
    "ExecuteTime": {
     "end_time": "2021-08-24T14:28:29.159078Z",
     "start_time": "2021-08-24T14:28:29.145035Z"
    }
   },
   "outputs": [
    {
     "data": {
      "text/plain": [
       "(1315, 64, 60)"
      ]
     },
     "execution_count": 50,
     "metadata": {},
     "output_type": "execute_result"
    }
   ],
   "source": [
    "working_df.brewery.nunique(),working_df.state.nunique(), working_df.country.nunique()\n"
   ]
  },
  {
   "cell_type": "code",
   "execution_count": 73,
   "id": "f535cae8",
   "metadata": {
    "ExecuteTime": {
     "end_time": "2021-08-24T15:06:49.752353Z",
     "start_time": "2021-08-24T15:06:49.727357Z"
    }
   },
   "outputs": [
    {
     "data": {
      "text/plain": [
       "Index(['name', 'style', 'brewery', 'abv', 'ave rating', 'min ibu', 'max ibu',\n",
       "       'astringency', 'body', 'alcohol', 'bitter', 'sweet', 'sour', 'salty',\n",
       "       'fruits', 'hoppy', 'spices', 'malty', 'state', 'country', 'retired'],\n",
       "      dtype='object')"
      ]
     },
     "execution_count": 73,
     "metadata": {},
     "output_type": "execute_result"
    }
   ],
   "source": [
    "working_df.columns"
   ]
  },
  {
   "cell_type": "code",
   "execution_count": 57,
   "id": "6eb0a07b",
   "metadata": {
    "ExecuteTime": {
     "end_time": "2021-08-24T14:35:13.802844Z",
     "start_time": "2021-08-24T14:35:13.789576Z"
    }
   },
   "outputs": [
    {
     "data": {
      "text/plain": [
       "array(['Altbier', 'Barleywine', 'Bitter Strong', 'Bitter',\n",
       "       'Bière de Champagne / Bière Brut', 'Ale Blonde', 'Doppelbock',\n",
       "       'Eisbock', 'Maibock', 'Bock', 'Weizenbock', 'Braggot', 'Brett',\n",
       "       'Ale Brown', 'Steam Beer', 'Beer', 'Ale Cream', 'Dubbel',\n",
       "       'Bière de Garde', 'Sahti', 'Saison', 'Fruit and Field Beer',\n",
       "       'Ale Gruit / Ancient Herbed', 'Happoshu', 'Herb and Spice Beer',\n",
       "       'IPA', 'NEIPA', 'Kvass', 'Kölsch', 'Lager', 'Lager Red Amber',\n",
       "       'Lager Dark', 'Lager Pale', 'Lager Strong', 'Lager Helles',\n",
       "       'Lager India Pale', 'Lager Rice', 'Lager Kellerbier / Zwickelbier',\n",
       "       'Lager Light', 'Malt Liquor', 'Lager Munich Dunkel',\n",
       "       'Lager Märzen / Oktoberfest', 'Lager Rauchbier',\n",
       "       'Lager Schwarzbier', 'Faro', 'Lambic Fruit- Belgian', 'Gueuze',\n",
       "       'Lambic', 'Low Alcohol Beer', 'Ale Dark Mild', 'Ale Pale',\n",
       "       'Ale Old', 'Pilsener Bohemian', 'Pilsner', 'Porter',\n",
       "       'Porter Baltic', 'Porter Imperial', 'Porter Robust',\n",
       "       'Porter Smoked', 'Pumpkin Beer', 'Quadrupel', 'Ale Red',\n",
       "       'Ale Red Imperial', 'Rye Beer', 'Ale', 'Smoked',\n",
       "       'Sour Berliner Weisse', 'Sour Oud Bruin', 'Sour Red Ale',\n",
       "       'Sour Gose', 'Stout Imperial', 'Stout', 'Stout Dry',\n",
       "       'Stout Oatmeal', 'Stout Russian Imperial', 'Stout Milk',\n",
       "       'Ale Strong', 'Ale Strong Dark', 'Ale Strong Pale', 'Tripel',\n",
       "       'Wheat Dark', 'Wheat Pale', 'Wheat Dunkelweizen',\n",
       "       'Wheat Beer Hefeweizen', 'Wheat Beer Kristallweizen',\n",
       "       'Wheat Beer Wheatwine', 'Wheat Beer Witbier', 'Ale Wild',\n",
       "       'Winter Warmer'], dtype=object)"
      ]
     },
     "execution_count": 57,
     "metadata": {},
     "output_type": "execute_result"
    }
   ],
   "source": [
    "working_df['style'].unique()"
   ]
  },
  {
   "cell_type": "code",
   "execution_count": 62,
   "id": "f530c49f",
   "metadata": {
    "ExecuteTime": {
     "end_time": "2021-08-24T14:49:20.548872Z",
     "start_time": "2021-08-24T14:49:20.492559Z"
    }
   },
   "outputs": [
    {
     "data": {
      "text/plain": [
       "Index(['min ibu', 'max ibu', 'astringency', 'body', 'alcohol', 'bitter',\n",
       "       'sweet', 'sour', 'salty', 'fruits', 'hoppy', 'spices', 'malty'],\n",
       "      dtype='object')"
      ]
     },
     "execution_count": 62,
     "metadata": {},
     "output_type": "execute_result"
    }
   ],
   "source": [
    "tastes_features = working_df.select_dtypes(np.number).columns[2:]\n",
    "tastes_features"
   ]
  },
  {
   "cell_type": "code",
   "execution_count": 108,
   "id": "3841cc8a",
   "metadata": {
    "ExecuteTime": {
     "end_time": "2021-08-24T15:40:41.905936Z",
     "start_time": "2021-08-24T15:40:41.827082Z"
    }
   },
   "outputs": [
    {
     "data": {
      "text/html": [
       "<div>\n",
       "<style scoped>\n",
       "    .dataframe tbody tr th:only-of-type {\n",
       "        vertical-align: middle;\n",
       "    }\n",
       "\n",
       "    .dataframe tbody tr th {\n",
       "        vertical-align: top;\n",
       "    }\n",
       "\n",
       "    .dataframe thead th {\n",
       "        text-align: right;\n",
       "    }\n",
       "</style>\n",
       "<table border=\"1\" class=\"dataframe\">\n",
       "  <thead>\n",
       "    <tr style=\"text-align: right;\">\n",
       "      <th></th>\n",
       "      <th>name</th>\n",
       "      <th>style</th>\n",
       "      <th>brewery</th>\n",
       "      <th>abv</th>\n",
       "      <th>ave rating</th>\n",
       "      <th>min ibu</th>\n",
       "      <th>max ibu</th>\n",
       "      <th>astringency</th>\n",
       "      <th>body</th>\n",
       "      <th>alcohol</th>\n",
       "      <th>...</th>\n",
       "      <th>sweet</th>\n",
       "      <th>sour</th>\n",
       "      <th>salty</th>\n",
       "      <th>fruits</th>\n",
       "      <th>hoppy</th>\n",
       "      <th>spices</th>\n",
       "      <th>malty</th>\n",
       "      <th>state</th>\n",
       "      <th>country</th>\n",
       "      <th>retired</th>\n",
       "    </tr>\n",
       "  </thead>\n",
       "  <tbody>\n",
       "    <tr>\n",
       "      <th>704</th>\n",
       "      <td>Get Up Offa That Brown</td>\n",
       "      <td>Ale Brown</td>\n",
       "      <td>Golden Road Brewing</td>\n",
       "      <td>5.50</td>\n",
       "      <td>3.72</td>\n",
       "      <td>15</td>\n",
       "      <td>25</td>\n",
       "      <td>6</td>\n",
       "      <td>70</td>\n",
       "      <td>8</td>\n",
       "      <td>...</td>\n",
       "      <td>68</td>\n",
       "      <td>11</td>\n",
       "      <td>0</td>\n",
       "      <td>8</td>\n",
       "      <td>42</td>\n",
       "      <td>7</td>\n",
       "      <td>155</td>\n",
       "      <td>CA</td>\n",
       "      <td>US</td>\n",
       "      <td>f</td>\n",
       "    </tr>\n",
       "    <tr>\n",
       "      <th>2008</th>\n",
       "      <td>Pious Monk Dunkel</td>\n",
       "      <td>Lager Munich Dunkel</td>\n",
       "      <td>Church Brew Works</td>\n",
       "      <td>4.30</td>\n",
       "      <td>3.61</td>\n",
       "      <td>15</td>\n",
       "      <td>25</td>\n",
       "      <td>22</td>\n",
       "      <td>55</td>\n",
       "      <td>7</td>\n",
       "      <td>...</td>\n",
       "      <td>91</td>\n",
       "      <td>23</td>\n",
       "      <td>0</td>\n",
       "      <td>48</td>\n",
       "      <td>31</td>\n",
       "      <td>10</td>\n",
       "      <td>121</td>\n",
       "      <td>PA</td>\n",
       "      <td>US</td>\n",
       "      <td>f</td>\n",
       "    </tr>\n",
       "    <tr>\n",
       "      <th>421</th>\n",
       "      <td>Gruffmeister 8</td>\n",
       "      <td>Maibock</td>\n",
       "      <td>Foothills Brewing Company - Downtown Brewpub</td>\n",
       "      <td>8.00</td>\n",
       "      <td>3.64</td>\n",
       "      <td>20</td>\n",
       "      <td>38</td>\n",
       "      <td>19</td>\n",
       "      <td>34</td>\n",
       "      <td>38</td>\n",
       "      <td>...</td>\n",
       "      <td>54</td>\n",
       "      <td>25</td>\n",
       "      <td>1</td>\n",
       "      <td>23</td>\n",
       "      <td>42</td>\n",
       "      <td>3</td>\n",
       "      <td>89</td>\n",
       "      <td>NC</td>\n",
       "      <td>US</td>\n",
       "      <td>f</td>\n",
       "    </tr>\n",
       "    <tr>\n",
       "      <th>2651</th>\n",
       "      <td>Imperial Spruce India Pilsner</td>\n",
       "      <td>Pilsner</td>\n",
       "      <td>Short's Brewing Company</td>\n",
       "      <td>7.15</td>\n",
       "      <td>4.00</td>\n",
       "      <td>30</td>\n",
       "      <td>65</td>\n",
       "      <td>14</td>\n",
       "      <td>25</td>\n",
       "      <td>15</td>\n",
       "      <td>...</td>\n",
       "      <td>11</td>\n",
       "      <td>8</td>\n",
       "      <td>2</td>\n",
       "      <td>17</td>\n",
       "      <td>95</td>\n",
       "      <td>2</td>\n",
       "      <td>19</td>\n",
       "      <td>MI</td>\n",
       "      <td>US</td>\n",
       "      <td>f</td>\n",
       "    </tr>\n",
       "    <tr>\n",
       "      <th>2744</th>\n",
       "      <td>Caramelized Chocolate Churro Baltic Porter</td>\n",
       "      <td>Porter Baltic</td>\n",
       "      <td>Moody Tongue Brewing Company</td>\n",
       "      <td>7.00</td>\n",
       "      <td>3.99</td>\n",
       "      <td>25</td>\n",
       "      <td>45</td>\n",
       "      <td>13</td>\n",
       "      <td>106</td>\n",
       "      <td>4</td>\n",
       "      <td>...</td>\n",
       "      <td>102</td>\n",
       "      <td>13</td>\n",
       "      <td>2</td>\n",
       "      <td>6</td>\n",
       "      <td>10</td>\n",
       "      <td>33</td>\n",
       "      <td>113</td>\n",
       "      <td>IL</td>\n",
       "      <td>US</td>\n",
       "      <td>f</td>\n",
       "    </tr>\n",
       "    <tr>\n",
       "      <th>...</th>\n",
       "      <td>...</td>\n",
       "      <td>...</td>\n",
       "      <td>...</td>\n",
       "      <td>...</td>\n",
       "      <td>...</td>\n",
       "      <td>...</td>\n",
       "      <td>...</td>\n",
       "      <td>...</td>\n",
       "      <td>...</td>\n",
       "      <td>...</td>\n",
       "      <td>...</td>\n",
       "      <td>...</td>\n",
       "      <td>...</td>\n",
       "      <td>...</td>\n",
       "      <td>...</td>\n",
       "      <td>...</td>\n",
       "      <td>...</td>\n",
       "      <td>...</td>\n",
       "      <td>...</td>\n",
       "      <td>...</td>\n",
       "      <td>...</td>\n",
       "    </tr>\n",
       "    <tr>\n",
       "      <th>3395</th>\n",
       "      <td>Gypsy Tart</td>\n",
       "      <td>Sour Oud Bruin</td>\n",
       "      <td>Bruery Terreux</td>\n",
       "      <td>8.40</td>\n",
       "      <td>3.92</td>\n",
       "      <td>20</td>\n",
       "      <td>25</td>\n",
       "      <td>25</td>\n",
       "      <td>37</td>\n",
       "      <td>10</td>\n",
       "      <td>...</td>\n",
       "      <td>75</td>\n",
       "      <td>123</td>\n",
       "      <td>1</td>\n",
       "      <td>73</td>\n",
       "      <td>12</td>\n",
       "      <td>7</td>\n",
       "      <td>43</td>\n",
       "      <td>CA</td>\n",
       "      <td>US</td>\n",
       "      <td>f</td>\n",
       "    </tr>\n",
       "    <tr>\n",
       "      <th>964</th>\n",
       "      <td>Valhalla</td>\n",
       "      <td>Sahti</td>\n",
       "      <td>El Rancho Brewing Company</td>\n",
       "      <td>7.60</td>\n",
       "      <td>3.99</td>\n",
       "      <td>0</td>\n",
       "      <td>0</td>\n",
       "      <td>0</td>\n",
       "      <td>0</td>\n",
       "      <td>0</td>\n",
       "      <td>...</td>\n",
       "      <td>0</td>\n",
       "      <td>0</td>\n",
       "      <td>0</td>\n",
       "      <td>0</td>\n",
       "      <td>0</td>\n",
       "      <td>0</td>\n",
       "      <td>0</td>\n",
       "      <td>CO</td>\n",
       "      <td>US</td>\n",
       "      <td>f</td>\n",
       "    </tr>\n",
       "    <tr>\n",
       "      <th>1243</th>\n",
       "      <td>Thai Style White IPA</td>\n",
       "      <td>IPA</td>\n",
       "      <td>Upslope Brewing Company - Lee Hill</td>\n",
       "      <td>6.50</td>\n",
       "      <td>3.74</td>\n",
       "      <td>50</td>\n",
       "      <td>80</td>\n",
       "      <td>20</td>\n",
       "      <td>29</td>\n",
       "      <td>20</td>\n",
       "      <td>...</td>\n",
       "      <td>12</td>\n",
       "      <td>48</td>\n",
       "      <td>3</td>\n",
       "      <td>48</td>\n",
       "      <td>105</td>\n",
       "      <td>78</td>\n",
       "      <td>24</td>\n",
       "      <td>CO</td>\n",
       "      <td>US</td>\n",
       "      <td>f</td>\n",
       "    </tr>\n",
       "    <tr>\n",
       "      <th>851</th>\n",
       "      <td>Père Jacques</td>\n",
       "      <td>Dubbel</td>\n",
       "      <td>Goose Island Beer Co.</td>\n",
       "      <td>8.70</td>\n",
       "      <td>3.94</td>\n",
       "      <td>15</td>\n",
       "      <td>30</td>\n",
       "      <td>8</td>\n",
       "      <td>44</td>\n",
       "      <td>18</td>\n",
       "      <td>...</td>\n",
       "      <td>106</td>\n",
       "      <td>20</td>\n",
       "      <td>0</td>\n",
       "      <td>67</td>\n",
       "      <td>13</td>\n",
       "      <td>15</td>\n",
       "      <td>79</td>\n",
       "      <td>IL</td>\n",
       "      <td>US</td>\n",
       "      <td>f</td>\n",
       "    </tr>\n",
       "    <tr>\n",
       "      <th>40</th>\n",
       "      <td>Creemore Springs Collaboration Altbier</td>\n",
       "      <td>Altbier</td>\n",
       "      <td>Creemore Springs Brewery Limited</td>\n",
       "      <td>5.00</td>\n",
       "      <td>3.64</td>\n",
       "      <td>25</td>\n",
       "      <td>50</td>\n",
       "      <td>26</td>\n",
       "      <td>61</td>\n",
       "      <td>6</td>\n",
       "      <td>...</td>\n",
       "      <td>69</td>\n",
       "      <td>27</td>\n",
       "      <td>0</td>\n",
       "      <td>22</td>\n",
       "      <td>73</td>\n",
       "      <td>8</td>\n",
       "      <td>144</td>\n",
       "      <td>ON</td>\n",
       "      <td>CA</td>\n",
       "      <td>f</td>\n",
       "    </tr>\n",
       "  </tbody>\n",
       "</table>\n",
       "<p>3243 rows × 21 columns</p>\n",
       "</div>"
      ],
      "text/plain": [
       "                                            name                style  \\\n",
       "704                       Get Up Offa That Brown            Ale Brown   \n",
       "2008                           Pious Monk Dunkel  Lager Munich Dunkel   \n",
       "421                               Gruffmeister 8              Maibock   \n",
       "2651               Imperial Spruce India Pilsner              Pilsner   \n",
       "2744  Caramelized Chocolate Churro Baltic Porter        Porter Baltic   \n",
       "...                                          ...                  ...   \n",
       "3395                                  Gypsy Tart       Sour Oud Bruin   \n",
       "964                                     Valhalla                Sahti   \n",
       "1243                        Thai Style White IPA                  IPA   \n",
       "851                                 Père Jacques               Dubbel   \n",
       "40        Creemore Springs Collaboration Altbier              Altbier   \n",
       "\n",
       "                                           brewery   abv  ave rating  min ibu  \\\n",
       "704                            Golden Road Brewing  5.50        3.72       15   \n",
       "2008                             Church Brew Works  4.30        3.61       15   \n",
       "421   Foothills Brewing Company - Downtown Brewpub  8.00        3.64       20   \n",
       "2651                       Short's Brewing Company  7.15        4.00       30   \n",
       "2744                  Moody Tongue Brewing Company  7.00        3.99       25   \n",
       "...                                            ...   ...         ...      ...   \n",
       "3395                                Bruery Terreux  8.40        3.92       20   \n",
       "964                      El Rancho Brewing Company  7.60        3.99        0   \n",
       "1243            Upslope Brewing Company - Lee Hill  6.50        3.74       50   \n",
       "851                          Goose Island Beer Co.  8.70        3.94       15   \n",
       "40                Creemore Springs Brewery Limited  5.00        3.64       25   \n",
       "\n",
       "      max ibu  astringency  body  alcohol  ...  sweet  sour  salty  fruits  \\\n",
       "704        25            6    70        8  ...     68    11      0       8   \n",
       "2008       25           22    55        7  ...     91    23      0      48   \n",
       "421        38           19    34       38  ...     54    25      1      23   \n",
       "2651       65           14    25       15  ...     11     8      2      17   \n",
       "2744       45           13   106        4  ...    102    13      2       6   \n",
       "...       ...          ...   ...      ...  ...    ...   ...    ...     ...   \n",
       "3395       25           25    37       10  ...     75   123      1      73   \n",
       "964         0            0     0        0  ...      0     0      0       0   \n",
       "1243       80           20    29       20  ...     12    48      3      48   \n",
       "851        30            8    44       18  ...    106    20      0      67   \n",
       "40         50           26    61        6  ...     69    27      0      22   \n",
       "\n",
       "      hoppy  spices  malty  state country retired  \n",
       "704      42       7    155     CA      US       f  \n",
       "2008     31      10    121     PA      US       f  \n",
       "421      42       3     89     NC      US       f  \n",
       "2651     95       2     19     MI      US       f  \n",
       "2744     10      33    113     IL      US       f  \n",
       "...     ...     ...    ...    ...     ...     ...  \n",
       "3395     12       7     43     CA      US       f  \n",
       "964       0       0      0     CO      US       f  \n",
       "1243    105      78     24     CO      US       f  \n",
       "851      13      15     79     IL      US       f  \n",
       "40       73       8    144     ON      CA       f  \n",
       "\n",
       "[3243 rows x 21 columns]"
      ]
     },
     "execution_count": 108,
     "metadata": {},
     "output_type": "execute_result"
    }
   ],
   "source": [
    "X_train, X_test = train_test_split(working_df, test_size=0.25)\n",
    "X_train"
   ]
  },
  {
   "cell_type": "code",
   "execution_count": 109,
   "id": "1d0ee0dc",
   "metadata": {
    "ExecuteTime": {
     "end_time": "2021-08-24T15:40:47.361894Z",
     "start_time": "2021-08-24T15:40:47.337166Z"
    }
   },
   "outputs": [],
   "source": [
    "pipe_style_country = make_pipeline(OneHotEncoder(sparse=False, handle_unknown='ignore'))\n",
    "pipe_abv_rating = make_pipeline(StandardScaler())\n",
    "pipe_taste_features = make_pipeline(MinMaxScaler())\n",
    "pipe_state = make_pipeline(\n",
    "    SimpleImputer(strategy='constant', fill_value=''),\n",
    "    OneHotEncoder(sparse=False, handle_unknown='ignore')\n",
    ")\n",
    "\n",
    "preprocess = make_column_transformer(\n",
    "    (pipe_style_country, ['style', 'country']),\n",
    "    (pipe_state, ['state']),\n",
    "    (pipe_abv_rating, ['abv', 'ave rating']),\n",
    "    (pipe_taste_features, tastes_features)\n",
    "    \n",
    ")"
   ]
  },
  {
   "cell_type": "code",
   "execution_count": 110,
   "id": "8c4eee69",
   "metadata": {
    "ExecuteTime": {
     "end_time": "2021-08-24T15:40:51.758442Z",
     "start_time": "2021-08-24T15:40:51.544061Z"
    }
   },
   "outputs": [],
   "source": [
    "preprocess.fit(X_train)\n",
    "X = preprocess.transform(X_train)\n",
    "y = preprocess.transform(X_test)"
   ]
  },
  {
   "cell_type": "code",
   "execution_count": 111,
   "id": "55d02090",
   "metadata": {
    "ExecuteTime": {
     "end_time": "2021-08-24T15:40:51.988603Z",
     "start_time": "2021-08-24T15:40:51.952217Z"
    }
   },
   "outputs": [
    {
     "data": {
      "text/plain": [
       "((3243, 223), (1082, 223))"
      ]
     },
     "execution_count": 111,
     "metadata": {},
     "output_type": "execute_result"
    }
   ],
   "source": [
    "X.shape, y.shape"
   ]
  },
  {
   "cell_type": "code",
   "execution_count": 88,
   "id": "1da70bb0",
   "metadata": {
    "ExecuteTime": {
     "end_time": "2021-08-24T15:19:05.100228Z",
     "start_time": "2021-08-24T15:19:05.083518Z"
    }
   },
   "outputs": [
    {
     "data": {
      "text/plain": [
       "9889.049863757504"
      ]
     },
     "execution_count": 88,
     "metadata": {},
     "output_type": "execute_result"
    }
   ],
   "source": [
    "res.inertia_"
   ]
  },
  {
   "cell_type": "code",
   "execution_count": 96,
   "id": "945f6183",
   "metadata": {
    "ExecuteTime": {
     "end_time": "2021-08-24T15:32:16.150327Z",
     "start_time": "2021-08-24T15:25:10.623893Z"
    }
   },
   "outputs": [],
   "source": [
    "\n",
    "inertias2 = []\n",
    "for k in range(30, 100):\n",
    "    res = KMeans(n_clusters=k)\n",
    "    res.fit(X)\n",
    "    inertias.append(res.inertia_)"
   ]
  },
  {
   "cell_type": "code",
   "execution_count": 97,
   "id": "79bba1b6",
   "metadata": {
    "ExecuteTime": {
     "end_time": "2021-08-24T15:32:28.156522Z",
     "start_time": "2021-08-24T15:32:27.696241Z"
    }
   },
   "outputs": [
    {
     "data": {
      "text/plain": [
       "[<matplotlib.lines.Line2D at 0x133d0fb20>]"
      ]
     },
     "execution_count": 97,
     "metadata": {},
     "output_type": "execute_result"
    },
    {
     "data": {
      "image/png": "[encoded data removed]",
      "text/plain": [
       "<Figure size 432x288 with 1 Axes>"
      ]
     },
     "metadata": {
      "needs_background": "light"
     },
     "output_type": "display_data"
    }
   ],
   "source": [
    "plt.plot(range(3, 100),inertias)"
   ]
  },
  {
   "cell_type": "code",
   "execution_count": 112,
   "id": "5730688a",
   "metadata": {
    "ExecuteTime": {
     "end_time": "2021-08-24T15:42:01.389137Z",
     "start_time": "2021-08-24T15:41:06.243459Z"
    }
   },
   "outputs": [],
   "source": [
    "inertias2 = []\n",
    "for k in range(10, 30):\n",
    "    res = KMeans(n_clusters=k)\n",
    "    res.fit(X)\n",
    "    inertias2.append(res.inertia_)"
   ]
  },
  {
   "cell_type": "code",
   "execution_count": 113,
   "id": "23f77211",
   "metadata": {
    "ExecuteTime": {
     "end_time": "2021-08-24T15:42:02.155178Z",
     "start_time": "2021-08-24T15:42:01.412708Z"
    }
   },
   "outputs": [
    {
     "data": {
      "text/plain": [
       "[<matplotlib.lines.Line2D at 0x133b86550>]"
      ]
     },
     "execution_count": 113,
     "metadata": {},
     "output_type": "execute_result"
    },
    {
     "data": {
      "image/png": "[encoded data removed]",
      "text/plain": [
       "<Figure size 432x288 with 1 Axes>"
      ]
     },
     "metadata": {
      "needs_background": "light"
     },
     "output_type": "display_data"
    }
   ],
   "source": [
    "plt.plot(range(10, 30),inertias2)"
   ]
  },
  {
   "cell_type": "code",
   "execution_count": 114,
   "id": "d16d1012",
   "metadata": {
    "ExecuteTime": {
     "end_time": "2021-08-24T15:42:51.276420Z",
     "start_time": "2021-08-24T15:42:48.604637Z"
    }
   },
   "outputs": [
    {
     "data": {
      "text/html": [
       "<style>#sk-edb194b9-4be4-4f8c-a84f-9394a68cb2e9 {color: black;background-color: white;}#sk-edb194b9-4be4-4f8c-a84f-9394a68cb2e9 pre{padding: 0;}#sk-edb194b9-4be4-4f8c-a84f-9394a68cb2e9 div.sk-toggleable {background-color: white;}#sk-edb194b9-4be4-4f8c-a84f-9394a68cb2e9 label.sk-toggleable__label {cursor: pointer;display: block;width: 100%;margin-bottom: 0;padding: 0.2em 0.3em;box-sizing: border-box;text-align: center;}#sk-edb194b9-4be4-4f8c-a84f-9394a68cb2e9 div.sk-toggleable__content {max-height: 0;max-width: 0;overflow: hidden;text-align: left;background-color: #f0f8ff;}#sk-edb194b9-4be4-4f8c-a84f-9394a68cb2e9 div.sk-toggleable__content pre {margin: 0.2em;color: black;border-radius: 0.25em;background-color: #f0f8ff;}#sk-edb194b9-4be4-4f8c-a84f-9394a68cb2e9 input.sk-toggleable__control:checked~div.sk-toggleable__content {max-height: 200px;max-width: 100%;overflow: auto;}#sk-edb194b9-4be4-4f8c-a84f-9394a68cb2e9 div.sk-estimator input.sk-toggleable__control:checked~label.sk-toggleable__label {background-color: #d4ebff;}#sk-edb194b9-4be4-4f8c-a84f-9394a68cb2e9 div.sk-label input.sk-toggleable__control:checked~label.sk-toggleable__label {background-color: #d4ebff;}#sk-edb194b9-4be4-4f8c-a84f-9394a68cb2e9 input.sk-hidden--visually {border: 0;clip: rect(1px 1px 1px 1px);clip: rect(1px, 1px, 1px, 1px);height: 1px;margin: -1px;overflow: hidden;padding: 0;position: absolute;width: 1px;}#sk-edb194b9-4be4-4f8c-a84f-9394a68cb2e9 div.sk-estimator {font-family: monospace;background-color: #f0f8ff;margin: 0.25em 0.25em;border: 1px dotted black;border-radius: 0.25em;box-sizing: border-box;}#sk-edb194b9-4be4-4f8c-a84f-9394a68cb2e9 div.sk-estimator:hover {background-color: #d4ebff;}#sk-edb194b9-4be4-4f8c-a84f-9394a68cb2e9 div.sk-parallel-item::after {content: \"\";width: 100%;border-bottom: 1px solid gray;flex-grow: 1;}#sk-edb194b9-4be4-4f8c-a84f-9394a68cb2e9 div.sk-label:hover label.sk-toggleable__label {background-color: #d4ebff;}#sk-edb194b9-4be4-4f8c-a84f-9394a68cb2e9 div.sk-serial::before {content: \"\";position: absolute;border-left: 1px solid gray;box-sizing: border-box;top: 2em;bottom: 0;left: 50%;}#sk-edb194b9-4be4-4f8c-a84f-9394a68cb2e9 div.sk-serial {display: flex;flex-direction: column;align-items: center;background-color: white;}#sk-edb194b9-4be4-4f8c-a84f-9394a68cb2e9 div.sk-item {z-index: 1;}#sk-edb194b9-4be4-4f8c-a84f-9394a68cb2e9 div.sk-parallel {display: flex;align-items: stretch;justify-content: center;background-color: white;}#sk-edb194b9-4be4-4f8c-a84f-9394a68cb2e9 div.sk-parallel-item {display: flex;flex-direction: column;position: relative;background-color: white;}#sk-edb194b9-4be4-4f8c-a84f-9394a68cb2e9 div.sk-parallel-item:first-child::after {align-self: flex-end;width: 50%;}#sk-edb194b9-4be4-4f8c-a84f-9394a68cb2e9 div.sk-parallel-item:last-child::after {align-self: flex-start;width: 50%;}#sk-edb194b9-4be4-4f8c-a84f-9394a68cb2e9 div.sk-parallel-item:only-child::after {width: 0;}#sk-edb194b9-4be4-4f8c-a84f-9394a68cb2e9 div.sk-dashed-wrapped {border: 1px dashed gray;margin: 0.2em;box-sizing: border-box;padding-bottom: 0.1em;background-color: white;position: relative;}#sk-edb194b9-4be4-4f8c-a84f-9394a68cb2e9 div.sk-label label {font-family: monospace;font-weight: bold;background-color: white;display: inline-block;line-height: 1.2em;}#sk-edb194b9-4be4-4f8c-a84f-9394a68cb2e9 div.sk-label-container {position: relative;z-index: 2;text-align: center;}#sk-edb194b9-4be4-4f8c-a84f-9394a68cb2e9 div.sk-container {display: inline-block;position: relative;}</style><div id=\"sk-edb194b9-4be4-4f8c-a84f-9394a68cb2e9\" class\"sk-top-container\"><div class=\"sk-container\"><div class=\"sk-item\"><div class=\"sk-estimator sk-toggleable\"><input class=\"sk-toggleable__control sk-hidden--visually\" id=\"9194aaa6-2732-460e-88de-1f80e832b8e3\" type=\"checkbox\" checked><label class=\"sk-toggleable__label\" for=\"9194aaa6-2732-460e-88de-1f80e832b8e3\">KMeans</label><div class=\"sk-toggleable__content\"><pre>KMeans(n_clusters=20)</pre></div></div></div></div></div>"
      ],
      "text/plain": [
       "KMeans(n_clusters=20)"
      ]
     },
     "execution_count": 114,
     "metadata": {},
     "output_type": "execute_result"
    }
   ],
   "source": [
    "cluster = KMeans(n_clusters=20)\n",
    "cluster.fit(X)"
   ]
  },
  {
   "cell_type": "code",
   "execution_count": 115,
   "id": "536853e3",
   "metadata": {
    "ExecuteTime": {
     "end_time": "2021-08-24T15:42:53.249196Z",
     "start_time": "2021-08-24T15:42:53.195137Z"
    }
   },
   "outputs": [
    {
     "name": "stderr",
     "output_type": "stream",
     "text": [
      "/var/folders/_5/s9wbxcy503dggw34b98btk9c0000gp/T/ipykernel_12698/319366407.py:1: SettingWithCopyWarning: \n",
      "A value is trying to be set on a copy of a slice from a DataFrame.\n",
      "Try using .loc[row_indexer,col_indexer] = value instead\n",
      "\n",
      "See the caveats in the documentation: https://pandas.pydata.org/pandas-docs/stable/user_guide/indexing.html#returning-a-view-versus-a-copy\n",
      "  X_test['group'] = cluster.predict(y)\n"
     ]
    }
   ],
   "source": [
    "X_test['group'] = cluster.predict(y)"
   ]
  },
  {
   "cell_type": "code",
   "execution_count": 121,
   "id": "9aadb1b3",
   "metadata": {
    "ExecuteTime": {
     "end_time": "2021-08-24T15:45:16.203241Z",
     "start_time": "2021-08-24T15:45:16.188594Z"
    }
   },
   "outputs": [
    {
     "data": {
      "text/plain": [
       "3     152\n",
       "6     106\n",
       "15    104\n",
       "12     83\n",
       "0      68\n",
       "11     64\n",
       "4      54\n",
       "7      54\n",
       "1      48\n",
       "18     45\n",
       "2      44\n",
       "8      43\n",
       "14     41\n",
       "10     40\n",
       "13     37\n",
       "9      33\n",
       "16     20\n",
       "5      19\n",
       "17     16\n",
       "19     11\n",
       "Name: group, dtype: int64"
      ]
     },
     "execution_count": 121,
     "metadata": {},
     "output_type": "execute_result"
    }
   ],
   "source": [
    "X_test.group.value_counts()"
   ]
  },
  {
   "cell_type": "code",
   "execution_count": 125,
   "id": "0b663cd8",
   "metadata": {
    "ExecuteTime": {
     "end_time": "2021-08-24T15:51:49.528599Z",
     "start_time": "2021-08-24T15:51:49.385208Z"
    }
   },
   "outputs": [
    {
     "data": {
      "text/html": [
       "<div>\n",
       "<style scoped>\n",
       "    .dataframe tbody tr th:only-of-type {\n",
       "        vertical-align: middle;\n",
       "    }\n",
       "\n",
       "    .dataframe tbody tr th {\n",
       "        vertical-align: top;\n",
       "    }\n",
       "\n",
       "    .dataframe thead th {\n",
       "        text-align: right;\n",
       "    }\n",
       "</style>\n",
       "<table border=\"1\" class=\"dataframe\">\n",
       "  <thead>\n",
       "    <tr style=\"text-align: right;\">\n",
       "      <th></th>\n",
       "      <th>name</th>\n",
       "      <th>style</th>\n",
       "      <th>brewery</th>\n",
       "      <th>abv</th>\n",
       "      <th>ave rating</th>\n",
       "      <th>min ibu</th>\n",
       "      <th>max ibu</th>\n",
       "      <th>astringency</th>\n",
       "      <th>body</th>\n",
       "      <th>alcohol</th>\n",
       "      <th>...</th>\n",
       "      <th>sour</th>\n",
       "      <th>salty</th>\n",
       "      <th>fruits</th>\n",
       "      <th>hoppy</th>\n",
       "      <th>spices</th>\n",
       "      <th>malty</th>\n",
       "      <th>state</th>\n",
       "      <th>country</th>\n",
       "      <th>retired</th>\n",
       "      <th>group</th>\n",
       "    </tr>\n",
       "  </thead>\n",
       "  <tbody>\n",
       "    <tr>\n",
       "      <th>1290</th>\n",
       "      <td>NetherWorld Cascadian Dark Ale</td>\n",
       "      <td>IPA</td>\n",
       "      <td>Flying Monkeys Craft Brewery</td>\n",
       "      <td>6.0</td>\n",
       "      <td>3.85</td>\n",
       "      <td>50</td>\n",
       "      <td>70</td>\n",
       "      <td>30</td>\n",
       "      <td>72</td>\n",
       "      <td>8</td>\n",
       "      <td>...</td>\n",
       "      <td>41</td>\n",
       "      <td>0</td>\n",
       "      <td>53</td>\n",
       "      <td>115</td>\n",
       "      <td>13</td>\n",
       "      <td>111</td>\n",
       "      <td>ON</td>\n",
       "      <td>CA</td>\n",
       "      <td>f</td>\n",
       "      <td>16</td>\n",
       "    </tr>\n",
       "    <tr>\n",
       "      <th>753</th>\n",
       "      <td>Slingshot</td>\n",
       "      <td>Steam Beer</td>\n",
       "      <td>Radical Road Brewing Co.</td>\n",
       "      <td>5.0</td>\n",
       "      <td>3.67</td>\n",
       "      <td>35</td>\n",
       "      <td>45</td>\n",
       "      <td>6</td>\n",
       "      <td>11</td>\n",
       "      <td>1</td>\n",
       "      <td>...</td>\n",
       "      <td>0</td>\n",
       "      <td>0</td>\n",
       "      <td>0</td>\n",
       "      <td>22</td>\n",
       "      <td>1</td>\n",
       "      <td>17</td>\n",
       "      <td>ON</td>\n",
       "      <td>CA</td>\n",
       "      <td>f</td>\n",
       "      <td>16</td>\n",
       "    </tr>\n",
       "    <tr>\n",
       "      <th>1071</th>\n",
       "      <td>Buenos Dias</td>\n",
       "      <td>Ale Gruit / Ancient Herbed</td>\n",
       "      <td>Beau's All Natural Brewing Company</td>\n",
       "      <td>4.5</td>\n",
       "      <td>3.71</td>\n",
       "      <td>0</td>\n",
       "      <td>0</td>\n",
       "      <td>15</td>\n",
       "      <td>13</td>\n",
       "      <td>1</td>\n",
       "      <td>...</td>\n",
       "      <td>63</td>\n",
       "      <td>26</td>\n",
       "      <td>72</td>\n",
       "      <td>25</td>\n",
       "      <td>4</td>\n",
       "      <td>23</td>\n",
       "      <td>ON</td>\n",
       "      <td>CA</td>\n",
       "      <td>f</td>\n",
       "      <td>16</td>\n",
       "    </tr>\n",
       "    <tr>\n",
       "      <th>737</th>\n",
       "      <td>33 Acres Of Life</td>\n",
       "      <td>Steam Beer</td>\n",
       "      <td>33 Acres Brewing Co.</td>\n",
       "      <td>4.8</td>\n",
       "      <td>3.78</td>\n",
       "      <td>35</td>\n",
       "      <td>45</td>\n",
       "      <td>5</td>\n",
       "      <td>4</td>\n",
       "      <td>4</td>\n",
       "      <td>...</td>\n",
       "      <td>4</td>\n",
       "      <td>0</td>\n",
       "      <td>4</td>\n",
       "      <td>10</td>\n",
       "      <td>5</td>\n",
       "      <td>11</td>\n",
       "      <td>BC</td>\n",
       "      <td>CA</td>\n",
       "      <td>f</td>\n",
       "      <td>16</td>\n",
       "    </tr>\n",
       "    <tr>\n",
       "      <th>841</th>\n",
       "      <td>Cosmic Cream Ale</td>\n",
       "      <td>Ale Cream</td>\n",
       "      <td>Cameron's Brewing Co.</td>\n",
       "      <td>5.0</td>\n",
       "      <td>3.27</td>\n",
       "      <td>10</td>\n",
       "      <td>22</td>\n",
       "      <td>11</td>\n",
       "      <td>63</td>\n",
       "      <td>10</td>\n",
       "      <td>...</td>\n",
       "      <td>29</td>\n",
       "      <td>2</td>\n",
       "      <td>27</td>\n",
       "      <td>37</td>\n",
       "      <td>14</td>\n",
       "      <td>74</td>\n",
       "      <td>ON</td>\n",
       "      <td>CA</td>\n",
       "      <td>f</td>\n",
       "      <td>16</td>\n",
       "    </tr>\n",
       "    <tr>\n",
       "      <th>3620</th>\n",
       "      <td>Martello Stout</td>\n",
       "      <td>Stout</td>\n",
       "      <td>Garrison Brewing Company</td>\n",
       "      <td>4.8</td>\n",
       "      <td>3.89</td>\n",
       "      <td>20</td>\n",
       "      <td>40</td>\n",
       "      <td>10</td>\n",
       "      <td>83</td>\n",
       "      <td>6</td>\n",
       "      <td>...</td>\n",
       "      <td>4</td>\n",
       "      <td>0</td>\n",
       "      <td>3</td>\n",
       "      <td>30</td>\n",
       "      <td>12</td>\n",
       "      <td>139</td>\n",
       "      <td>NS</td>\n",
       "      <td>CA</td>\n",
       "      <td>f</td>\n",
       "      <td>16</td>\n",
       "    </tr>\n",
       "    <tr>\n",
       "      <th>2778</th>\n",
       "      <td>Stranger Than Fiction</td>\n",
       "      <td>Porter</td>\n",
       "      <td>Collective Arts Brewing</td>\n",
       "      <td>5.5</td>\n",
       "      <td>4.01</td>\n",
       "      <td>20</td>\n",
       "      <td>30</td>\n",
       "      <td>19</td>\n",
       "      <td>113</td>\n",
       "      <td>10</td>\n",
       "      <td>...</td>\n",
       "      <td>16</td>\n",
       "      <td>0</td>\n",
       "      <td>18</td>\n",
       "      <td>49</td>\n",
       "      <td>21</td>\n",
       "      <td>137</td>\n",
       "      <td>ON</td>\n",
       "      <td>CA</td>\n",
       "      <td>f</td>\n",
       "      <td>16</td>\n",
       "    </tr>\n",
       "    <tr>\n",
       "      <th>1347</th>\n",
       "      <td>Dead Elephant</td>\n",
       "      <td>IPA</td>\n",
       "      <td>Railway City Brewing Company</td>\n",
       "      <td>6.5</td>\n",
       "      <td>3.58</td>\n",
       "      <td>35</td>\n",
       "      <td>60</td>\n",
       "      <td>22</td>\n",
       "      <td>34</td>\n",
       "      <td>12</td>\n",
       "      <td>...</td>\n",
       "      <td>57</td>\n",
       "      <td>0</td>\n",
       "      <td>75</td>\n",
       "      <td>90</td>\n",
       "      <td>8</td>\n",
       "      <td>63</td>\n",
       "      <td>ON</td>\n",
       "      <td>CA</td>\n",
       "      <td>f</td>\n",
       "      <td>16</td>\n",
       "    </tr>\n",
       "    <tr>\n",
       "      <th>1086</th>\n",
       "      <td>La Clef Des Champs</td>\n",
       "      <td>Ale Gruit / Ancient Herbed</td>\n",
       "      <td>Brasserie Dieu du Ciel!</td>\n",
       "      <td>5.0</td>\n",
       "      <td>3.54</td>\n",
       "      <td>0</td>\n",
       "      <td>0</td>\n",
       "      <td>1</td>\n",
       "      <td>4</td>\n",
       "      <td>1</td>\n",
       "      <td>...</td>\n",
       "      <td>1</td>\n",
       "      <td>0</td>\n",
       "      <td>1</td>\n",
       "      <td>17</td>\n",
       "      <td>1</td>\n",
       "      <td>11</td>\n",
       "      <td>QC</td>\n",
       "      <td>CA</td>\n",
       "      <td>f</td>\n",
       "      <td>16</td>\n",
       "    </tr>\n",
       "    <tr>\n",
       "      <th>33</th>\n",
       "      <td>Festivale</td>\n",
       "      <td>Altbier</td>\n",
       "      <td>Beau's All Natural Brewing Company</td>\n",
       "      <td>4.7</td>\n",
       "      <td>3.69</td>\n",
       "      <td>25</td>\n",
       "      <td>50</td>\n",
       "      <td>29</td>\n",
       "      <td>30</td>\n",
       "      <td>9</td>\n",
       "      <td>...</td>\n",
       "      <td>20</td>\n",
       "      <td>0</td>\n",
       "      <td>20</td>\n",
       "      <td>104</td>\n",
       "      <td>10</td>\n",
       "      <td>141</td>\n",
       "      <td>ON</td>\n",
       "      <td>CA</td>\n",
       "      <td>f</td>\n",
       "      <td>16</td>\n",
       "    </tr>\n",
       "    <tr>\n",
       "      <th>3629</th>\n",
       "      <td>Old School Stout</td>\n",
       "      <td>Stout</td>\n",
       "      <td>Tree Brewing</td>\n",
       "      <td>5.5</td>\n",
       "      <td>3.86</td>\n",
       "      <td>20</td>\n",
       "      <td>40</td>\n",
       "      <td>11</td>\n",
       "      <td>53</td>\n",
       "      <td>8</td>\n",
       "      <td>...</td>\n",
       "      <td>2</td>\n",
       "      <td>0</td>\n",
       "      <td>0</td>\n",
       "      <td>21</td>\n",
       "      <td>4</td>\n",
       "      <td>65</td>\n",
       "      <td>BC</td>\n",
       "      <td>CA</td>\n",
       "      <td>f</td>\n",
       "      <td>16</td>\n",
       "    </tr>\n",
       "    <tr>\n",
       "      <th>436</th>\n",
       "      <td>Creemore Springs UrBock</td>\n",
       "      <td>Bock</td>\n",
       "      <td>Creemore Springs Brewery Limited</td>\n",
       "      <td>6.0</td>\n",
       "      <td>3.65</td>\n",
       "      <td>20</td>\n",
       "      <td>30</td>\n",
       "      <td>9</td>\n",
       "      <td>54</td>\n",
       "      <td>11</td>\n",
       "      <td>...</td>\n",
       "      <td>18</td>\n",
       "      <td>0</td>\n",
       "      <td>29</td>\n",
       "      <td>45</td>\n",
       "      <td>9</td>\n",
       "      <td>115</td>\n",
       "      <td>ON</td>\n",
       "      <td>CA</td>\n",
       "      <td>f</td>\n",
       "      <td>16</td>\n",
       "    </tr>\n",
       "    <tr>\n",
       "      <th>1908</th>\n",
       "      <td>Creemore Springs Kellerbier</td>\n",
       "      <td>Lager Kellerbier / Zwickelbier</td>\n",
       "      <td>Creemore Springs Brewery Limited</td>\n",
       "      <td>5.0</td>\n",
       "      <td>3.91</td>\n",
       "      <td>20</td>\n",
       "      <td>40</td>\n",
       "      <td>24</td>\n",
       "      <td>42</td>\n",
       "      <td>9</td>\n",
       "      <td>...</td>\n",
       "      <td>48</td>\n",
       "      <td>0</td>\n",
       "      <td>44</td>\n",
       "      <td>78</td>\n",
       "      <td>15</td>\n",
       "      <td>62</td>\n",
       "      <td>ON</td>\n",
       "      <td>CA</td>\n",
       "      <td>f</td>\n",
       "      <td>16</td>\n",
       "    </tr>\n",
       "    <tr>\n",
       "      <th>2680</th>\n",
       "      <td>Belle Gueule Houblon</td>\n",
       "      <td>Pilsner</td>\n",
       "      <td>Brasseurs R.J.</td>\n",
       "      <td>6.2</td>\n",
       "      <td>3.43</td>\n",
       "      <td>30</td>\n",
       "      <td>65</td>\n",
       "      <td>8</td>\n",
       "      <td>4</td>\n",
       "      <td>3</td>\n",
       "      <td>...</td>\n",
       "      <td>4</td>\n",
       "      <td>0</td>\n",
       "      <td>3</td>\n",
       "      <td>36</td>\n",
       "      <td>1</td>\n",
       "      <td>8</td>\n",
       "      <td>QC</td>\n",
       "      <td>CA</td>\n",
       "      <td>f</td>\n",
       "      <td>16</td>\n",
       "    </tr>\n",
       "    <tr>\n",
       "      <th>1562</th>\n",
       "      <td>Creemore Springs Premium Lager</td>\n",
       "      <td>Lager Red Amber</td>\n",
       "      <td>Creemore Springs Brewery Limited</td>\n",
       "      <td>5.0</td>\n",
       "      <td>3.85</td>\n",
       "      <td>18</td>\n",
       "      <td>30</td>\n",
       "      <td>26</td>\n",
       "      <td>33</td>\n",
       "      <td>4</td>\n",
       "      <td>...</td>\n",
       "      <td>15</td>\n",
       "      <td>1</td>\n",
       "      <td>10</td>\n",
       "      <td>52</td>\n",
       "      <td>5</td>\n",
       "      <td>63</td>\n",
       "      <td>ON</td>\n",
       "      <td>CA</td>\n",
       "      <td>f</td>\n",
       "      <td>16</td>\n",
       "    </tr>\n",
       "    <tr>\n",
       "      <th>2335</th>\n",
       "      <td>Black Tusk Ale</td>\n",
       "      <td>Ale Dark Mild</td>\n",
       "      <td>Whistler Brewing Company</td>\n",
       "      <td>5.0</td>\n",
       "      <td>3.46</td>\n",
       "      <td>20</td>\n",
       "      <td>30</td>\n",
       "      <td>15</td>\n",
       "      <td>79</td>\n",
       "      <td>7</td>\n",
       "      <td>...</td>\n",
       "      <td>13</td>\n",
       "      <td>1</td>\n",
       "      <td>22</td>\n",
       "      <td>38</td>\n",
       "      <td>6</td>\n",
       "      <td>138</td>\n",
       "      <td>BC</td>\n",
       "      <td>CA</td>\n",
       "      <td>f</td>\n",
       "      <td>16</td>\n",
       "    </tr>\n",
       "    <tr>\n",
       "      <th>1344</th>\n",
       "      <td>Hops &amp; Robbers</td>\n",
       "      <td>IPA</td>\n",
       "      <td>Double Trouble Brewing Co.</td>\n",
       "      <td>5.7</td>\n",
       "      <td>3.51</td>\n",
       "      <td>35</td>\n",
       "      <td>60</td>\n",
       "      <td>14</td>\n",
       "      <td>28</td>\n",
       "      <td>6</td>\n",
       "      <td>...</td>\n",
       "      <td>48</td>\n",
       "      <td>0</td>\n",
       "      <td>59</td>\n",
       "      <td>90</td>\n",
       "      <td>3</td>\n",
       "      <td>53</td>\n",
       "      <td>ON</td>\n",
       "      <td>CA</td>\n",
       "      <td>f</td>\n",
       "      <td>16</td>\n",
       "    </tr>\n",
       "    <tr>\n",
       "      <th>1829</th>\n",
       "      <td>Mad &amp; Noisy Brewing Hops &amp; Bolts India Pale Lager</td>\n",
       "      <td>Lager India Pale</td>\n",
       "      <td>Creemore Springs Brewery Limited</td>\n",
       "      <td>5.3</td>\n",
       "      <td>3.49</td>\n",
       "      <td>30</td>\n",
       "      <td>70</td>\n",
       "      <td>25</td>\n",
       "      <td>32</td>\n",
       "      <td>13</td>\n",
       "      <td>...</td>\n",
       "      <td>57</td>\n",
       "      <td>0</td>\n",
       "      <td>64</td>\n",
       "      <td>108</td>\n",
       "      <td>3</td>\n",
       "      <td>56</td>\n",
       "      <td>ON</td>\n",
       "      <td>CA</td>\n",
       "      <td>f</td>\n",
       "      <td>16</td>\n",
       "    </tr>\n",
       "    <tr>\n",
       "      <th>2575</th>\n",
       "      <td>Steam Whistle Pilsner</td>\n",
       "      <td>Pilsener Bohemian</td>\n",
       "      <td>Steam Whistle Brewing</td>\n",
       "      <td>5.0</td>\n",
       "      <td>3.48</td>\n",
       "      <td>30</td>\n",
       "      <td>45</td>\n",
       "      <td>13</td>\n",
       "      <td>15</td>\n",
       "      <td>3</td>\n",
       "      <td>...</td>\n",
       "      <td>6</td>\n",
       "      <td>1</td>\n",
       "      <td>4</td>\n",
       "      <td>36</td>\n",
       "      <td>4</td>\n",
       "      <td>34</td>\n",
       "      <td>ON</td>\n",
       "      <td>CA</td>\n",
       "      <td>f</td>\n",
       "      <td>16</td>\n",
       "    </tr>\n",
       "    <tr>\n",
       "      <th>4231</th>\n",
       "      <td>Bitt à Tibi - Amos Kristall Witte</td>\n",
       "      <td>Wheat Beer Kristallweizen</td>\n",
       "      <td>Brasserie Belgh Brasse</td>\n",
       "      <td>5.0</td>\n",
       "      <td>3.27</td>\n",
       "      <td>10</td>\n",
       "      <td>15</td>\n",
       "      <td>0</td>\n",
       "      <td>0</td>\n",
       "      <td>0</td>\n",
       "      <td>...</td>\n",
       "      <td>0</td>\n",
       "      <td>0</td>\n",
       "      <td>0</td>\n",
       "      <td>0</td>\n",
       "      <td>0</td>\n",
       "      <td>0</td>\n",
       "      <td>QC</td>\n",
       "      <td>CA</td>\n",
       "      <td>f</td>\n",
       "      <td>16</td>\n",
       "    </tr>\n",
       "  </tbody>\n",
       "</table>\n",
       "<p>20 rows × 22 columns</p>\n",
       "</div>"
      ],
      "text/plain": [
       "                                                   name  \\\n",
       "1290                     NetherWorld Cascadian Dark Ale   \n",
       "753                                           Slingshot   \n",
       "1071                                        Buenos Dias   \n",
       "737                                    33 Acres Of Life   \n",
       "841                                    Cosmic Cream Ale   \n",
       "3620                                     Martello Stout   \n",
       "2778                              Stranger Than Fiction   \n",
       "1347                                      Dead Elephant   \n",
       "1086                                 La Clef Des Champs   \n",
       "33                                            Festivale   \n",
       "3629                                   Old School Stout   \n",
       "436                             Creemore Springs UrBock   \n",
       "1908                        Creemore Springs Kellerbier   \n",
       "2680                               Belle Gueule Houblon   \n",
       "1562                     Creemore Springs Premium Lager   \n",
       "2335                                     Black Tusk Ale   \n",
       "1344                                     Hops & Robbers   \n",
       "1829  Mad & Noisy Brewing Hops & Bolts India Pale Lager   \n",
       "2575                              Steam Whistle Pilsner   \n",
       "4231                  Bitt à Tibi - Amos Kristall Witte   \n",
       "\n",
       "                               style                             brewery  abv  \\\n",
       "1290                             IPA        Flying Monkeys Craft Brewery  6.0   \n",
       "753                       Steam Beer            Radical Road Brewing Co.  5.0   \n",
       "1071      Ale Gruit / Ancient Herbed  Beau's All Natural Brewing Company  4.5   \n",
       "737                       Steam Beer                33 Acres Brewing Co.  4.8   \n",
       "841                        Ale Cream               Cameron's Brewing Co.  5.0   \n",
       "3620                           Stout            Garrison Brewing Company  4.8   \n",
       "2778                          Porter             Collective Arts Brewing  5.5   \n",
       "1347                             IPA        Railway City Brewing Company  6.5   \n",
       "1086      Ale Gruit / Ancient Herbed             Brasserie Dieu du Ciel!  5.0   \n",
       "33                           Altbier  Beau's All Natural Brewing Company  4.7   \n",
       "3629                           Stout                        Tree Brewing  5.5   \n",
       "436                             Bock    Creemore Springs Brewery Limited  6.0   \n",
       "1908  Lager Kellerbier / Zwickelbier    Creemore Springs Brewery Limited  5.0   \n",
       "2680                         Pilsner                      Brasseurs R.J.  6.2   \n",
       "1562                 Lager Red Amber    Creemore Springs Brewery Limited  5.0   \n",
       "2335                   Ale Dark Mild            Whistler Brewing Company  5.0   \n",
       "1344                             IPA          Double Trouble Brewing Co.  5.7   \n",
       "1829                Lager India Pale    Creemore Springs Brewery Limited  5.3   \n",
       "2575               Pilsener Bohemian               Steam Whistle Brewing  5.0   \n",
       "4231       Wheat Beer Kristallweizen              Brasserie Belgh Brasse  5.0   \n",
       "\n",
       "      ave rating  min ibu  max ibu  astringency  body  alcohol  ...  sour  \\\n",
       "1290        3.85       50       70           30    72        8  ...    41   \n",
       "753         3.67       35       45            6    11        1  ...     0   \n",
       "1071        3.71        0        0           15    13        1  ...    63   \n",
       "737         3.78       35       45            5     4        4  ...     4   \n",
       "841         3.27       10       22           11    63       10  ...    29   \n",
       "3620        3.89       20       40           10    83        6  ...     4   \n",
       "2778        4.01       20       30           19   113       10  ...    16   \n",
       "1347        3.58       35       60           22    34       12  ...    57   \n",
       "1086        3.54        0        0            1     4        1  ...     1   \n",
       "33          3.69       25       50           29    30        9  ...    20   \n",
       "3629        3.86       20       40           11    53        8  ...     2   \n",
       "436         3.65       20       30            9    54       11  ...    18   \n",
       "1908        3.91       20       40           24    42        9  ...    48   \n",
       "2680        3.43       30       65            8     4        3  ...     4   \n",
       "1562        3.85       18       30           26    33        4  ...    15   \n",
       "2335        3.46       20       30           15    79        7  ...    13   \n",
       "1344        3.51       35       60           14    28        6  ...    48   \n",
       "1829        3.49       30       70           25    32       13  ...    57   \n",
       "2575        3.48       30       45           13    15        3  ...     6   \n",
       "4231        3.27       10       15            0     0        0  ...     0   \n",
       "\n",
       "      salty  fruits  hoppy  spices  malty  state  country retired group  \n",
       "1290      0      53    115      13    111     ON       CA       f    16  \n",
       "753       0       0     22       1     17     ON       CA       f    16  \n",
       "1071     26      72     25       4     23     ON       CA       f    16  \n",
       "737       0       4     10       5     11     BC       CA       f    16  \n",
       "841       2      27     37      14     74     ON       CA       f    16  \n",
       "3620      0       3     30      12    139     NS       CA       f    16  \n",
       "2778      0      18     49      21    137     ON       CA       f    16  \n",
       "1347      0      75     90       8     63     ON       CA       f    16  \n",
       "1086      0       1     17       1     11     QC       CA       f    16  \n",
       "33        0      20    104      10    141     ON       CA       f    16  \n",
       "3629      0       0     21       4     65     BC       CA       f    16  \n",
       "436       0      29     45       9    115     ON       CA       f    16  \n",
       "1908      0      44     78      15     62     ON       CA       f    16  \n",
       "2680      0       3     36       1      8     QC       CA       f    16  \n",
       "1562      1      10     52       5     63     ON       CA       f    16  \n",
       "2335      1      22     38       6    138     BC       CA       f    16  \n",
       "1344      0      59     90       3     53     ON       CA       f    16  \n",
       "1829      0      64    108       3     56     ON       CA       f    16  \n",
       "2575      1       4     36       4     34     ON       CA       f    16  \n",
       "4231      0       0      0       0      0     QC       CA       f    16  \n",
       "\n",
       "[20 rows x 22 columns]"
      ]
     },
     "execution_count": 125,
     "metadata": {},
     "output_type": "execute_result"
    }
   ],
   "source": [
    "X_test[X_test.group == 16]"
   ]
  },
  {
   "cell_type": "code",
   "execution_count": null,
   "id": "0914aa3a",
   "metadata": {},
   "outputs": [],
   "source": []
  }
 ],
 "metadata": {
  "kernelspec": {
   "display_name": "Python 3 (ipykernel)",
   "language": "python",
   "name": "python3"
  },
  "language_info": {
   "codemirror_mode": {
    "name": "ipython",
    "version": 3
   },
   "file_extension": ".py",
   "mimetype": "text/x-python",
   "name": "python",
   "nbconvert_exporter": "python",
   "pygments_lexer": "ipython3",
   "version": "3.8.6"
  },
  "toc": {
   "base_numbering": 1,
   "nav_menu": {},
   "number_sections": true,
   "sideBar": true,
   "skip_h1_title": false,
   "title_cell": "Table of Contents",
   "title_sidebar": "Contents",
   "toc_cell": false,
   "toc_position": {},
   "toc_section_display": true,
   "toc_window_display": false
  }
 },
 "nbformat": 4,
 "nbformat_minor": 5
}
